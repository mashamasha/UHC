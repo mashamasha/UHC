{
 "cells": [
  {
   "cell_type": "code",
   "execution_count": 1,
   "metadata": {},
   "outputs": [],
   "source": [
    "reset -fs"
   ]
  },
  {
   "cell_type": "code",
   "execution_count": 2,
   "metadata": {},
   "outputs": [
    {
     "name": "stdout",
     "output_type": "stream",
     "text": [
      "[nltk_data] Downloading package punkt to\n",
      "[nltk_data]     /Users/mariavasilenko/nltk_data...\n",
      "[nltk_data]   Package punkt is already up-to-date!\n",
      "[nltk_data] Downloading package wordnet to\n",
      "[nltk_data]     /Users/mariavasilenko/nltk_data...\n",
      "[nltk_data]   Package wordnet is already up-to-date!\n"
     ]
    }
   ],
   "source": [
    "#NLTK\n",
    "import nltk\n",
    "import nltk\n",
    "nltk.download('punkt')\n",
    "nltk.download('wordnet')\n",
    "  \n",
    "from nltk.stem.porter import *\n",
    "from nltk.corpus import stopwords\n",
    "from nltk.stem.wordnet import WordNetLemmatizer\n",
    "\n",
    "#Gensim\n",
    "import gensim\n",
    "from gensim import corpora\n",
    "from gensim.models import CoherenceModel\n",
    "\n",
    "from collections import Counter\n",
    "import string\n",
    "\n",
    "#sklearn\n",
    "from sklearn.feature_extraction import stop_words\n",
    "from sklearn.feature_extraction.text import ENGLISH_STOP_WORDS\n",
    "from sklearn.feature_extraction.text import TfidfVectorizer\n",
    "\n",
    "\n",
    "\n",
    "#pyLDAvis\n",
    "import pyLDAvis.gensim\n",
    "pyLDAvis.enable_notebook()\n",
    "\n",
    "#Other\n",
    "import pandas as pd\n",
    "import numpy as np\n",
    "import re, string\n",
    "import zipfile\n",
    "import os\n",
    "import matplotlib \n",
    "import warnings\n",
    "warnings.filterwarnings(\"ignore\", category=DeprecationWarning) "
   ]
  },
  {
   "cell_type": "markdown",
   "metadata": {},
   "source": [
    "### Data pre-processing\n",
    "\n",
    "- Tokenization: Split the text into sentences and the sentences into words. Lowercase the words and remove punctuation.\n",
    "- Words that have fewer than 3 characters are removed.\n",
    "- All stopwords are removed.\n",
    " - Stop words list has been extended after running a baseline LDA model \n",
    "- Words are __stemmed__ — words are reduced to their root form.\n"
   ]
  },
  {
   "cell_type": "code",
   "execution_count": 21,
   "metadata": {},
   "outputs": [],
   "source": [
    "# Create the list of stopwords and extend it \n",
    "\n",
    "stopwords = list(ENGLISH_STOP_WORDS)\n",
    "# Adding \"just\" after running basic LDA model\n",
    "'''newStopWords = ['just', 'like', 'love', 'good','better', 'great','easi', 'nice', 'awesom', 'thank', 'simpl',\\\n",
    "                'wast', 'highli', 'useless', 'conveni', 'friendli', 'finger',\n",
    "                'doe', 'doesn', 'work', 'user', 'use', 'need', 'tri', 'time']\n",
    "#stopwords.extend(newStopWords)'''\n",
    "\n",
    "\n",
    "def tokenize(text):\n",
    "    \"\"\"\n",
    "    Tokenize text and return a non-unique list of tokenized words\n",
    "    found in the text.\n",
    "    Normalize to lowercase, strip punctuation,\n",
    "    remove stop words, drop words of length < 3.\n",
    "    \"\"\"\n",
    "    \n",
    "    text=text.lower() #Convert everything to lowercase\n",
    "    regex = re.compile('[' + re.escape(string.punctuation) + '0-9\\\\r\\\\t\\\\n]')\n",
    "    nopunct = regex.sub(\" \", text)  # delete stuff but leave at least a space to avoid clumping together\n",
    "    words =  nltk.word_tokenize(nopunct) # tokenizing words\n",
    "    words_token = [w for w in words if len(w) > 3]  # Drop words less than length 3\n",
    "    words_token[:] = [w for w in words_token if w != '']\n",
    "    words_stop = [w for w in words_token if w not in stopwords] # Removes stop words using SciKit-Learn's ENGLISH_STOP_WORDS set.\n",
    "    words_res = [w.encode('ascii','ignore') for w in words_stop]\n",
    "    return words_res\n",
    "\n",
    "def stemwords(words):\n",
    "    \"\"\"\n",
    "    Given a list of tokens/words, return a new list with each word\n",
    "    stemmed using a PorterStemmer.\n",
    "    \"\"\"\n",
    "    stemmer = PorterStemmer()\n",
    "    words = [w.decode('ascii','ignore') for w in words]\n",
    "    stemmed = [stemmer.stem(w) for w in words]\n",
    "    stemmed_filtered = [w for w in stemmed if w not in stopwords]\n",
    "    return stemmed_filtered\n",
    "\n",
    "    \n",
    "def tokenizer(text):\n",
    "    \n",
    "    return stemwords(tokenize(text))\n"
   ]
  },
  {
   "cell_type": "code",
   "execution_count": 22,
   "metadata": {},
   "outputs": [],
   "source": [
    "df_reviews = pd.read_csv('data/amazon_all_reviews.csv')"
   ]
  },
  {
   "cell_type": "code",
   "execution_count": 1,
   "metadata": {},
   "outputs": [
    {
     "ename": "NameError",
     "evalue": "name 'df_reviews' is not defined",
     "output_type": "error",
     "traceback": [
      "\u001b[0;31m---------------------------------------------------------------------------\u001b[0m",
      "\u001b[0;31mNameError\u001b[0m                                 Traceback (most recent call last)",
      "\u001b[0;32m<ipython-input-1-369a72016871>\u001b[0m in \u001b[0;36m<module>\u001b[0;34m\u001b[0m\n\u001b[0;32m----> 1\u001b[0;31m \u001b[0mdf_reviews\u001b[0m\u001b[0;34m[\u001b[0m\u001b[0;34m'name'\u001b[0m\u001b[0;34m]\u001b[0m\u001b[0;34m.\u001b[0m\u001b[0mvalue_counts\u001b[0m\u001b[0;34m(\u001b[0m\u001b[0;34m)\u001b[0m\u001b[0;34m\u001b[0m\u001b[0m\n\u001b[0m",
      "\u001b[0;31mNameError\u001b[0m: name 'df_reviews' is not defined"
     ]
    }
   ],
   "source": [
    "df_reviews['name'].value_counts()"
   ]
  },
  {
   "cell_type": "code",
   "execution_count": 24,
   "metadata": {},
   "outputs": [],
   "source": [
    "# Create a dataframe with negative reviews\n",
    "df_neg_reviews = df_reviews[df_reviews['rating']<=3]"
   ]
  },
  {
   "cell_type": "code",
   "execution_count": 25,
   "metadata": {},
   "outputs": [],
   "source": [
    "#Create dataframe with positive reviews\n",
    "df_pos_reviews = df_reviews[df_reviews['rating']>3]"
   ]
  },
  {
   "cell_type": "code",
   "execution_count": 26,
   "metadata": {},
   "outputs": [
    {
     "data": {
      "text/plain": [
       "713"
      ]
     },
     "execution_count": 26,
     "metadata": {},
     "output_type": "execute_result"
    }
   ],
   "source": [
    "len(df_neg_reviews)"
   ]
  },
  {
   "cell_type": "code",
   "execution_count": 27,
   "metadata": {},
   "outputs": [
    {
     "data": {
      "text/plain": [
       "1626"
      ]
     },
     "execution_count": 27,
     "metadata": {},
     "output_type": "execute_result"
    }
   ],
   "source": [
    "len(df_pos_reviews)"
   ]
  },
  {
   "cell_type": "code",
   "execution_count": 28,
   "metadata": {},
   "outputs": [],
   "source": [
    "assert len(df_neg_reviews) + len(df_pos_reviews) == len(df_reviews)"
   ]
  },
  {
   "cell_type": "code",
   "execution_count": 29,
   "metadata": {},
   "outputs": [],
   "source": [
    "# Extract text of negative reviews\n",
    "neg_reviews_text = df_neg_reviews['text']\n",
    "neg_text = list(neg_reviews_text)"
   ]
  },
  {
   "cell_type": "code",
   "execution_count": 30,
   "metadata": {},
   "outputs": [],
   "source": [
    "# Extract the text of positive reviews\n",
    "pos_reviews_text = df_pos_reviews['text']\n",
    "pos_text = list(pos_reviews_text)"
   ]
  },
  {
   "cell_type": "code",
   "execution_count": 31,
   "metadata": {},
   "outputs": [],
   "source": [
    "neg_clean_text = [tokenizer(n_t) for n_t in neg_text]"
   ]
  },
  {
   "cell_type": "code",
   "execution_count": 32,
   "metadata": {},
   "outputs": [],
   "source": [
    "pos_clean_text = [tokenizer(p_t) for p_t in pos_text]"
   ]
  },
  {
   "cell_type": "code",
   "execution_count": 33,
   "metadata": {},
   "outputs": [
    {
     "name": "stderr",
     "output_type": "stream",
     "text": [
      "/anaconda3/envs/uhc_env/lib/python3.7/site-packages/gensim/models/phrases.py:494: UserWarning: For a faster implementation, use the gensim.models.phrases.Phraser class\n",
      "  warnings.warn(\"For a faster implementation, use the gensim.models.phrases.Phraser class\")\n"
     ]
    }
   ],
   "source": [
    "# Adding bi-grams and tri-grams to negative reviews\n",
    "\n",
    "from gensim.models.phrases import Phrases, Phraser\n",
    "# Add bigrams and trigrams to docs (only ones that appear 10 times or more).\n",
    "bigram = Phraser(Phrases(neg_clean_text, min_count=10))\n",
    "trigram = Phrases(bigram[neg_clean_text])\n",
    "\n",
    "for idx in range(len(neg_clean_text)):\n",
    "    for token in bigram[neg_clean_text[idx]]:\n",
    "        if '_' in token:\n",
    "            # Token is a bigram, add to document.\n",
    "            neg_clean_text[idx].append(token)\n",
    "    for token in trigram[neg_clean_text[idx]]:\n",
    "        if '_' in token:\n",
    "            # Token is a bigram, add to document.\n",
    "            neg_clean_text[idx].append(token)"
   ]
  },
  {
   "cell_type": "code",
   "execution_count": 34,
   "metadata": {},
   "outputs": [],
   "source": [
    "# Adding bigrams and trigrams to positive reviews\n",
    "\n",
    "from gensim.models.phrases import Phrases, Phraser\n",
    "# Add bigrams and trigrams to docs (only ones that appear 10 times or more).\n",
    "bigram = Phraser(Phrases(pos_clean_text, min_count=10))\n",
    "trigram = Phrases(bigram[pos_clean_text])\n",
    "\n",
    "for idx in range(len(pos_clean_text)):\n",
    "    for token in bigram[pos_clean_text[idx]]:\n",
    "        if '_' in token:\n",
    "            # Token is a bigram, add to document.\n",
    "            pos_clean_text[idx].append(token)\n",
    "    for token in trigram[pos_clean_text[idx]]:\n",
    "        if '_' in token:\n",
    "            # Token is a bigram, add to document.\n",
    "            pos_clean_text[idx].append(token)"
   ]
  },
  {
   "cell_type": "markdown",
   "metadata": {},
   "source": [
    "#### Remove empty tokens"
   ]
  },
  {
   "cell_type": "code",
   "execution_count": 35,
   "metadata": {},
   "outputs": [],
   "source": [
    "for item in neg_clean_text:\n",
    "    item[:] = [elem for elem in item if elem != \"\"]\n"
   ]
  },
  {
   "cell_type": "code",
   "execution_count": 36,
   "metadata": {},
   "outputs": [],
   "source": [
    "for item in pos_clean_text:\n",
    "    item[:] = [elem for elem in item if elem != \"\"]\n"
   ]
  },
  {
   "cell_type": "markdown",
   "metadata": {},
   "source": [
    "#### Create the dictionary"
   ]
  },
  {
   "cell_type": "code",
   "execution_count": 37,
   "metadata": {},
   "outputs": [],
   "source": [
    "#Creating the dictionary out of corpus of negative reviews\n",
    "neg_dictionary = corpora.Dictionary(neg_clean_text)"
   ]
  },
  {
   "cell_type": "code",
   "execution_count": 38,
   "metadata": {},
   "outputs": [],
   "source": [
    "# Creating the dictionary out of corpus of positive reviews\n",
    "pos_dictionary = corpora.Dictionary(pos_clean_text)"
   ]
  },
  {
   "cell_type": "code",
   "execution_count": 39,
   "metadata": {},
   "outputs": [
    {
     "data": {
      "text/plain": [
       "2585"
      ]
     },
     "execution_count": 39,
     "metadata": {},
     "output_type": "execute_result"
    }
   ],
   "source": [
    "len(neg_dictionary)"
   ]
  },
  {
   "cell_type": "code",
   "execution_count": 40,
   "metadata": {},
   "outputs": [
    {
     "data": {
      "text/plain": [
       "2911"
      ]
     },
     "execution_count": 40,
     "metadata": {},
     "output_type": "execute_result"
    }
   ],
   "source": [
    "len(pos_dictionary)"
   ]
  },
  {
   "cell_type": "code",
   "execution_count": 41,
   "metadata": {},
   "outputs": [],
   "source": [
    "# Hyperparameters\n",
    "\n",
    "NUM_NEG_TOPICS =5 # Number of topics in negative reviews\n",
    "NUM_POS_TOPICS =5 # Number of topics in positive reviews\n",
    "# PArameters used in filtering the dictionaries\n",
    "MIN_DF= 2 # remove tokens that appear in less than MIN_DF docs\n",
    "MAX_DF = 0.5 # Remove tokens that appear in more than MAX_DF * 100% of docs"
   ]
  },
  {
   "cell_type": "code",
   "execution_count": 42,
   "metadata": {},
   "outputs": [],
   "source": [
    "# Filter extremes:\n",
    "# Filter tokens that appear in less than 2 doc-s\n",
    "# Filter out tokens that appear in more than 30% of docs\n",
    "\n",
    "neg_dictionary.filter_extremes(no_below=MIN_DF, no_above= MAX_DF)\n",
    "pos_dictionary.filter_extremes(no_below=MIN_DF, no_above= MAX_DF)\n"
   ]
  },
  {
   "cell_type": "code",
   "execution_count": 43,
   "metadata": {},
   "outputs": [
    {
     "data": {
      "text/plain": [
       "1421"
      ]
     },
     "execution_count": 43,
     "metadata": {},
     "output_type": "execute_result"
    }
   ],
   "source": [
    "len(neg_dictionary)"
   ]
  },
  {
   "cell_type": "code",
   "execution_count": 44,
   "metadata": {},
   "outputs": [
    {
     "data": {
      "text/plain": [
       "1661"
      ]
     },
     "execution_count": 44,
     "metadata": {},
     "output_type": "execute_result"
    }
   ],
   "source": [
    "len(pos_dictionary)"
   ]
  },
  {
   "cell_type": "markdown",
   "metadata": {},
   "source": [
    "#### Create word term matrix"
   ]
  },
  {
   "cell_type": "code",
   "execution_count": 45,
   "metadata": {},
   "outputs": [],
   "source": [
    "neg_doc_term_mx = [neg_dictionary.doc2bow(doc) for doc in neg_clean_text]"
   ]
  },
  {
   "cell_type": "code",
   "execution_count": 46,
   "metadata": {},
   "outputs": [],
   "source": [
    "pos_doc_term_mx = [pos_dictionary.doc2bow(doc) for doc in pos_clean_text]"
   ]
  },
  {
   "cell_type": "markdown",
   "metadata": {},
   "source": [
    "### LDA model training"
   ]
  },
  {
   "cell_type": "code",
   "execution_count": 47,
   "metadata": {},
   "outputs": [],
   "source": [
    "# LDA for negative reviews\n",
    "\n",
    "neg_lda = gensim.models.ldamodel.LdaModel(corpus=neg_doc_term_mx, \\\n",
    "                                      id2word=neg_dictionary, num_topics=NUM_NEG_TOPICS, random_state = 17) \\\n",
    "                                      #, update_every=1, chunksize=100, passes=50)"
   ]
  },
  {
   "cell_type": "code",
   "execution_count": 48,
   "metadata": {},
   "outputs": [],
   "source": [
    "# LDA for positive reviews\n",
    "\n",
    "pos_lda = gensim.models.ldamodel.LdaModel(corpus=pos_doc_term_mx, \\\n",
    "                                      id2word=pos_dictionary, num_topics=NUM_POS_TOPICS, random_state = 17) \\\n",
    "                                      #, update_every=1, chunksize=100, passes=50)"
   ]
  },
  {
   "cell_type": "code",
   "execution_count": 49,
   "metadata": {},
   "outputs": [
    {
     "data": {
      "text/plain": [
       "[(0,\n",
       "  '0.017*\"result\" + 0.015*\"like\" + 0.015*\"ancestri\" + 0.014*\"andm\" + 0.012*\"test\" + 0.012*\"money\" + 0.011*\"health\" + 0.011*\"custom_servic\" + 0.011*\"inform\" + 0.010*\"just\" + 0.010*\"sampl\" + 0.009*\"time\" + 0.008*\"stolen_credit\" + 0.007*\"purchas\" + 0.007*\"servic\" + 0.007*\"kit\" + 0.007*\"disappoint\" + 0.007*\"receiv\" + 0.006*\"wast_time\" + 0.006*\"report\"'),\n",
       " (1,\n",
       "  '0.025*\"result\" + 0.017*\"test\" + 0.014*\"custom_servic\" + 0.014*\"report\" + 0.010*\"andm\" + 0.009*\"servic\" + 0.008*\"just\" + 0.008*\"week\" + 0.008*\"sampl\" + 0.008*\"tell\" + 0.008*\"provid\" + 0.007*\"ancestri\" + 0.007*\"health\" + 0.007*\"want\" + 0.006*\"data\" + 0.006*\"money\" + 0.006*\"said\" + 0.006*\"time\" + 0.006*\"custom\" + 0.006*\"inform\"'),\n",
       " (2,\n",
       "  '0.022*\"result\" + 0.016*\"ancestri\" + 0.016*\"test\" + 0.015*\"report\" + 0.015*\"health\" + 0.013*\"wast_money\" + 0.012*\"money\" + 0.012*\"know\" + 0.011*\"inform\" + 0.011*\"like\" + 0.010*\"sampl\" + 0.008*\"week\" + 0.008*\"receiv\" + 0.007*\"didn\" + 0.007*\"wast\" + 0.007*\"wait\" + 0.006*\"custom_servic\" + 0.006*\"disappoint\" + 0.006*\"info\" + 0.006*\"purchas\"'),\n",
       " (3,\n",
       "  '0.028*\"result\" + 0.026*\"test\" + 0.016*\"inform\" + 0.013*\"month\" + 0.011*\"health\" + 0.009*\"like\" + 0.008*\"said\" + 0.008*\"ancestri\" + 0.008*\"compani\" + 0.008*\"receiv\" + 0.008*\"time\" + 0.008*\"know\" + 0.007*\"week\" + 0.007*\"sampl\" + 0.007*\"report\" + 0.007*\"realli\" + 0.006*\"wast\" + 0.006*\"andm\" + 0.006*\"wast_time\" + 0.006*\"order\"'),\n",
       " (4,\n",
       "  '0.022*\"wast_money\" + 0.020*\"result\" + 0.019*\"test\" + 0.016*\"inform\" + 0.011*\"just\" + 0.011*\"week\" + 0.011*\"money\" + 0.010*\"report\" + 0.009*\"wast\" + 0.009*\"like\" + 0.008*\"receiv\" + 0.008*\"data\" + 0.008*\"andm\" + 0.007*\"wait\" + 0.007*\"want\" + 0.007*\"ancestri\" + 0.007*\"look\" + 0.006*\"time\" + 0.006*\"product\" + 0.006*\"gener\"')]"
      ]
     },
     "execution_count": 49,
     "metadata": {},
     "output_type": "execute_result"
    }
   ],
   "source": [
    "# Topics based on negative reviews\n",
    "neg_lda.print_topics(num_words=20)"
   ]
  },
  {
   "cell_type": "code",
   "execution_count": 50,
   "metadata": {},
   "outputs": [
    {
     "name": "stderr",
     "output_type": "stream",
     "text": [
      "/anaconda3/envs/uhc_env/lib/python3.7/site-packages/pyLDAvis/_prepare.py:257: FutureWarning: Sorting because non-concatenation axis is not aligned. A future version\n",
      "of pandas will change to not sort by default.\n",
      "\n",
      "To accept the future behavior, pass 'sort=False'.\n",
      "\n",
      "To retain the current behavior and silence the warning, pass 'sort=True'.\n",
      "\n",
      "  return pd.concat([default_term_info] + list(topic_dfs))\n"
     ]
    },
    {
     "data": {
      "text/html": [
       "\n",
       "<link rel=\"stylesheet\" type=\"text/css\" href=\"https://cdn.rawgit.com/bmabey/pyLDAvis/files/ldavis.v1.0.0.css\">\n",
       "\n",
       "\n",
       "<div id=\"ldavis_el20288112251939840566209145\"></div>\n",
       "<script type=\"text/javascript\">\n",
       "\n",
       "var ldavis_el20288112251939840566209145_data = {\"mdsDat\": {\"x\": [-0.0062150325626756315, -0.0058808315122190315, 0.009157991104398043, -0.038094745309125856, 0.04103261827962247], \"y\": [-0.018256205754898655, -0.02954984087351651, -0.01205486535939889, 0.033276631887455096, 0.02658428010035896], \"topics\": [1, 2, 3, 4, 5], \"cluster\": [1, 1, 1, 1, 1], \"Freq\": [32.49726867675781, 23.650514602661133, 16.225440979003906, 15.155988693237305, 12.470785140991211]}, \"tinfo\": {\"Category\": [\"Default\", \"Default\", \"Default\", \"Default\", \"Default\", \"Default\", \"Default\", \"Default\", \"Default\", \"Default\", \"Default\", \"Default\", \"Default\", \"Default\", \"Default\", \"Default\", \"Default\", \"Default\", \"Default\", \"Default\", \"Topic1\", \"Topic1\", \"Topic1\", \"Topic1\", \"Topic1\", \"Topic1\", \"Topic1\", \"Topic1\", \"Topic1\", \"Topic1\", \"Topic1\", \"Topic1\", \"Topic1\", \"Topic1\", \"Topic1\", \"Topic1\", \"Topic1\", \"Topic1\", \"Topic1\", \"Topic1\", \"Topic1\", \"Topic1\", \"Topic1\", \"Topic1\", \"Topic1\", \"Topic1\", \"Topic1\", \"Topic1\", \"Topic1\", \"Topic1\", \"Topic1\", \"Topic1\", \"Topic1\", \"Topic1\", \"Topic1\", \"Topic1\", \"Topic1\", \"Topic1\", \"Topic1\", \"Topic1\", \"Topic1\", \"Topic1\", \"Topic1\", \"Topic1\", \"Topic1\", \"Topic1\", \"Topic1\", \"Topic1\", \"Topic1\", \"Topic2\", \"Topic2\", \"Topic2\", \"Topic2\", \"Topic2\", \"Topic2\", \"Topic2\", \"Topic2\", \"Topic2\", \"Topic2\", \"Topic2\", \"Topic2\", \"Topic2\", \"Topic2\", \"Topic2\", \"Topic2\", \"Topic2\", \"Topic2\", \"Topic2\", \"Topic2\", \"Topic2\", \"Topic2\", \"Topic2\", \"Topic2\", \"Topic2\", \"Topic2\", \"Topic2\", \"Topic2\", \"Topic2\", \"Topic2\", \"Topic2\", \"Topic2\", \"Topic2\", \"Topic2\", \"Topic2\", \"Topic2\", \"Topic2\", \"Topic2\", \"Topic2\", \"Topic2\", \"Topic2\", \"Topic2\", \"Topic2\", \"Topic2\", \"Topic2\", \"Topic2\", \"Topic2\", \"Topic2\", \"Topic2\", \"Topic2\", \"Topic2\", \"Topic3\", \"Topic3\", \"Topic3\", \"Topic3\", \"Topic3\", \"Topic3\", \"Topic3\", \"Topic3\", \"Topic3\", \"Topic3\", \"Topic3\", \"Topic3\", \"Topic3\", \"Topic3\", \"Topic3\", \"Topic3\", \"Topic3\", \"Topic3\", \"Topic3\", \"Topic3\", \"Topic3\", \"Topic3\", \"Topic3\", \"Topic3\", \"Topic3\", \"Topic3\", \"Topic3\", \"Topic3\", \"Topic3\", \"Topic3\", \"Topic3\", \"Topic3\", \"Topic3\", \"Topic3\", \"Topic3\", \"Topic3\", \"Topic3\", \"Topic3\", \"Topic3\", \"Topic3\", \"Topic3\", \"Topic3\", \"Topic3\", \"Topic3\", \"Topic3\", \"Topic3\", \"Topic3\", \"Topic3\", \"Topic3\", \"Topic3\", \"Topic3\", \"Topic3\", \"Topic3\", \"Topic3\", \"Topic3\", \"Topic3\", \"Topic4\", \"Topic4\", \"Topic4\", \"Topic4\", \"Topic4\", \"Topic4\", \"Topic4\", \"Topic4\", \"Topic4\", \"Topic4\", \"Topic4\", \"Topic4\", \"Topic4\", \"Topic4\", \"Topic4\", \"Topic4\", \"Topic4\", \"Topic4\", \"Topic4\", \"Topic4\", \"Topic4\", \"Topic4\", \"Topic4\", \"Topic4\", \"Topic4\", \"Topic4\", \"Topic4\", \"Topic4\", \"Topic4\", \"Topic4\", \"Topic4\", \"Topic4\", \"Topic4\", \"Topic4\", \"Topic4\", \"Topic4\", \"Topic4\", \"Topic4\", \"Topic4\", \"Topic4\", \"Topic4\", \"Topic4\", \"Topic4\", \"Topic4\", \"Topic4\", \"Topic4\", \"Topic4\", \"Topic4\", \"Topic5\", \"Topic5\", \"Topic5\", \"Topic5\", \"Topic5\", \"Topic5\", \"Topic5\", \"Topic5\", \"Topic5\", \"Topic5\", \"Topic5\", \"Topic5\", \"Topic5\", \"Topic5\", \"Topic5\", \"Topic5\", \"Topic5\", \"Topic5\", \"Topic5\", \"Topic5\", \"Topic5\", \"Topic5\", \"Topic5\", \"Topic5\", \"Topic5\", \"Topic5\", \"Topic5\", \"Topic5\", \"Topic5\", \"Topic5\", \"Topic5\", \"Topic5\", \"Topic5\", \"Topic5\", \"Topic5\", \"Topic5\", \"Topic5\", \"Topic5\", \"Topic5\", \"Topic5\", \"Topic5\", \"Topic5\", \"Topic5\", \"Topic5\", \"Topic5\", \"Topic5\", \"Topic5\", \"Topic5\", \"Topic5\", \"Topic5\", \"Topic5\", \"Topic5\", \"Topic5\", \"Topic5\", \"Topic5\"], \"Freq\": [201.0, 331.0, 421.0, 89.0, 31.0, 148.0, 66.0, 223.0, 154.0, 187.0, 84.0, 185.0, 89.0, 142.0, 215.0, 58.0, 18.0, 123.0, 47.0, 41.0, 4.1058197021484375, 7.523343563079834, 4.3677077293396, 6.516418933868408, 2.1499814987182617, 3.562229871749878, 2.1236867904663086, 4.961214542388916, 2.0547115802764893, 2.708038330078125, 2.002544403076172, 2.698387384414673, 1.9885724782943726, 1.9891124963760376, 4.647051811218262, 2.583538055419922, 1.8969106674194336, 9.923467636108398, 1.8683960437774658, 6.225445747375488, 7.465442657470703, 13.516119956970215, 34.49003982543945, 8.942168235778809, 21.12328338623047, 72.58477020263672, 90.50770568847656, 99.33660125732422, 31.65302085876465, 46.2901725769043, 10.690832138061523, 90.6563949584961, 18.922700881958008, 37.60184097290039, 82.34722900390625, 29.62320899963379, 74.2586898803711, 136.38352966308594, 59.07722854614258, 66.14656066894531, 98.08147430419922, 41.91229248046875, 67.12017059326172, 50.631629943847656, 37.880374908447266, 46.477294921875, 43.4066162109375, 37.27016830444336, 40.127403259277344, 2.9299843311309814, 2.1290247440338135, 2.0347559452056885, 1.8731518983840942, 7.487259387969971, 4.20840311050415, 1.768235683441162, 2.310948371887207, 1.7044116258621216, 1.7095714807510376, 13.278582572937012, 1.6510790586471558, 6.115565776824951, 1.6723461151123047, 2.6912240982055664, 2.1439497470855713, 3.810945987701416, 4.879593372344971, 1.6180315017700195, 1.6363141536712646, 21.642480850219727, 5.796576499938965, 10.85816478729248, 96.94448852539062, 4.265766143798828, 7.088794231414795, 12.96439266204834, 9.67680549621582, 29.84002685546875, 36.038818359375, 27.362594604492188, 20.653247833251953, 48.49650192260742, 70.46630859375, 41.95893859863281, 47.264713287353516, 24.584548950195312, 83.61463928222656, 20.6575870513916, 22.696199417114258, 89.59339141845703, 28.035776138305664, 47.25665283203125, 38.22994613647461, 32.03162384033203, 31.060626983642578, 46.242332458496094, 41.00831604003906, 35.821372985839844, 28.14879035949707, 30.143892288208008, 2.044508457183838, 1.7918360233306885, 3.307737350463867, 4.869627475738525, 1.6096316576004028, 2.089871883392334, 2.691507577896118, 2.0954670906066895, 5.764463424682617, 2.9904942512512207, 1.5403803586959839, 1.9708820581436157, 2.041006565093994, 1.5141981840133667, 1.9361857175827026, 1.8938485383987427, 2.7648110389709473, 1.8918157815933228, 2.757511854171753, 3.7100915908813477, 3.26444673538208, 8.60053539276123, 3.625662326812744, 9.266728401184082, 44.02989196777344, 26.59311294555664, 5.246260166168213, 11.318560600280762, 6.700888156890869, 11.262003898620605, 23.53350257873535, 78.13141632080078, 7.495569229125977, 17.21571159362793, 41.81964111328125, 24.425153732299805, 16.003408432006836, 51.935081481933594, 13.938973426818848, 29.804502487182617, 14.940512657165527, 19.990266799926758, 12.822944641113281, 25.884613037109375, 17.537771224975586, 25.30489158630371, 24.826372146606445, 17.718637466430664, 20.39873504638672, 16.780553817749023, 18.041744232177734, 22.486804962158203, 20.492027282714844, 17.925302505493164, 18.494014739990234, 17.555099487304688, 23.55891990661621, 1.8757065534591675, 2.469062566757202, 1.7072837352752686, 5.594876289367676, 9.389565467834473, 11.551377296447754, 2.1371853351593018, 2.1403536796569824, 2.0498569011688232, 10.963427543640137, 1.522953748703003, 2.9649720191955566, 1.9920610189437866, 1.4750994443893433, 1.4685685634613037, 2.426532030105591, 1.8780502080917358, 6.19053840637207, 1.4219013452529907, 3.640267848968506, 8.995499610900879, 3.188525676727295, 10.859550476074219, 5.587828159332275, 20.339242935180664, 7.3836164474487305, 3.8809051513671875, 39.92144012451172, 6.115436553955078, 43.55431365966797, 43.32904052734375, 18.192655563354492, 31.34416389465332, 20.970733642578125, 34.87837600708008, 29.05827522277832, 25.46997833251953, 28.704065322875977, 32.62497329711914, 50.33924865722656, 21.202394485473633, 30.29817771911621, 35.530479431152344, 19.98794174194336, 15.58966064453125, 19.27392578125, 16.3087158203125, 1.8007034063339233, 1.800063133239746, 1.6252636909484863, 2.6001639366149902, 1.5047340393066406, 2.7408928871154785, 1.802715539932251, 1.799278974533081, 2.6125855445861816, 1.7712174654006958, 1.785670280456543, 2.1812381744384766, 2.0475783348083496, 1.569382905960083, 1.5620198249816895, 1.1710100173950195, 2.351564884185791, 1.141196608543396, 1.8789438009262085, 1.1328011751174927, 2.214365005493164, 1.4975608587265015, 30.02490997314453, 5.205563545227051, 10.767155647277832, 11.928902626037598, 3.0539445877075195, 62.26877212524414, 13.074085235595703, 8.864950180053711, 67.47135162353516, 20.138933181762695, 38.4803352355957, 14.775834083557129, 14.536951065063477, 19.43968391418457, 6.63783073425293, 14.593819618225098, 10.508543014526367, 15.978891372680664, 25.519744873046875, 9.997917175292969, 12.27332878112793, 18.665822982788086, 11.04094123840332, 19.13556671142578, 21.697298049926758, 18.00824546813965, 13.001581192016602, 17.565343856811523, 19.815603256225586, 16.827150344848633, 14.860310554504395, 16.111127853393555, 14.85949993133545], \"Term\": [\"wast_money\", \"test\", \"result\", \"month\", \"stolen_credit\", \"custom_servic\", \"wast_time\", \"inform\", \"andm\", \"health\", \"servic\", \"like\", \"said\", \"just\", \"ancestri\", \"kit\", \"stolen\", \"time\", \"medic\", \"total_wast\", \"box\", \"estim\", \"forget\", \"combin\", \"membership\", \"reciev\", \"fraud\", \"exist\", \"outcom\", \"pool\", \"unimpress\", \"aw\", \"endless\", \"havent\", \"broad\", \"school\", \"inherit\", \"patern\", \"broke\", \"copi\", \"zero\", \"expens\", \"want_know\", \"worth_money\", \"accur\", \"know\", \"health\", \"ancestri\", \"saliva_sampl\", \"didn\", \"print\", \"report\", \"learn\", \"info\", \"wast_money\", \"took\", \"money\", \"result\", \"sampl\", \"like\", \"test\", \"wait\", \"inform\", \"week\", \"disappoint\", \"receiv\", \"wast\", \"purchas\", \"custom_servic\", \"assess\", \"chronic\", \"penni\", \"paperwork\", \"tree\", \"juli\", \"extens\", \"grandmoth\", \"buyer\", \"rise\", \"famili_tree\", \"wash\", \"mthfr\", \"suppli\", \"fell\", \"greek\", \"liquid\", \"remov\", \"trick\", \"obes\", \"sell_supplement\", \"prometheas\", \"wait_week\", \"wast_money\", \"futur\", \"happi\", \"nativ_american\", \"american\", \"look\", \"data\", \"gener\", \"better\", \"just\", \"inform\", \"wast\", \"week\", \"wast_time\", \"test\", \"make\", \"review\", \"result\", \"product\", \"money\", \"receiv\", \"wait\", \"want\", \"report\", \"like\", \"andm\", \"time\", \"ancestri\", \"junk\", \"alert\", \"resolv\", \"plan\", \"govern\", \"safari\", \"easier\", \"sourc\", \"horribl\", \"brca\", \"conduct\", \"island\", \"valuabl\", \"destroy\", \"deep\", \"nutritionist\", \"commerci\", \"dietari\", \"browser\", \"scientif\", \"bum\", \"spend\", \"fals\", \"access\", \"custom_servic\", \"servic\", \"lost\", \"eastern_european\", \"upgrad\", \"questionnair\", \"provid\", \"result\", \"analyz\", \"recommend\", \"report\", \"tell\", \"genet\", \"test\", \"gene\", \"andm\", \"want_know\", \"data\", \"long\", \"just\", \"info\", \"week\", \"sampl\", \"custom\", \"want\", \"email\", \"said\", \"ancestri\", \"health\", \"time\", \"money\", \"inform\", \"stolen_credit\", \"rare\", \"associ\", \"luckili\", \"south_asian\", \"south\", \"stolen\", \"project\", \"sardinian\", \"odor\", \"asian\", \"grad\", \"version\", \"partial\", \"legal\", \"overli\", \"lose\", \"buck\", \"popul\", \"count\", \"email_address\", \"credit\", \"produc\", \"card\", \"probabl\", \"kit\", \"daughter\", \"address\", \"andm\", \"life\", \"like\", \"ancestri\", \"wast_time\", \"custom_servic\", \"servic\", \"money\", \"just\", \"time\", \"sampl\", \"health\", \"result\", \"purchas\", \"inform\", \"test\", \"disappoint\", \"work\", \"receiv\", \"report\", \"fake\", \"cure\", \"input\", \"appli\", \"industri\", \"competit\", \"invad\", \"leak\", \"attach\", \"easili\", \"questionair\", \"benefit\", \"doubl\", \"vaug\", \"fit\", \"quick\", \"anonym\", \"thousand\", \"diagnos\", \"cash\", \"crap\", \"mongolian\", \"month\", \"sister\", \"answer_question\", \"total_wast\", \"month_later\", \"test\", \"medic\", \"gave\", \"result\", \"said\", \"inform\", \"wast_time\", \"question\", \"compani\", \"rel\", \"order\", \"total\", \"realli\", \"health\", \"expect\", \"genet\", \"time\", \"answer\", \"receiv\", \"like\", \"know\", \"sent\", \"week\", \"ancestri\", \"sampl\", \"wast\", \"report\", \"andm\"], \"Total\": [201.0, 331.0, 421.0, 89.0, 31.0, 148.0, 66.0, 223.0, 154.0, 187.0, 84.0, 185.0, 89.0, 142.0, 215.0, 58.0, 18.0, 123.0, 47.0, 41.0, 4.827881813049316, 9.637151718139648, 5.723368167877197, 8.638583183288574, 2.8712847232818604, 4.801568984985352, 2.869102954864502, 6.7139482498168945, 2.8666892051696777, 3.8118479251861572, 2.8556809425354004, 3.8511197566986084, 2.8626980781555176, 2.870903730392456, 6.74275541305542, 3.797809362411499, 2.850717782974243, 15.035784721374512, 2.8510491847991943, 9.638472557067871, 11.67874526977539, 21.96063995361328, 58.47322082519531, 14.377524375915527, 36.275150299072266, 137.6825714111328, 187.1316375732422, 215.1119384765625, 60.073333740234375, 92.48844909667969, 18.02957534790039, 211.13821411132812, 34.85946273803711, 78.28679656982422, 201.92051696777344, 60.36625289916992, 182.8553466796875, 421.9189147949219, 149.07557678222656, 185.9556121826172, 331.4304504394531, 106.25186157226562, 223.9200897216797, 150.1044464111328, 99.65294647216797, 137.0829315185547, 123.23126220703125, 100.61942291259766, 148.8302459716797, 3.875166416168213, 2.8956193923950195, 2.8834526538848877, 2.8762142658233643, 11.636974334716797, 6.634706497192383, 2.8409690856933594, 3.8571937084198, 2.846112012863159, 2.8746087551116943, 22.391376495361328, 2.810194969177246, 10.423696517944336, 2.8849828243255615, 4.677359104156494, 3.7354049682617188, 6.658452033996582, 8.58220386505127, 2.8546183109283447, 2.8876731395721436, 38.45618438720703, 10.433231353759766, 20.16010856628418, 201.92051696777344, 7.679007530212402, 13.546286582946777, 27.676132202148438, 19.978492736816406, 73.3776626586914, 92.37860107421875, 68.5274658203125, 49.27025604248047, 142.47579956054688, 223.9200897216797, 123.23126220703125, 150.1044464111328, 66.15809631347656, 331.4304504394531, 54.14737319946289, 63.11666488647461, 421.9189147949219, 87.44468688964844, 182.8553466796875, 137.0829315185547, 106.25186157226562, 107.51290893554688, 211.13821411132812, 185.9556121826172, 154.63270568847656, 123.23030090332031, 215.1119384765625, 2.7767703533172607, 2.7855634689331055, 5.437673568725586, 8.2872896194458, 2.7730748653411865, 3.6079933643341064, 4.6625871658325195, 3.7469992637634277, 10.349384307861328, 5.3700947761535645, 2.770120620727539, 3.6263327598571777, 3.757972240447998, 2.792982578277588, 3.675091505050659, 3.6818530559539795, 5.4248528480529785, 3.7361648082733154, 5.503447532653809, 7.440507888793945, 6.585615634918213, 18.752033233642578, 7.446484088897705, 23.060367584228516, 148.8302459716797, 84.8082046508789, 12.093118667602539, 32.1887321472168, 16.62021255493164, 32.070335388183594, 82.64309692382812, 421.9189147949219, 20.098243713378906, 62.341590881347656, 211.13821411132812, 104.7502212524414, 59.52198028564453, 331.4304504394531, 49.58116912841797, 154.63270568847656, 58.47322082519531, 92.37860107421875, 46.400936126708984, 142.47579956054688, 78.28679656982422, 150.1044464111328, 149.07557678222656, 80.91289520263672, 107.51290893554688, 74.14875793457031, 89.58578491210938, 215.1119384765625, 187.1316375732422, 123.23030090332031, 182.8553466796875, 223.9200897216797, 31.616310119628906, 2.6243746280670166, 3.494027853012085, 2.648925542831421, 8.834907531738281, 15.025402069091797, 18.68295669555664, 3.51470947265625, 3.54667592048645, 3.554539203643799, 19.264442443847656, 2.6764025688171387, 5.283778667449951, 3.5958516597747803, 2.667062759399414, 2.685883045196533, 4.456411838531494, 3.532362699508667, 11.726913452148438, 2.6964974403381348, 7.139249324798584, 19.827486038208008, 6.332767009735107, 26.23552703857422, 12.252676010131836, 58.146480560302734, 17.239398956298828, 8.051738739013672, 154.63270568847656, 14.37786865234375, 185.9556121826172, 215.1119384765625, 66.15809631347656, 148.8302459716797, 84.8082046508789, 182.8553466796875, 142.47579956054688, 123.23030090332031, 149.07557678222656, 187.1316375732422, 421.9189147949219, 100.61942291259766, 223.9200897216797, 331.4304504394531, 99.65294647216797, 60.34043502807617, 137.0829315185547, 211.13821411132812, 2.553764820098877, 2.5538744926452637, 2.5674896240234375, 4.355386734008789, 2.611067295074463, 5.241796970367432, 3.456566095352173, 3.544679641723633, 5.162018299102783, 3.50087833404541, 3.5320591926574707, 4.394659996032715, 4.419717788696289, 3.534113883972168, 3.5194523334503174, 2.6513452529907227, 5.390663146972656, 2.6709346771240234, 4.425945281982422, 2.6736345291137695, 5.276979923248291, 3.556701183319092, 89.44005584716797, 14.353914260864258, 36.1273078918457, 41.725830078125, 7.9302077293396, 331.4304504394531, 47.832950592041016, 30.024232864379883, 421.9189147949219, 89.58578491210938, 223.9200897216797, 66.15809631347656, 65.1479263305664, 102.34666442871094, 21.778945922851562, 68.5123062133789, 43.03846740722656, 86.85911560058594, 187.1316375732422, 42.155155181884766, 59.52198028564453, 123.23030090332031, 51.72150421142578, 137.0829315185547, 185.9556121826172, 137.6825714111328, 72.05756378173828, 150.1044464111328, 215.1119384765625, 149.07557678222656, 123.23126220703125, 211.13821411132812, 154.63270568847656], \"loglift\": [20.0, 19.0, 18.0, 17.0, 16.0, 15.0, 14.0, 13.0, 12.0, 11.0, 10.0, 9.0, 8.0, 7.0, 6.0, 5.0, 4.0, 3.0, 2.0, 1.0, 0.9620000123977661, 0.8763999938964844, 0.8536999821662903, 0.8421000242233276, 0.8346999883651733, 0.8255000114440918, 0.823199987411499, 0.8215000033378601, 0.7910000085830688, 0.7821000218391418, 0.76910001039505, 0.7682999968528748, 0.7597000002861023, 0.757099986076355, 0.751800000667572, 0.7386999726295471, 0.71670001745224, 0.7085000276565552, 0.7013999819755554, 0.6869000196456909, 0.6765000224113464, 0.6385999917984009, 0.5960999727249146, 0.6491000056266785, 0.583299994468689, 0.4837999939918518, 0.397599995136261, 0.3513999879360199, 0.48330000042915344, 0.4318999946117401, 0.6014000177383423, 0.2786000072956085, 0.5131000280380249, 0.39070001244544983, 0.22709999978542328, 0.4120999872684479, 0.22290000319480896, -0.0052999998442828655, 0.19840000569820404, 0.09040000289678574, -0.09359999746084213, 0.19380000233650208, -0.08079999685287476, 0.037300001829862595, 0.15680000185966492, 0.042399998754262924, 0.08060000091791153, 0.13089999556541443, -0.1867000013589859, 1.1621999740600586, 1.1342999935150146, 1.0931999683380127, 1.0128999948501587, 1.0008000135421753, 0.9865999817848206, 0.9675999879837036, 0.9294999837875366, 0.929099977016449, 0.9221000075340271, 0.9193000197410583, 0.9100000262260437, 0.9085000157356262, 0.8964999914169312, 0.8889999985694885, 0.8866000175476074, 0.8838000297546387, 0.8772000074386597, 0.8741000294685364, 0.8737999796867371, 0.8669000267982483, 0.8540999889373779, 0.8230000138282776, 0.7080000042915344, 0.8539000153541565, 0.7942000031471252, 0.6833999752998352, 0.7168999910354614, 0.5419999957084656, 0.5005000233650208, 0.5236999988555908, 0.5723000168800354, 0.36410000920295715, 0.2856000065803528, 0.3643999993801117, 0.28619998693466187, 0.45190000534057617, 0.06459999829530716, 0.4781999886035919, 0.4189999997615814, -0.10769999772310257, 0.3043000102043152, 0.08869999647140503, 0.1648000031709671, 0.24269999563694, 0.20010000467300415, -0.07680000364780426, -0.06989999860525131, -0.02070000022649765, -0.03480000048875809, -0.5234000086784363, 1.5125000476837158, 1.3774000406265259, 1.3214999437332153, 1.2869000434875488, 1.2746000289916992, 1.2725000381469727, 1.2690999507904053, 1.2374000549316406, 1.2333999872207642, 1.233199954032898, 1.2316999435424805, 1.208799958229065, 1.2081999778747559, 1.2064000368118286, 1.1777000427246094, 1.1538000106811523, 1.1446000337600708, 1.138100028038025, 1.127500057220459, 1.1226999759674072, 1.1167999505996704, 1.0391000509262085, 1.0988999605178833, 0.9068999886512756, 0.6007000207901001, 0.6588000059127808, 0.9835000038146973, 0.7734000086784363, 0.9101999998092651, 0.7720999717712402, 0.5625, 0.13220000267028809, 0.8323000073432922, 0.5317999720573425, 0.19939999282360077, 0.3625999987125397, 0.5049999952316284, -0.03480000048875809, 0.5497000217437744, 0.17219999432563782, 0.45410001277923584, 0.28790000081062317, 0.5325000286102295, 0.11309999972581863, 0.32260000705718994, 0.03830000013113022, 0.026000000536441803, 0.29980000853538513, 0.15649999678134918, 0.3327000141143799, 0.21610000729560852, -0.43959999084472656, -0.39320001006126404, -0.10930000245571136, -0.47269999980926514, -0.727400004863739, 1.5925999879837036, 1.5508999824523926, 1.5396000146865845, 1.4474999904632568, 1.429900050163269, 1.416599988937378, 1.406000018119812, 1.389299988746643, 1.381700038909912, 1.336300015449524, 1.323099970817566, 1.3229999542236328, 1.309000015258789, 1.2962000370025635, 1.2944999933242798, 1.2831000089645386, 1.2789000272750854, 1.2549999952316284, 1.2479000091552734, 1.2467999458312988, 1.2131999731063843, 1.0964000225067139, 1.200600028038025, 1.004699945449829, 1.1016000509262085, 0.8363999724388123, 1.0388000011444092, 1.156999945640564, 0.5325999855995178, 1.0319000482559204, 0.43529999256134033, 0.28439998626708984, 0.5957000255584717, 0.32899999618530273, 0.4894999861717224, 0.22990000247955322, 0.2969000041484833, 0.3102000057697296, 0.2393999993801117, 0.14000000059604645, -0.23929999768733978, 0.3294999897480011, -0.11339999735355377, -0.34630000591278076, 0.2802000045776367, 0.5333999991416931, -0.07509999722242355, -0.6740000247955322, 1.7323999404907227, 1.7319999933242798, 1.624500036239624, 1.5658999681472778, 1.5305999517440796, 1.43340003490448, 1.430799961090088, 1.4036999940872192, 1.4007999897003174, 1.4004000425338745, 1.3997000455856323, 1.3812999725341797, 1.312399983406067, 1.2699999809265137, 1.2695000171661377, 1.2646000385284424, 1.2522000074386597, 1.2314000129699707, 1.225000023841858, 1.2230000495910645, 1.2134000062942505, 1.2167999744415283, 0.9901999831199646, 1.0674999952316284, 0.8712000250816345, 0.8295999765396118, 1.127500057220459, 0.4097999930381775, 0.7846999764442444, 0.8618999719619751, 0.24869999289512634, 0.5892000198364258, 0.3206000030040741, 0.5827000141143799, 0.5817999839782715, 0.4207000136375427, 0.8935999870300293, 0.5353999733924866, 0.6718999743461609, 0.3887999951839447, 0.08940000087022781, 0.642799973487854, 0.5029000043869019, 0.19439999759197235, 0.5375000238418579, 0.11270000040531158, -0.06650000065565109, 0.04769999906420708, 0.3693999946117401, -0.06360000371932983, -0.3028999865055084, -0.09969999641180038, -0.03359999880194664, -0.4912000000476837, -0.2606000006198883], \"logprob\": [20.0, 19.0, 18.0, 17.0, 16.0, 15.0, 14.0, 13.0, 12.0, 11.0, 10.0, 9.0, 8.0, 7.0, 6.0, 5.0, 4.0, 3.0, 2.0, 1.0, -7.316999912261963, -6.711400032043457, -7.255199909210205, -6.855100154876709, -7.964000225067139, -7.459099769592285, -7.97629976272583, -7.127799987792969, -8.009300231933594, -7.7332000732421875, -8.03499984741211, -7.736800193786621, -8.041999816894531, -8.041799545288086, -7.19320011138916, -7.780300140380859, -8.089200019836426, -6.434500217437744, -8.104399681091309, -6.9008002281188965, -6.719200134277344, -6.1255998611450195, -5.188799858093262, -6.538700103759766, -5.679100036621094, -4.444699764251709, -4.223999977111816, -4.130899906158447, -5.274600028991699, -4.894499778747559, -6.360099792480469, -4.222400188446045, -5.789100170135498, -5.102399826049805, -4.31850004196167, -5.34089994430542, -4.421899795532227, -3.813999891281128, -4.650599956512451, -4.537600040435791, -4.143599987030029, -4.993899822235107, -4.5229997634887695, -4.804900169372559, -5.09499979019165, -4.890500068664551, -4.958799839019775, -5.111199855804443, -5.037399768829346, -7.336699962615967, -7.656000137329102, -7.701300144195557, -7.783999919891357, -6.398499965667725, -6.974599838256836, -7.841700077056885, -7.573999881744385, -7.878499984741211, -7.875400066375732, -5.825500011444092, -7.910200119018555, -6.600800037384033, -7.89739990234375, -7.4217000007629395, -7.64900016784668, -7.073800086975098, -6.826600074768066, -7.930500030517578, -7.9191999435424805, -5.336999893188477, -6.654399871826172, -6.026800155639648, -3.8375000953674316, -6.960999965667725, -6.453199863433838, -5.8495001792907715, -6.141900062561035, -5.0157999992370605, -4.827099800109863, -5.102499961853027, -5.383800029754639, -4.530200004577637, -4.156499862670898, -4.675000190734863, -4.5559000968933105, -5.20959997177124, -3.9855000972747803, -5.383600234985352, -5.2895002365112305, -3.9163999557495117, -5.078199863433838, -4.556099891662598, -4.768099784851074, -4.944900035858154, -4.9756999015808105, -4.5777997970581055, -4.69789981842041, -4.833099842071533, -5.07420015335083, -5.00570011138916, -7.319699764251709, -7.451600074768066, -6.838600158691406, -6.4517998695373535, -7.558899879455566, -7.297800064086914, -7.0447998046875, -7.295100212097168, -6.283199787139893, -6.9394001960754395, -7.602799892425537, -7.356400012969971, -7.321400165557861, -7.619999885559082, -7.374100208282471, -7.396299839019775, -7.017899990081787, -7.397299766540527, -7.020500183105469, -6.723800182342529, -6.851799964904785, -5.882999897003174, -6.746799945831299, -5.8084001541137695, -4.25, -4.754199981689453, -6.377399921417236, -5.608399868011475, -6.132599830627441, -5.613399982452393, -4.876399993896484, -3.676500082015991, -6.020599842071533, -5.189000129699707, -4.301499843597412, -4.839300155639648, -5.2621002197265625, -4.08489990234375, -5.400199890136719, -4.640200138092041, -5.3308000564575195, -5.039599895477295, -5.48360013961792, -4.781199932098389, -5.170499801635742, -4.803899765014648, -4.822999954223633, -5.160200119018555, -5.019400119781494, -5.214600086212158, -5.142199993133545, -4.921899795532227, -5.014800071716309, -5.14870023727417, -5.117400169372559, -5.16949987411499, -4.807199954986572, -7.337699890136719, -7.06279993057251, -7.43179988861084, -6.244800090789795, -5.727099895477295, -5.519899845123291, -7.207200050354004, -7.205699920654297, -7.248899936676025, -5.5721001625061035, -7.546000003814697, -6.879799842834473, -7.277500152587891, -7.578000068664551, -7.582399845123291, -7.0802001953125, -7.336400032043457, -6.143700122833252, -7.614699840545654, -6.674600124359131, -5.769999980926514, -6.80709981918335, -5.581600189208984, -6.246099948883057, -4.954100131988525, -5.967400074005127, -6.610599994659424, -4.279799938201904, -6.155900001525879, -4.192699909210205, -4.19789981842041, -5.065700054168701, -4.521699905395508, -4.923600196838379, -4.41480016708374, -4.597400188446045, -4.7291998863220215, -4.609600067138672, -4.481599807739258, -4.047900199890137, -4.912600040435791, -4.555600166320801, -4.396299839019775, -4.97160005569458, -5.220099925994873, -5.007900238037109, -5.175000190734863, -7.183499813079834, -7.183899879455566, -7.285999774932861, -6.816100120544434, -7.363100051879883, -6.763400077819824, -7.182400226593018, -7.184299945831299, -6.811299800872803, -7.199999809265137, -7.19189977645874, -6.991799831390381, -7.054999828338623, -7.321000099182129, -7.325699806213379, -7.613800048828125, -6.916600227355957, -7.639599800109863, -7.140999794006348, -7.646999835968018, -6.9766998291015625, -7.367800235748291, -4.36959981918335, -6.1219000816345215, -5.395199775695801, -5.292699813842773, -6.655200004577637, -3.640199899673462, -5.201000213623047, -5.589600086212158, -3.559999942779541, -4.769000053405762, -4.121500015258789, -5.078700065612793, -5.09499979019165, -4.8043999671936035, -5.878900051116943, -5.091100215911865, -5.41949987411499, -5.000400066375732, -4.532199859619141, -5.469299793243408, -5.264200210571289, -4.84499979019165, -5.370100021362305, -4.820099830627441, -4.694499969482422, -4.880799770355225, -5.206600189208984, -4.905700206756592, -4.785200119018555, -4.948699951171875, -5.072999954223633, -4.992199897766113, -5.072999954223633]}, \"token.table\": {\"Topic\": [1, 2, 3, 4, 5, 1, 2, 3, 4, 5, 1, 2, 3, 4, 5, 3, 1, 2, 3, 4, 5, 1, 2, 3, 4, 5, 1, 2, 3, 4, 5, 1, 2, 3, 4, 5, 1, 2, 5, 1, 2, 3, 4, 5, 1, 2, 3, 4, 5, 1, 5, 1, 2, 3, 4, 5, 2, 4, 1, 3, 4, 5, 1, 2, 2, 3, 5, 1, 2, 3, 4, 5, 1, 3, 5, 1, 2, 1, 2, 3, 5, 1, 4, 5, 1, 2, 3, 2, 1, 2, 3, 4, 5, 2, 5, 2, 1, 3, 1, 3, 4, 5, 1, 2, 3, 4, 5, 1, 3, 5, 3, 1, 2, 3, 2, 4, 1, 3, 4, 5, 1, 2, 3, 4, 5, 5, 1, 2, 3, 4, 5, 1, 2, 3, 4, 5, 1, 2, 3, 4, 5, 1, 2, 3, 4, 5, 2, 3, 5, 1, 3, 1, 2, 4, 5, 1, 2, 3, 4, 5, 1, 2, 3, 1, 2, 3, 4, 5, 1, 2, 5, 1, 3, 3, 5, 1, 2, 3, 5, 1, 2, 3, 4, 5, 1, 2, 3, 4, 5, 1, 1, 2, 3, 1, 2, 4, 1, 2, 3, 4, 5, 1, 2, 3, 4, 5, 2, 5, 1, 2, 3, 5, 1, 2, 3, 5, 2, 5, 3, 5, 1, 1, 1, 2, 5, 1, 2, 3, 4, 5, 1, 2, 3, 4, 5, 1, 2, 3, 4, 5, 1, 2, 3, 4, 5, 3, 1, 4, 1, 2, 2, 4, 1, 2, 3, 4, 5, 1, 1, 2, 3, 4, 5, 1, 2, 3, 4, 1, 5, 1, 2, 3, 4, 5, 1, 2, 3, 4, 5, 1, 5, 4, 5, 3, 4, 1, 2, 5, 3, 1, 2, 3, 4, 5, 1, 2, 3, 4, 5, 1, 2, 3, 4, 5, 2, 5, 1, 2, 3, 4, 5, 1, 4, 1, 2, 3, 4, 5, 1, 2, 3, 4, 5, 1, 2, 3, 5, 1, 2, 3, 4, 5, 1, 2, 3, 4, 5, 1, 2, 4, 1, 2, 3, 4, 4, 1, 2, 3, 4, 5, 1, 2, 3, 4, 5, 1, 1, 2, 3, 4, 5, 2, 5, 1, 2, 3, 4, 5, 1, 3, 4, 5, 1, 2, 3, 5, 1, 2, 3, 4, 5, 1, 3, 1, 2, 2, 4, 1, 2, 3, 4, 5, 1, 4, 2, 2, 4, 1, 2, 3, 5, 2, 2, 3, 5, 1, 1, 2, 4, 1, 2, 3, 4, 5, 1, 3, 4, 5, 1, 4, 1, 2, 3, 4, 5, 4, 1, 2, 3, 4, 5, 1, 2, 3, 4, 5, 1, 2, 3, 4, 5, 1, 2, 3, 4, 5, 1, 2, 5, 1, 2, 3, 4, 5, 5, 4, 1, 2, 3, 4, 5, 1, 2, 3, 4, 5, 1, 3, 1, 2, 3, 4, 5, 1, 2, 3, 4, 5, 1, 2, 3, 4, 5, 1, 2, 3, 4, 5, 3, 4, 5, 1, 2, 3, 4, 5, 1, 2, 3, 4, 5, 1, 2, 3, 5, 1, 2, 3, 4, 5, 1, 2, 3, 4, 5, 1, 2, 3, 4, 5, 2, 4, 1, 1, 2, 3, 5, 1, 2, 3, 4, 5, 1, 2, 3, 4, 5, 1, 2, 3, 4, 5, 1, 3, 4, 5, 1, 2, 3, 1, 2, 3, 4, 5, 2, 3, 4, 1, 2, 3, 4, 5, 1, 2, 3, 4, 1, 2, 3, 4, 1, 2, 1, 2, 3, 4, 5, 1, 2, 3, 4, 5, 2, 5, 1, 2, 3, 4, 5, 1, 2, 3, 4, 5, 1, 2, 3, 4, 5, 1, 2, 3, 4, 5, 1, 2, 5, 2, 1, 1, 2, 3, 5, 1, 3, 1, 5, 1, 3, 4, 5, 1, 2, 3, 4, 5, 1, 2, 3, 4, 5, 1, 2, 3, 4, 5, 1, 2, 3, 4, 5, 2, 5, 1, 2, 3, 4, 5, 1, 2, 3, 4, 5, 1, 2, 3, 4, 5, 1, 2, 3, 4, 5, 1, 2, 3, 4, 5, 1, 2, 4, 1, 2], \"Freq\": [0.26018667221069336, 0.08672888576984406, 0.39027997851371765, 0.13009333610534668, 0.13009333610534668, 0.5789086818695068, 0.19296956062316895, 0.08270124346017838, 0.08270124346017838, 0.055134162306785583, 0.12419677525758743, 0.24839355051517487, 0.12419677525758743, 0.49678710103034973, 0.12419677525758743, 0.717987596988678, 0.10010765492916107, 0.5005382895469666, 0.2502691447734833, 0.10010765492916107, 0.050053827464580536, 0.14926677942276, 0.14926677942276, 0.3482891321182251, 0.19902236759662628, 0.09951118379831314, 0.46022549271583557, 0.13946227729320526, 0.10227233171463013, 0.1998959183692932, 0.09297484904527664, 0.21987587213516235, 0.23280973732471466, 0.19400811195373535, 0.25867748260498047, 0.09700405597686768, 0.1855059266090393, 0.3710118532180786, 0.3710118532180786, 0.36735203862190247, 0.1933431774377823, 0.13534022867679596, 0.09667158871889114, 0.2126774936914444, 0.27679893374443054, 0.1937592476606369, 0.05535978451371193, 0.1660793572664261, 0.30447882413864136, 0.22960074245929718, 0.688802182674408, 0.051909107714891434, 0.1557273268699646, 0.10381821542978287, 0.5710001587867737, 0.1557273268699646, 0.7741603255271912, 0.5724052786827087, 0.1937226802110672, 0.1937226802110672, 0.1937226802110672, 0.5811680555343628, 0.7789942026138306, 0.25966474413871765, 0.22754888236522675, 0.22754888236522675, 0.4550977647304535, 0.12177732586860657, 0.4262206256389618, 0.1623697727918625, 0.20296220481395721, 0.10148110240697861, 0.8285207152366638, 0.5586493611335754, 0.3724329173564911, 0.7415366172790527, 0.14830732345581055, 0.7014961242675781, 0.18170428276062012, 0.5451128482818604, 0.18170428276062012, 0.28309664130210876, 0.5661932826042175, 0.28309664130210876, 0.15184609591960907, 0.30369219183921814, 0.455538272857666, 0.7027130126953125, 0.19058126211166382, 0.11434876173734665, 0.19058126211166382, 0.4192788004875183, 0.07623250782489777, 0.3740226924419403, 0.3740226924419403, 0.690698504447937, 0.8103180527687073, 0.1157597228884697, 0.1843367964029312, 0.5530104041099548, 0.1843367964029312, 0.1843367964029312, 0.36151641607284546, 0.22472642362117767, 0.15633141994476318, 0.06839499622583389, 0.18564356863498688, 0.19077427685260773, 0.19077427685260773, 0.5723227858543396, 0.7219902276992798, 0.622505247592926, 0.10375087708234787, 0.20750175416469574, 0.37085145711898804, 0.37085145711898804, 0.18950232863426208, 0.37900465726852417, 0.18950232863426208, 0.37900465726852417, 0.20174014568328857, 0.10087007284164429, 0.20174014568328857, 0.4539153277873993, 0.050435036420822144, 0.7831238508224487, 0.28425630927085876, 0.22246144711971283, 0.22246144711971283, 0.18538454174995422, 0.08651278913021088, 0.26876258850097656, 0.18141473829746246, 0.2956388294696808, 0.20829099416732788, 0.04703345149755478, 0.21650035679340363, 0.38970065116882324, 0.21650035679340363, 0.06495010852813721, 0.11907519400119781, 0.23202665150165558, 0.11601332575082779, 0.23202665150165558, 0.40604662895202637, 0.058006662875413895, 0.2721020579338074, 0.5442041158676147, 0.2721020579338074, 0.3580401837825775, 0.716080367565155, 0.22594043612480164, 0.22594043612480164, 0.22594043612480164, 0.45188087224960327, 0.49735939502716064, 0.14055809378623962, 0.18380673229694366, 0.07568512856960297, 0.08649728447198868, 0.267654150724411, 0.267654150724411, 0.535308301448822, 0.3813233971595764, 0.24083583056926727, 0.14048756659030914, 0.20069652795791626, 0.04013930633664131, 0.226258784532547, 0.226258784532547, 0.452517569065094, 0.2144732028245926, 0.643419623374939, 0.2856425940990448, 0.5712851881980896, 0.1864006370306015, 0.34173449873924255, 0.34173449873924255, 0.09320031851530075, 0.21578244864940643, 0.18880963325500488, 0.2292688488960266, 0.18880963325500488, 0.16183683276176453, 0.14007075130939484, 0.14007075130939484, 0.14007075130939484, 0.5602830052375793, 0.14007075130939484, 0.6986415982246399, 0.8301208019256592, 0.1037651002407074, 0.1037651002407074, 0.7447182536125183, 0.14894366264343262, 0.14894366264343262, 0.3558283746242523, 0.16605323553085327, 0.1423313468694687, 0.1186094582080841, 0.2372189164161682, 0.6375042200088501, 0.09107203036546707, 0.18214406073093414, 0.09107203036546707, 0.045536015182733536, 0.7039851546287537, 0.783157467842102, 0.13429155945777893, 0.26858311891555786, 0.5371662378311157, 0.13429155945777893, 0.3126203417778015, 0.5805806517601013, 0.0446600504219532, 0.0446600504219532, 0.6413875818252563, 0.21379585564136505, 0.284135103225708, 0.568270206451416, 0.6988891363143921, 0.697081983089447, 0.2604503333568573, 0.5209006667137146, 0.13022516667842865, 0.2664514482021332, 0.23314501345157623, 0.1332257241010666, 0.09991928935050964, 0.29975786805152893, 0.2420273721218109, 0.2621963322162628, 0.28236526250839233, 0.16135157644748688, 0.06050684303045273, 0.3356318473815918, 0.39400261640548706, 0.07296344637870789, 0.14592689275741577, 0.04377806559205055, 0.2688082754611969, 0.13440413773059845, 0.2688082754611969, 0.1176036149263382, 0.20160619914531708, 0.7212210893630981, 0.373635858297348, 0.747271716594696, 0.2592558264732361, 0.5185116529464722, 0.5354171991348267, 0.26770859956741333, 0.29528388381004333, 0.5167467594146729, 0.07382097095251083, 0.07382097095251083, 0.07382097095251083, 0.6966447234153748, 0.4862886965274811, 0.0961889699101448, 0.10687663406133652, 0.17634645104408264, 0.13893963396549225, 0.28987231850624084, 0.09662410616874695, 0.5797446370124817, 0.09662410616874695, 0.3829851448535919, 0.7659702897071838, 0.48539474606513977, 0.1277354657649994, 0.22992382943630219, 0.10218837112188339, 0.0638677328824997, 0.29921388626098633, 0.31261152029037476, 0.08038581907749176, 0.13397637009620667, 0.1697033941745758, 0.7015776634216309, 0.7789710164070129, 0.2893044650554657, 0.5786089301109314, 0.551521360874176, 0.275760680437088, 0.15072256326675415, 0.6028902530670166, 0.15072256326675415, 0.7202612161636353, 0.22459954023361206, 0.3368993103504181, 0.1824871301651001, 0.20354333519935608, 0.04913115128874779, 0.22357329726219177, 0.2063753455877304, 0.1031876727938652, 0.34395891427993774, 0.12038561701774597, 0.5302050709724426, 0.18157708644866943, 0.0871570035815239, 0.06536775082349777, 0.13073550164699554, 0.2821129560470581, 0.5642259120941162, 0.5450456738471985, 0.143433079123497, 0.08605984598398209, 0.20080630481243134, 0.028686614707112312, 0.3749442994594574, 0.3749442994594574, 0.13910268247127533, 0.2086540162563324, 0.13910268247127533, 0.4173080325126648, 0.13910268247127533, 0.35492339730262756, 0.2204827219247818, 0.07528678327798843, 0.2366156131029129, 0.11830780655145645, 0.15018506348133087, 0.6007402539253235, 0.15018506348133087, 0.15018506348133087, 0.36637192964553833, 0.10775644332170486, 0.28016677498817444, 0.12930773198604584, 0.10775644332170486, 0.3270750045776367, 0.4088437557220459, 0.12265312671661377, 0.09539687633514404, 0.06814062595367432, 0.2243957817554474, 0.2243957817554474, 0.4487915635108948, 0.16538330912590027, 0.2480749636888504, 0.41345828771591187, 0.16538330912590027, 0.7550231218338013, 0.31395798921585083, 0.3878304362297058, 0.1292768120765686, 0.07387246936559677, 0.07387246936559677, 0.2717791795730591, 0.12543654441833496, 0.18815481662750244, 0.16724872589111328, 0.2717791795730591, 0.6965523362159729, 0.4046914875507355, 0.2570337653160095, 0.09843846410512924, 0.19140812754631042, 0.04375043138861656, 0.2811594009399414, 0.2811594009399414, 0.21243278682231903, 0.12298740446567535, 0.17889076471328735, 0.14534874260425568, 0.3354201912879944, 0.2522002160549164, 0.1261001080274582, 0.2522002160549164, 0.3783003091812134, 0.19187051057815552, 0.5756115317344666, 0.09593525528907776, 0.19187051057815552, 0.14452886581420898, 0.4697188138961792, 0.28905773162841797, 0.036132216453552246, 0.036132216453552246, 0.2716023623943329, 0.5432047247886658, 0.34629958868026733, 0.6925991773605347, 0.281330406665802, 0.562660813331604, 0.42328161001205444, 0.16055509448051453, 0.13136325776576996, 0.07297959178686142, 0.21893876791000366, 0.6976689100265503, 0.37231701612472534, 0.6953585147857666, 0.2780982255935669, 0.5561964511871338, 0.6650800108909607, 0.06650800257921219, 0.06650800257921219, 0.19952400028705597, 0.6936129331588745, 0.12066671252250671, 0.603333592414856, 0.12066671252250671, 0.7870198488235474, 0.2558217942714691, 0.17054785788059235, 0.5116435885429382, 0.6101086735725403, 0.11092884838581085, 0.11092884838581085, 0.11092884838581085, 0.055464424192905426, 0.08161482214927673, 0.16322964429855347, 0.4896889328956604, 0.2448444664478302, 0.3158177137374878, 0.4737265706062317, 0.2858950197696686, 0.32020241022109985, 0.18297280371189117, 0.13722960650920868, 0.08005060255527496, 0.5690370798110962, 0.09584758430719376, 0.5750855207443237, 0.1916951686143875, 0.09584758430719376, 0.09584758430719376, 0.31460583209991455, 0.21780402958393097, 0.29040539264678955, 0.09680179506540298, 0.08470156788825989, 0.3677222430706024, 0.14907658100128174, 0.14907658100128174, 0.20870721340179443, 0.11926126480102539, 0.29164397716522217, 0.24559491872787476, 0.09209809452295303, 0.15349683165550232, 0.23024524748325348, 0.2831209599971771, 0.2831209599971771, 0.5662419199943542, 0.31181463599205017, 0.21827024221420288, 0.34299609065055847, 0.031181463971734047, 0.09354439377784729, 0.3771670162677765, 0.7620863318443298, 0.333873987197876, 0.23025792837142944, 0.11512896418571472, 0.1381547600030899, 0.18420633673667908, 0.3355633020401001, 0.2772044539451599, 0.10212796181440353, 0.13860222697257996, 0.13860222697257996, 0.8330610394477844, 0.2082652598619461, 0.2245691865682602, 0.16040655970573425, 0.27269116044044495, 0.16040655970573425, 0.16040655970573425, 0.18366362154483795, 0.2754954397678375, 0.13774771988391876, 0.09183181077241898, 0.3214113414287567, 0.11652018874883652, 0.5826009511947632, 0.11652018874883652, 0.11652018874883652, 0.11652018874883652, 0.4309973120689392, 0.21786676347255707, 0.1989218294620514, 0.0757797434926033, 0.0757797434926033, 0.5517065525054932, 0.18390217423439026, 0.18390217423439026, 0.3223368227481842, 0.21331113576889038, 0.184869647026062, 0.11850618571043015, 0.15879827737808228, 0.3485608696937561, 0.364404559135437, 0.17428043484687805, 0.07921838015317917, 0.04753102734684944, 0.34787341952323914, 0.6957468390464783, 0.554324746131897, 0.2771623730659485, 0.26789963245391846, 0.1785997599363327, 0.20092473924160004, 0.13394981622695923, 0.22324970364570618, 0.5326822996139526, 0.13317057490348816, 0.0832316055893898, 0.21640217304229736, 0.03329264372587204, 0.39577239751815796, 0.1341601312160492, 0.1677001714706421, 0.19453220069408417, 0.11403612047433853, 0.2819541394710541, 0.5639082789421082, 0.7899290919303894, 0.1343994289636612, 0.1343994289636612, 0.5375977158546448, 0.1343994289636612, 0.23403257131576538, 0.5720796585083008, 0.05200723931193352, 0.13001810014247894, 0.02600361965596676, 0.2914336621761322, 0.26367807388305664, 0.11102234572172165, 0.1526557356119156, 0.18041132390499115, 0.24761755764484406, 0.12970443069934845, 0.3183654248714447, 0.24761755764484406, 0.058956559747457504, 0.41800445318222046, 0.06966740638017654, 0.1393348127603531, 0.3483370542526245, 0.26688021421432495, 0.26688021421432495, 0.5337604284286499, 0.06655395776033401, 0.13310791552066803, 0.06655395776033401, 0.5989856123924255, 0.06655395776033401, 0.11318737268447876, 0.11318737268447876, 0.6791242361068726, 0.31996530294418335, 0.10665509849786758, 0.479947954416275, 0.10665509849786758, 0.05332754924893379, 0.21409887075424194, 0.053524717688560486, 0.10704943537712097, 0.6422966122627258, 0.12651698291301727, 0.03162924572825432, 0.09488773345947266, 0.7591018676757812, 0.3466225266456604, 0.6932450532913208, 0.32458165287971497, 0.22911645472049713, 0.22911645472049713, 0.11455822736024857, 0.1050117090344429, 0.2956879734992981, 0.2534468472003937, 0.15689566731452942, 0.10862007737159729, 0.187067911028862, 0.3744007647037506, 0.3744007647037506, 0.2677912712097168, 0.22721683979034424, 0.14606797695159912, 0.20287218689918518, 0.15418285131454468, 0.4969664216041565, 0.09939327836036682, 0.13252437114715576, 0.11595883220434189, 0.1656554639339447, 0.37176045775413513, 0.11617513746023178, 0.13941016793251038, 0.09294011443853378, 0.25558531284332275, 0.4074214994907379, 0.09586387872695923, 0.047931939363479614, 0.14379581809043884, 0.2875916361808777, 0.257798969745636, 0.601530909538269, 0.08593299239873886, 0.7006190419197083, 0.7003583312034607, 0.18050310015678406, 0.18050310015678406, 0.42117393016815186, 0.18050310015678406, 0.2661009430885315, 0.532201886177063, 0.2829563617706299, 0.5659127235412598, 0.18925850093364716, 0.18925850093364716, 0.5677754878997803, 0.18925850093364716, 0.3952871859073639, 0.3011711835861206, 0.14117400348186493, 0.07529279589653015, 0.08470439910888672, 0.24801453948020935, 0.545632004737854, 0.14880871772766113, 0.04960290715098381, 0.04960290715098381, 0.3348435163497925, 0.28833746910095215, 0.18602417409420013, 0.09301208704710007, 0.09301208704710007, 0.5814627408981323, 0.10261107236146927, 0.25652769207954407, 0.03420368954539299, 0.017101844772696495, 0.7116944193840027, 0.35584720969200134, 0.34893742203712463, 0.34082260727882385, 0.06491859257221222, 0.12172236293554306, 0.12172236293554306, 0.40610039234161377, 0.48038703203201294, 0.03466710448265076, 0.05942932516336441, 0.014857331290841103, 0.10580715537071228, 0.3778826892375946, 0.01511530764400959, 0.2720755338668823, 0.226729616522789, 0.33976343274116516, 0.31311529874801636, 0.16655069589614868, 0.05995824933052063, 0.11991649866104126, 0.28173479437828064, 0.2651621699333191, 0.1160084456205368, 0.2651621699333191, 0.06629054248332977, 0.6259770393371582, 0.20865900814533234, 0.13910600543022156, 0.5993794798851013, 0.2568769156932831], \"Term\": [\"access\", \"access\", \"access\", \"access\", \"access\", \"accur\", \"accur\", \"accur\", \"accur\", \"accur\", \"address\", \"address\", \"address\", \"address\", \"address\", \"alert\", \"american\", \"american\", \"american\", \"american\", \"american\", \"analyz\", \"analyz\", \"analyz\", \"analyz\", \"analyz\", \"ancestri\", \"ancestri\", \"ancestri\", \"ancestri\", \"ancestri\", \"andm\", \"andm\", \"andm\", \"andm\", \"andm\", \"anonym\", \"anonym\", \"anonym\", \"answer\", \"answer\", \"answer\", \"answer\", \"answer\", \"answer_question\", \"answer_question\", \"answer_question\", \"answer_question\", \"answer_question\", \"appli\", \"appli\", \"asian\", \"asian\", \"asian\", \"asian\", \"asian\", \"assess\", \"associ\", \"attach\", \"attach\", \"attach\", \"attach\", \"aw\", \"aw\", \"benefit\", \"benefit\", \"benefit\", \"better\", \"better\", \"better\", \"better\", \"better\", \"box\", \"brca\", \"brca\", \"broad\", \"broad\", \"broke\", \"browser\", \"browser\", \"browser\", \"buck\", \"buck\", \"buck\", \"bum\", \"bum\", \"bum\", \"buyer\", \"card\", \"card\", \"card\", \"card\", \"card\", \"cash\", \"cash\", \"chronic\", \"combin\", \"combin\", \"commerci\", \"commerci\", \"commerci\", \"commerci\", \"compani\", \"compani\", \"compani\", \"compani\", \"compani\", \"competit\", \"competit\", \"competit\", \"conduct\", \"copi\", \"copi\", \"copi\", \"count\", \"count\", \"crap\", \"crap\", \"crap\", \"crap\", \"credit\", \"credit\", \"credit\", \"credit\", \"credit\", \"cure\", \"custom\", \"custom\", \"custom\", \"custom\", \"custom\", \"custom_servic\", \"custom_servic\", \"custom_servic\", \"custom_servic\", \"custom_servic\", \"data\", \"data\", \"data\", \"data\", \"data\", \"daughter\", \"daughter\", \"daughter\", \"daughter\", \"daughter\", \"deep\", \"deep\", \"deep\", \"destroy\", \"destroy\", \"diagnos\", \"diagnos\", \"diagnos\", \"diagnos\", \"didn\", \"didn\", \"didn\", \"didn\", \"didn\", \"dietari\", \"dietari\", \"dietari\", \"disappoint\", \"disappoint\", \"disappoint\", \"disappoint\", \"disappoint\", \"doubl\", \"doubl\", \"doubl\", \"easier\", \"easier\", \"easili\", \"easili\", \"eastern_european\", \"eastern_european\", \"eastern_european\", \"eastern_european\", \"email\", \"email\", \"email\", \"email\", \"email\", \"email_address\", \"email_address\", \"email_address\", \"email_address\", \"email_address\", \"endless\", \"estim\", \"estim\", \"estim\", \"exist\", \"exist\", \"exist\", \"expect\", \"expect\", \"expect\", \"expect\", \"expect\", \"expens\", \"expens\", \"expens\", \"expens\", \"expens\", \"extens\", \"fake\", \"fals\", \"fals\", \"fals\", \"fals\", \"famili_tree\", \"famili_tree\", \"famili_tree\", \"famili_tree\", \"fell\", \"fell\", \"fit\", \"fit\", \"forget\", \"fraud\", \"futur\", \"futur\", \"futur\", \"gave\", \"gave\", \"gave\", \"gave\", \"gave\", \"gene\", \"gene\", \"gene\", \"gene\", \"gene\", \"gener\", \"gener\", \"gener\", \"gener\", \"gener\", \"genet\", \"genet\", \"genet\", \"genet\", \"genet\", \"govern\", \"grad\", \"grad\", \"grandmoth\", \"grandmoth\", \"greek\", \"greek\", \"happi\", \"happi\", \"happi\", \"happi\", \"happi\", \"havent\", \"health\", \"health\", \"health\", \"health\", \"health\", \"horribl\", \"horribl\", \"horribl\", \"horribl\", \"industri\", \"industri\", \"info\", \"info\", \"info\", \"info\", \"info\", \"inform\", \"inform\", \"inform\", \"inform\", \"inform\", \"inherit\", \"input\", \"invad\", \"invad\", \"island\", \"island\", \"juli\", \"juli\", \"juli\", \"junk\", \"just\", \"just\", \"just\", \"just\", \"just\", \"kit\", \"kit\", \"kit\", \"kit\", \"kit\", \"know\", \"know\", \"know\", \"know\", \"know\", \"leak\", \"leak\", \"learn\", \"learn\", \"learn\", \"learn\", \"learn\", \"legal\", \"legal\", \"life\", \"life\", \"life\", \"life\", \"life\", \"like\", \"like\", \"like\", \"like\", \"like\", \"liquid\", \"liquid\", \"liquid\", \"liquid\", \"long\", \"long\", \"long\", \"long\", \"long\", \"look\", \"look\", \"look\", \"look\", \"look\", \"lose\", \"lose\", \"lose\", \"lost\", \"lost\", \"lost\", \"lost\", \"luckili\", \"make\", \"make\", \"make\", \"make\", \"make\", \"medic\", \"medic\", \"medic\", \"medic\", \"medic\", \"membership\", \"money\", \"money\", \"money\", \"money\", \"money\", \"mongolian\", \"mongolian\", \"month\", \"month\", \"month\", \"month\", \"month\", \"month_later\", \"month_later\", \"month_later\", \"month_later\", \"mthfr\", \"mthfr\", \"mthfr\", \"mthfr\", \"nativ_american\", \"nativ_american\", \"nativ_american\", \"nativ_american\", \"nativ_american\", \"nutritionist\", \"nutritionist\", \"obes\", \"obes\", \"odor\", \"odor\", \"order\", \"order\", \"order\", \"order\", \"order\", \"outcom\", \"overli\", \"paperwork\", \"partial\", \"partial\", \"patern\", \"patern\", \"patern\", \"patern\", \"penni\", \"plan\", \"plan\", \"plan\", \"pool\", \"popul\", \"popul\", \"popul\", \"print\", \"print\", \"print\", \"print\", \"print\", \"probabl\", \"probabl\", \"probabl\", \"probabl\", \"produc\", \"produc\", \"product\", \"product\", \"product\", \"product\", \"product\", \"project\", \"prometheas\", \"prometheas\", \"prometheas\", \"prometheas\", \"prometheas\", \"provid\", \"provid\", \"provid\", \"provid\", \"provid\", \"purchas\", \"purchas\", \"purchas\", \"purchas\", \"purchas\", \"question\", \"question\", \"question\", \"question\", \"question\", \"questionair\", \"questionair\", \"questionair\", \"questionnair\", \"questionnair\", \"questionnair\", \"questionnair\", \"questionnair\", \"quick\", \"rare\", \"realli\", \"realli\", \"realli\", \"realli\", \"realli\", \"receiv\", \"receiv\", \"receiv\", \"receiv\", \"receiv\", \"reciev\", \"reciev\", \"recommend\", \"recommend\", \"recommend\", \"recommend\", \"recommend\", \"rel\", \"rel\", \"rel\", \"rel\", \"rel\", \"remov\", \"remov\", \"remov\", \"remov\", \"remov\", \"report\", \"report\", \"report\", \"report\", \"report\", \"resolv\", \"resolv\", \"resolv\", \"result\", \"result\", \"result\", \"result\", \"result\", \"review\", \"review\", \"review\", \"review\", \"review\", \"rise\", \"rise\", \"safari\", \"safari\", \"said\", \"said\", \"said\", \"said\", \"said\", \"saliva_sampl\", \"saliva_sampl\", \"saliva_sampl\", \"saliva_sampl\", \"saliva_sampl\", \"sampl\", \"sampl\", \"sampl\", \"sampl\", \"sampl\", \"sardinian\", \"sardinian\", \"school\", \"scientif\", \"scientif\", \"scientif\", \"scientif\", \"sell_supplement\", \"sell_supplement\", \"sell_supplement\", \"sell_supplement\", \"sell_supplement\", \"sent\", \"sent\", \"sent\", \"sent\", \"sent\", \"servic\", \"servic\", \"servic\", \"servic\", \"servic\", \"sister\", \"sister\", \"sister\", \"sister\", \"sourc\", \"sourc\", \"sourc\", \"south\", \"south\", \"south\", \"south\", \"south\", \"south_asian\", \"south_asian\", \"south_asian\", \"spend\", \"spend\", \"spend\", \"spend\", \"spend\", \"stolen\", \"stolen\", \"stolen\", \"stolen\", \"stolen_credit\", \"stolen_credit\", \"stolen_credit\", \"stolen_credit\", \"suppli\", \"suppli\", \"tell\", \"tell\", \"tell\", \"tell\", \"tell\", \"test\", \"test\", \"test\", \"test\", \"test\", \"thousand\", \"thousand\", \"time\", \"time\", \"time\", \"time\", \"time\", \"took\", \"took\", \"took\", \"took\", \"took\", \"total\", \"total\", \"total\", \"total\", \"total\", \"total_wast\", \"total_wast\", \"total_wast\", \"total_wast\", \"total_wast\", \"tree\", \"tree\", \"tree\", \"trick\", \"unimpress\", \"upgrad\", \"upgrad\", \"upgrad\", \"upgrad\", \"valuabl\", \"valuabl\", \"vaug\", \"vaug\", \"version\", \"version\", \"version\", \"version\", \"wait\", \"wait\", \"wait\", \"wait\", \"wait\", \"wait_week\", \"wait_week\", \"wait_week\", \"wait_week\", \"wait_week\", \"want\", \"want\", \"want\", \"want\", \"want\", \"want_know\", \"want_know\", \"want_know\", \"want_know\", \"want_know\", \"wash\", \"wash\", \"wast\", \"wast\", \"wast\", \"wast\", \"wast\", \"wast_money\", \"wast_money\", \"wast_money\", \"wast_money\", \"wast_money\", \"wast_time\", \"wast_time\", \"wast_time\", \"wast_time\", \"wast_time\", \"week\", \"week\", \"week\", \"week\", \"week\", \"work\", \"work\", \"work\", \"work\", \"work\", \"worth_money\", \"worth_money\", \"worth_money\", \"zero\", \"zero\"]}, \"R\": 20, \"lambda.step\": 0.01, \"plot.opts\": {\"xlab\": \"PC1\", \"ylab\": \"PC2\"}, \"topic.order\": [3, 5, 2, 1, 4]};\n",
       "\n",
       "function LDAvis_load_lib(url, callback){\n",
       "  var s = document.createElement('script');\n",
       "  s.src = url;\n",
       "  s.async = true;\n",
       "  s.onreadystatechange = s.onload = callback;\n",
       "  s.onerror = function(){console.warn(\"failed to load library \" + url);};\n",
       "  document.getElementsByTagName(\"head\")[0].appendChild(s);\n",
       "}\n",
       "\n",
       "if(typeof(LDAvis) !== \"undefined\"){\n",
       "   // already loaded: just create the visualization\n",
       "   !function(LDAvis){\n",
       "       new LDAvis(\"#\" + \"ldavis_el20288112251939840566209145\", ldavis_el20288112251939840566209145_data);\n",
       "   }(LDAvis);\n",
       "}else if(typeof define === \"function\" && define.amd){\n",
       "   // require.js is available: use it to load d3/LDAvis\n",
       "   require.config({paths: {d3: \"https://cdnjs.cloudflare.com/ajax/libs/d3/3.5.5/d3.min\"}});\n",
       "   require([\"d3\"], function(d3){\n",
       "      window.d3 = d3;\n",
       "      LDAvis_load_lib(\"https://cdn.rawgit.com/bmabey/pyLDAvis/files/ldavis.v1.0.0.js\", function(){\n",
       "        new LDAvis(\"#\" + \"ldavis_el20288112251939840566209145\", ldavis_el20288112251939840566209145_data);\n",
       "      });\n",
       "    });\n",
       "}else{\n",
       "    // require.js not available: dynamically load d3 & LDAvis\n",
       "    LDAvis_load_lib(\"https://cdnjs.cloudflare.com/ajax/libs/d3/3.5.5/d3.min.js\", function(){\n",
       "         LDAvis_load_lib(\"https://cdn.rawgit.com/bmabey/pyLDAvis/files/ldavis.v1.0.0.js\", function(){\n",
       "                 new LDAvis(\"#\" + \"ldavis_el20288112251939840566209145\", ldavis_el20288112251939840566209145_data);\n",
       "            })\n",
       "         });\n",
       "}\n",
       "</script>"
      ],
      "text/plain": [
       "PreparedData(topic_coordinates=              x         y  topics  cluster       Freq\n",
       "topic                                                \n",
       "2     -0.006215 -0.018256       1        1  32.497269\n",
       "4     -0.005881 -0.029550       2        1  23.650515\n",
       "1      0.009158 -0.012055       3        1  16.225441\n",
       "0     -0.038095  0.033277       4        1  15.155989\n",
       "3      0.041033  0.026584       5        1  12.470785, topic_info=     Category        Freq           Term       Total  loglift  logprob\n",
       "term                                                                  \n",
       "389   Default  201.000000     wast_money  201.000000  20.0000  20.0000\n",
       "121   Default  331.000000           test  331.000000  19.0000  19.0000\n",
       "14    Default  421.000000         result  421.000000  18.0000  18.0000\n",
       "87    Default   89.000000          month   89.000000  17.0000  17.0000\n",
       "350   Default   31.000000  stolen_credit   31.000000  16.0000  16.0000\n",
       "35    Default  148.000000  custom_servic  148.000000  15.0000  15.0000\n",
       "22    Default   66.000000      wast_time   66.000000  14.0000  14.0000\n",
       "46    Default  223.000000         inform  223.000000  13.0000  13.0000\n",
       "190   Default  154.000000           andm  154.000000  12.0000  12.0000\n",
       "293   Default  187.000000         health  187.000000  11.0000  11.0000\n",
       "66    Default   84.000000         servic   84.000000  10.0000  10.0000\n",
       "52    Default  185.000000           like  185.000000   9.0000   9.0000\n",
       "15    Default   89.000000           said   89.000000   8.0000   8.0000\n",
       "48    Default  142.000000           just  142.000000   7.0000   7.0000\n",
       "2     Default  215.000000       ancestri  215.000000   6.0000   6.0000\n",
       "10    Default   58.000000            kit   58.000000   5.0000   5.0000\n",
       "344   Default   18.000000         stolen   18.000000   4.0000   4.0000\n",
       "19    Default  123.000000           time  123.000000   3.0000   3.0000\n",
       "54    Default   47.000000          medic   47.000000   2.0000   2.0000\n",
       "376   Default   41.000000     total_wast   41.000000   1.0000   1.0000\n",
       "1192   Topic1    4.105820            box    4.827882   0.9620  -7.3170\n",
       "486    Topic1    7.523344          estim    9.637152   0.8764  -6.7114\n",
       "107    Topic1    4.367708         forget    5.723368   0.8537  -7.2552\n",
       "906    Topic1    6.516419         combin    8.638583   0.8421  -6.8551\n",
       "1365   Topic1    2.149981     membership    2.871285   0.8347  -7.9640\n",
       "1412   Topic1    3.562230         reciev    4.801569   0.8255  -7.4591\n",
       "1194   Topic1    2.123687          fraud    2.869103   0.8232  -7.9763\n",
       "1059   Topic1    4.961215          exist    6.713948   0.8215  -7.1278\n",
       "898    Topic1    2.054712         outcom    2.866689   0.7910  -8.0093\n",
       "891    Topic1    2.708038           pool    3.811848   0.7821  -7.7332\n",
       "...       ...         ...            ...         ...      ...      ...\n",
       "376    Topic5   11.928903     total_wast   41.725830   0.8296  -5.2927\n",
       "130    Topic5    3.053945    month_later    7.930208   1.1275  -6.6552\n",
       "121    Topic5   62.268772           test  331.430450   0.4098  -3.6402\n",
       "54     Topic5   13.074085          medic   47.832951   0.7847  -5.2010\n",
       "8      Topic5    8.864950           gave   30.024233   0.8619  -5.5896\n",
       "14     Topic5   67.471352         result  421.918915   0.2487  -3.5600\n",
       "15     Topic5   20.138933           said   89.585785   0.5892  -4.7690\n",
       "46     Topic5   38.480335         inform  223.920090   0.3206  -4.1215\n",
       "22     Topic5   14.775834      wast_time   66.158096   0.5827  -5.0787\n",
       "311    Topic5   14.536951       question   65.147926   0.5818  -5.0950\n",
       "137    Topic5   19.439684        compani  102.346664   0.4207  -4.8044\n",
       "455    Topic5    6.637831            rel   21.778946   0.8936  -5.8789\n",
       "131    Topic5   14.593820          order   68.512306   0.5354  -5.0911\n",
       "72     Topic5   10.508543          total   43.038467   0.6719  -5.4195\n",
       "295    Topic5   15.978891         realli   86.859116   0.3888  -5.0004\n",
       "293    Topic5   25.519745         health  187.131638   0.0894  -4.5322\n",
       "40     Topic5    9.997917         expect   42.155155   0.6428  -5.4693\n",
       "108    Topic5   12.273329          genet   59.521980   0.5029  -5.2642\n",
       "19     Topic5   18.665823           time  123.230301   0.1944  -4.8450\n",
       "25     Topic5   11.040941         answer   51.721504   0.5375  -5.3701\n",
       "90     Topic5   19.135567         receiv  137.082932   0.1127  -4.8201\n",
       "52     Topic5   21.697298           like  185.955612  -0.0665  -4.6945\n",
       "49     Topic5   18.008245           know  137.682571   0.0477  -4.8808\n",
       "135    Topic5   13.001581           sent   72.057564   0.3694  -5.2066\n",
       "23     Topic5   17.565344           week  150.104446  -0.0636  -4.9057\n",
       "2      Topic5   19.815603       ancestri  215.111938  -0.3029  -4.7852\n",
       "91     Topic5   16.827150          sampl  149.075577  -0.0997  -4.9487\n",
       "21     Topic5   14.860311           wast  123.231262  -0.0336  -5.0730\n",
       "115    Topic5   16.111128         report  211.138214  -0.4912  -4.9922\n",
       "190    Topic5   14.859500           andm  154.632706  -0.2606  -5.0730\n",
       "\n",
       "[279 rows x 6 columns], token_table=      Topic      Freq         Term\n",
       "term                              \n",
       "441       1  0.260187       access\n",
       "441       2  0.086729       access\n",
       "441       3  0.390280       access\n",
       "441       4  0.130093       access\n",
       "441       5  0.130093       access\n",
       "320       1  0.578909        accur\n",
       "320       2  0.192970        accur\n",
       "320       3  0.082701        accur\n",
       "320       4  0.082701        accur\n",
       "320       5  0.055134        accur\n",
       "671       1  0.124197      address\n",
       "671       2  0.248394      address\n",
       "671       3  0.124197      address\n",
       "671       4  0.496787      address\n",
       "671       5  0.124197      address\n",
       "899       3  0.717988        alert\n",
       "708       1  0.100108     american\n",
       "708       2  0.500538     american\n",
       "708       3  0.250269     american\n",
       "708       4  0.100108     american\n",
       "708       5  0.050054     american\n",
       "392       1  0.149267       analyz\n",
       "392       2  0.149267       analyz\n",
       "392       3  0.348289       analyz\n",
       "392       4  0.199022       analyz\n",
       "392       5  0.099511       analyz\n",
       "2         1  0.460225     ancestri\n",
       "2         2  0.139462     ancestri\n",
       "2         3  0.102272     ancestri\n",
       "2         4  0.199896     ancestri\n",
       "...     ...       ...          ...\n",
       "21        1  0.348937         wast\n",
       "21        2  0.340823         wast\n",
       "21        3  0.064919         wast\n",
       "21        4  0.121722         wast\n",
       "21        5  0.121722         wast\n",
       "389       1  0.406100   wast_money\n",
       "389       2  0.480387   wast_money\n",
       "389       3  0.034667   wast_money\n",
       "389       4  0.059429   wast_money\n",
       "389       5  0.014857   wast_money\n",
       "22        1  0.105807    wast_time\n",
       "22        2  0.377883    wast_time\n",
       "22        3  0.015115    wast_time\n",
       "22        4  0.272076    wast_time\n",
       "22        5  0.226730    wast_time\n",
       "23        1  0.339763         week\n",
       "23        2  0.313115         week\n",
       "23        3  0.166551         week\n",
       "23        4  0.059958         week\n",
       "23        5  0.119916         week\n",
       "298       1  0.281735         work\n",
       "298       2  0.265162         work\n",
       "298       3  0.116008         work\n",
       "298       4  0.265162         work\n",
       "298       5  0.066291         work\n",
       "517       1  0.625977  worth_money\n",
       "517       2  0.208659  worth_money\n",
       "517       4  0.139106  worth_money\n",
       "492       1  0.599379         zero\n",
       "492       2  0.256877         zero\n",
       "\n",
       "[673 rows x 3 columns], R=20, lambda_step=0.01, plot_opts={'xlab': 'PC1', 'ylab': 'PC2'}, topic_order=[3, 5, 2, 1, 4])"
      ]
     },
     "execution_count": 50,
     "metadata": {},
     "output_type": "execute_result"
    }
   ],
   "source": [
    "#Visualize negative topics\n",
    "pyLDAvis.gensim.prepare(neg_lda, neg_doc_term_mx, neg_dictionary, R = 20)"
   ]
  },
  {
   "cell_type": "markdown",
   "metadata": {},
   "source": [
    "\n",
    "The left panel of the chart presents a global view of topics: how they are related to each other (far apart or inmtersect) and how preevalent they are (the larger the circle the more prevalent is the topic). \n",
    "\n",
    "THe right panel shows  the individual terms that are the most useful for interpreting the currently selected topic on the left.  A pair of overlaid bars represent both the corpus-wide frequency ofa given term as well as the topic-specific frequency of the term.\n",
    "\n",
    "Parameter lambda regulates the _relevance_ of the term, which is used to rank terms within topics. It is regulated by parameter _lambda_.\n",
    "- If _lambda_ = 1, we'll see familiar ranking of terms in decreasing order of their topic-specific probability\n",
    "- If _lambda_ = 0, we'll rank words soleley by their _lift_, defined as the ratio of a term’s probability within a topic to its marginal probability across the corpus. In other words, it helps determine the words exclusivity to a particular topic. "
   ]
  },
  {
   "cell_type": "code",
   "execution_count": 51,
   "metadata": {},
   "outputs": [
    {
     "data": {
      "text/plain": [
       "[(0,\n",
       "  '0.031*\"test\" + 0.020*\"result\" + 0.019*\"health\" + 0.014*\"know\" + 0.011*\"great\" + 0.010*\"ancestri\" + 0.008*\"genet\" + 0.008*\"just\" + 0.007*\"like\" + 0.007*\"inform\"'),\n",
       " (1,\n",
       "  '0.031*\"result\" + 0.016*\"love\" + 0.015*\"inform\" + 0.014*\"report\" + 0.013*\"ancestri\" + 0.009*\"test\" + 0.009*\"great\" + 0.008*\"easi\" + 0.008*\"receiv\" + 0.008*\"health\"'),\n",
       " (2,\n",
       "  '0.034*\"result\" + 0.018*\"test\" + 0.015*\"ancestri\" + 0.015*\"inform\" + 0.013*\"health\" + 0.011*\"receiv\" + 0.011*\"great\" + 0.011*\"wait\" + 0.009*\"report\" + 0.009*\"like\"'),\n",
       " (3,\n",
       "  '0.040*\"result\" + 0.022*\"test\" + 0.021*\"inform\" + 0.018*\"ancestri\" + 0.015*\"health\" + 0.014*\"easi\" + 0.014*\"famili\" + 0.011*\"like\" + 0.009*\"genet\" + 0.009*\"report\"'),\n",
       " (4,\n",
       "  '0.024*\"result\" + 0.013*\"highli_recommend\" + 0.011*\"genet\" + 0.011*\"know\" + 0.011*\"good\" + 0.011*\"easi\" + 0.010*\"famili_member\" + 0.009*\"health\" + 0.009*\"test\" + 0.009*\"famili\"')]"
      ]
     },
     "execution_count": 51,
     "metadata": {},
     "output_type": "execute_result"
    }
   ],
   "source": [
    "# Topics based on positive reviews\n",
    "pos_lda.print_topics()"
   ]
  },
  {
   "cell_type": "code",
   "execution_count": 52,
   "metadata": {},
   "outputs": [
    {
     "data": {
      "text/html": [
       "\n",
       "<link rel=\"stylesheet\" type=\"text/css\" href=\"https://cdn.rawgit.com/bmabey/pyLDAvis/files/ldavis.v1.0.0.css\">\n",
       "\n",
       "\n",
       "<div id=\"ldavis_el202881122615147286451009270\"></div>\n",
       "<script type=\"text/javascript\">\n",
       "\n",
       "var ldavis_el202881122615147286451009270_data = {\"mdsDat\": {\"x\": [-0.003818227023963182, -0.0065028618997943245, -0.03550211750175377, 0.008112766537531386, 0.037710439887979896], \"y\": [-0.025583248634942195, -0.008615658934385565, 0.024204800016442027, -0.01110662878010801, 0.021100736332993753], \"topics\": [1, 2, 3, 4, 5], \"cluster\": [1, 1, 1, 1, 1], \"Freq\": [32.47808074951172, 20.502622604370117, 17.87950325012207, 16.625574111938477, 12.514225959777832]}, \"tinfo\": {\"Category\": [\"Default\", \"Default\", \"Default\", \"Default\", \"Default\", \"Default\", \"Default\", \"Default\", \"Default\", \"Default\", \"Default\", \"Default\", \"Default\", \"Default\", \"Default\", \"Default\", \"Default\", \"Default\", \"Default\", \"Default\", \"Topic1\", \"Topic1\", \"Topic1\", \"Topic1\", \"Topic1\", \"Topic1\", \"Topic1\", \"Topic1\", \"Topic1\", \"Topic1\", \"Topic1\", \"Topic1\", \"Topic1\", \"Topic1\", \"Topic1\", \"Topic1\", \"Topic1\", \"Topic1\", \"Topic1\", \"Topic1\", \"Topic1\", \"Topic1\", \"Topic1\", \"Topic1\", \"Topic1\", \"Topic1\", \"Topic1\", \"Topic1\", \"Topic1\", \"Topic1\", \"Topic1\", \"Topic1\", \"Topic1\", \"Topic1\", \"Topic1\", \"Topic1\", \"Topic1\", \"Topic1\", \"Topic1\", \"Topic1\", \"Topic1\", \"Topic1\", \"Topic1\", \"Topic1\", \"Topic1\", \"Topic1\", \"Topic1\", \"Topic1\", \"Topic2\", \"Topic2\", \"Topic2\", \"Topic2\", \"Topic2\", \"Topic2\", \"Topic2\", \"Topic2\", \"Topic2\", \"Topic2\", \"Topic2\", \"Topic2\", \"Topic2\", \"Topic2\", \"Topic2\", \"Topic2\", \"Topic2\", \"Topic2\", \"Topic2\", \"Topic2\", \"Topic2\", \"Topic2\", \"Topic2\", \"Topic2\", \"Topic2\", \"Topic2\", \"Topic2\", \"Topic2\", \"Topic2\", \"Topic2\", \"Topic2\", \"Topic2\", \"Topic2\", \"Topic2\", \"Topic2\", \"Topic2\", \"Topic2\", \"Topic2\", \"Topic2\", \"Topic2\", \"Topic2\", \"Topic2\", \"Topic2\", \"Topic2\", \"Topic2\", \"Topic2\", \"Topic2\", \"Topic2\", \"Topic2\", \"Topic2\", \"Topic2\", \"Topic2\", \"Topic2\", \"Topic2\", \"Topic2\", \"Topic2\", \"Topic2\", \"Topic3\", \"Topic3\", \"Topic3\", \"Topic3\", \"Topic3\", \"Topic3\", \"Topic3\", \"Topic3\", \"Topic3\", \"Topic3\", \"Topic3\", \"Topic3\", \"Topic3\", \"Topic3\", \"Topic3\", \"Topic3\", \"Topic3\", \"Topic3\", \"Topic3\", \"Topic3\", \"Topic3\", \"Topic3\", \"Topic3\", \"Topic3\", \"Topic3\", \"Topic3\", \"Topic3\", \"Topic3\", \"Topic3\", \"Topic3\", \"Topic3\", \"Topic3\", \"Topic3\", \"Topic3\", \"Topic3\", \"Topic3\", \"Topic3\", \"Topic3\", \"Topic3\", \"Topic3\", \"Topic3\", \"Topic3\", \"Topic3\", \"Topic3\", \"Topic3\", \"Topic3\", \"Topic3\", \"Topic3\", \"Topic3\", \"Topic3\", \"Topic3\", \"Topic3\", \"Topic4\", \"Topic4\", \"Topic4\", \"Topic4\", \"Topic4\", \"Topic4\", \"Topic4\", \"Topic4\", \"Topic4\", \"Topic4\", \"Topic4\", \"Topic4\", \"Topic4\", \"Topic4\", \"Topic4\", \"Topic4\", \"Topic4\", \"Topic4\", \"Topic4\", \"Topic4\", \"Topic4\", \"Topic4\", \"Topic4\", \"Topic4\", \"Topic4\", \"Topic4\", \"Topic4\", \"Topic4\", \"Topic4\", \"Topic4\", \"Topic4\", \"Topic4\", \"Topic4\", \"Topic4\", \"Topic4\", \"Topic4\", \"Topic4\", \"Topic4\", \"Topic4\", \"Topic4\", \"Topic4\", \"Topic4\", \"Topic4\", \"Topic4\", \"Topic4\", \"Topic4\", \"Topic4\", \"Topic4\", \"Topic4\", \"Topic4\", \"Topic4\", \"Topic4\", \"Topic4\", \"Topic4\", \"Topic5\", \"Topic5\", \"Topic5\", \"Topic5\", \"Topic5\", \"Topic5\", \"Topic5\", \"Topic5\", \"Topic5\", \"Topic5\", \"Topic5\", \"Topic5\", \"Topic5\", \"Topic5\", \"Topic5\", \"Topic5\", \"Topic5\", \"Topic5\", \"Topic5\", \"Topic5\", \"Topic5\", \"Topic5\", \"Topic5\", \"Topic5\", \"Topic5\", \"Topic5\", \"Topic5\", \"Topic5\", \"Topic5\", \"Topic5\", \"Topic5\", \"Topic5\", \"Topic5\", \"Topic5\", \"Topic5\", \"Topic5\", \"Topic5\", \"Topic5\", \"Topic5\", \"Topic5\", \"Topic5\", \"Topic5\", \"Topic5\", \"Topic5\", \"Topic5\", \"Topic5\", \"Topic5\", \"Topic5\", \"Topic5\", \"Topic5\", \"Topic5\", \"Topic5\", \"Topic5\", \"Topic5\", \"Topic5\", \"Topic5\", \"Topic5\"], \"Freq\": [195.0, 146.0, 117.0, 220.0, 271.0, 111.0, 632.0, 168.0, 286.0, 77.0, 63.0, 1013.0, 113.0, 105.0, 125.0, 95.0, 256.0, 110.0, 62.0, 282.0, 2.1837735176086426, 2.182344436645508, 2.1819052696228027, 2.1813910007476807, 2.1803338527679443, 2.1667590141296387, 2.860024929046631, 30.407873153686523, 11.321072578430176, 4.947531223297119, 2.0539915561676025, 8.115230560302734, 2.719731092453003, 1.9780150651931763, 3.272719621658325, 3.1701929569244385, 2.516197443008423, 2.5113935470581055, 71.88765716552734, 2.4903814792633057, 4.977149963378906, 9.174178123474121, 50.582889556884766, 146.95855712890625, 56.90642547607422, 27.687862396240234, 221.93235778808594, 39.71833419799805, 418.52777099609375, 152.3190155029297, 195.60183715820312, 65.59976959228516, 19.34694480895996, 25.360431671142578, 61.96424865722656, 235.0196075439453, 75.2647705078125, 112.26624298095703, 83.88818359375, 82.64874267578125, 157.40341186523438, 86.96842193603516, 75.92860412597656, 94.47269439697266, 94.22265625, 72.67284393310547, 67.29095458984375, 65.21554565429688, 1.939077377319336, 1.8905030488967896, 1.7793415784835815, 1.7469069957733154, 1.7219164371490479, 3.987926721572876, 2.8681771755218506, 2.214409112930298, 1.6365177631378174, 2.055250883102417, 1.5266990661621094, 2.037149429321289, 2.0196433067321777, 2.9972095489501953, 3.9795684814453125, 4.013210773468018, 2.475506067276001, 9.816475868225098, 1.478641390800476, 1.4341939687728882, 3.3849027156829834, 7.617829322814941, 21.159183502197266, 207.80889892578125, 25.068269729614258, 90.67705535888672, 25.0224666595459, 16.197811126708984, 125.25808715820312, 38.9668083190918, 21.585044860839844, 16.372716903686523, 70.83480072021484, 14.256587028503418, 38.90486145019531, 18.831140518188477, 22.704103469848633, 20.518592834472656, 53.536197662353516, 32.01274871826172, 38.02721405029297, 31.885929107666016, 55.5078239440918, 135.385498046875, 32.96675109863281, 42.911590576171875, 26.112545013427734, 66.63504791259766, 33.09458541870117, 49.10038757324219, 38.98261260986328, 39.02147674560547, 32.87210464477539, 43.02587127685547, 45.84434509277344, 36.904544830322266, 34.92000961303711, 2.096163272857666, 4.449638843536377, 1.8024582862854004, 1.8104273080825806, 1.6628360748291016, 4.991612434387207, 7.1552886962890625, 1.5853679180145264, 7.431737422943115, 2.070653200149536, 1.5258736610412598, 31.478805541992188, 2.4819648265838623, 2.9569754600524902, 3.906076431274414, 1.470920205116272, 3.7790610790252686, 2.3397560119628906, 1.4014812707901, 1.3957009315490723, 4.668260097503662, 11.722582817077637, 49.28007507324219, 34.1814079284668, 21.074586868286133, 44.9031982421875, 23.733869552612305, 62.94557571411133, 7.995572566986084, 24.108341217041016, 23.809497833251953, 15.183993339538574, 10.399467468261719, 39.02791976928711, 65.3833236694336, 18.51127815246582, 33.13525390625, 196.49908447265625, 39.10523986816406, 24.282835006713867, 63.10044479370117, 86.93704223632812, 85.20689392089844, 102.4231948852539, 73.05224609375, 45.442901611328125, 52.12855529785156, 52.61893081665039, 47.44054412841797, 49.17380142211914, 36.66766357421875, 36.96495819091797, 3.459597587585449, 1.6474580764770508, 3.1662557125091553, 1.5781458616256714, 1.555962085723877, 1.5001566410064697, 2.005169153213501, 1.9736974239349365, 1.4770342111587524, 5.125342845916748, 18.159936904907227, 1.3984375, 27.81870460510254, 1.3800677061080933, 1.3665741682052612, 1.3289966583251953, 2.210449695587158, 1.3132481575012207, 1.7353127002716064, 1.291688084602356, 4.252993583679199, 86.34701538085938, 2.612215757369995, 17.73337173461914, 37.911190032958984, 7.8773603439331055, 22.359041213989258, 4.844301223754883, 36.85685729980469, 76.8388900756836, 19.496170043945312, 31.768692016601562, 23.358137130737305, 18.210710525512695, 40.967891693115234, 21.858274459838867, 16.042129516601562, 29.37554931640625, 20.129098892211914, 165.51315307617188, 33.49946975708008, 39.449337005615234, 81.39408874511719, 70.21847534179688, 43.5999641418457, 48.66726303100586, 32.80877685546875, 27.374187469482422, 44.77248001098633, 35.4127197265625, 50.12334442138672, 43.324459075927734, 36.494564056396484, 32.30268096923828, 12.431923866271973, 1.7172677516937256, 1.579858422279358, 2.0917747020721436, 1.5616754293441772, 1.549234390258789, 1.9319915771484375, 1.8961308002471924, 1.7934495210647583, 1.8314528465270996, 1.3617171049118042, 1.7798992395401, 2.201784372329712, 1.3288302421569824, 2.555560827255249, 2.114856004714966, 2.0850210189819336, 1.217104196548462, 1.2026894092559814, 1.1887787580490112, 4.322117328643799, 3.1617724895477295, 41.48552322387695, 46.4954833984375, 7.685688018798828, 13.58848762512207, 19.747695922851562, 54.8864631652832, 14.371685981750488, 9.536806106567383, 46.63961410522461, 11.500001907348633, 46.60966873168945, 20.280105590820312, 11.208534240722656, 18.00020408630371, 17.88491439819336, 17.095233917236328, 24.883148193359375, 12.199400901794434, 97.19671630859375, 23.491546630859375, 22.50037384033203, 43.049095153808594, 32.523895263671875, 35.81889724731445, 30.14464569091797, 28.533313751220703, 26.708311080932617, 34.983924865722656, 34.92557144165039, 36.77071762084961, 29.38288688659668, 36.652957916259766, 25.650436401367188, 28.68914031982422, 25.97783851623535], \"Term\": [\"love\", \"good\", \"famili_member\", \"highli_recommend\", \"know\", \"want_know\", \"test\", \"wait\", \"report\", \"wait_result\", \"great_deal\", \"result\", \"info\", \"gift\", \"expect\", \"easi_follow\", \"famili\", \"famili_histori\", \"look_forward\", \"great\", \"nonetheless\", \"specialist\", \"unabl\", \"delux\", \"exposur\", \"pleasant\", \"astound\", \"peac_mind\", \"peac\", \"outstand\", \"nerd\", \"lot_inform\", \"softwar\", \"suffer\", \"replac\", \"frame\", \"spous\", \"favor\", \"famili_histori\", \"add\", \"conveni\", \"choic\", \"famili_tree\", \"famili\", \"custom_servic\", \"parent\", \"inform\", \"histori\", \"result\", \"easi\", \"ancestri\", \"provid\", \"tree\", \"saliva_sampl\", \"took_week\", \"test\", \"time\", \"like\", \"week\", \"recommend\", \"health\", \"highli_recommend\", \"product\", \"genet\", \"report\", \"receiv\", \"andm\", \"realli\", \"fabul\", \"convers\", \"trip\", \"ancesteri\", \"coffe\", \"let_know\", \"demograph\", \"smaller\", \"boom\", \"happili\", \"grandpa\", \"stat\", \"strongli\", \"invest\", \"certainli\", \"let\", \"express\", \"advertis\", \"sadli\", \"extend\", \"drop\", \"activ\", \"sale\", \"test\", \"great_deal\", \"know\", \"definit_recommend\", \"genet_marker\", \"health\", \"info\", \"thank\", \"nice\", \"great\", \"mother\", \"process\", \"answer_question\", \"breast_cancer\", \"definit\", \"just\", \"use\", \"learn\", \"bought\", \"genet\", \"result\", \"expect\", \"realli\", \"health_risk\", \"ancestri\", \"purchas\", \"like\", \"product\", \"andm\", \"thing\", \"easi\", \"inform\", \"receiv\", \"recommend\", \"mirror\", \"total_worth\", \"repli\", \"attract\", \"amus\", \"worth_price\", \"earli\", \"infant\", \"today\", \"propens\", \"wrap\", \"look_forward\", \"cotton\", \"nervou\", \"program\", \"measur\", \"money_spent\", \"pay\", \"sanitari\", \"funni\", \"swab_insid\", \"forward\", \"want_know\", \"wait_result\", \"swab\", \"excit\", \"long_time\", \"wait\", \"mouth\", \"mail\", \"answer\", \"week_later\", \"label\", \"worth\", \"receiv\", \"clear\", \"gift\", \"result\", \"look\", \"super_easi\", \"great\", \"ancestri\", \"inform\", \"test\", \"health\", \"just\", \"like\", \"report\", \"know\", \"easi\", \"time\", \"andm\", \"gift_daughter\", \"consumpt\", \"yesterday\", \"perfectli\", \"tape\", \"outlook\", \"exceed\", \"luck\", \"author\", \"pretti_cool\", \"daughter\", \"game\", \"spit_tube\", \"bear\", \"exchang\", \"skimpi\", \"hypochondriac\", \"awhil\", \"hate\", \"throw\", \"messag\", \"love\", \"promptli\", \"hope\", \"easi_follow\", \"great_price\", \"work\", \"combin\", \"info\", \"report\", \"said\", \"gift\", \"super_easi\", \"worth_money\", \"good\", \"follow\", \"christma\", \"servic\", \"great_deal\", \"result\", \"expect\", \"want\", \"inform\", \"ancestri\", \"receiv\", \"great\", \"help\", \"price\", \"easi\", \"just\", \"test\", \"health\", \"like\", \"genet\", \"describ\", \"cyber\", \"eager\", \"enlighten\", \"settl\", \"hispan\", \"percent\", \"phenotyp\", \"vision\", \"blue\", \"agre\", \"monday\", \"disposit\", \"anim\", \"marri\", \"properli\", \"hear\", \"drank\", \"sperm\", \"donor\", \"babi\", \"weird\", \"famili_member\", \"good\", \"follow_instruct\", \"amazon_prime\", \"deal\", \"highli_recommend\", \"member\", \"profil\", \"genet\", \"arriv\", \"know\", \"nativ_american\", \"possibl\", \"diseas\", \"peopl\", \"question\", \"took_week\", \"european\", \"result\", \"expect\", \"took\", \"easi\", \"just\", \"famili\", \"week\", \"andm\", \"wait\", \"great\", \"report\", \"health\", \"like\", \"test\", \"realli\", \"inform\", \"ancestri\"], \"Total\": [195.0, 146.0, 117.0, 220.0, 271.0, 111.0, 632.0, 168.0, 286.0, 77.0, 63.0, 1013.0, 113.0, 105.0, 125.0, 95.0, 256.0, 110.0, 62.0, 282.0, 2.929745674133301, 2.9296767711639404, 2.9296207427978516, 2.929600238800049, 2.9295034408569336, 2.928117513656616, 3.881270170211792, 41.509761810302734, 15.470215797424316, 6.933067798614502, 2.9172582626342773, 11.581181526184082, 3.9095470905303955, 2.912569761276245, 4.8516154289245605, 4.819660186767578, 3.8482484817504883, 3.850717544555664, 110.26850891113281, 3.8797316551208496, 7.777528762817383, 14.470385551452637, 83.96015930175781, 256.448486328125, 95.97777557373047, 46.148738861083984, 463.06683349609375, 72.67208862304688, 1013.1222534179688, 332.34027099609375, 445.3702392578125, 132.72142028808594, 34.34492111206055, 47.07821273803711, 131.662841796875, 632.0280151367188, 170.8909912109375, 279.3726501464844, 197.7293701171875, 197.1670684814453, 435.8089294433594, 220.8471221923828, 185.57969665527344, 259.92633056640625, 286.6778259277344, 231.86073303222656, 188.3467559814453, 193.24111938476562, 2.8075804710388184, 2.799546718597412, 2.826432228088379, 2.8166637420654297, 2.818673849105835, 6.599200248718262, 4.758945941925049, 3.7269415855407715, 2.8246190547943115, 3.779128074645996, 2.832716941833496, 3.788933038711548, 3.779489755630493, 5.614151477813721, 7.524003028869629, 7.588612079620361, 4.733198642730713, 18.87545394897461, 2.8567609786987305, 2.783017158508301, 6.574702262878418, 16.022253036499023, 49.59850311279297, 632.0280151367188, 63.475135803222656, 271.3356628417969, 64.16273498535156, 40.372684478759766, 435.8089294433594, 113.66104888916016, 57.66062927246094, 43.205482482910156, 282.08551025390625, 38.166351318359375, 138.3242950439453, 54.62171936035156, 69.58049011230469, 61.17469024658203, 215.82884216308594, 110.6634521484375, 145.78244018554688, 115.07451629638672, 259.92633056640625, 1013.1222534179688, 125.86036682128906, 193.24111938476562, 89.70018005371094, 445.3702392578125, 134.94989013671875, 279.3726501464844, 185.57969665527344, 188.3467559814453, 137.00274658203125, 332.34027099609375, 463.06683349609375, 231.86073303222656, 197.1670684814453, 3.0019404888153076, 6.897399425506592, 2.9823014736175537, 2.9982993602752686, 2.934410572052002, 8.967361450195312, 12.855328559875488, 2.9736695289611816, 13.94841194152832, 3.9942479133605957, 2.9501852989196777, 62.158058166503906, 4.934686660766602, 5.887178421020508, 7.819077968597412, 2.949861526489258, 7.792616844177246, 4.872784614562988, 2.9319722652435303, 2.9322903156280518, 9.83383560180664, 25.236751556396484, 111.10684967041016, 77.47218322753906, 48.881324768066406, 111.9974594116211, 57.428924560546875, 168.29397583007812, 17.75741958618164, 62.24898147583008, 62.56222152709961, 37.965965270996094, 24.54206657409668, 117.23387145996094, 231.86073303222656, 49.95381546020508, 105.20568084716797, 1013.1222534179688, 132.01797485351562, 72.75782012939453, 282.08551025390625, 445.3702392578125, 463.06683349609375, 632.0280151367188, 435.8089294433594, 215.82884216308594, 279.3726501464844, 286.6778259277344, 271.3356628417969, 332.34027099609375, 170.8909912109375, 188.3467559814453, 5.46868371963501, 2.7885031700134277, 5.511608123779297, 2.7527084350585938, 2.769441843032837, 2.751417636871338, 3.7116308212280273, 3.6770286560058594, 2.7539474964141846, 10.015544891357422, 36.04473876953125, 2.8030903339385986, 56.09054946899414, 2.7889809608459473, 2.792656660079956, 2.7628915309906006, 4.64937162399292, 2.8080966472625732, 3.760622978210449, 2.7996022701263428, 9.233003616333008, 195.65057373046875, 5.738412380218506, 43.04964065551758, 95.91747283935547, 18.788673400878906, 60.7449951171875, 11.211986541748047, 113.66104888916016, 286.6778259277344, 57.73052215576172, 105.20568084716797, 72.75782012939453, 54.403465270996094, 146.7548828125, 69.02970123291016, 47.11927795410156, 99.5130386352539, 63.475135803222656, 1013.1222534179688, 125.86036682128906, 158.3014678955078, 463.06683349609375, 445.3702392578125, 231.86073303222656, 282.08551025390625, 146.33285522460938, 110.3420181274414, 332.34027099609375, 215.82884216308594, 632.0280151367188, 435.8089294433594, 279.3726501464844, 259.92633056640625, 16.937162399291992, 2.680767059326172, 2.72042179107666, 3.610140323638916, 2.7124714851379395, 2.703132152557373, 3.6538453102111816, 3.683762550354004, 3.6078038215637207, 3.697610855102539, 2.7509937286376953, 3.5973081588745117, 4.505392551422119, 2.736125946044922, 5.387678146362305, 4.555863857269287, 4.567160129547119, 2.7399096488952637, 2.730778694152832, 2.7254981994628906, 10.178375244140625, 7.416440010070801, 117.58724975585938, 146.7548828125, 20.356727600097656, 40.045310974121094, 62.57040786743164, 220.8471221923828, 48.324337005615234, 29.116304397583008, 259.92633056640625, 40.916297912597656, 271.3356628417969, 91.15411376953125, 41.12003707885742, 80.23870086669922, 79.83998107910156, 75.24987030029297, 131.662841796875, 47.50173568725586, 1013.1222534179688, 125.86036682128906, 118.26397705078125, 332.34027099609375, 215.82884216308594, 256.448486328125, 197.7293701171875, 188.3467559814453, 168.29397583007812, 282.08551025390625, 286.6778259277344, 435.8089294433594, 279.3726501464844, 632.0280151367188, 193.24111938476562, 463.06683349609375, 445.3702392578125], \"loglift\": [20.0, 19.0, 18.0, 17.0, 16.0, 15.0, 14.0, 13.0, 12.0, 11.0, 10.0, 9.0, 8.0, 7.0, 6.0, 5.0, 4.0, 3.0, 2.0, 1.0, 0.8306999802589417, 0.8300999999046326, 0.8299000263214111, 0.8296999931335449, 0.829200029373169, 0.8234999775886536, 0.8192999958992004, 0.8133999705314636, 0.8123999834060669, 0.7871999740600586, 0.7736999988555908, 0.7689999938011169, 0.7616999745368958, 0.7376999855041504, 0.73089998960495, 0.7056999802589417, 0.6996999979019165, 0.6972000002861023, 0.6967999935150146, 0.6812999844551086, 0.6782000064849854, 0.6689000129699707, 0.617900013923645, 0.567799985408783, 0.6018999814987183, 0.6136999726295471, 0.38909998536109924, 0.5205000042915344, 0.24060000479221344, 0.34439998865127563, 0.301800012588501, 0.41990000009536743, 0.5507000088691711, 0.5059999823570251, 0.3709000051021576, 0.13529999554157257, 0.3046000003814697, 0.21289999783039093, 0.2671999931335449, 0.25519999861717224, 0.10620000213384628, 0.19269999861717224, 0.23090000450611115, 0.11249999701976776, 0.011900000274181366, -0.035599999129772186, 0.09529999643564224, 0.03840000182390213, 1.2144999504089355, 1.1920000314712524, 1.1217999458312988, 1.1068999767303467, 1.0917999744415283, 1.080899953842163, 1.0782999992370605, 1.0640000104904175, 1.0388000011444092, 0.9754999876022339, 0.9664999842643738, 0.9641000032424927, 0.9578999876976013, 0.9570000171661377, 0.947700023651123, 0.9476000070571899, 0.9365000128746033, 0.9308000206947327, 0.9261000156402588, 0.9217000007629395, 0.9207000136375427, 0.8410999774932861, 0.732699990272522, 0.4722999930381775, 0.6556000113487244, 0.4885999858379364, 0.6430000066757202, 0.6712999939918518, 0.337799996137619, 0.5141000151634216, 0.6019999980926514, 0.614300012588501, 0.20280000567436218, 0.5999000072479248, 0.31610000133514404, 0.5196999907493591, 0.46470001339912415, 0.49219998717308044, 0.19050000607967377, 0.3443000018596649, 0.24079999327659607, 0.3012000024318695, 0.040699999779462814, -0.42800000309944153, 0.24490000307559967, 0.07980000227689743, 0.350600004196167, -0.3151000142097473, 0.17910000681877136, -0.15410000085830688, 0.02419999986886978, 0.010400000028312206, 0.15719999372959137, -0.45969998836517334, -0.7279999852180481, -0.2531999945640564, -0.14640000462532043, 1.3624000549316406, 1.2832000255584717, 1.218000054359436, 1.2170000076293945, 1.153499960899353, 1.135699987411499, 1.135599970817566, 1.0924999713897705, 1.0918999910354614, 1.0644999742507935, 1.0621999502182007, 1.041100025177002, 1.0342999696731567, 1.0328999757766724, 1.027500033378601, 1.0255999565124512, 0.9977999925613403, 0.9879000186920166, 0.9833999872207642, 0.9790999889373779, 0.9764999747276306, 0.9546999931335449, 0.9085000157356262, 0.9032999873161316, 0.8802000284194946, 0.8075000047683716, 0.8378999829292297, 0.738099992275238, 0.9236000180244446, 0.7728999853134155, 0.7554000020027161, 0.8051000237464905, 0.8629000186920166, 0.6215999722480774, 0.45559999346733093, 0.7287999987602234, 0.5662000179290771, 0.08139999955892563, 0.504800021648407, 0.6241000294685364, 0.2240000069141388, 0.08780000358819962, 0.028699999675154686, -0.09830000251531601, -0.06449999660253525, 0.16349999606609344, 0.04270000010728836, 0.026200000196695328, -0.02239999920129776, -0.18930000066757202, 0.18240000307559967, 0.09319999814033508, 1.336300015449524, 1.2680000066757202, 1.23989999294281, 1.2379000186920166, 1.2177000045776367, 1.1877000331878662, 1.1785000562667847, 1.1720000505447388, 1.1712000370025635, 1.1243000030517578, 1.1087000370025635, 1.0988999605178833, 1.093000054359436, 1.0907000303268433, 1.0794999599456787, 1.062399983406067, 1.0506999492645264, 1.0341999530792236, 1.020799994468689, 1.0206999778747559, 1.0190999507904053, 0.9763000011444092, 1.007200002670288, 0.9072999954223633, 0.8659999966621399, 0.925000011920929, 0.7947999835014343, 0.9549999833106995, 0.6679999828338623, 0.47760000824928284, 0.7087000012397766, 0.5968000292778015, 0.6579999923706055, 0.6998000144958496, 0.5182999968528748, 0.6442999839782715, 0.7167999744415283, 0.5741000175476074, 0.6456999778747559, -0.017500000074505806, 0.4706000089645386, 0.40470001101493835, 0.05570000037550926, -0.05310000106692314, 0.12309999763965607, 0.03700000047683716, 0.29899999499320984, 0.4002000093460083, -0.2102999985218048, -0.013199999928474426, -0.7401999831199646, -0.5142999887466431, -0.24120000004768372, -0.29100000858306885, 1.7690999507904053, 1.6328999996185303, 1.5348999500274658, 1.5326000452041626, 1.5262000560760498, 1.5217000246047974, 1.441100001335144, 1.414199948310852, 1.3792999982833862, 1.3756999969482422, 1.375100016593933, 1.3746999502182007, 1.3623000383377075, 1.3560999631881714, 1.3324999809265137, 1.3108999729156494, 1.2941999435424805, 1.2668999433517456, 1.2582999467849731, 1.2486000061035156, 1.2217999696731567, 1.2257000207901, 1.0364999771118164, 0.9289000034332275, 1.1043000221252441, 0.9975000023841858, 0.925000011920929, 0.6861000061035156, 0.8655999898910522, 0.9621999859809875, 0.36039999127388, 0.8090999722480774, 0.31679999828338623, 0.5753999948501587, 0.7785000205039978, 0.5837000012397766, 0.5821999907493591, 0.5963000059127808, 0.4122999906539917, 0.7189000248908997, -0.26579999923706055, 0.39980000257492065, 0.4189000129699707, 0.03449999913573265, 0.1858000010251999, 0.10989999771118164, 0.19740000367164612, 0.19110000133514404, 0.23759999871253967, -0.008999999612569809, -0.026799999177455902, -0.39419999718666077, -0.1738000065088272, -0.76910001039505, 0.05889999866485596, -0.703000009059906, -0.7634000182151794], \"logprob\": [20.0, 19.0, 18.0, 17.0, 16.0, 15.0, 14.0, 13.0, 12.0, 11.0, 10.0, 9.0, 8.0, 7.0, 6.0, 5.0, 4.0, 3.0, 2.0, 1.0, -8.485699653625488, -8.48639965057373, -8.486599922180176, -8.486800193786621, -8.487299919128418, -8.493599891662598, -8.215999603271484, -5.852099895477295, -6.840099811553955, -7.667900085449219, -8.54699993133545, -7.172999858856201, -8.266300201416016, -8.584699630737305, -8.081199645996094, -8.11299991607666, -8.343999862670898, -8.34589958190918, -4.991700172424316, -8.354399681091309, -7.661900043487549, -7.0503997802734375, -5.343200206756592, -4.276599884033203, -5.225399971008301, -5.945799827575684, -3.8643999099731445, -5.585000038146973, -3.2300000190734863, -4.240799903869629, -3.9907000064849854, -5.083199977874756, -6.304299831390381, -6.033599853515625, -5.140200138092041, -3.8071000576019287, -4.945799827575684, -4.545899868011475, -4.837299823760986, -4.852200031280518, -4.208000183105469, -4.801199913024902, -4.936999797821045, -4.718500137329102, -4.721099853515625, -4.980800151824951, -5.057799816131592, -5.089099884033203, -8.144599914550781, -8.169899940490723, -8.230500221252441, -8.248900413513184, -8.263299942016602, -7.423500061035156, -7.7530999183654785, -8.011799812316895, -8.314200401306152, -8.086400032043457, -8.383700370788574, -8.095199584960938, -8.103899955749512, -7.709099769592285, -7.425600051879883, -7.417200088500977, -7.900300025939941, -6.52269983291626, -8.41569995880127, -8.446200370788574, -7.587399959564209, -6.776299953460693, -5.754700183868408, -3.4702000617980957, -5.58519983291626, -4.299499988555908, -5.586999893188477, -6.021900177001953, -3.9763998985290527, -5.144100189208984, -5.734799861907959, -6.011199951171875, -4.54640007019043, -6.149600028991699, -5.145699977874756, -5.871300220489502, -5.684199810028076, -5.785399913787842, -4.826399803161621, -5.34060001373291, -5.168499946594238, -5.344600200653076, -4.790299892425537, -3.8986001014709473, -5.311299800872803, -5.047599792480469, -5.544400215148926, -4.607500076293945, -5.307400226593018, -4.912899971008301, -5.143700122833252, -5.1427001953125, -5.314199924468994, -5.045000076293945, -4.981500148773193, -5.198400020599365, -5.253699779510498, -7.929800033569336, -7.17710018157959, -8.080699920654297, -8.076299667358398, -8.161399841308594, -7.062099933624268, -6.702000141143799, -8.209099769592285, -6.664100170135498, -7.941999912261963, -8.247300148010254, -5.220600128173828, -7.760799884796143, -7.585700035095215, -7.307300090789795, -8.284000396728516, -7.340400218963623, -7.819799900054932, -8.332300186157227, -8.33650016784668, -7.1290998458862305, -6.208399772644043, -4.77239990234375, -5.138199806213379, -5.621799945831299, -4.8653998374938965, -5.502999782562256, -4.527599811553955, -6.591000080108643, -5.487299919128418, -5.499800205230713, -5.9496002197265625, -6.328100204467773, -5.0055999755859375, -4.48960018157959, -5.751500129699707, -5.169300079345703, -3.38919997215271, -5.003600120544434, -5.480100154876709, -4.525100231170654, -4.204699993133545, -4.224800109863281, -4.040800094604492, -4.378699779510498, -4.853400230407715, -4.71619987487793, -4.7067999839782715, -4.810400009155273, -4.774499893188477, -5.067999839782715, -5.059899806976318, -7.355999946594238, -8.097900390625, -7.4446001052856445, -8.140899658203125, -8.155099868774414, -8.19159984588623, -7.901400089263916, -7.917300224304199, -8.207099914550781, -6.9629998207092285, -5.69789981842041, -8.261799812316895, -5.271500110626221, -8.274999618530273, -8.284899711608887, -8.312700271606445, -7.803999900817871, -8.324700355529785, -8.045999526977539, -8.34119987487793, -7.149499893188477, -4.138800144195557, -7.63700008392334, -5.721700191497803, -4.961900234222412, -6.533199787139893, -5.4899001121521, -7.019400119781494, -4.990099906921387, -4.255499839782715, -5.6269001960754395, -5.138700008392334, -5.446199893951416, -5.695199966430664, -4.884399890899658, -5.512599945068359, -5.821899890899658, -5.2170000076293945, -5.59499979019165, -3.488100051879883, -5.085599899291992, -4.922100067138672, -4.19789981842041, -4.345600128173828, -4.8221001625061035, -4.712200164794922, -5.106500148773193, -5.287600040435791, -4.795599937438965, -5.030099868774414, -4.682700157165527, -4.828400135040283, -5.0, -5.122000217437744, -5.792799949645996, -7.77239990234375, -7.855800151824951, -7.575099945068359, -7.867300033569336, -7.87529993057251, -7.6545000076293945, -7.673299789428711, -7.728899955749512, -7.708000183105469, -8.004300117492676, -7.736499786376953, -7.523799896240234, -8.028800010681152, -7.374800205230713, -7.5640997886657715, -7.5782999992370605, -8.116600036621094, -8.128499984741211, -8.140199661254883, -6.849299907684326, -7.1620001792907715, -4.587699890136719, -4.473700046539307, -6.27370023727417, -5.70389986038208, -5.330100059509277, -4.307799816131592, -5.647799968719482, -6.0578999519348145, -4.470600128173828, -5.870699882507324, -4.47130012512207, -5.303400039672852, -5.896399974822998, -5.422699928283691, -5.429100036621094, -5.474299907684326, -5.098899841308594, -5.811699867248535, -3.7363998889923096, -5.156400203704834, -5.1996002197265625, -4.5507001876831055, -4.831099987030029, -4.734600067138672, -4.907100200653076, -4.961999893188477, -5.02810001373291, -4.758200168609619, -4.759900093078613, -4.708399772644043, -4.932700157165527, -4.711599826812744, -5.06850004196167, -4.956600189208984, -5.055799961090088]}, \"token.table\": {\"Topic\": [1, 2, 3, 4, 5, 1, 1, 2, 3, 4, 5, 3, 5, 1, 2, 3, 4, 5, 3, 1, 2, 1, 2, 3, 4, 5, 1, 2, 3, 4, 5, 1, 5, 1, 2, 3, 4, 5, 1, 2, 3, 4, 5, 1, 2, 3, 4, 5, 1, 1, 3, 4, 1, 4, 1, 2, 3, 5, 4, 3, 5, 1, 2, 1, 2, 3, 4, 5, 1, 2, 3, 4, 5, 1, 2, 3, 5, 1, 2, 3, 4, 5, 1, 2, 3, 4, 5, 1, 2, 3, 4, 5, 1, 2, 1, 2, 3, 4, 5, 3, 4, 1, 2, 3, 4, 2, 1, 2, 3, 1, 2, 3, 4, 5, 5, 1, 2, 3, 4, 5, 1, 2, 3, 4, 5, 1, 2, 3, 4, 5, 1, 2, 3, 4, 5, 1, 2, 3, 1, 2, 3, 5, 1, 2, 3, 4, 5, 2, 4, 5, 4, 5, 5, 1, 2, 4, 5, 1, 2, 3, 4, 5, 1, 2, 3, 4, 5, 1, 2, 3, 4, 5, 3, 4, 5, 1, 2, 3, 4, 5, 1, 4, 1, 4, 1, 2, 3, 4, 5, 1, 2, 3, 4, 5, 1, 1, 2, 3, 2, 4, 2, 1, 2, 3, 4, 5, 1, 2, 3, 4, 5, 1, 2, 3, 4, 5, 1, 2, 3, 4, 5, 1, 5, 1, 2, 3, 4, 5, 1, 2, 3, 4, 5, 1, 2, 3, 4, 5, 1, 4, 1, 3, 1, 4, 1, 2, 3, 4, 5, 1, 2, 3, 4, 5, 1, 2, 3, 4, 5, 2, 4, 1, 2, 3, 4, 5, 1, 2, 1, 2, 3, 4, 5, 1, 2, 4, 5, 2, 3, 4, 5, 1, 2, 1, 4, 1, 2, 3, 4, 5, 1, 2, 3, 4, 5, 1, 2, 3, 4, 5, 1, 2, 3, 4, 5, 1, 2, 3, 4, 5, 5, 1, 2, 3, 4, 5, 1, 2, 3, 4, 5, 1, 2, 3, 4, 1, 3, 1, 2, 3, 4, 5, 1, 2, 3, 4, 5, 2, 3, 5, 1, 2, 3, 4, 5, 1, 2, 3, 4, 5, 1, 2, 3, 4, 5, 1, 2, 3, 4, 5, 1, 2, 3, 4, 1, 2, 3, 4, 1, 2, 3, 4, 5, 1, 2, 3, 4, 5, 1, 2, 3, 4, 5, 1, 2, 3, 4, 5, 1, 2, 4, 5, 1, 2, 3, 4, 5, 2, 4, 1, 2, 3, 4, 5, 1, 4, 5, 1, 3, 1, 2, 3, 4, 5, 1, 2, 3, 4, 5, 3, 2, 4, 5, 1, 2, 3, 4, 5, 1, 2, 3, 4, 5, 1, 2, 3, 4, 5, 1, 2, 3, 4, 5, 1, 1, 2, 3, 4, 1, 2, 3, 4, 5, 1, 4, 1, 3, 1, 2, 3, 4, 5, 1, 2, 3, 4, 1, 2, 3, 5, 1, 2, 3, 4, 5, 1, 2, 3, 4, 5, 1, 5, 4, 1, 3, 5, 1, 1, 2, 3, 4, 5, 1, 2, 4, 5, 1, 2, 3, 4, 5, 1, 2, 3, 4, 5, 1, 2, 3, 4, 5, 1, 2, 3, 4, 5, 1, 2, 3, 4, 3, 4, 1, 3, 1, 2, 5, 1, 2, 3, 4, 5, 1, 2, 3, 4, 5, 1, 2, 3, 4, 5, 1, 2, 3, 4, 5, 1, 2, 3, 4, 5, 1, 2, 3, 4, 5, 1, 3, 1, 2, 3, 4, 5, 1, 2, 3, 4, 5, 2, 3, 1, 2, 3, 4, 5, 1, 2, 3, 4, 5, 1, 2, 3, 4, 5, 3, 1, 2, 3, 4, 5, 5, 4, 2, 1, 1, 1, 4, 5, 1, 2, 3, 4, 5, 1, 5, 1, 2, 1, 2, 1, 1, 2, 3, 4, 5, 1, 2, 3, 4, 5, 1, 2, 3, 4, 4, 1, 2, 3, 4, 5, 1, 2, 3, 4, 5, 1, 2, 3, 4, 5, 1, 4, 1, 2, 3, 4, 5, 1, 2, 3, 4, 1, 2, 3, 4, 5, 1, 2, 3, 4, 5, 2, 3, 5, 1, 2, 3, 4, 5, 2, 1, 1, 2, 3, 4, 5, 2, 5, 1, 2, 3, 4, 5, 1, 2, 3, 4, 5, 1, 2, 3, 4, 5, 1, 2, 3, 4, 5, 1, 2, 3, 4, 5, 1, 2, 3, 4, 5, 1, 3, 5, 1, 2, 3, 4, 5, 1, 2, 3, 4, 5, 1, 2, 3, 4, 5, 1, 2, 3, 5, 2, 3, 1, 3, 4, 5], \"Freq\": [0.18723958730697632, 0.4993055462837219, 0.12482638657093048, 0.18723958730697632, 0.06241319328546524, 0.5154995918273926, 0.21191543340682983, 0.5297885537147522, 0.15893657505512238, 0.05297885835170746, 0.10595771670341492, 0.3635050058364868, 0.3635050058364868, 0.1748019903898239, 0.09988684952259064, 0.22474540770053864, 0.1748019903898239, 0.3496039807796478, 0.681567907333374, 0.3550299406051636, 0.7100598812103271, 0.4400832951068878, 0.1504366397857666, 0.19534309208393097, 0.15717260539531708, 0.058378394693136215, 0.35572686791419983, 0.20706488192081451, 0.19644618034362793, 0.09025905281305313, 0.153971329331398, 0.3654802441596985, 0.3654802441596985, 0.17582495510578156, 0.17582495510578156, 0.3836180865764618, 0.12787269055843353, 0.15984086692333221, 0.14646188914775848, 0.34784698486328125, 0.21969282627105713, 0.14646188914775848, 0.14646188914775848, 0.26884153485298157, 0.12220069766044617, 0.12220069766044617, 0.19552111625671387, 0.2932816743850708, 0.772942841053009, 0.33352240920066833, 0.6670448184013367, 0.363115131855011, 0.35611310601234436, 0.35611310601234436, 0.09824750572443008, 0.19649501144886017, 0.19649501144886017, 0.39299002289772034, 0.3585538864135742, 0.2704448997974396, 0.5408897995948792, 0.354030042886734, 0.708060085773468, 0.2172505259513855, 0.27808067202568054, 0.13904033601284027, 0.19118046760559082, 0.18249045312404633, 0.37366795539855957, 0.33055242896080017, 0.10060290992259979, 0.15809029340744019, 0.043115533888339996, 0.13290797173976898, 0.5316318869590759, 0.13290797173976898, 0.13290797173976898, 0.621959924697876, 0.13821332156658173, 0.06910666078329086, 0.13821332156658173, 0.06910666078329086, 0.2546728253364563, 0.19100461900234222, 0.14855915307998657, 0.33956378698349, 0.06366820633411407, 0.3403143584728241, 0.10009245574474335, 0.38035133481025696, 0.1401294320821762, 0.04003698006272316, 0.3547767698764801, 0.7095535397529602, 0.2675707936286926, 0.17838051915168762, 0.08919025957584381, 0.44595131278038025, 0.08919025957584381, 0.35861533880233765, 0.7172306776046753, 0.6428776979446411, 0.12857554852962494, 0.12857554852962494, 0.12857554852962494, 0.714401364326477, 0.2026471048593521, 0.2026471048593521, 0.4052942097187042, 0.5938875079154968, 0.06251446902751923, 0.07293355464935303, 0.15628618001937866, 0.10419078916311264, 0.7460551261901855, 0.11097320169210434, 0.3051762878894806, 0.05548660084605217, 0.49937939643859863, 0.027743300423026085, 0.15981996059417725, 0.19178394973278046, 0.11187396943569183, 0.22374793887138367, 0.3196399211883545, 0.3432792127132416, 0.3432792127132416, 0.16346628963947296, 0.06538651883602142, 0.09807977825403214, 0.4519757330417633, 0.38963425159454346, 0.06234148144721985, 0.06234148144721985, 0.031170740723609924, 0.682686984539032, 0.6303917169570923, 0.21013057231903076, 0.11808353662490845, 0.059041768312454224, 0.11808353662490845, 0.7085012197494507, 0.22433064877986908, 0.26171910762786865, 0.12462814152240753, 0.1620165854692459, 0.22433064877986908, 0.22195623815059662, 0.22195623815059662, 0.44391247630119324, 0.3669053912162781, 0.3669053912162781, 0.36497554183006287, 0.152098149061203, 0.4562944173812866, 0.152098149061203, 0.735180139541626, 0.15557751059532166, 0.15557751059532166, 0.5445212721824646, 0.07778875529766083, 0.07778875529766083, 0.457362562417984, 0.12938545644283295, 0.14743925631046295, 0.13540339469909668, 0.12938545644283295, 0.3231945037841797, 0.1146819218993187, 0.0521281473338604, 0.396173894405365, 0.1146819218993187, 0.27699753642082214, 0.27699753642082214, 0.5539950728416443, 0.33682981133461, 0.18946675956249237, 0.06315558403730392, 0.168414905667305, 0.2526223361492157, 0.26942333579063416, 0.5388466715812683, 0.35808196663856506, 0.35808196663856506, 0.2142905741930008, 0.1696467101573944, 0.40179482102394104, 0.17857548594474792, 0.035715095698833466, 0.222468763589859, 0.26219531893730164, 0.05561719089746475, 0.26219531893730164, 0.1827421933412552, 0.6827095746994019, 0.21127361059188843, 0.42254722118377686, 0.21127361059188843, 0.3593222498893738, 0.3593222498893738, 0.7123571634292603, 0.5732145309448242, 0.09748546779155731, 0.07018953561782837, 0.12088197469711304, 0.14037907123565674, 0.6529515981674194, 0.063481405377388, 0.01813754439353943, 0.21765053272247314, 0.063481405377388, 0.3316686153411865, 0.12756484746932983, 0.0680345892906189, 0.11906053125858307, 0.34867724776268005, 0.6074309349060059, 0.09528328478336334, 0.023820821195840836, 0.1429249346256256, 0.13101452589035034, 0.779075562953949, 0.25969186425209045, 0.34767642617225647, 0.08691910654306412, 0.14486518502235413, 0.31870338320732117, 0.11589214205741882, 0.14737142622470856, 0.14737142622470856, 0.19649523496627808, 0.14737142622470856, 0.39299046993255615, 0.11887425184249878, 0.1981237530708313, 0.4754970073699951, 0.03962475061416626, 0.15849900245666504, 0.6224505305290222, 0.20748350024223328, 0.3410303592681885, 0.3410303592681885, 0.35674911737442017, 0.35674911737442017, 0.36164093017578125, 0.21544566750526428, 0.11926456540822983, 0.12311180680990219, 0.18082046508789062, 0.2724614441394806, 0.3963075578212738, 0.07430766522884369, 0.09907688945531845, 0.14861533045768738, 0.1425778567790985, 0.09505189955234528, 0.3136712610721588, 0.3041660785675049, 0.1425778567790985, 0.1828593611717224, 0.5485780835151672, 0.1771661639213562, 0.12265349924564362, 0.09539716690778732, 0.27937743067741394, 0.31344783306121826, 0.35301798582077026, 0.7060359716415405, 0.22688156366348267, 0.25169673562049866, 0.22333653271198273, 0.17370618879795074, 0.12407585233449936, 0.06301680207252502, 0.3938550055027008, 0.3150840103626251, 0.22055880725383759, 0.05322355404496193, 0.3725648820400238, 0.42578843235969543, 0.1596706658601761, 0.26461130380630493, 0.5292226076126099, 0.2659133970737457, 0.5318267941474915, 0.3602496087551117, 0.28682294487953186, 0.16750459372997284, 0.09866709262132645, 0.08489958941936493, 0.30100274085998535, 0.289854496717453, 0.20066849887371063, 0.06688949465751648, 0.1449272483587265, 0.2189544439315796, 0.2189544439315796, 0.2189544439315796, 0.2189544439315796, 0.4379088878631592, 0.2870168685913086, 0.2255132645368576, 0.10933976620435715, 0.2255132645368576, 0.1571759134531021, 0.3939376771450043, 0.1267845332622528, 0.09961642324924469, 0.1313125491142273, 0.24904105067253113, 0.7398824095726013, 0.5504176616668701, 0.0825626477599144, 0.0825626477599144, 0.17888572812080383, 0.1238439679145813, 0.20906098186969757, 0.1393739879131317, 0.1626029759645462, 0.41812196373939514, 0.09291598945856094, 0.2150828242301941, 0.2150828242301941, 0.2150828242301941, 0.4301656484603882, 0.3362848460674286, 0.6725696921348572, 0.14076942205429077, 0.34312546253204346, 0.07038471102714539, 0.3255292773246765, 0.12317324429750443, 0.4794124364852905, 0.09933771193027496, 0.18355882167816162, 0.17492075264453888, 0.062625952064991, 0.5343639254570007, 0.17812131345272064, 0.17812131345272064, 0.22703175246715546, 0.25019824504852295, 0.20849855244159698, 0.1621655374765396, 0.15289893746376038, 0.21007190644741058, 0.335377961397171, 0.17321719229221344, 0.10687869042158127, 0.17321719229221344, 0.2852245569229126, 0.08149272948503494, 0.4074636399745941, 0.16298545897006989, 0.04074636474251747, 0.30867916345596313, 0.26066240668296814, 0.13719072937965393, 0.17834796011447906, 0.11661212146282196, 0.26355281472206116, 0.5271056294441223, 0.13177640736103058, 0.13177640736103058, 0.15153351426124573, 0.6061340570449829, 0.15153351426124573, 0.15153351426124573, 0.4008982181549072, 0.1753929704427719, 0.1861313134431839, 0.12886014580726624, 0.10380400717258453, 0.4004950523376465, 0.034825656563043594, 0.41790786385536194, 0.10447696596384048, 0.05223848298192024, 0.212092325091362, 0.20451760292053223, 0.2954143285751343, 0.15149451792240143, 0.12877033650875092, 0.09652811288833618, 0.1608801931142807, 0.49872857332229614, 0.06435207277536392, 0.17696820199489594, 0.6907758116722107, 0.08634697645902634, 0.08634697645902634, 0.08634697645902634, 0.3015580177307129, 0.11244536191225052, 0.11244536191225052, 0.4395591616630554, 0.035778071731328964, 0.27195870876312256, 0.5439174175262451, 0.2409677952528, 0.14458067715168, 0.38554847240448, 0.17670971155166626, 0.06425807625055313, 0.18560871481895447, 0.37121742963790894, 0.556826114654541, 0.3389989733695984, 0.3389989733695984, 0.3310961127281189, 0.18624156713485718, 0.06208052113652229, 0.12416104227304459, 0.28970909118652344, 0.1083071157336235, 0.216614231467247, 0.1083071157336235, 0.433228462934494, 0.1083071157336235, 0.6662357449531555, 0.2779856324195862, 0.2779856324195862, 0.5559712648391724, 0.12832659482955933, 0.12832659482955933, 0.5133063793182373, 0.25665318965911865, 0.12832659482955933, 0.2620109021663666, 0.3668152689933777, 0.18340763449668884, 0.10480435937643051, 0.07860326766967773, 0.2815724313259125, 0.16894346475601196, 0.45051589608192444, 0.056314487010240555, 0.056314487010240555, 0.4168764054775238, 0.2632903754711151, 0.04388172924518585, 0.05485215783119202, 0.21940863132476807, 0.6855752468109131, 0.16986066102981567, 0.16986066102981567, 0.509581983089447, 0.16986066102981567, 0.20830689370632172, 0.3703233599662781, 0.13887126743793488, 0.16201648116111755, 0.1157260537147522, 0.6826531291007996, 0.7268980145454407, 0.7211814522743225, 0.14423629641532898, 0.6067337989807129, 0.2383597046136856, 0.021669063717126846, 0.06500719487667084, 0.06500719487667084, 0.20522145926952362, 0.20522145926952362, 0.41044291853904724, 0.20522145926952362, 0.7110437154769897, 0.0646403357386589, 0.0646403357386589, 0.1292806714773178, 0.7227215766906738, 0.0722721591591835, 0.0240907184779644, 0.0240907184779644, 0.144544318318367, 0.2880762219429016, 0.2505010664463043, 0.050100211054086685, 0.18787579238414764, 0.22545094788074493, 0.2736842632293701, 0.5473685264587402, 0.7265571355819702, 0.2714615762233734, 0.2714615762233734, 0.5429231524467468, 0.6830326914787292, 0.2431904375553131, 0.14591427147388458, 0.17023330926895142, 0.17023330926895142, 0.26750949025154114, 0.099844790995121, 0.2995343804359436, 0.4992239475250244, 0.099844790995121, 0.12687823176383972, 0.19031734764575958, 0.27188190817832947, 0.24469372630119324, 0.16312915086746216, 0.2819461226463318, 0.2819461226463318, 0.2457991987466812, 0.1084408238530159, 0.08675265312194824, 0.40952757000923157, 0.2101522982120514, 0.14549005031585693, 0.14549005031585693, 0.09160485118627548, 0.37779518961906433, 0.13738007843494415, 0.13738007843494415, 0.03434501960873604, 0.3434501886367798, 0.12789231538772583, 0.25578463077545166, 0.5115692615509033, 0.12789231538772583, 0.3485284447669983, 0.5227926969528198, 0.25036001205444336, 0.5007200241088867, 0.21949733793735504, 0.21949733793735504, 0.4389946758747101, 0.4972822070121765, 0.1431569904088974, 0.1431569904088974, 0.09794952720403671, 0.12055326253175735, 0.34827741980552673, 0.24453520774841309, 0.18525394797325134, 0.1259726881980896, 0.09633205085992813, 0.2392030656337738, 0.1196015328168869, 0.3056483566761017, 0.1196015328168869, 0.22591401636600494, 0.33636733889579773, 0.22251993417739868, 0.17077110707759857, 0.1345469355583191, 0.1345469355583191, 0.31484416127204895, 0.15957854688167572, 0.28034070134162903, 0.18976908922195435, 0.056068141013383865, 0.42096278071403503, 0.1775144338607788, 0.1572270691394806, 0.11665233969688416, 0.12679602205753326, 0.6183507442474365, 0.6706230044364929, 0.3278942108154297, 0.09767061471939087, 0.18487653136253357, 0.2685942053794861, 0.12208826839923859, 0.4135729968547821, 0.13325144350528717, 0.1934613585472107, 0.16384992003440857, 0.09574362635612488, 0.3500467836856842, 0.3500467836856842, 0.2425060272216797, 0.19054046273231506, 0.08660929650068283, 0.3291153311729431, 0.13857488334178925, 0.24194277822971344, 0.4233998656272888, 0.08064759522676468, 0.08064759522676468, 0.16129519045352936, 0.5310311913490295, 0.14868873357772827, 0.10620623826980591, 0.06372374296188354, 0.1274474859237671, 0.3410673439502716, 0.3617616295814514, 0.08039147406816483, 0.10048934072256088, 0.2914190888404846, 0.16078294813632965, 0.7373349666595459, 0.3619396388530731, 0.5366330146789551, 0.767352283000946, 0.6826691627502441, 0.3661959171295166, 0.3661959171295166, 0.3661959171295166, 0.17828315496444702, 0.16045483946800232, 0.035656630992889404, 0.49919283390045166, 0.10696989297866821, 0.7795754671096802, 0.25985848903656006, 0.26392653584480286, 0.5278530716896057, 0.2645859718322754, 0.5291719436645508, 0.6866788268089294, 0.12369804084300995, 0.2061634063720703, 0.32986146211624146, 0.31611722707748413, 0.013744226656854153, 0.16366168856620789, 0.2659502327442169, 0.4296119213104248, 0.12274626642465591, 0.020457711070775986, 0.20337943732738495, 0.20337943732738495, 0.508448600769043, 0.10168971866369247, 0.7221671938896179, 0.3718189597129822, 0.3290993273258209, 0.16138525307178497, 0.07911041378974915, 0.05854170769453049, 0.34685713052749634, 0.381542831659317, 0.06937142461538315, 0.15608569979667664, 0.06937142461538315, 0.2992640733718872, 0.24087108671665192, 0.23357196152210236, 0.11678598076105118, 0.10948685556650162, 0.35719358921051025, 0.35719358921051025, 0.43887627124786377, 0.12288535386323929, 0.2165122926235199, 0.10533030331134796, 0.11703366786241531, 0.21507824957370758, 0.14338549971580505, 0.5018492341041565, 0.07169274985790253, 0.3128594160079956, 0.2029358446598053, 0.16065753996372223, 0.11837924271821976, 0.19448018074035645, 0.470899760723114, 0.14430798590183258, 0.07595157623291016, 0.12152251601219177, 0.1898789405822754, 0.14498217403888702, 0.5799286961555481, 0.14498217403888702, 0.5532113313674927, 0.1455819308757782, 0.02911638654768467, 0.1455819308757782, 0.11646554619073868, 0.7076058387756348, 0.68268221616745, 0.40663832426071167, 0.28916501998901367, 0.09940047562122345, 0.1536189168691635, 0.054218441247940063, 0.27717694640159607, 0.5543538928031921, 0.19014346599578857, 0.12478165328502655, 0.37434494495391846, 0.14854958653450012, 0.1604335457086563, 0.09035500884056091, 0.06453929096460342, 0.4388672113418579, 0.19361788034439087, 0.21943360567092896, 0.2716336250305176, 0.12634122371673584, 0.2147800624370575, 0.24636536836624146, 0.1389753371477127, 0.09900379925966263, 0.2430093139410019, 0.44101691246032715, 0.0540020726621151, 0.162006214261055, 0.4248230755329132, 0.14160768687725067, 0.156779944896698, 0.12643544375896454, 0.15172253549098969, 0.05267876014113426, 0.10535752028226852, 0.3950906991958618, 0.18437565863132477, 0.23705442249774933, 0.40450674295425415, 0.13483558595180511, 0.40450674295425415, 0.2469339221715927, 0.1152358278632164, 0.13169808685779572, 0.3621697425842285, 0.13169808685779572, 0.23030886054039001, 0.1620692014694214, 0.33266836404800415, 0.1194194108247757, 0.15353924036026, 0.12866827845573425, 0.16543063521385193, 0.1470494568347931, 0.33086127042770386, 0.23895536363124847, 0.22303104400634766, 0.11151552200317383, 0.5575776100158691, 0.11151552200317383, 0.33896175026893616, 0.6779235005378723, 0.1814352571964264, 0.1814352571964264, 0.5443057417869568, 0.1814352571964264], \"Term\": [\"activ\", \"activ\", \"activ\", \"activ\", \"activ\", \"add\", \"advertis\", \"advertis\", \"advertis\", \"advertis\", \"advertis\", \"agre\", \"agre\", \"amazon_prime\", \"amazon_prime\", \"amazon_prime\", \"amazon_prime\", \"amazon_prime\", \"amus\", \"ancesteri\", \"ancesteri\", \"ancestri\", \"ancestri\", \"ancestri\", \"ancestri\", \"ancestri\", \"andm\", \"andm\", \"andm\", \"andm\", \"andm\", \"anim\", \"anim\", \"answer\", \"answer\", \"answer\", \"answer\", \"answer\", \"answer_question\", \"answer_question\", \"answer_question\", \"answer_question\", \"answer_question\", \"arriv\", \"arriv\", \"arriv\", \"arriv\", \"arriv\", \"astound\", \"attract\", \"attract\", \"author\", \"awhil\", \"awhil\", \"babi\", \"babi\", \"babi\", \"babi\", \"bear\", \"blue\", \"blue\", \"boom\", \"boom\", \"bought\", \"bought\", \"bought\", \"bought\", \"bought\", \"breast_cancer\", \"breast_cancer\", \"breast_cancer\", \"breast_cancer\", \"breast_cancer\", \"certainli\", \"certainli\", \"certainli\", \"certainli\", \"choic\", \"choic\", \"choic\", \"choic\", \"choic\", \"christma\", \"christma\", \"christma\", \"christma\", \"christma\", \"clear\", \"clear\", \"clear\", \"clear\", \"clear\", \"coffe\", \"coffe\", \"combin\", \"combin\", \"combin\", \"combin\", \"combin\", \"consumpt\", \"consumpt\", \"conveni\", \"conveni\", \"conveni\", \"conveni\", \"convers\", \"cotton\", \"cotton\", \"cotton\", \"custom_servic\", \"custom_servic\", \"custom_servic\", \"custom_servic\", \"custom_servic\", \"cyber\", \"daughter\", \"daughter\", \"daughter\", \"daughter\", \"daughter\", \"deal\", \"deal\", \"deal\", \"deal\", \"deal\", \"definit\", \"definit\", \"definit\", \"definit\", \"definit\", \"definit_recommend\", \"definit_recommend\", \"definit_recommend\", \"definit_recommend\", \"definit_recommend\", \"delux\", \"demograph\", \"demograph\", \"describ\", \"describ\", \"describ\", \"describ\", \"diseas\", \"diseas\", \"diseas\", \"diseas\", \"diseas\", \"disposit\", \"disposit\", \"disposit\", \"donor\", \"donor\", \"drank\", \"drop\", \"drop\", \"drop\", \"eager\", \"earli\", \"earli\", \"earli\", \"earli\", \"earli\", \"easi\", \"easi\", \"easi\", \"easi\", \"easi\", \"easi_follow\", \"easi_follow\", \"easi_follow\", \"easi_follow\", \"easi_follow\", \"enlighten\", \"enlighten\", \"enlighten\", \"european\", \"european\", \"european\", \"european\", \"european\", \"exceed\", \"exceed\", \"exchang\", \"exchang\", \"excit\", \"excit\", \"excit\", \"excit\", \"excit\", \"expect\", \"expect\", \"expect\", \"expect\", \"expect\", \"exposur\", \"express\", \"express\", \"express\", \"extend\", \"extend\", \"fabul\", \"famili\", \"famili\", \"famili\", \"famili\", \"famili\", \"famili_histori\", \"famili_histori\", \"famili_histori\", \"famili_histori\", \"famili_histori\", \"famili_member\", \"famili_member\", \"famili_member\", \"famili_member\", \"famili_member\", \"famili_tree\", \"famili_tree\", \"famili_tree\", \"famili_tree\", \"famili_tree\", \"favor\", \"favor\", \"follow\", \"follow\", \"follow\", \"follow\", \"follow\", \"follow_instruct\", \"follow_instruct\", \"follow_instruct\", \"follow_instruct\", \"follow_instruct\", \"forward\", \"forward\", \"forward\", \"forward\", \"forward\", \"frame\", \"frame\", \"funni\", \"funni\", \"game\", \"game\", \"genet\", \"genet\", \"genet\", \"genet\", \"genet\", \"genet_marker\", \"genet_marker\", \"genet_marker\", \"genet_marker\", \"genet_marker\", \"gift\", \"gift\", \"gift\", \"gift\", \"gift\", \"gift_daughter\", \"gift_daughter\", \"good\", \"good\", \"good\", \"good\", \"good\", \"grandpa\", \"grandpa\", \"great\", \"great\", \"great\", \"great\", \"great\", \"great_deal\", \"great_deal\", \"great_deal\", \"great_deal\", \"great_price\", \"great_price\", \"great_price\", \"great_price\", \"happili\", \"happili\", \"hate\", \"hate\", \"health\", \"health\", \"health\", \"health\", \"health\", \"health_risk\", \"health_risk\", \"health_risk\", \"health_risk\", \"health_risk\", \"hear\", \"hear\", \"hear\", \"hear\", \"hear\", \"help\", \"help\", \"help\", \"help\", \"help\", \"highli_recommend\", \"highli_recommend\", \"highli_recommend\", \"highli_recommend\", \"highli_recommend\", \"hispan\", \"histori\", \"histori\", \"histori\", \"histori\", \"histori\", \"hope\", \"hope\", \"hope\", \"hope\", \"hope\", \"hypochondriac\", \"hypochondriac\", \"hypochondriac\", \"hypochondriac\", \"infant\", \"infant\", \"info\", \"info\", \"info\", \"info\", \"info\", \"inform\", \"inform\", \"inform\", \"inform\", \"inform\", \"invest\", \"invest\", \"invest\", \"just\", \"just\", \"just\", \"just\", \"just\", \"know\", \"know\", \"know\", \"know\", \"know\", \"label\", \"label\", \"label\", \"label\", \"label\", \"learn\", \"learn\", \"learn\", \"learn\", \"learn\", \"let\", \"let\", \"let\", \"let\", \"let_know\", \"let_know\", \"let_know\", \"let_know\", \"like\", \"like\", \"like\", \"like\", \"like\", \"long_time\", \"long_time\", \"long_time\", \"long_time\", \"long_time\", \"look\", \"look\", \"look\", \"look\", \"look\", \"look_forward\", \"look_forward\", \"look_forward\", \"look_forward\", \"look_forward\", \"lot_inform\", \"lot_inform\", \"lot_inform\", \"lot_inform\", \"love\", \"love\", \"love\", \"love\", \"love\", \"luck\", \"luck\", \"mail\", \"mail\", \"mail\", \"mail\", \"mail\", \"marri\", \"marri\", \"marri\", \"measur\", \"measur\", \"member\", \"member\", \"member\", \"member\", \"member\", \"messag\", \"messag\", \"messag\", \"messag\", \"messag\", \"mirror\", \"monday\", \"monday\", \"monday\", \"money_spent\", \"money_spent\", \"money_spent\", \"money_spent\", \"money_spent\", \"mother\", \"mother\", \"mother\", \"mother\", \"mother\", \"mouth\", \"mouth\", \"mouth\", \"mouth\", \"mouth\", \"nativ_american\", \"nativ_american\", \"nativ_american\", \"nativ_american\", \"nativ_american\", \"nerd\", \"nervou\", \"nervou\", \"nervou\", \"nervou\", \"nice\", \"nice\", \"nice\", \"nice\", \"nice\", \"nonetheless\", \"outlook\", \"outstand\", \"outstand\", \"parent\", \"parent\", \"parent\", \"parent\", \"parent\", \"pay\", \"pay\", \"pay\", \"pay\", \"peac\", \"peac\", \"peac\", \"peac\", \"peac_mind\", \"peac_mind\", \"peac_mind\", \"peac_mind\", \"peac_mind\", \"peopl\", \"peopl\", \"peopl\", \"peopl\", \"peopl\", \"percent\", \"percent\", \"perfectli\", \"phenotyp\", \"phenotyp\", \"phenotyp\", \"pleasant\", \"possibl\", \"possibl\", \"possibl\", \"possibl\", \"possibl\", \"pretti_cool\", \"pretti_cool\", \"pretti_cool\", \"pretti_cool\", \"price\", \"price\", \"price\", \"price\", \"price\", \"process\", \"process\", \"process\", \"process\", \"process\", \"product\", \"product\", \"product\", \"product\", \"product\", \"profil\", \"profil\", \"profil\", \"profil\", \"profil\", \"program\", \"program\", \"program\", \"program\", \"promptli\", \"promptli\", \"propens\", \"propens\", \"properli\", \"properli\", \"properli\", \"provid\", \"provid\", \"provid\", \"provid\", \"provid\", \"purchas\", \"purchas\", \"purchas\", \"purchas\", \"purchas\", \"question\", \"question\", \"question\", \"question\", \"question\", \"realli\", \"realli\", \"realli\", \"realli\", \"realli\", \"receiv\", \"receiv\", \"receiv\", \"receiv\", \"receiv\", \"recommend\", \"recommend\", \"recommend\", \"recommend\", \"recommend\", \"replac\", \"repli\", \"report\", \"report\", \"report\", \"report\", \"report\", \"result\", \"result\", \"result\", \"result\", \"result\", \"sadli\", \"sadli\", \"said\", \"said\", \"said\", \"said\", \"said\", \"sale\", \"sale\", \"sale\", \"sale\", \"sale\", \"saliva_sampl\", \"saliva_sampl\", \"saliva_sampl\", \"saliva_sampl\", \"saliva_sampl\", \"sanitari\", \"servic\", \"servic\", \"servic\", \"servic\", \"servic\", \"settl\", \"skimpi\", \"smaller\", \"softwar\", \"specialist\", \"sperm\", \"sperm\", \"sperm\", \"spit_tube\", \"spit_tube\", \"spit_tube\", \"spit_tube\", \"spit_tube\", \"spous\", \"spous\", \"stat\", \"stat\", \"strongli\", \"strongli\", \"suffer\", \"super_easi\", \"super_easi\", \"super_easi\", \"super_easi\", \"super_easi\", \"swab\", \"swab\", \"swab\", \"swab\", \"swab\", \"swab_insid\", \"swab_insid\", \"swab_insid\", \"swab_insid\", \"tape\", \"test\", \"test\", \"test\", \"test\", \"test\", \"thank\", \"thank\", \"thank\", \"thank\", \"thank\", \"thing\", \"thing\", \"thing\", \"thing\", \"thing\", \"throw\", \"throw\", \"time\", \"time\", \"time\", \"time\", \"time\", \"today\", \"today\", \"today\", \"today\", \"took\", \"took\", \"took\", \"took\", \"took\", \"took_week\", \"took_week\", \"took_week\", \"took_week\", \"took_week\", \"total_worth\", \"total_worth\", \"total_worth\", \"tree\", \"tree\", \"tree\", \"tree\", \"tree\", \"trip\", \"unabl\", \"use\", \"use\", \"use\", \"use\", \"use\", \"vision\", \"vision\", \"wait\", \"wait\", \"wait\", \"wait\", \"wait\", \"wait_result\", \"wait_result\", \"wait_result\", \"wait_result\", \"wait_result\", \"want\", \"want\", \"want\", \"want\", \"want\", \"want_know\", \"want_know\", \"want_know\", \"want_know\", \"want_know\", \"week\", \"week\", \"week\", \"week\", \"week\", \"week_later\", \"week_later\", \"week_later\", \"week_later\", \"week_later\", \"weird\", \"weird\", \"weird\", \"work\", \"work\", \"work\", \"work\", \"work\", \"worth\", \"worth\", \"worth\", \"worth\", \"worth\", \"worth_money\", \"worth_money\", \"worth_money\", \"worth_money\", \"worth_money\", \"worth_price\", \"worth_price\", \"worth_price\", \"worth_price\", \"wrap\", \"wrap\", \"yesterday\", \"yesterday\", \"yesterday\", \"yesterday\"]}, \"R\": 20, \"lambda.step\": 0.01, \"plot.opts\": {\"xlab\": \"PC1\", \"ylab\": \"PC2\"}, \"topic.order\": [4, 1, 3, 2, 5]};\n",
       "\n",
       "function LDAvis_load_lib(url, callback){\n",
       "  var s = document.createElement('script');\n",
       "  s.src = url;\n",
       "  s.async = true;\n",
       "  s.onreadystatechange = s.onload = callback;\n",
       "  s.onerror = function(){console.warn(\"failed to load library \" + url);};\n",
       "  document.getElementsByTagName(\"head\")[0].appendChild(s);\n",
       "}\n",
       "\n",
       "if(typeof(LDAvis) !== \"undefined\"){\n",
       "   // already loaded: just create the visualization\n",
       "   !function(LDAvis){\n",
       "       new LDAvis(\"#\" + \"ldavis_el202881122615147286451009270\", ldavis_el202881122615147286451009270_data);\n",
       "   }(LDAvis);\n",
       "}else if(typeof define === \"function\" && define.amd){\n",
       "   // require.js is available: use it to load d3/LDAvis\n",
       "   require.config({paths: {d3: \"https://cdnjs.cloudflare.com/ajax/libs/d3/3.5.5/d3.min\"}});\n",
       "   require([\"d3\"], function(d3){\n",
       "      window.d3 = d3;\n",
       "      LDAvis_load_lib(\"https://cdn.rawgit.com/bmabey/pyLDAvis/files/ldavis.v1.0.0.js\", function(){\n",
       "        new LDAvis(\"#\" + \"ldavis_el202881122615147286451009270\", ldavis_el202881122615147286451009270_data);\n",
       "      });\n",
       "    });\n",
       "}else{\n",
       "    // require.js not available: dynamically load d3 & LDAvis\n",
       "    LDAvis_load_lib(\"https://cdnjs.cloudflare.com/ajax/libs/d3/3.5.5/d3.min.js\", function(){\n",
       "         LDAvis_load_lib(\"https://cdn.rawgit.com/bmabey/pyLDAvis/files/ldavis.v1.0.0.js\", function(){\n",
       "                 new LDAvis(\"#\" + \"ldavis_el202881122615147286451009270\", ldavis_el202881122615147286451009270_data);\n",
       "            })\n",
       "         });\n",
       "}\n",
       "</script>"
      ],
      "text/plain": [
       "PreparedData(topic_coordinates=              x         y  topics  cluster       Freq\n",
       "topic                                                \n",
       "3     -0.003818 -0.025583       1        1  32.478081\n",
       "0     -0.006503 -0.008616       2        1  20.502623\n",
       "2     -0.035502  0.024205       3        1  17.879503\n",
       "1      0.008113 -0.011107       4        1  16.625574\n",
       "4      0.037710  0.021101       5        1  12.514226, topic_info=     Category         Freq              Term        Total  loglift  logprob\n",
       "term                                                                       \n",
       "462   Default   195.000000              love   195.000000  20.0000  20.0000\n",
       "103   Default   146.000000              good   146.000000  19.0000  19.0000\n",
       "485   Default   117.000000     famili_member   117.000000  18.0000  18.0000\n",
       "113   Default   220.000000  highli_recommend   220.000000  17.0000  17.0000\n",
       "133   Default   271.000000              know   271.000000  16.0000  16.0000\n",
       "886   Default   111.000000         want_know   111.000000  15.0000  15.0000\n",
       "254   Default   632.000000              test   632.000000  14.0000  14.0000\n",
       "272   Default   168.000000              wait   168.000000  13.0000  13.0000\n",
       "205   Default   286.000000            report   286.000000  12.0000  12.0000\n",
       "273   Default    77.000000       wait_result    77.000000  11.0000  11.0000\n",
       "656   Default    63.000000        great_deal    63.000000  10.0000  10.0000\n",
       "208   Default  1013.000000            result  1013.000000   9.0000   9.0000\n",
       "125   Default   113.000000              info   113.000000   8.0000   8.0000\n",
       "652   Default   105.000000              gift   105.000000   7.0000   7.0000\n",
       "533   Default   125.000000            expect   125.000000   6.0000   6.0000\n",
       "640   Default    95.000000       easi_follow    95.000000   5.0000   5.0000\n",
       "92    Default   256.000000            famili   256.000000   4.0000   4.0000\n",
       "881   Default   110.000000    famili_histori   110.000000   3.0000   3.0000\n",
       "1417  Default    62.000000      look_forward    62.000000   2.0000   2.0000\n",
       "104   Default   282.000000             great   282.000000   1.0000   1.0000\n",
       "1537   Topic1     2.183774       nonetheless     2.929746   0.8307  -8.4857\n",
       "1598   Topic1     2.182344        specialist     2.929677   0.8301  -8.4864\n",
       "1123   Topic1     2.181905             unabl     2.929621   0.8299  -8.4866\n",
       "1167   Topic1     2.181391             delux     2.929600   0.8297  -8.4868\n",
       "1165   Topic1     2.180334           exposur     2.929503   0.8292  -8.4873\n",
       "1587   Topic1     2.166759          pleasant     2.928118   0.8235  -8.4936\n",
       "1568   Topic1     2.860025           astound     3.881270   0.8193  -8.2160\n",
       "1491   Topic1    30.407873         peac_mind    41.509762   0.8134  -5.8521\n",
       "1490   Topic1    11.321073              peac    15.470216   0.8124  -6.8401\n",
       "1042   Topic1     4.947531          outstand     6.933068   0.7872  -7.6679\n",
       "...       ...          ...               ...          ...      ...      ...\n",
       "113    Topic5    54.886463  highli_recommend   220.847122   0.6861  -4.3078\n",
       "374    Topic5    14.371686            member    48.324337   0.8656  -5.6478\n",
       "866    Topic5     9.536806            profil    29.116304   0.9622  -6.0579\n",
       "101    Topic5    46.639614             genet   259.926331   0.3604  -4.4706\n",
       "620    Topic5    11.500002             arriv    40.916298   0.8091  -5.8707\n",
       "133    Topic5    46.609669              know   271.335663   0.3168  -4.4713\n",
       "382    Topic5    20.280106    nativ_american    91.154114   0.5754  -5.3034\n",
       "176    Topic5    11.208534           possibl    41.120037   0.7785  -5.8964\n",
       "67     Topic5    18.000204            diseas    80.238701   0.5837  -5.4227\n",
       "170    Topic5    17.884914             peopl    79.839981   0.5822  -5.4291\n",
       "189    Topic5    17.095234          question    75.249870   0.5963  -5.4743\n",
       "964    Topic5    24.883148         took_week   131.662842   0.4123  -5.0989\n",
       "642    Topic5    12.199401          european    47.501736   0.7189  -5.8117\n",
       "208    Topic5    97.196716            result  1013.122253  -0.2658  -3.7364\n",
       "533    Topic5    23.491547            expect   125.860367   0.3998  -5.1564\n",
       "257    Topic5    22.500374              took   118.263977   0.4189  -5.1996\n",
       "71     Topic5    43.049095              easi   332.340271   0.0345  -4.5507\n",
       "132    Topic5    32.523895              just   215.828842   0.1858  -4.8311\n",
       "92     Topic5    35.818897            famili   256.448486   0.1099  -4.7346\n",
       "275    Topic5    30.144646              week   197.729370   0.1974  -4.9071\n",
       "13     Topic5    28.533314              andm   188.346756   0.1911  -4.9620\n",
       "272    Topic5    26.708311              wait   168.293976   0.2376  -5.0281\n",
       "104    Topic5    34.983925             great   282.085510  -0.0090  -4.7582\n",
       "205    Topic5    34.925571            report   286.677826  -0.0268  -4.7599\n",
       "352    Topic5    36.770718            health   435.808929  -0.3942  -4.7084\n",
       "136    Topic5    29.382887              like   279.372650  -0.1738  -4.9327\n",
       "254    Topic5    36.652958              test   632.028015  -0.7691  -4.7116\n",
       "192    Topic5    25.650436            realli   193.241119   0.0589  -5.0685\n",
       "126    Topic5    28.689140            inform   463.066833  -0.7030  -4.9566\n",
       "12     Topic5    25.977839          ancestri   445.370239  -0.7634  -5.0558\n",
       "\n",
       "[288 rows x 6 columns], token_table=      Topic      Freq          Term\n",
       "term                               \n",
       "784       1  0.187240         activ\n",
       "784       2  0.499306         activ\n",
       "784       3  0.124826         activ\n",
       "784       4  0.187240         activ\n",
       "784       5  0.062413         activ\n",
       "5         1  0.515500           add\n",
       "769       1  0.211915      advertis\n",
       "769       2  0.529789      advertis\n",
       "769       3  0.158937      advertis\n",
       "769       4  0.052979      advertis\n",
       "769       5  0.105958      advertis\n",
       "1538      3  0.363505          agre\n",
       "1538      5  0.363505          agre\n",
       "1252      1  0.174802  amazon_prime\n",
       "1252      2  0.099887  amazon_prime\n",
       "1252      3  0.224745  amazon_prime\n",
       "1252      4  0.174802  amazon_prime\n",
       "1252      5  0.349604  amazon_prime\n",
       "1510      3  0.681568          amus\n",
       "1067      1  0.355030     ancesteri\n",
       "1067      2  0.710060     ancesteri\n",
       "12        1  0.440083      ancestri\n",
       "12        2  0.150437      ancestri\n",
       "12        3  0.195343      ancestri\n",
       "12        4  0.157173      ancestri\n",
       "12        5  0.058378      ancestri\n",
       "13        1  0.355727          andm\n",
       "13        2  0.207065          andm\n",
       "13        3  0.196446          andm\n",
       "13        4  0.090259          andm\n",
       "...     ...       ...           ...\n",
       "820       4  0.184376    week_later\n",
       "820       5  0.237054    week_later\n",
       "708       1  0.404507         weird\n",
       "708       3  0.134836         weird\n",
       "708       5  0.404507         weird\n",
       "278       1  0.246934          work\n",
       "278       2  0.115236          work\n",
       "278       3  0.131698          work\n",
       "278       4  0.362170          work\n",
       "278       5  0.131698          work\n",
       "279       1  0.230309         worth\n",
       "279       2  0.162069         worth\n",
       "279       3  0.332668         worth\n",
       "279       4  0.119419         worth\n",
       "279       5  0.153539         worth\n",
       "981       1  0.128668   worth_money\n",
       "981       2  0.165431   worth_money\n",
       "981       3  0.147049   worth_money\n",
       "981       4  0.330861   worth_money\n",
       "981       5  0.238955   worth_money\n",
       "969       1  0.223031   worth_price\n",
       "969       2  0.111516   worth_price\n",
       "969       3  0.557578   worth_price\n",
       "969       5  0.111516   worth_price\n",
       "1128      2  0.338962          wrap\n",
       "1128      3  0.677924          wrap\n",
       "1112      1  0.181435     yesterday\n",
       "1112      3  0.181435     yesterday\n",
       "1112      4  0.544306     yesterday\n",
       "1112      5  0.181435     yesterday\n",
       "\n",
       "[738 rows x 3 columns], R=20, lambda_step=0.01, plot_opts={'xlab': 'PC1', 'ylab': 'PC2'}, topic_order=[4, 1, 3, 2, 5])"
      ]
     },
     "execution_count": 52,
     "metadata": {},
     "output_type": "execute_result"
    }
   ],
   "source": [
    "#Visualize positive topics\n",
    "pyLDAvis.gensim.prepare(pos_lda, pos_doc_term_mx, pos_dictionary, R = 20)"
   ]
  },
  {
   "cell_type": "markdown",
   "metadata": {},
   "source": [
    "### Coherence score"
   ]
  },
  {
   "cell_type": "code",
   "execution_count": 53,
   "metadata": {},
   "outputs": [
    {
     "name": "stdout",
     "output_type": "stream",
     "text": [
      "\n",
      "Coherence Score:  0.3621612179973135\n"
     ]
    }
   ],
   "source": [
    "# Compute Coherence Score\n",
    "coherence_neg_lda = CoherenceModel(model=neg_lda, texts=neg_clean_text, dictionary= neg_dictionary,  coherence='c_v')\n",
    "coherence_lda = coherence_neg_lda.get_coherence()\n",
    "print('\\nCoherence Score: ', coherence_lda)\n",
    "\n"
   ]
  },
  {
   "cell_type": "code",
   "execution_count": 54,
   "metadata": {},
   "outputs": [
    {
     "name": "stdout",
     "output_type": "stream",
     "text": [
      "\n",
      "Coherence Score:  0.4176246672909779\n"
     ]
    }
   ],
   "source": [
    "coherence_pos_lda = CoherenceModel(model=pos_lda, texts=pos_clean_text, dictionary= pos_dictionary,  coherence='c_v')\n",
    "coherence_lda = coherence_pos_lda.get_coherence()\n",
    "print('\\nCoherence Score: ', coherence_lda)\n",
    "\n"
   ]
  },
  {
   "cell_type": "code",
   "execution_count": 55,
   "metadata": {},
   "outputs": [],
   "source": [
    "def compute_coherence_values(dictionary, corpus, texts, limit, start=2, step=1, random_state = 17):\n",
    "    \"\"\"\n",
    "    Compute c_v coherence for various number of topics\n",
    "\n",
    "    Parameters:\n",
    "    ----------\n",
    "    dictionary : Gensim dictionary\n",
    "    corpus : Gensim corpus\n",
    "    texts : List of input texts\n",
    "    limit : Max num of topics\n",
    "\n",
    "    Returns:\n",
    "    -------\n",
    "    model_list : List of LDA topic models\n",
    "    coherence_values : Coherence values corresponding to the LDA model with respective number of topics\n",
    "    \"\"\"\n",
    "    coherence_values = []\n",
    "    model_list = []\n",
    "    for num_topics in range(start, limit, step):\n",
    "        model=gensim.models.ldamodel.LdaModel(corpus=corpus, id2word=dictionary, num_topics=num_topics, random_state = random_state)\n",
    "        model_list.append(model)\n",
    "        coherencemodel = CoherenceModel(model=model, texts=texts, dictionary=dictionary, coherence='c_v')\n",
    "        coherence_values.append(coherencemodel.get_coherence())\n",
    "\n",
    "    return model_list, coherence_values\n"
   ]
  },
  {
   "cell_type": "code",
   "execution_count": 57,
   "metadata": {},
   "outputs": [
    {
     "data": {
      "image/png": "[encoded data removed]",
      "text/plain": [
       "<Figure size 432x288 with 1 Axes>"
      ]
     },
     "metadata": {
      "needs_background": "light"
     },
     "output_type": "display_data"
    }
   ],
   "source": [
    "\n",
    "model_list, coherence_values = compute_coherence_values( corpus= neg_doc_term_mx, dictionary = neg_dictionary, texts = neg_clean_text, limit = 10 );\n",
    "# Show graph\n",
    "import matplotlib.pyplot as plt\n",
    "limit=10; start=2; step=1;\n",
    "x = range(start, limit, step)\n",
    "plt.plot(x, coherence_values)\n",
    "plt.xlabel(\"Num Topics\")\n",
    "plt.ylabel(\"Coherence score\")\n",
    "plt.legend((\"coherence_values\"), loc='best')\n",
    "plt.show();\n"
   ]
  },
  {
   "cell_type": "markdown",
   "metadata": {},
   "source": [
    "Source: \n",
    "- [https://www.machinelearningplus.com/nlp/topic-modeling-gensim-python/]\n",
    "- [https://datascienceplus.com/evaluation-of-topic-modeling-topic-coherence/]"
   ]
  },
  {
   "cell_type": "code",
   "execution_count": 58,
   "metadata": {},
   "outputs": [
    {
     "data": {
      "text/plain": [
       "[(0,\n",
       "  '0.021*\"result\" + 0.015*\"inform\" + 0.015*\"test\" + 0.014*\"ancestri\" + 0.014*\"like\" + 0.013*\"wast_money\" + 0.012*\"money\" + 0.011*\"health\" + 0.009*\"andm\" + 0.009*\"sampl\"'),\n",
       " (1,\n",
       "  '0.024*\"result\" + 0.020*\"test\" + 0.013*\"report\" + 0.011*\"week\" + 0.009*\"ancestri\" + 0.009*\"health\" + 0.008*\"know\" + 0.008*\"inform\" + 0.008*\"custom_servic\" + 0.008*\"wast_money\"')]"
      ]
     },
     "execution_count": 58,
     "metadata": {},
     "output_type": "execute_result"
    }
   ],
   "source": [
    "# LDA for negative reviews\n",
    "NUM_NEG_TOPICS = 2 # \n",
    "neg_lda = gensim.models.ldamodel.LdaModel(corpus=neg_doc_term_mx, \\\n",
    "                                      id2word=neg_dictionary, num_topics=NUM_NEG_TOPICS, random_state = 17) \\\n",
    "                                      #, update_every=1, chunksize=100, passes=50)\n",
    "neg_lda.print_topics()"
   ]
  },
  {
   "cell_type": "markdown",
   "metadata": {},
   "source": [
    "Negative topics:\n",
    "\n",
    "- Topic 0: insurance card, test_result. Unique words (lambda =0):  error_occur, garmin ==> TECHNICAL ISSUES: issues with SYNC, ERROR MESSAGES\n",
    "- Topic 1: custom service, p/w, login==>  BAD CUSTOM SERVICE, issues with login/password\n",
    "- Topic 2: screen, uninstall-reinstall. Unique words (lambda =0): uninstall/reeinstall, VIEW CLAIM  ==> VIEW CLAIMS\n",
    "- Topic 3:URGENT CARE\n",
    "- Topic 4:  issues with LOGIN/PASSWORD, PRESCRIPT, ORDER.  ==> PRESCRIPTIONS\n",
    "- Topic 5: health insuranvce, make appointments. Unique: white screen, username/p/w\n",
    "- Topic 6: messages\n",
    "- Topic 7: SCHEDULE APPOINTMENTS, MAKE PAYMENTS"
   ]
  },
  {
   "cell_type": "code",
   "execution_count": 59,
   "metadata": {},
   "outputs": [
    {
     "name": "stderr",
     "output_type": "stream",
     "text": [
      "/anaconda3/envs/uhc_env/lib/python3.7/site-packages/pyLDAvis/_prepare.py:257: FutureWarning: Sorting because non-concatenation axis is not aligned. A future version\n",
      "of pandas will change to not sort by default.\n",
      "\n",
      "To accept the future behavior, pass 'sort=False'.\n",
      "\n",
      "To retain the current behavior and silence the warning, pass 'sort=True'.\n",
      "\n",
      "  return pd.concat([default_term_info] + list(topic_dfs))\n"
     ]
    },
    {
     "data": {
      "text/html": [
       "\n",
       "<link rel=\"stylesheet\" type=\"text/css\" href=\"https://cdn.rawgit.com/bmabey/pyLDAvis/files/ldavis.v1.0.0.css\">\n",
       "\n",
       "\n",
       "<div id=\"ldavis_el202881122765654721234108195\"></div>\n",
       "<script type=\"text/javascript\">\n",
       "\n",
       "var ldavis_el202881122765654721234108195_data = {\"mdsDat\": {\"x\": [0.013415781781077383, -0.013415781781077383], \"y\": [0.0, 0.0], \"topics\": [1, 2], \"cluster\": [1, 1], \"Freq\": [53.60111999511719, 46.39888000488281]}, \"tinfo\": {\"Category\": [\"Default\", \"Default\", \"Default\", \"Default\", \"Default\", \"Default\", \"Default\", \"Default\", \"Default\", \"Default\", \"Default\", \"Default\", \"Default\", \"Default\", \"Default\", \"Default\", \"Default\", \"Default\", \"Default\", \"Default\", \"Topic1\", \"Topic1\", \"Topic1\", \"Topic1\", \"Topic1\", \"Topic1\", \"Topic1\", \"Topic1\", \"Topic1\", \"Topic1\", \"Topic1\", \"Topic1\", \"Topic1\", \"Topic1\", \"Topic1\", \"Topic1\", \"Topic1\", \"Topic1\", \"Topic1\", \"Topic1\", \"Topic1\", \"Topic1\", \"Topic1\", \"Topic1\", \"Topic1\", \"Topic1\", \"Topic1\", \"Topic1\", \"Topic1\", \"Topic1\", \"Topic1\", \"Topic1\", \"Topic1\", \"Topic1\", \"Topic1\", \"Topic1\", \"Topic1\", \"Topic1\", \"Topic1\", \"Topic1\", \"Topic1\", \"Topic1\", \"Topic1\", \"Topic1\", \"Topic1\", \"Topic1\", \"Topic1\", \"Topic1\", \"Topic1\", \"Topic1\", \"Topic1\", \"Topic1\", \"Topic1\", \"Topic1\", \"Topic1\", \"Topic2\", \"Topic2\", \"Topic2\", \"Topic2\", \"Topic2\", \"Topic2\", \"Topic2\", \"Topic2\", \"Topic2\", \"Topic2\", \"Topic2\", \"Topic2\", \"Topic2\", \"Topic2\", \"Topic2\", \"Topic2\", \"Topic2\", \"Topic2\", \"Topic2\", \"Topic2\", \"Topic2\", \"Topic2\", \"Topic2\", \"Topic2\", \"Topic2\", \"Topic2\", \"Topic2\", \"Topic2\", \"Topic2\", \"Topic2\", \"Topic2\", \"Topic2\", \"Topic2\", \"Topic2\", \"Topic2\", \"Topic2\", \"Topic2\", \"Topic2\", \"Topic2\", \"Topic2\", \"Topic2\", \"Topic2\", \"Topic2\", \"Topic2\", \"Topic2\", \"Topic2\", \"Topic2\", \"Topic2\", \"Topic2\", \"Topic2\", \"Topic2\", \"Topic2\", \"Topic2\"], \"Freq\": [182.0, 219.0, 65.0, 190.0, 177.0, 57.0, 211.0, 32.0, 151.0, 33.0, 134.0, 119.0, 58.0, 41.0, 15.0, 86.0, 19.0, 148.0, 36.0, 106.0, 4.31751012802124, 7.628165245056152, 28.43732261657715, 3.286870002746582, 7.274542808532715, 6.382169246673584, 3.9122722148895264, 4.689880847930908, 3.121455430984497, 3.120408058166504, 3.0734376907348633, 3.062849283218384, 7.639917850494385, 9.14700698852539, 5.335361480712891, 4.554238796234131, 15.910212516784668, 4.541223049163818, 7.564657211303711, 3.7732441425323486, 4.521395206451416, 44.71034240722656, 24.836313247680664, 14.774615287780762, 108.5531997680664, 40.78823471069336, 35.20722198486328, 73.7346420288086, 55.528316497802734, 25.82067108154297, 137.5167999267578, 38.924339294433594, 34.45707702636719, 205.64364624023438, 33.803558349609375, 61.354759216308594, 241.0690155029297, 86.4357681274414, 54.932865142822266, 66.46300506591797, 67.8006820678711, 43.54396438598633, 59.10527420043945, 63.439247131347656, 82.88935852050781, 41.890750885009766, 88.9972915649414, 91.74468994140625, 69.74263763427734, 73.66323852539062, 84.82441711425781, 78.32202911376953, 73.95055389404297, 67.61670684814453, 61.998939514160156, 5.043875694274902, 2.854606866836548, 5.668456554412842, 4.249888896942139, 12.026175498962402, 2.824016571044922, 6.342929363250732, 2.8023431301116943, 3.498960494995117, 2.093075752258301, 2.7689833641052246, 2.768631935119629, 2.0747320652008057, 2.75296688079834, 3.436396598815918, 24.727813720703125, 2.0463759899139404, 2.0445523262023926, 2.038886070251465, 2.0193333625793457, 14.73416805267334, 48.1308708190918, 6.716036319732666, 6.6790924072265625, 8.634262084960938, 40.39336395263672, 120.17894744873047, 134.93800354003906, 13.405436515808105, 10.356273651123047, 27.72667694091797, 111.9969482421875, 103.67266082763672, 71.60079956054688, 120.22322845458984, 79.14693450927734, 23.9403076171875, 50.0553092956543, 80.58446502685547, 97.4723892211914, 81.37553405761719, 20.188241958618164, 65.23072052001953, 184.099853515625, 70.923095703125, 34.1966438293457, 46.47919845581055, 130.9100799560547, 51.57166290283203, 66.38179779052734, 73.31916046142578, 48.47325897216797, 51.14397048950195], \"Term\": [\"like\", \"inform\", \"wast_time\", \"wast_money\", \"money\", \"saliva_sampl\", \"ancestri\", \"stolen_credit\", \"week\", \"eastern_european\", \"receiv\", \"wast\", \"want_know\", \"total_wast\", \"south\", \"realli\", \"asian\", \"sampl\", \"answer_question\", \"tell\", \"grand\", \"combin\", \"eastern_european\", \"afford\", \"plan\", \"fals\", \"comprehens\", \"stress\", \"safari\", \"fit\", \"scandinavia\", \"special\", \"week_later\", \"jewish\", \"nutrit\", \"glass\", \"eastern\", \"cousin\", \"estim\", \"worri\", \"browser\", \"want_know\", \"includ\", \"spend\", \"week\", \"complet\", \"base\", \"tell\", \"info\", \"contact\", \"report\", \"need\", \"specif\", \"test\", \"long\", \"didn\", \"result\", \"know\", \"provid\", \"compani\", \"want\", \"recommend\", \"data\", \"wait\", \"custom_servic\", \"review\", \"health\", \"ancestri\", \"just\", \"andm\", \"inform\", \"wast_money\", \"money\", \"sampl\", \"like\", \"hate\", \"associ\", \"januari\", \"aren\", \"south\", \"invad\", \"limit\", \"odor\", \"lose\", \"auto\", \"septemb\", \"loss\", \"legal\", \"assess\", \"weigh\", \"stolen_credit\", \"fake\", \"shocker\", \"fat\", \"genotyp\", \"asian\", \"wast_time\", \"purchas_kit\", \"south_asian\", \"popul\", \"saliva_sampl\", \"like\", \"inform\", \"stolen\", \"unless\", \"total_wast\", \"wast_money\", \"money\", \"wast\", \"ancestri\", \"receiv\", \"answer_question\", \"realli\", \"sampl\", \"health\", \"andm\", \"hair\", \"time\", \"result\", \"just\", \"told\", \"famili\", \"test\", \"purchas\", \"custom_servic\", \"report\", \"disappoint\", \"know\"], \"Total\": [182.0, 219.0, 65.0, 190.0, 177.0, 57.0, 211.0, 32.0, 151.0, 33.0, 134.0, 119.0, 58.0, 41.0, 15.0, 86.0, 19.0, 148.0, 36.0, 106.0, 4.883810043334961, 8.772675514221191, 33.09299087524414, 3.8858470916748047, 8.72782039642334, 7.7473955154418945, 4.8324079513549805, 5.798275470733643, 3.864865779876709, 3.8647329807281494, 3.8587751388549805, 3.8574318885803223, 9.641398429870605, 11.567028045654297, 6.747382640838623, 5.781069755554199, 20.22998809814453, 5.7794189453125, 9.631851196289062, 4.8147735595703125, 5.7769036293029785, 58.5723876953125, 32.636226654052734, 19.218711853027344, 151.65924072265625, 56.34043884277344, 48.694664001464844, 106.4827880859375, 79.02368927001953, 35.36278533935547, 210.83596801757812, 55.23677444458008, 48.599510192871094, 336.5537109375, 47.649383544921875, 92.7712173461914, 425.16888427734375, 137.57974243164062, 83.2843246459961, 103.82595825195312, 107.46456909179688, 64.49507904052734, 92.48589324951172, 105.1768798828125, 149.27114868164062, 62.5509033203125, 186.4696807861328, 211.96792602539062, 140.66574096679688, 155.0387725830078, 219.76242065429688, 190.3189697265625, 177.6232147216797, 148.201171875, 182.17788696289062, 6.219783306121826, 3.5581727027893066, 7.122265815734863, 5.3419108390808105, 15.137619018554688, 3.5626165866851807, 8.017500877380371, 3.565765380859375, 4.457782745361328, 2.6755847930908203, 3.5706114768981934, 3.570662021636963, 2.6782495975494385, 3.5729377269744873, 4.466871738433838, 32.163543701171875, 2.6823689937591553, 2.682633876800537, 2.683457136154175, 2.6862974166870117, 19.71030616760254, 65.51274871826172, 8.956514358520508, 8.961882591247559, 11.657501220703125, 57.697837829589844, 182.17788696289062, 219.76242065429688, 18.910114288330078, 14.38698959350586, 41.66004943847656, 190.3189697265625, 177.6232147216797, 119.7097396850586, 211.96792602539062, 134.50497436523438, 36.25080490112305, 86.09071350097656, 148.201171875, 186.4696807861328, 155.0387725830078, 30.83657455444336, 123.61476135253906, 425.16888427734375, 140.66574096679688, 57.60482406616211, 85.61700439453125, 336.5537109375, 100.76864624023438, 149.27114868164062, 210.83596801757812, 98.23912048339844, 137.57974243164062], \"loglift\": [20.0, 19.0, 18.0, 17.0, 16.0, 15.0, 14.0, 13.0, 12.0, 11.0, 10.0, 9.0, 8.0, 7.0, 6.0, 5.0, 4.0, 3.0, 2.0, 1.0, 0.5004000067710876, 0.4837999939918518, 0.47200000286102295, 0.4562000036239624, 0.4415000081062317, 0.42980000376701355, 0.4124000072479248, 0.4113999903202057, 0.4099999964237213, 0.4097000062465668, 0.3959999978542328, 0.3928999900817871, 0.39089998602867126, 0.3889000117778778, 0.3887999951839447, 0.38510000705718994, 0.38339999318122864, 0.3824999928474426, 0.38199999928474426, 0.3797999918460846, 0.37860000133514404, 0.35350000858306885, 0.3504999876022339, 0.36059999465942383, 0.2892000079154968, 0.30059999227523804, 0.2992999851703644, 0.25609999895095825, 0.27070000767707825, 0.3091000020503998, 0.19629999995231628, 0.2736000120639801, 0.27970001101493835, 0.13099999725818634, 0.28029999136924744, 0.210099995136261, 0.05620000138878822, 0.15880000591278076, 0.20749999582767487, 0.17749999463558197, 0.16300000250339508, 0.23080000281333923, 0.17589999735355377, 0.11800000071525574, 0.03530000150203705, 0.22269999980926514, -0.1160999983549118, -0.21379999816417694, -0.07800000160932541, -0.12060000002384186, -0.32839998602867126, -0.26429998874664307, -0.25270000100135803, -0.16110000014305115, -0.4542999863624573, 0.5583000183105469, 0.5475999712944031, 0.5396000146865845, 0.5392000079154968, 0.5378000140190125, 0.5356000065803528, 0.5335999727249146, 0.5270000100135803, 0.5256999731063843, 0.5224000215530396, 0.5135999917984009, 0.5134999752044678, 0.5126000046730042, 0.5072000026702881, 0.5055999755859375, 0.5049999952316284, 0.49729999899864197, 0.49630001187324524, 0.49320000410079956, 0.48249998688697815, 0.47690001130104065, 0.4596000015735626, 0.47999998927116394, 0.4738999903202057, 0.4677000045776367, 0.41130000352859497, 0.35190001130104065, 0.2802000045776367, 0.4239000082015991, 0.4392000138759613, 0.36070001125335693, 0.23770000040531158, 0.22949999570846558, 0.2538999915122986, 0.20080000162124634, 0.23759999871253967, 0.3529999852180481, 0.225600004196167, 0.15860000252723694, 0.11919999867677689, 0.12330000102519989, 0.3443000018596649, 0.12870000302791595, -0.06909999996423721, 0.08309999853372574, 0.24639999866485596, 0.15700000524520874, -0.17640000581741333, 0.09799999743700027, -0.042399998754262924, -0.28839999437332153, 0.061500001698732376, -0.22169999778270721], \"logprob\": [20.0, 19.0, 18.0, 17.0, 16.0, 15.0, 14.0, 13.0, 12.0, 11.0, 10.0, 9.0, 8.0, 7.0, 6.0, 5.0, 4.0, 3.0, 2.0, 1.0, -7.767199993133545, -7.197999954223633, -5.882199764251709, -8.039899826049805, -7.245500087738037, -7.376299858093262, -7.865699768066406, -7.6844000816345215, -8.09160041809082, -8.091899871826172, -8.107099533081055, -8.11050033569336, -7.196499824523926, -7.01639986038208, -7.555500030517578, -7.713799953460693, -6.462900161743164, -7.716700077056885, -7.206399917602539, -7.901899814605713, -7.7210001945495605, -5.429699897766113, -6.017499923706055, -6.536900043487549, -4.542600154876709, -5.521500110626221, -5.668600082397461, -4.9293999671936035, -5.2129998207092285, -5.978700160980225, -4.306099891662598, -5.56820011138916, -5.690100193023682, -3.903700113296509, -5.7093000411987305, -5.1132001876831055, -3.744800090789795, -4.770500183105469, -5.223700046539307, -5.033199787139893, -5.013299942016602, -5.456099987030029, -5.1504998207092285, -5.079800128936768, -4.812300205230713, -5.494800090789795, -4.741300106048584, -4.7108001708984375, -4.985000133514404, -4.9303998947143555, -4.789299964904785, -4.86899995803833, -4.926499843597412, -5.015999794006348, -5.102700233459473, -7.467400074005127, -8.036600112915039, -7.350599765777588, -7.638700008392334, -6.598499774932861, -8.04740047454834, -7.2382001876831055, -8.055100440979004, -7.833099842071533, -8.34689998626709, -8.067099571228027, -8.06719970703125, -8.35569953918457, -8.07289981842041, -7.851099967956543, -5.877600193023682, -8.369500160217285, -8.370400428771973, -8.373200416564941, -8.382800102233887, -6.395400047302246, -5.211599826812744, -7.181099891662598, -7.186600208282471, -6.929800033569336, -5.386899948120117, -4.296599864959717, -4.180699825286865, -6.4899001121521, -6.748000144958496, -5.763199806213379, -4.367099761962891, -4.444300174713135, -4.814499855041504, -4.296199798583984, -4.714300155639648, -5.909999847412109, -5.172399997711182, -4.696300029754639, -4.50600004196167, -4.686500072479248, -6.08050012588501, -4.907599925994873, -3.8701000213623047, -4.823999881744385, -5.553400039672852, -5.246600151062012, -4.211100101470947, -5.142600059509277, -4.890100002288818, -4.7906999588012695, -5.204500198364258, -5.150899887084961]}, \"token.table\": {\"Topic\": [1, 2, 1, 2, 1, 2, 1, 2, 1, 2, 1, 2, 1, 2, 1, 2, 1, 2, 1, 2, 1, 2, 1, 2, 1, 2, 1, 2, 1, 2, 1, 2, 1, 2, 1, 2, 1, 2, 1, 2, 1, 2, 1, 2, 1, 2, 1, 2, 1, 2, 1, 2, 1, 2, 1, 2, 1, 2, 1, 2, 1, 2, 1, 2, 1, 2, 1, 2, 1, 2, 1, 2, 1, 2, 1, 2, 1, 2, 1, 2, 1, 2, 1, 2, 1, 2, 1, 2, 1, 2, 1, 2, 1, 2, 1, 2, 1, 2, 1, 2, 1, 2, 1, 2, 1, 2, 1, 2, 1, 2, 1, 2, 1, 2, 1, 2, 1, 2, 1, 2, 1, 2, 1, 2, 1, 2, 1, 2, 1, 2, 1, 2, 1, 2, 1, 2, 1, 2, 1, 2, 1, 2, 1, 2, 1, 2, 1, 2, 1, 2, 1, 2, 1, 2, 1, 2, 1, 2, 1, 2, 1, 2, 1, 2, 1, 2, 1, 2, 1, 2, 1, 2, 1, 2, 1, 2, 1, 2, 1, 2, 1, 2, 1, 2, 1, 2, 1, 2], \"Freq\": [0.7720324397087097, 0.25734415650367737, 0.43402794003486633, 0.566123366355896, 0.4772999584674835, 0.5224499702453613, 0.3310271203517914, 0.6620542407035828, 0.1871989369392395, 0.748795747756958, 0.25367438793182373, 0.7610231637954712, 0.2798817455768585, 0.8396452069282532, 0.281043142080307, 0.8431293964385986, 0.37375006079673767, 0.7475001215934753, 0.71876460313797, 0.2669697105884552, 0.8655155897140503, 0.17310310900211334, 0.9119224548339844, 0.11399030685424805, 0.6356791853904724, 0.3563655912876129, 0.7277188897132874, 0.2839878499507904, 0.8277446627616882, 0.20693616569042206, 0.7352362275123596, 0.2827831506729126, 0.8651388883590698, 0.17302776873111725, 0.5560351014137268, 0.4421484172344208, 0.6379351019859314, 0.35681116580963135, 0.6575314998626709, 0.3341553509235382, 0.5089622139930725, 0.48860371112823486, 0.7909050583839417, 0.1977262645959854, 0.8461006283760071, 0.1510894000530243, 0.8305776119232178, 0.20764440298080444, 0.37280479073524475, 0.7456095814704895, 0.7744538187980652, 0.12907563149929047, 0.4555169939994812, 0.5372764468193054, 0.372653603553772, 0.745307207107544, 0.7762502431869507, 0.2587500810623169, 0.37225958704948425, 0.7445191740989685, 0.8648918271064758, 0.17297837138175964, 0.8190326690673828, 0.2047581672668457, 0.3567192554473877, 0.6485804915428162, 0.16077730059623718, 0.8038865327835083, 0.4772893786430359, 0.5201917886734009, 0.7660199403762817, 0.2451263815164566, 0.7086482644081116, 0.2910519540309906, 0.38678133487701416, 0.6142997741699219, 0.28069257736206055, 0.8420777320861816, 0.14040476083755493, 0.8424285650253296, 0.7780736684799194, 0.17290526628494263, 0.49763360619544983, 0.5047426819801331, 0.6250920295715332, 0.370694100856781, 0.373378187417984, 0.746756374835968, 0.3403266966342926, 0.6586968302726746, 0.2494542896747589, 0.7483628988265991, 0.7135454416275024, 0.2938128113746643, 0.22432677447795868, 0.6729803085327148, 0.2800601124763489, 0.8401803374290466, 0.4166122078895569, 0.5855090618133545, 0.7060513496398926, 0.28966209292411804, 0.7410280704498291, 0.14820562303066254, 0.2804447114467621, 0.8413341045379639, 0.802033007144928, 0.11457614600658417, 0.2573450207710266, 0.7720350623130798, 0.6603883504867554, 0.33619773387908936, 0.48626235127449036, 0.5160335302352905, 0.22330115735530853, 0.7815540432929993, 0.41816356778144836, 0.5807827115058899, 0.40890681743621826, 0.5873388648033142, 0.6822226047515869, 0.32560622692108154, 0.6545372605323792, 0.34624072909355164, 0.5668335556983948, 0.43276920914649963, 0.6714531183242798, 0.3357265591621399, 0.7762235999107361, 0.25874119997024536, 0.29463842511177063, 0.6932668685913086, 0.45883578062057495, 0.5465543866157532, 0.7774487733840942, 0.25914958119392395, 0.28006407618522644, 0.8401921987533569, 0.37276798486709595, 0.7455359697341919, 0.19818176329135895, 0.7927270531654358, 0.22316738963127136, 0.7810859084129333, 0.7777194976806641, 0.2592398226261139, 0.6995955109596252, 0.2880687415599823, 0.7804893255233765, 0.20813049376010895, 0.3172905147075653, 0.6874628067016602, 0.21763770282268524, 0.7772775292396545, 0.8623253703117371, 0.17246507108211517, 0.6949480175971985, 0.30990925431251526, 0.6120865345001221, 0.38923951983451843, 0.46919962763786316, 0.525827169418335, 0.3992721140384674, 0.5902283191680908, 0.33605337142944336, 0.6721067428588867, 0.2780289649963379, 0.6950724720954895, 0.5989909768104553, 0.3993273079395294, 0.6327666640281677, 0.3722156882286072, 0.7682800889015198, 0.2390204817056656, 0.40096989274024963, 0.6014547944068909, 0.4098382890224457, 0.5884857177734375, 0.2594914734363556, 0.7326818108558655, 0.7187165021896362, 0.2835303544998169, 0.8297551274299622, 0.20743878185749054, 0.22387032210826874, 0.671610951423645, 0.8307763338088989, 0.20769408345222473], \"Term\": [\"afford\", \"afford\", \"ancestri\", \"ancestri\", \"andm\", \"andm\", \"answer_question\", \"answer_question\", \"aren\", \"aren\", \"asian\", \"asian\", \"assess\", \"assess\", \"associ\", \"associ\", \"auto\", \"auto\", \"base\", \"base\", \"browser\", \"browser\", \"combin\", \"combin\", \"compani\", \"compani\", \"complet\", \"complet\", \"comprehens\", \"comprehens\", \"contact\", \"contact\", \"cousin\", \"cousin\", \"custom_servic\", \"custom_servic\", \"data\", \"data\", \"didn\", \"didn\", \"disappoint\", \"disappoint\", \"eastern\", \"eastern\", \"eastern_european\", \"eastern_european\", \"estim\", \"estim\", \"fake\", \"fake\", \"fals\", \"fals\", \"famili\", \"famili\", \"fat\", \"fat\", \"fit\", \"fit\", \"genotyp\", \"genotyp\", \"glass\", \"glass\", \"grand\", \"grand\", \"hair\", \"hair\", \"hate\", \"hate\", \"health\", \"health\", \"includ\", \"includ\", \"info\", \"info\", \"inform\", \"inform\", \"invad\", \"invad\", \"januari\", \"januari\", \"jewish\", \"jewish\", \"just\", \"just\", \"know\", \"know\", \"legal\", \"legal\", \"like\", \"like\", \"limit\", \"limit\", \"long\", \"long\", \"lose\", \"lose\", \"loss\", \"loss\", \"money\", \"money\", \"need\", \"need\", \"nutrit\", \"nutrit\", \"odor\", \"odor\", \"plan\", \"plan\", \"popul\", \"popul\", \"provid\", \"provid\", \"purchas\", \"purchas\", \"purchas_kit\", \"purchas_kit\", \"realli\", \"realli\", \"receiv\", \"receiv\", \"recommend\", \"recommend\", \"report\", \"report\", \"result\", \"result\", \"review\", \"review\", \"safari\", \"safari\", \"saliva_sampl\", \"saliva_sampl\", \"sampl\", \"sampl\", \"scandinavia\", \"scandinavia\", \"septemb\", \"septemb\", \"shocker\", \"shocker\", \"south\", \"south\", \"south_asian\", \"south_asian\", \"special\", \"special\", \"specif\", \"specif\", \"spend\", \"spend\", \"stolen\", \"stolen\", \"stolen_credit\", \"stolen_credit\", \"stress\", \"stress\", \"tell\", \"tell\", \"test\", \"test\", \"time\", \"time\", \"told\", \"told\", \"total_wast\", \"total_wast\", \"unless\", \"unless\", \"wait\", \"wait\", \"want\", \"want\", \"want_know\", \"want_know\", \"wast\", \"wast\", \"wast_money\", \"wast_money\", \"wast_time\", \"wast_time\", \"week\", \"week\", \"week_later\", \"week_later\", \"weigh\", \"weigh\", \"worri\", \"worri\"]}, \"R\": 20, \"lambda.step\": 0.01, \"plot.opts\": {\"xlab\": \"PC1\", \"ylab\": \"PC2\"}, \"topic.order\": [2, 1]};\n",
       "\n",
       "function LDAvis_load_lib(url, callback){\n",
       "  var s = document.createElement('script');\n",
       "  s.src = url;\n",
       "  s.async = true;\n",
       "  s.onreadystatechange = s.onload = callback;\n",
       "  s.onerror = function(){console.warn(\"failed to load library \" + url);};\n",
       "  document.getElementsByTagName(\"head\")[0].appendChild(s);\n",
       "}\n",
       "\n",
       "if(typeof(LDAvis) !== \"undefined\"){\n",
       "   // already loaded: just create the visualization\n",
       "   !function(LDAvis){\n",
       "       new LDAvis(\"#\" + \"ldavis_el202881122765654721234108195\", ldavis_el202881122765654721234108195_data);\n",
       "   }(LDAvis);\n",
       "}else if(typeof define === \"function\" && define.amd){\n",
       "   // require.js is available: use it to load d3/LDAvis\n",
       "   require.config({paths: {d3: \"https://cdnjs.cloudflare.com/ajax/libs/d3/3.5.5/d3.min\"}});\n",
       "   require([\"d3\"], function(d3){\n",
       "      window.d3 = d3;\n",
       "      LDAvis_load_lib(\"https://cdn.rawgit.com/bmabey/pyLDAvis/files/ldavis.v1.0.0.js\", function(){\n",
       "        new LDAvis(\"#\" + \"ldavis_el202881122765654721234108195\", ldavis_el202881122765654721234108195_data);\n",
       "      });\n",
       "    });\n",
       "}else{\n",
       "    // require.js not available: dynamically load d3 & LDAvis\n",
       "    LDAvis_load_lib(\"https://cdnjs.cloudflare.com/ajax/libs/d3/3.5.5/d3.min.js\", function(){\n",
       "         LDAvis_load_lib(\"https://cdn.rawgit.com/bmabey/pyLDAvis/files/ldavis.v1.0.0.js\", function(){\n",
       "                 new LDAvis(\"#\" + \"ldavis_el202881122765654721234108195\", ldavis_el202881122765654721234108195_data);\n",
       "            })\n",
       "         });\n",
       "}\n",
       "</script>"
      ],
      "text/plain": [
       "PreparedData(topic_coordinates=              x    y  topics  cluster      Freq\n",
       "topic                                          \n",
       "1      0.013416  0.0       1        1  53.60112\n",
       "0     -0.013416  0.0       2        1  46.39888, topic_info=     Category        Freq              Term       Total  loglift  logprob\n",
       "term                                                                     \n",
       "52    Default  182.000000              like  182.000000  20.0000  20.0000\n",
       "46    Default  219.000000            inform  219.000000  19.0000  19.0000\n",
       "22    Default   65.000000         wast_time   65.000000  18.0000  18.0000\n",
       "389   Default  190.000000        wast_money  190.000000  17.0000  17.0000\n",
       "129   Default  177.000000             money  177.000000  16.0000  16.0000\n",
       "622   Default   57.000000      saliva_sampl   57.000000  15.0000  15.0000\n",
       "2     Default  211.000000          ancestri  211.000000  14.0000  14.0000\n",
       "350   Default   32.000000     stolen_credit   32.000000  13.0000  13.0000\n",
       "23    Default  151.000000              week  151.000000  12.0000  12.0000\n",
       "495   Default   33.000000  eastern_european   33.000000  11.0000  11.0000\n",
       "90    Default  134.000000            receiv  134.000000  10.0000  10.0000\n",
       "21    Default  119.000000              wast  119.000000   9.0000   9.0000\n",
       "225   Default   58.000000         want_know   58.000000   8.0000   8.0000\n",
       "376   Default   41.000000        total_wast   41.000000   7.0000   7.0000\n",
       "270   Default   15.000000             south   15.000000   6.0000   6.0000\n",
       "295   Default   86.000000            realli   86.000000   5.0000   5.0000\n",
       "247   Default   19.000000             asian   19.000000   4.0000   4.0000\n",
       "91    Default  148.000000             sampl  148.000000   3.0000   3.0000\n",
       "499   Default   36.000000   answer_question   36.000000   2.0000   2.0000\n",
       "273   Default  106.000000              tell  106.000000   1.0000   1.0000\n",
       "709    Topic1    4.317510             grand    4.883810   0.5004  -7.7672\n",
       "906    Topic1    7.628165            combin    8.772676   0.4838  -7.1980\n",
       "495    Topic1   28.437323  eastern_european   33.092991   0.4720  -5.8822\n",
       "1174   Topic1    3.286870            afford    3.885847   0.4562  -8.0399\n",
       "1352   Topic1    7.274543              plan    8.727820   0.4415  -7.2455\n",
       "82     Topic1    6.382169              fals    7.747396   0.4298  -7.3763\n",
       "1376   Topic1    3.912272        comprehens    4.832408   0.4124  -7.8657\n",
       "288    Topic1    4.689881            stress    5.798275   0.4114  -7.6844\n",
       "1196   Topic1    3.121455            safari    3.864866   0.4100  -8.0916\n",
       "688    Topic1    3.120408               fit    3.864733   0.4097  -8.0919\n",
       "...       ...         ...               ...         ...      ...      ...\n",
       "271    Topic2    6.679092       south_asian    8.961883   0.4739  -7.1866\n",
       "264    Topic2    8.634262             popul   11.657501   0.4677  -6.9298\n",
       "622    Topic2   40.393364      saliva_sampl   57.697838   0.4113  -5.3869\n",
       "52     Topic2  120.178947              like  182.177887   0.3519  -4.2966\n",
       "46     Topic2  134.938004            inform  219.762421   0.2802  -4.1807\n",
       "344    Topic2   13.405437            stolen   18.910114   0.4239  -6.4899\n",
       "387    Topic2   10.356274            unless   14.386990   0.4392  -6.7480\n",
       "376    Topic2   27.726677        total_wast   41.660049   0.3607  -5.7632\n",
       "389    Topic2  111.996948        wast_money  190.318970   0.2377  -4.3671\n",
       "129    Topic2  103.672661             money  177.623215   0.2295  -4.4443\n",
       "21     Topic2   71.600800              wast  119.709740   0.2539  -4.8145\n",
       "2      Topic2  120.223228          ancestri  211.967926   0.2008  -4.2962\n",
       "90     Topic2   79.146935            receiv  134.504974   0.2376  -4.7143\n",
       "499    Topic2   23.940308   answer_question   36.250805   0.3530  -5.9100\n",
       "295    Topic2   50.055309            realli   86.090714   0.2256  -5.1724\n",
       "91     Topic2   80.584465             sampl  148.201172   0.1586  -4.6963\n",
       "293    Topic2   97.472389            health  186.469681   0.1192  -4.5060\n",
       "190    Topic2   81.375534              andm  155.038773   0.1233  -4.6865\n",
       "382    Topic2   20.188242              hair   30.836575   0.3443  -6.0805\n",
       "19     Topic2   65.230721              time  123.614761   0.1287  -4.9076\n",
       "14     Topic2  184.099854            result  425.168884  -0.0691  -3.8701\n",
       "48     Topic2   70.923096              just  140.665741   0.0831  -4.8240\n",
       "222    Topic2   34.196644              told   57.604824   0.2464  -5.5534\n",
       "5      Topic2   46.479198            famili   85.617004   0.1570  -5.2466\n",
       "121    Topic2  130.910080              test  336.553711  -0.1764  -4.2111\n",
       "12     Topic2   51.571663           purchas  100.768646   0.0980  -5.1426\n",
       "35     Topic2   66.381798     custom_servic  149.271149  -0.0424  -4.8901\n",
       "115    Topic2   73.319160            report  210.835968  -0.2884  -4.7907\n",
       "104    Topic2   48.473259        disappoint   98.239120   0.0615  -5.2045\n",
       "49     Topic2   51.143970              know  137.579742  -0.2217  -5.1509\n",
       "\n",
       "[128 rows x 6 columns], token_table=      Topic      Freq             Term\n",
       "term                                  \n",
       "1174      1  0.772032           afford\n",
       "1174      2  0.257344           afford\n",
       "2         1  0.434028         ancestri\n",
       "2         2  0.566123         ancestri\n",
       "190       1  0.477300             andm\n",
       "190       2  0.522450             andm\n",
       "499       1  0.331027  answer_question\n",
       "499       2  0.662054  answer_question\n",
       "485       1  0.187199             aren\n",
       "485       2  0.748796             aren\n",
       "247       1  0.253674            asian\n",
       "247       2  0.761023            asian\n",
       "276       1  0.279882           assess\n",
       "276       2  0.839645           assess\n",
       "672       1  0.281043           associ\n",
       "672       2  0.843129           associ\n",
       "1310      1  0.373750             auto\n",
       "1310      2  0.747500             auto\n",
       "681       1  0.718765             base\n",
       "681       2  0.266970             base\n",
       "995       1  0.865516          browser\n",
       "995       2  0.173103          browser\n",
       "906       1  0.911922           combin\n",
       "906       2  0.113990           combin\n",
       "137       1  0.635679          compani\n",
       "137       2  0.356366          compani\n",
       "164       1  0.727719          complet\n",
       "164       2  0.283988          complet\n",
       "1376      1  0.827745       comprehens\n",
       "1376      2  0.206936       comprehens\n",
       "...     ...       ...              ...\n",
       "121       1  0.612087             test\n",
       "121       2  0.389240             test\n",
       "19        1  0.469200             time\n",
       "19        2  0.525827             time\n",
       "222       1  0.399272             told\n",
       "222       2  0.590228             told\n",
       "376       1  0.336053       total_wast\n",
       "376       2  0.672107       total_wast\n",
       "387       1  0.278029           unless\n",
       "387       2  0.695072           unless\n",
       "77        1  0.598991             wait\n",
       "77        2  0.399327             wait\n",
       "99        1  0.632767             want\n",
       "99        2  0.372216             want\n",
       "225       1  0.768280        want_know\n",
       "225       2  0.239020        want_know\n",
       "21        1  0.400970             wast\n",
       "21        2  0.601455             wast\n",
       "389       1  0.409838       wast_money\n",
       "389       2  0.588486       wast_money\n",
       "22        1  0.259491        wast_time\n",
       "22        2  0.732682        wast_time\n",
       "23        1  0.718717             week\n",
       "23        2  0.283530             week\n",
       "79        1  0.829755       week_later\n",
       "79        2  0.207439       week_later\n",
       "897       1  0.223870            weigh\n",
       "897       2  0.671611            weigh\n",
       "1026      1  0.830776            worri\n",
       "1026      2  0.207694            worri\n",
       "\n",
       "[188 rows x 3 columns], R=20, lambda_step=0.01, plot_opts={'xlab': 'PC1', 'ylab': 'PC2'}, topic_order=[2, 1])"
      ]
     },
     "execution_count": 59,
     "metadata": {},
     "output_type": "execute_result"
    }
   ],
   "source": [
    "pyLDAvis.gensim.prepare(neg_lda, neg_doc_term_mx, neg_dictionary, R = 20)"
   ]
  },
  {
   "cell_type": "markdown",
   "metadata": {},
   "source": [
    "#### Determine the dominant topic for each review"
   ]
  },
  {
   "cell_type": "code",
   "execution_count": 60,
   "metadata": {},
   "outputs": [],
   "source": [
    "for i, row in enumerate(neg_lda[neg_doc_term_mx]):\n",
    "    row = sorted(row, key=lambda x: (x[1]), reverse=True)\n",
    "            # Get the Dominant topic, Percentage Contribution and Keywords for each document\n",
    "    for j, (topic_num, topic_prop) in enumerate(row):\n",
    "        if j == 0:  # => dominant topic\n",
    "            word_prop = neg_lda.show_topic(topic_num)\n",
    "            topic_keywords = \", \".join([word for word, proportion in word_prop])\n",
    "            \n",
    "            #sent_topics_df = sent_topics_df.append(pd.Series([int(topic_num), round(prop_topic,4), topic_keywords]), ignore_index=True)\n",
    "        else:\n",
    "            break"
   ]
  },
  {
   "cell_type": "code",
   "execution_count": 61,
   "metadata": {},
   "outputs": [],
   "source": [
    "def format_topics_documents(ldamodel, corpus, texts):\n",
    "    # Init output\n",
    "    doc_topics_df = pd.DataFrame()\n",
    "\n",
    "    # Get main topic in each document\n",
    "    for i, row in enumerate(ldamodel[corpus]):\n",
    "        row = sorted(row, key=lambda x: (x[1]), reverse=True)\n",
    "        # Get the Dominant topic, Percentage Contribution and Keywords for each document\n",
    "        for j, (topic_num, topic_prop) in enumerate(row):\n",
    "            if j == 0:  # => dominant topic\n",
    "                word_prop = ldamodel.show_topic(topic_num)\n",
    "                topic_keywords = \", \".join([word for word, prop in word_prop])\n",
    "                doc_topics_df = doc_topics_df.append(pd.Series([int(topic_num), round(topic_prop,3), topic_keywords]), ignore_index=True)\n",
    "            else:\n",
    "                break\n",
    "    doc_topics_df.columns = ['dominant_topic', 'perc_contribution', 'topic_keywords']\n",
    "\n",
    "    # Add original text to the end of the output\n",
    "    contents = pd.Series(texts)\n",
    "    doc_topics_df = pd.concat([doc_topics_df, contents], axis=1)\n",
    "    return(doc_topics_df)\n"
   ]
  },
  {
   "cell_type": "code",
   "execution_count": 62,
   "metadata": {},
   "outputs": [
    {
     "data": {
      "text/html": [
       "<div>\n",
       "<style scoped>\n",
       "    .dataframe tbody tr th:only-of-type {\n",
       "        vertical-align: middle;\n",
       "    }\n",
       "\n",
       "    .dataframe tbody tr th {\n",
       "        vertical-align: top;\n",
       "    }\n",
       "\n",
       "    .dataframe thead th {\n",
       "        text-align: right;\n",
       "    }\n",
       "</style>\n",
       "<table border=\"1\" class=\"dataframe\">\n",
       "  <thead>\n",
       "    <tr style=\"text-align: right;\">\n",
       "      <th></th>\n",
       "      <th>doc_no</th>\n",
       "      <th>dominant_topic</th>\n",
       "      <th>topic_perc_contrib</th>\n",
       "      <th>keywords</th>\n",
       "      <th>text</th>\n",
       "    </tr>\n",
       "  </thead>\n",
       "  <tbody>\n",
       "    <tr>\n",
       "      <th>0</th>\n",
       "      <td>0</td>\n",
       "      <td>0.0</td>\n",
       "      <td>0.971</td>\n",
       "      <td>result, inform, test, ancestri, like, wast_mon...</td>\n",
       "      <td>I had to submit DNA twice and both times they ...</td>\n",
       "    </tr>\n",
       "    <tr>\n",
       "      <th>1</th>\n",
       "      <td>1</td>\n",
       "      <td>0.0</td>\n",
       "      <td>0.559</td>\n",
       "      <td>result, inform, test, ancestri, like, wast_mon...</td>\n",
       "      <td>We bought two kits. My husband got his back in...</td>\n",
       "    </tr>\n",
       "    <tr>\n",
       "      <th>2</th>\n",
       "      <td>2</td>\n",
       "      <td>1.0</td>\n",
       "      <td>0.939</td>\n",
       "      <td>result, test, report, week, ancestri, health, ...</td>\n",
       "      <td>It has been 2 and a half months since they rec...</td>\n",
       "    </tr>\n",
       "    <tr>\n",
       "      <th>3</th>\n",
       "      <td>3</td>\n",
       "      <td>1.0</td>\n",
       "      <td>0.812</td>\n",
       "      <td>result, test, report, week, ancestri, health, ...</td>\n",
       "      <td>Caution! Quidado! Achtung!\\n\\nIf your ethnicit...</td>\n",
       "    </tr>\n",
       "    <tr>\n",
       "      <th>4</th>\n",
       "      <td>4</td>\n",
       "      <td>0.0</td>\n",
       "      <td>0.781</td>\n",
       "      <td>result, inform, test, ancestri, like, wast_mon...</td>\n",
       "      <td>I purchased this kit in Dec 2017. I received a...</td>\n",
       "    </tr>\n",
       "    <tr>\n",
       "      <th>5</th>\n",
       "      <td>5</td>\n",
       "      <td>1.0</td>\n",
       "      <td>0.916</td>\n",
       "      <td>result, test, report, week, ancestri, health, ...</td>\n",
       "      <td>Packaging and saliva submission process was pr...</td>\n",
       "    </tr>\n",
       "    <tr>\n",
       "      <th>6</th>\n",
       "      <td>6</td>\n",
       "      <td>1.0</td>\n",
       "      <td>0.568</td>\n",
       "      <td>result, test, report, week, ancestri, health, ...</td>\n",
       "      <td>We have had nothing but problems with 23 and m...</td>\n",
       "    </tr>\n",
       "    <tr>\n",
       "      <th>7</th>\n",
       "      <td>7</td>\n",
       "      <td>1.0</td>\n",
       "      <td>0.981</td>\n",
       "      <td>result, test, report, week, ancestri, health, ...</td>\n",
       "      <td>I purchased this as a Christmas gift for my fa...</td>\n",
       "    </tr>\n",
       "    <tr>\n",
       "      <th>8</th>\n",
       "      <td>8</td>\n",
       "      <td>1.0</td>\n",
       "      <td>0.767</td>\n",
       "      <td>result, test, report, week, ancestri, health, ...</td>\n",
       "      <td>One star, not because of the product, as I've ...</td>\n",
       "    </tr>\n",
       "    <tr>\n",
       "      <th>9</th>\n",
       "      <td>9</td>\n",
       "      <td>0.0</td>\n",
       "      <td>0.896</td>\n",
       "      <td>result, inform, test, ancestri, like, wast_mon...</td>\n",
       "      <td>I'd like to say this is a great test, but it's...</td>\n",
       "    </tr>\n",
       "  </tbody>\n",
       "</table>\n",
       "</div>"
      ],
      "text/plain": [
       "   doc_no  dominant_topic  topic_perc_contrib  \\\n",
       "0       0             0.0               0.971   \n",
       "1       1             0.0               0.559   \n",
       "2       2             1.0               0.939   \n",
       "3       3             1.0               0.812   \n",
       "4       4             0.0               0.781   \n",
       "5       5             1.0               0.916   \n",
       "6       6             1.0               0.568   \n",
       "7       7             1.0               0.981   \n",
       "8       8             1.0               0.767   \n",
       "9       9             0.0               0.896   \n",
       "\n",
       "                                            keywords  \\\n",
       "0  result, inform, test, ancestri, like, wast_mon...   \n",
       "1  result, inform, test, ancestri, like, wast_mon...   \n",
       "2  result, test, report, week, ancestri, health, ...   \n",
       "3  result, test, report, week, ancestri, health, ...   \n",
       "4  result, inform, test, ancestri, like, wast_mon...   \n",
       "5  result, test, report, week, ancestri, health, ...   \n",
       "6  result, test, report, week, ancestri, health, ...   \n",
       "7  result, test, report, week, ancestri, health, ...   \n",
       "8  result, test, report, week, ancestri, health, ...   \n",
       "9  result, inform, test, ancestri, like, wast_mon...   \n",
       "\n",
       "                                                text  \n",
       "0  I had to submit DNA twice and both times they ...  \n",
       "1  We bought two kits. My husband got his back in...  \n",
       "2  It has been 2 and a half months since they rec...  \n",
       "3  Caution! Quidado! Achtung!\\n\\nIf your ethnicit...  \n",
       "4  I purchased this kit in Dec 2017. I received a...  \n",
       "5  Packaging and saliva submission process was pr...  \n",
       "6  We have had nothing but problems with 23 and m...  \n",
       "7  I purchased this as a Christmas gift for my fa...  \n",
       "8  One star, not because of the product, as I've ...  \n",
       "9  I'd like to say this is a great test, but it's...  "
      ]
     },
     "execution_count": 62,
     "metadata": {},
     "output_type": "execute_result"
    }
   ],
   "source": [
    "\n",
    "df_topic_docs_keywords = format_topics_documents(ldamodel=neg_lda, corpus=neg_doc_term_mx, texts= neg_text )\n",
    "\n",
    "# Format\n",
    "df_dominant_topic = df_topic_docs_keywords.reset_index()\n",
    "df_dominant_topic.columns = ['doc_no', 'dominant_topic', 'topic_perc_contrib', 'keywords', 'text']\n",
    "\n",
    "# Show\n",
    "df_dominant_topic.head(10)"
   ]
  },
  {
   "cell_type": "markdown",
   "metadata": {},
   "source": [
    "#### Find the most representative review for each topic\n"
   ]
  },
  {
   "cell_type": "code",
   "execution_count": 63,
   "metadata": {},
   "outputs": [
    {
     "data": {
      "text/html": [
       "<div>\n",
       "<style scoped>\n",
       "    .dataframe tbody tr th:only-of-type {\n",
       "        vertical-align: middle;\n",
       "    }\n",
       "\n",
       "    .dataframe tbody tr th {\n",
       "        vertical-align: top;\n",
       "    }\n",
       "\n",
       "    .dataframe thead th {\n",
       "        text-align: right;\n",
       "    }\n",
       "</style>\n",
       "<table border=\"1\" class=\"dataframe\">\n",
       "  <thead>\n",
       "    <tr style=\"text-align: right;\">\n",
       "      <th></th>\n",
       "      <th>topic_Num</th>\n",
       "      <th>topic_perc_contrib</th>\n",
       "      <th>keywords</th>\n",
       "      <th>text</th>\n",
       "    </tr>\n",
       "  </thead>\n",
       "  <tbody>\n",
       "    <tr>\n",
       "      <th>0</th>\n",
       "      <td>0.0</td>\n",
       "      <td>0.997</td>\n",
       "      <td>result, inform, test, ancestri, like, wast_money, money, health, andm, sampl</td>\n",
       "      <td>If you want a bunch of useless, trivial information about yourself, buy it. But a lot is outright wrong. What is correct is utterly useless information that I ALREADY KNEW ABOUT MYSELF because a MIRROR was invented for some time now. The \"health\" information is just stupid and most of it is information about health in general that they use to fluff up and pad their report to justify your cost. Want to know how trivial and useless? Here are some of my results all bunched together:\\n\\nAsparagus Odor Detection--&gt;Likely can smell(WTF?); Bald Spot--&gt;Likely no bald spot(Wrong!Unfortunately); Earlobe Type--&gt;Likely detached earlobes(Correct!And I really hate it when I lose one of my detached earlobes.I look funny all day.); Early Hair Loss--&gt;Likely no hair loss(Wrong!Again!Just started Minoxidil;Crossing fingers); Earwax Type--&gt;Likely wet earwax(I guess so.Can't compare to what dry is and don't want to find out); Eye Color--&gt;Likely brown or hazel eyes(Correct!); Finger Length Ratio--&gt;Likel...</td>\n",
       "    </tr>\n",
       "    <tr>\n",
       "      <th>1</th>\n",
       "      <td>1.0</td>\n",
       "      <td>0.995</td>\n",
       "      <td>result, test, report, week, ancestri, health, know, inform, custom_servic, wast_money</td>\n",
       "      <td>I didn’t purchase Vitagene through Amazon, but through their website. I was hoping to gain some insight into which health practices I can adopt to function optimally. The service is fast. I received my results in a little over 3 weeks. I was astounded and a bit confused about my ancestry results. I have always known that I am mostly European (Eastern Europe, Italy, and Scotland), but my results were different. It says that I am mostly Central European, and Eastern European. But I am also Jewish from Spain/Portugal! This was news to me and I am so excited to now further explore my Jewish ancestry. But no mention of Scotland or Italy, which I thought was odd. I just bought a more detailed test from abother company that tests both paternal, maternal and autosomal DNA with migratory patterns. The health information is garbage. They first have you fill out your profile info with your height/weight and eating/excessive habits. Part of the health report includes your BMI (which you can’t ...</td>\n",
       "    </tr>\n",
       "  </tbody>\n",
       "</table>\n",
       "</div>"
      ],
      "text/plain": [
       "   topic_Num  topic_perc_contrib  \\\n",
       "0        0.0               0.997   \n",
       "1        1.0               0.995   \n",
       "\n",
       "                                                                                keywords  \\\n",
       "0           result, inform, test, ancestri, like, wast_money, money, health, andm, sampl   \n",
       "1  result, test, report, week, ancestri, health, know, inform, custom_servic, wast_money   \n",
       "\n",
       "                                                                                                                                                                                                                                                                                                                                                                                                                                                                                                                                                                                                                                                                                                                                                                                                                                                                                                                                                                                                                                      text  \n",
       "0  If you want a bunch of useless, trivial information about yourself, buy it. But a lot is outright wrong. What is correct is utterly useless information that I ALREADY KNEW ABOUT MYSELF because a MIRROR was invented for some time now. The \"health\" information is just stupid and most of it is information about health in general that they use to fluff up and pad their report to justify your cost. Want to know how trivial and useless? Here are some of my results all bunched together:\\n\\nAsparagus Odor Detection-->Likely can smell(WTF?); Bald Spot-->Likely no bald spot(Wrong!Unfortunately); Earlobe Type-->Likely detached earlobes(Correct!And I really hate it when I lose one of my detached earlobes.I look funny all day.); Early Hair Loss-->Likely no hair loss(Wrong!Again!Just started Minoxidil;Crossing fingers); Earwax Type-->Likely wet earwax(I guess so.Can't compare to what dry is and don't want to find out); Eye Color-->Likely brown or hazel eyes(Correct!); Finger Length Ratio-->Likel...  \n",
       "1  I didn’t purchase Vitagene through Amazon, but through their website. I was hoping to gain some insight into which health practices I can adopt to function optimally. The service is fast. I received my results in a little over 3 weeks. I was astounded and a bit confused about my ancestry results. I have always known that I am mostly European (Eastern Europe, Italy, and Scotland), but my results were different. It says that I am mostly Central European, and Eastern European. But I am also Jewish from Spain/Portugal! This was news to me and I am so excited to now further explore my Jewish ancestry. But no mention of Scotland or Italy, which I thought was odd. I just bought a more detailed test from abother company that tests both paternal, maternal and autosomal DNA with migratory patterns. The health information is garbage. They first have you fill out your profile info with your height/weight and eating/excessive habits. Part of the health report includes your BMI (which you can’t ...  "
      ]
     },
     "execution_count": 63,
     "metadata": {},
     "output_type": "execute_result"
    }
   ],
   "source": [
    "# Group top 3 sentences under each topic\n",
    "doc_topics_sorted_df = pd.DataFrame()\n",
    "\n",
    "doc_topics_df_grouped = df_topic_docs_keywords.groupby('dominant_topic')\n",
    "\n",
    "for i, grp in doc_topics_df_grouped:\n",
    "    doc_topics_sorted_df = pd.concat([doc_topics_sorted_df, \n",
    "                                             grp.sort_values(['perc_contribution'], ascending=[0]).head(1)], \n",
    "                                            axis=0)\n",
    "\n",
    "# Reset Index    \n",
    "doc_topics_sorted_df.reset_index(drop=True, inplace=True)\n",
    "\n",
    "# Format\n",
    "doc_topics_sorted_df.columns = ['topic_Num', \"topic_perc_contrib\", \"keywords\", \"text\"]\n",
    "\n",
    "# Show\n",
    "pd.set_option('max_colwidth',1000)\n",
    "\n",
    "doc_topics_sorted_df.head(10)"
   ]
  },
  {
   "cell_type": "code",
   "execution_count": 64,
   "metadata": {},
   "outputs": [
    {
     "data": {
      "image/png": "[encoded data removed]",
      "text/plain": [
       "<Figure size 432x288 with 1 Axes>"
      ]
     },
     "metadata": {
      "needs_background": "light"
     },
     "output_type": "display_data"
    }
   ],
   "source": [
    "#Positive reviews coherence score\n",
    "\n",
    "model_list, coherence_values = compute_coherence_values( corpus= pos_doc_term_mx, dictionary = pos_dictionary, texts = pos_clean_text, limit = 10 );\n",
    "# Show graph\n",
    "import matplotlib.pyplot as plt\n",
    "limit=10; start=2; step=1;\n",
    "x = range(start, limit, step)\n",
    "plt.plot(x, coherence_values)\n",
    "plt.xlabel(\"Num Topics\")\n",
    "plt.ylabel(\"Coherence score\")\n",
    "plt.legend((\"coherence_values\"), loc='best')\n",
    "plt.show();\n"
   ]
  },
  {
   "cell_type": "code",
   "execution_count": 65,
   "metadata": {},
   "outputs": [],
   "source": [
    "# LDA for positive reviews\n",
    "NUM_POS_TOPICS = 4\n",
    "pos_lda = gensim.models.ldamodel.LdaModel(corpus=pos_doc_term_mx, \\\n",
    "                                      id2word=pos_dictionary, num_topics=NUM_POS_TOPICS, random_state = 17) \\\n",
    "                                      #, update_every=1, chunksize=100, passes=50)"
   ]
  },
  {
   "cell_type": "code",
   "execution_count": 66,
   "metadata": {},
   "outputs": [
    {
     "data": {
      "text/plain": [
       "[(0,\n",
       "  '0.029*\"test\" + 0.019*\"result\" + 0.018*\"health\" + 0.015*\"know\" + 0.009*\"ancestri\" + 0.009*\"great\" + 0.009*\"genet\" + 0.008*\"just\" + 0.007*\"like\" + 0.007*\"realli\"'),\n",
       " (1,\n",
       "  '0.029*\"result\" + 0.014*\"report\" + 0.013*\"love\" + 0.013*\"inform\" + 0.012*\"ancestri\" + 0.010*\"great\" + 0.009*\"good\" + 0.008*\"test\" + 0.008*\"easi\" + 0.008*\"receiv\"'),\n",
       " (2,\n",
       "  '0.032*\"result\" + 0.017*\"test\" + 0.013*\"ancestri\" + 0.013*\"inform\" + 0.012*\"health\" + 0.012*\"great\" + 0.010*\"wait\" + 0.010*\"receiv\" + 0.009*\"report\" + 0.009*\"know\"'),\n",
       " (3,\n",
       "  '0.039*\"result\" + 0.021*\"test\" + 0.020*\"inform\" + 0.017*\"ancestri\" + 0.015*\"easi\" + 0.015*\"health\" + 0.014*\"famili\" + 0.011*\"like\" + 0.010*\"highli_recommend\" + 0.009*\"genet\"')]"
      ]
     },
     "execution_count": 66,
     "metadata": {},
     "output_type": "execute_result"
    }
   ],
   "source": [
    "pos_lda.print_topics(20)"
   ]
  },
  {
   "cell_type": "markdown",
   "metadata": {},
   "source": [
    "__Suggested topics based on positive reviews__\n",
    "- Topic 0 (2): health information. Exclusive words:  chronic, treatment ==> FEATURE: access to  HEALTH INFO, TREATMENT\n",
    "- Topic 1 (6): TEST RESULTS,  MEDICAL HISTORY\n",
    "- Topic 2 (1):medical record, doctor appointments. Esclusive: MEDICAL RECORD ==> DOCTOR APPOINTMENTS , MEDICAL RECORD\n",
    "- Topic 3 (4): doctor, doctor_office, insurance card. Exclusive: insur card. ==> FEAUTURE: in-app Insurance card info?\n",
    "- Topic 4 (9): easy to navigate, medical records ==> access to MEDICAL RECORDS\n",
    "- Topic 5 (8): tracl, test results. Exclusive: sleep, exercise, trust. ==> FEAUTURE: TEST RESULTS, TRACKING SLEEP and EXERCISE\n",
    "- Topic 6 (5): doctor, save, drug, message, send message. Exclusive: distance, code, regist. ==> FEAUTURE: MESSAGING to DOCTOR\n",
    "- Topic 7 (7): test result,m appoint, refill prescription. Esxclusive: blood sugar, heart rate ==> Feature: REFILL PRESCRIPTION, HEART RATE, TEST RESULTS (blood sugar, radiology)\n",
    "- Topic 8 (3): similar\n",
    "\n"
   ]
  },
  {
   "cell_type": "code",
   "execution_count": 67,
   "metadata": {},
   "outputs": [
    {
     "data": {
      "text/html": [
       "\n",
       "<link rel=\"stylesheet\" type=\"text/css\" href=\"https://cdn.rawgit.com/bmabey/pyLDAvis/files/ldavis.v1.0.0.css\">\n",
       "\n",
       "\n",
       "<div id=\"ldavis_el202881122765630721318489984\"></div>\n",
       "<script type=\"text/javascript\">\n",
       "\n",
       "var ldavis_el202881122765630721318489984_data = {\"mdsDat\": {\"x\": [-0.019023878870669725, 0.0002947157059841939, 0.03347768924874092, -0.014748526084055396], \"y\": [-0.022547030034824864, -0.0042282815190899615, -0.0006799091783372955, 0.027455220732252112], \"topics\": [1, 2, 3, 4], \"cluster\": [1, 1, 1, 1], \"Freq\": [36.06184768676758, 22.850862503051758, 20.840253829956055, 20.247041702270508]}, \"tinfo\": {\"Category\": [\"Default\", \"Default\", \"Default\", \"Default\", \"Default\", \"Default\", \"Default\", \"Default\", \"Default\", \"Default\", \"Default\", \"Default\", \"Default\", \"Default\", \"Default\", \"Default\", \"Default\", \"Default\", \"Default\", \"Default\", \"Topic1\", \"Topic1\", \"Topic1\", \"Topic1\", \"Topic1\", \"Topic1\", \"Topic1\", \"Topic1\", \"Topic1\", \"Topic1\", \"Topic1\", \"Topic1\", \"Topic1\", \"Topic1\", \"Topic1\", \"Topic1\", \"Topic1\", \"Topic1\", \"Topic1\", \"Topic1\", \"Topic1\", \"Topic1\", \"Topic1\", \"Topic1\", \"Topic1\", \"Topic1\", \"Topic1\", \"Topic1\", \"Topic1\", \"Topic1\", \"Topic1\", \"Topic1\", \"Topic1\", \"Topic1\", \"Topic1\", \"Topic1\", \"Topic1\", \"Topic1\", \"Topic1\", \"Topic1\", \"Topic1\", \"Topic1\", \"Topic1\", \"Topic1\", \"Topic1\", \"Topic1\", \"Topic1\", \"Topic1\", \"Topic1\", \"Topic2\", \"Topic2\", \"Topic2\", \"Topic2\", \"Topic2\", \"Topic2\", \"Topic2\", \"Topic2\", \"Topic2\", \"Topic2\", \"Topic2\", \"Topic2\", \"Topic2\", \"Topic2\", \"Topic2\", \"Topic2\", \"Topic2\", \"Topic2\", \"Topic2\", \"Topic2\", \"Topic2\", \"Topic2\", \"Topic2\", \"Topic2\", \"Topic2\", \"Topic2\", \"Topic2\", \"Topic2\", \"Topic2\", \"Topic2\", \"Topic2\", \"Topic2\", \"Topic2\", \"Topic2\", \"Topic2\", \"Topic2\", \"Topic2\", \"Topic2\", \"Topic2\", \"Topic2\", \"Topic2\", \"Topic2\", \"Topic2\", \"Topic2\", \"Topic2\", \"Topic2\", \"Topic2\", \"Topic2\", \"Topic2\", \"Topic2\", \"Topic2\", \"Topic2\", \"Topic2\", \"Topic2\", \"Topic3\", \"Topic3\", \"Topic3\", \"Topic3\", \"Topic3\", \"Topic3\", \"Topic3\", \"Topic3\", \"Topic3\", \"Topic3\", \"Topic3\", \"Topic3\", \"Topic3\", \"Topic3\", \"Topic3\", \"Topic3\", \"Topic3\", \"Topic3\", \"Topic3\", \"Topic3\", \"Topic3\", \"Topic3\", \"Topic3\", \"Topic3\", \"Topic3\", \"Topic3\", \"Topic3\", \"Topic3\", \"Topic3\", \"Topic3\", \"Topic3\", \"Topic3\", \"Topic3\", \"Topic3\", \"Topic3\", \"Topic3\", \"Topic3\", \"Topic3\", \"Topic3\", \"Topic3\", \"Topic3\", \"Topic3\", \"Topic3\", \"Topic3\", \"Topic3\", \"Topic3\", \"Topic3\", \"Topic3\", \"Topic3\", \"Topic3\", \"Topic3\", \"Topic3\", \"Topic3\", \"Topic4\", \"Topic4\", \"Topic4\", \"Topic4\", \"Topic4\", \"Topic4\", \"Topic4\", \"Topic4\", \"Topic4\", \"Topic4\", \"Topic4\", \"Topic4\", \"Topic4\", \"Topic4\", \"Topic4\", \"Topic4\", \"Topic4\", \"Topic4\", \"Topic4\", \"Topic4\", \"Topic4\", \"Topic4\", \"Topic4\", \"Topic4\", \"Topic4\", \"Topic4\", \"Topic4\", \"Topic4\", \"Topic4\", \"Topic4\", \"Topic4\", \"Topic4\", \"Topic4\", \"Topic4\", \"Topic4\", \"Topic4\", \"Topic4\", \"Topic4\", \"Topic4\", \"Topic4\", \"Topic4\", \"Topic4\", \"Topic4\", \"Topic4\", \"Topic4\", \"Topic4\", \"Topic4\", \"Topic4\", \"Topic4\", \"Topic4\", \"Topic4\", \"Topic4\"], \"Freq\": [629.0, 194.0, 110.0, 166.0, 272.0, 285.0, 63.0, 61.0, 77.0, 114.0, 280.0, 149.0, 126.0, 110.0, 104.0, 55.0, 96.0, 1009.0, 109.0, 215.0, 34.84897994995117, 12.832951545715332, 3.1462016105651855, 2.2303507328033447, 2.221289873123169, 2.2204222679138184, 2.2180535793304443, 2.189830780029297, 2.1806013584136963, 2.902904987335205, 2.1662042140960693, 2.788588285446167, 2.0677168369293213, 2.0648555755615234, 3.4037468433380127, 4.760834217071533, 2.0258562564849854, 67.2691421508789, 3.331674814224243, 9.978622436523438, 57.398590087890625, 31.481863021850586, 163.14096069335938, 70.78990173339844, 7.709565162658691, 75.62307739257812, 238.3905792236328, 174.682861328125, 53.643516540527344, 117.21891784667969, 72.40953826904297, 456.8732604980469, 20.950769424438477, 27.92464256286621, 40.97325134277344, 30.204647064208984, 99.76163482666016, 200.72463989257812, 93.89388275146484, 125.7105712890625, 82.74684143066406, 243.8291778564453, 88.30558013916016, 170.7036895751953, 103.55181884765625, 101.54817962646484, 76.9433364868164, 76.07933044433594, 73.98126983642578, 2.0118227005004883, 1.9853817224502563, 2.5941519737243652, 3.6834146976470947, 1.7999342679977417, 1.766035556793213, 2.296633720397949, 4.605774879455566, 3.398376226425171, 1.6179026365280151, 4.894617557525635, 1.6258301734924316, 2.717007637023926, 1.6311893463134766, 1.626786231994629, 2.1728127002716064, 6.317784309387207, 3.698538303375244, 2.0712218284606934, 2.085935592651367, 25.90410804748535, 8.30401611328125, 107.99363708496094, 19.533065795898438, 215.70693969726562, 17.987062454223633, 43.2352294921875, 133.07276916503906, 24.618284225463867, 20.63858985900879, 39.00933837890625, 22.222454071044922, 23.855058670043945, 61.85002136230469, 45.387840270996094, 25.800508499145508, 22.367338180541992, 40.73136901855469, 37.69794464111328, 63.93318557739258, 51.12014389038086, 66.09162902832031, 142.7207794189453, 37.84711456298828, 46.12139129638672, 55.26947021484375, 70.5877914428711, 28.98069190979004, 31.812028884887695, 39.698307037353516, 34.45022964477539, 35.58244705200195, 47.16433334350586, 49.91957473754883, 2.1165924072265625, 1.993191123008728, 1.9097557067871094, 39.49303436279297, 7.784012317657471, 4.135483741760254, 1.76633620262146, 14.792123794555664, 1.6952427625656128, 1.698146939277649, 1.6739486455917358, 2.765029191970825, 10.445664405822754, 1.646868348121643, 1.6484674215316772, 2.1410489082336426, 4.8693437576293945, 3.7236595153808594, 3.1605734825134277, 1.5528515577316284, 41.66387939453125, 57.59268569946289, 9.92805004119873, 11.003378868103027, 10.923314094543457, 18.48546600341797, 70.21644592285156, 22.202205657958984, 27.436824798583984, 43.973243713378906, 24.476200103759766, 31.638776779174805, 10.303095817565918, 40.66635513305664, 24.155517578125, 79.30477905273438, 216.87677001953125, 65.73467254638672, 42.331844329833984, 34.72533416748047, 56.6588020324707, 114.2770767211914, 89.38461303710938, 87.24785614013672, 80.5771484375, 59.55845642089844, 59.83218765258789, 57.11547088623047, 46.01955795288086, 57.68692398071289, 47.128910064697266, 43.48478698730469, 41.883445739746094, 1.9042712450027466, 3.5822412967681885, 1.7595998048782349, 2.2931981086730957, 3.454087972640991, 3.3944997787475586, 2.1325457096099854, 1.5820122957229614, 31.835702896118164, 1.5588301420211792, 1.5431227684020996, 2.030271530151367, 1.5039342641830444, 5.442101001739502, 1.9955793619155884, 2.4785287380218506, 1.9683815240859985, 1.4464818239212036, 2.8638815879821777, 2.371666193008423, 3.334993362426758, 31.910358428955078, 86.37835693359375, 16.947961807250977, 41.8380241394043, 59.93789291381836, 25.98819923400879, 18.706809997558594, 28.78546714782715, 43.55421447753906, 47.69679260253906, 92.78399658203125, 37.71657943725586, 21.510175704956055, 21.475433349609375, 17.95469093322754, 46.97718048095703, 193.5165252685547, 42.482337951660156, 31.714210510253906, 67.76251983642578, 85.0059814453125, 80.99311828613281, 52.46940994262695, 32.39157485961914, 54.2887077331543, 43.81196212768555, 47.514251708984375, 50.734378814697266, 55.88212966918945, 41.14801025390625, 40.26796340942383], \"Term\": [\"test\", \"love\", \"want_know\", \"wait\", \"know\", \"report\", \"great_deal\", \"look_forward\", \"wait_result\", \"info\", \"great\", \"good\", \"expect\", \"famili_histori\", \"gift\", \"spit_tube\", \"easi_follow\", \"result\", \"price\", \"just\", \"peac_mind\", \"peac\", \"astound\", \"nonetheless\", \"exposur\", \"delux\", \"unabl\", \"pleasant\", \"specialist\", \"laid\", \"manner\", \"softwar\", \"dear\", \"portal\", \"reliabl\", \"deep\", \"nerd\", \"custom_servic\", \"replac\", \"choic\", \"famili_tree\", \"send_sampl\", \"famili\", \"famili_histori\", \"lot_inform\", \"took_week\", \"inform\", \"easi\", \"nativ_american\", \"highli_recommend\", \"provid\", \"result\", \"tree\", \"saliva_sampl\", \"histori\", \"awesom\", \"week\", \"ancestri\", \"recommend\", \"like\", \"time\", \"test\", \"product\", \"health\", \"genet\", \"report\", \"realli\", \"andm\", \"receiv\", \"alot\", \"ancesteri\", \"vision\", \"invest\", \"convers\", \"coffe\", \"smaller\", \"certainli\", \"dollar\", \"soooo\", \"comparison\", \"elit\", \"express\", \"grandpa\", \"boom\", \"happili\", \"bought_gift\", \"let_know\", \"ring\", \"stat\", \"sale\", \"activ\", \"know\", \"nice\", \"test\", \"genet_marker\", \"bought\", \"health\", \"great_deal\", \"tube\", \"info\", \"heritag\", \"issu\", \"just\", \"learn\", \"best\", \"definit\", \"process\", \"expect\", \"genet\", \"realli\", \"great\", \"result\", \"thing\", \"andm\", \"like\", \"ancestri\", \"health_risk\", \"data\", \"product\", \"purchas\", \"help\", \"easi\", \"inform\", \"folk\", \"eager\", \"mirror\", \"look_forward\", \"earli\", \"total_worth\", \"amus\", \"forward\", \"tact\", \"funni\", \"repli\", \"mistak\", \"describ\", \"attract\", \"infant\", \"blue\", \"worth_price\", \"outcom\", \"legit\", \"humor\", \"wait_result\", \"want_know\", \"great_price\", \"follow_instruct\", \"item\", \"week_later\", \"wait\", \"swab\", \"answer\", \"excit\", \"long_time\", \"question\", \"impress\", \"worth\", \"mail\", \"great\", \"result\", \"receiv\", \"look\", \"gift\", \"just\", \"test\", \"ancestri\", \"inform\", \"health\", \"know\", \"report\", \"like\", \"andm\", \"easi\", \"genet\", \"time\", \"want\", \"detox\", \"visual\", \"consumpt\", \"mom\", \"yesterday\", \"gift_daughter\", \"exceed\", \"outlook\", \"spit_tube\", \"perfectli\", \"tape\", \"luck\", \"skimpi\", \"pretti_cool\", \"okay\", \"reconnect\", \"hubbi\", \"author\", \"marri\", \"hypochondriac\", \"deeper\", \"great_deal\", \"love\", \"daughter\", \"easi_follow\", \"good\", \"work\", \"hope\", \"super_easi\", \"info\", \"expect\", \"report\", \"gift\", \"worth_money\", \"said\", \"christma\", \"want\", \"result\", \"help\", \"servic\", \"great\", \"inform\", \"ancestri\", \"receiv\", \"price\", \"easi\", \"just\", \"genet\", \"health\", \"test\", \"like\", \"know\"], \"Total\": [629.0, 194.0, 110.0, 166.0, 272.0, 285.0, 63.0, 61.0, 77.0, 114.0, 280.0, 149.0, 126.0, 110.0, 104.0, 55.0, 96.0, 1009.0, 109.0, 215.0, 42.1397590637207, 15.677412033081055, 3.9162685871124268, 2.931569814682007, 2.930936813354492, 2.9307827949523926, 2.930753231048584, 2.9272990226745605, 2.9300456047058105, 3.9019370079040527, 2.929145574569702, 3.90059494972229, 2.9189252853393555, 2.923844575881958, 4.8610639572143555, 6.818955421447754, 2.9108333587646484, 96.95013427734375, 4.8546600341796875, 14.544092178344727, 84.82015228271484, 47.7111930847168, 258.9748229980469, 110.10758209228516, 11.53246021270752, 133.61639404296875, 460.5639953613281, 333.82281494140625, 93.46018981933594, 225.774169921875, 133.04283142089844, 1009.9873657226562, 34.51927947998047, 47.38236999511719, 72.72756958007812, 52.28899383544922, 199.06411743164062, 441.690185546875, 198.072021484375, 279.2435302734375, 170.883056640625, 629.6953735351562, 185.76385498046875, 435.0879821777344, 262.128173828125, 285.6092529296875, 193.50193786621094, 189.15379333496094, 228.47071838378906, 2.800415277481079, 2.807772636413574, 3.7448527812957764, 5.632881164550781, 2.8129425048828125, 2.820858955383301, 3.733057975769043, 7.566504001617432, 5.660105228424072, 2.7839231491088867, 8.42423152923584, 2.8180770874023438, 4.710804462432861, 2.8313581943511963, 2.8285088539123535, 3.7791364192962646, 11.214723587036133, 6.583668231964111, 3.7488553524017334, 3.7934863567352295, 49.81669998168945, 15.926661491394043, 272.6228332519531, 43.36690139770508, 629.6953735351562, 40.61587905883789, 115.9039306640625, 435.0879821777344, 63.91044235229492, 52.19658660888672, 114.00959014892578, 57.94945526123047, 63.691551208496094, 215.92510986328125, 146.07534790039062, 72.24161529541016, 61.101951599121094, 137.7498016357422, 126.50137329101562, 262.128173828125, 193.50193786621094, 280.9296569824219, 1009.9873657226562, 136.5814208984375, 189.15379333496094, 279.2435302734375, 441.690185546875, 90.10443115234375, 111.32669830322266, 185.76385498046875, 134.74661254882812, 146.93670654296875, 333.82281494140625, 460.5639953613281, 2.8973662853240967, 2.892672061920166, 2.893975257873535, 61.66844940185547, 12.551937103271484, 6.674925804138184, 2.8843815326690674, 25.072307586669922, 2.8778631687164307, 2.8960835933685303, 2.8937478065490723, 4.789489269256592, 18.23820686340332, 2.882004499435425, 2.8938047885894775, 3.8042654991149902, 8.769718170166016, 6.716833591461182, 5.765408515930176, 2.8573570251464844, 77.17274475097656, 110.1336669921875, 18.843769073486328, 21.006046295166016, 20.91064453125, 38.01246643066406, 166.66294860839844, 47.79179000854492, 62.142433166503906, 109.83633422851562, 56.51090621948242, 75.84181213378906, 21.232421875, 116.51188659667969, 61.26365661621094, 280.9296569824219, 1009.9873657226562, 228.47071838378906, 131.35104370117188, 104.18775939941406, 215.92510986328125, 629.6953735351562, 441.690185546875, 460.5639953613281, 435.0879821777344, 272.6228332519531, 285.6092529296875, 279.2435302734375, 189.15379333496094, 333.82281494140625, 262.128173828125, 170.883056640625, 158.0085906982422, 2.7297539710998535, 5.460231781005859, 2.7440335750579834, 3.6463780403137207, 5.495761871337891, 5.438562393188477, 3.6831679344177246, 2.7426462173461914, 55.889183044433594, 2.750147819519043, 2.7462780475616455, 3.669489860534668, 2.7601494789123535, 10.042152404785156, 3.6961183547973633, 4.614387512207031, 3.712543487548828, 2.761613368988037, 5.527040481567383, 4.621403217315674, 6.509737014770508, 63.91044235229492, 194.1640625, 35.89252471923828, 96.10044860839844, 149.69679260253906, 60.7359619140625, 42.84265899658203, 70.6992416381836, 114.00959014892578, 126.50137329101562, 285.6092529296875, 104.18775939941406, 55.02472686767578, 57.83938980102539, 46.689842224121094, 158.0085906982422, 1009.9873657226562, 146.93670654296875, 100.52555084228516, 280.9296569824219, 460.5639953613281, 441.690185546875, 228.47071838378906, 109.96638488769531, 333.82281494140625, 215.92510986328125, 262.128173828125, 435.0879821777344, 629.6953735351562, 279.2435302734375, 272.6228332519531], \"loglift\": [20.0, 19.0, 18.0, 17.0, 16.0, 15.0, 14.0, 13.0, 12.0, 11.0, 10.0, 9.0, 8.0, 7.0, 6.0, 5.0, 4.0, 3.0, 2.0, 1.0, 0.8299999833106995, 0.8197000026702881, 0.8009999990463257, 0.7465999722480774, 0.7426999807357788, 0.7423999905586243, 0.7412999868392944, 0.7297000288963318, 0.7245000004768372, 0.7242000102996826, 0.7182000279426575, 0.6843000054359436, 0.6751999855041504, 0.6721000075340271, 0.6636000275611877, 0.6607000231742859, 0.6575000286102295, 0.6543999910354614, 0.6434999704360962, 0.6431999802589417, 0.6294000148773193, 0.604200005531311, 0.5577999949455261, 0.5781999826431274, 0.6172000169754028, 0.4507000148296356, 0.3614000082015991, 0.37229999899864197, 0.46480000019073486, 0.3643999993801117, 0.4115999937057495, 0.22660000622272491, 0.5206000208854675, 0.4912000000476837, 0.44609999656677246, 0.47110000252723694, 0.32910001277923584, 0.2312999963760376, 0.273499995470047, 0.22179999947547913, 0.2946999967098236, 0.07119999825954437, 0.27630001306533813, 0.08429999649524689, 0.09120000153779984, -0.0142000000923872, 0.09769999980926514, 0.10920000076293945, -0.10769999772310257, 1.1454999446868896, 1.1296000480651855, 1.1090999841690063, 1.0513999462127686, 1.0297000408172607, 1.0078999996185303, 0.9904000163078308, 0.9797999858856201, 0.9660000205039978, 0.9334999918937683, 0.9332000017166138, 0.9261000156402588, 0.9258999824523926, 0.9247000217437744, 0.9229999780654907, 0.9226999878883362, 0.9023000001907349, 0.8995000123977661, 0.8828999996185303, 0.8780999779701233, 0.8222000002861023, 0.8248999714851379, 0.5501999855041504, 0.678600013256073, 0.4049000144004822, 0.6617000102996826, 0.4900999963283539, 0.2915000021457672, 0.5221999883651733, 0.54830002784729, 0.40369999408721924, 0.5177000164985657, 0.49410000443458557, 0.22599999606609344, 0.30730000138282776, 0.4465999901294708, 0.47119998931884766, 0.25769999623298645, 0.265500009059906, 0.06520000100135803, 0.14509999752044678, 0.029100000858306885, -0.4805999994277954, 0.19280000030994415, 0.0649000033736229, -0.1437000036239624, -0.35760000348091125, 0.3418000042438507, 0.22360000014305115, -0.06700000166893005, 0.11230000108480453, 0.057999998331069946, -0.48080000281333923, -0.7458999752998352, 1.2542999982833862, 1.1957999467849731, 1.1526000499725342, 1.1225999593734741, 1.090499997138977, 1.0894999504089355, 1.0779000520706177, 1.0405999422073364, 1.0391000509262085, 1.034500002861023, 1.020900011062622, 1.0189000368118286, 1.0110000371932983, 1.0087000131607056, 1.0055999755859375, 0.9934999942779541, 0.9799000024795532, 0.9783999919891357, 0.967199981212616, 0.9585000276565552, 0.9519000053405762, 0.9200000166893005, 0.9275000095367432, 0.9217000007629395, 0.9189000129699707, 0.8474000096321106, 0.7038999795913696, 0.8015999794006348, 0.7506999969482422, 0.652899980545044, 0.7315999865531921, 0.6940000057220459, 0.8452000021934509, 0.5156999826431274, 0.6376000046730042, 0.3034999966621399, 0.029899999499320984, 0.32249999046325684, 0.4359000027179718, 0.46959999203681946, 0.2303999960422516, -0.13830000162124634, -0.029400000348687172, -0.09539999812841415, -0.11800000071525574, 0.047200001776218414, 0.005200000014156103, -0.018699999898672104, 0.15479999780654907, -0.18729999661445618, -0.1476999968290329, 0.1996999979019165, 0.24050000309944153, 1.2369999885559082, 1.1756999492645264, 1.1527999639511108, 1.1333999633789062, 1.132699966430664, 1.1258000135421753, 1.0506999492645264, 1.0469000339508057, 1.0343999862670898, 1.0293999910354614, 1.0206999778747559, 1.0053000450134277, 0.9900000095367432, 0.984499990940094, 0.9807999730110168, 0.975600004196167, 0.9627000093460083, 0.9505000114440918, 0.9397000074386597, 0.9301000237464905, 0.9283000230789185, 0.9025999903678894, 0.7871999740600586, 0.8468000292778015, 0.7656000256538391, 0.6819000244140625, 0.7483000159263611, 0.7684999704360962, 0.6985999941825867, 0.6348999738693237, 0.6218000054359436, 0.47279998660087585, 0.5810999870300293, 0.6578999757766724, 0.6064000129699707, 0.6414999961853027, 0.38420000672340393, -0.0551999993622303, 0.3562000095844269, 0.44350001215934753, 0.17509999871253967, -0.09260000288486481, -0.09910000115633011, 0.12600000202655792, 0.3749000132083893, -0.2190999984741211, 0.002099999925121665, -0.11060000211000443, -0.551800012588501, -0.8248000144958496, -0.31769999861717224, -0.31540000438690186], \"logprob\": [20.0, 19.0, 18.0, 17.0, 16.0, 15.0, 14.0, 13.0, 12.0, 11.0, 10.0, 9.0, 8.0, 7.0, 6.0, 5.0, 4.0, 3.0, 2.0, 1.0, -5.820400238037109, -6.819399833679199, -8.225299835205078, -8.569299697875977, -8.573399543762207, -8.573800086975098, -8.574799537658691, -8.587599754333496, -8.591899871826172, -8.305700302124023, -8.59850025177002, -8.34589958190918, -8.645000457763672, -8.646400451660156, -8.146599769592285, -7.810999870300293, -8.665499687194824, -5.162799835205078, -8.168000221252441, -7.071000099182129, -5.321400165557861, -5.921999931335449, -4.276800155639648, -5.111700057983398, -7.328999996185303, -5.0457000732421875, -3.8975000381469727, -4.208499908447266, -5.389100074768066, -4.607399940490723, -5.089099884033203, -3.2471001148223877, -6.3292999267578125, -6.041900157928467, -5.6585001945495605, -5.963500022888184, -4.768700122833252, -4.069499969482422, -4.8292999267578125, -4.537499904632568, -4.955699920654297, -3.875, -4.890699863433838, -4.231500148773193, -4.731400012969971, -4.750899791717529, -5.02839994430542, -5.039700031280518, -5.067599773406982, -8.21619987487793, -8.229399681091309, -7.961999893188477, -7.611400127410889, -8.327500343322754, -8.346500396728516, -8.083800315856934, -7.387899875640869, -7.69189977645874, -8.434100151062012, -7.327099800109863, -8.429200172424316, -7.9156999588012695, -8.42590045928955, -8.428600311279297, -8.139200210571289, -7.071800231933594, -7.6072998046875, -8.187100410461426, -8.180000305175781, -5.660799980163574, -6.798500061035156, -4.233099937438965, -5.9430999755859375, -3.541300058364868, -6.025599956512451, -5.148600101470947, -4.0243000984191895, -5.711699962615967, -5.888000011444092, -5.251399993896484, -5.8140997886657715, -5.743199825286865, -4.790500164031982, -5.099999904632568, -5.66480016708374, -5.807600021362305, -5.208199977874756, -5.285600185394287, -4.757400035858154, -4.980999946594238, -4.7241997718811035, -3.9542999267578125, -5.281700134277344, -5.083899974822998, -4.9029998779296875, -4.658400058746338, -5.548600196838379, -5.455399990081787, -5.23390007019043, -5.375699996948242, -5.343400001525879, -5.061600208282471, -5.004799842834473, -8.0733003616333, -8.133399963378906, -8.17609977722168, -5.146999835968018, -6.770999908447266, -7.403500080108643, -8.254199981689453, -6.129000186920166, -8.295299530029297, -8.293600082397461, -8.307900428771973, -7.806099891662598, -6.476900100708008, -8.324199676513672, -8.3233003616333, -8.061800003051758, -7.240099906921387, -7.508399963378906, -7.672399997711182, -8.383000373840332, -5.093500137329102, -4.769700050354004, -6.527699947357178, -6.424900054931641, -6.432199954986572, -5.906099796295166, -4.571499824523926, -5.722899913787842, -5.511199951171875, -5.0395002365112305, -5.625400066375732, -5.36870002746582, -6.490699768066406, -5.117700099945068, -5.638599872589111, -4.44980001449585, -3.4437999725341797, -4.637499809265137, -5.077600002288818, -5.275599956512451, -4.786099910736084, -4.084499835968018, -4.3302001953125, -4.354400157928467, -4.433899879455566, -4.736199855804443, -4.731599807739258, -4.7779998779296875, -4.99399995803833, -4.768099784851074, -4.970200061798096, -5.0507001876831055, -5.088200092315674, -8.150099754333496, -7.518199920654297, -8.229100227355957, -7.964300155639648, -7.554699897766113, -7.5721001625061035, -8.03689956665039, -8.33549976348877, -5.333600044250488, -8.350299835205078, -8.360400199890137, -8.086099624633789, -8.386099815368652, -7.100100040435791, -8.103300094604492, -7.886600017547607, -8.116999626159668, -8.425100326538086, -7.742099761962891, -7.930600166320801, -7.589799880981445, -5.331299781799316, -4.3354997634887695, -5.964099884033203, -5.060400009155273, -4.700900077819824, -5.536600112915039, -5.865300178527832, -5.4344000816345215, -5.020199775695801, -4.9293999671936035, -4.263999938964844, -5.164100170135498, -5.7256999015808105, -5.72730016708374, -5.906400203704834, -4.9446001052856445, -3.528899908065796, -5.045100212097168, -5.337500095367432, -4.578199863433838, -4.351500034332275, -4.399899959564209, -4.834000110626221, -5.316299915313721, -4.799900054931641, -5.0142998695373535, -4.933199882507324, -4.867599964141846, -4.770999908447266, -5.077099800109863, -5.098700046539307]}, \"token.table\": {\"Topic\": [1, 2, 3, 4, 2, 2, 3, 2, 1, 2, 3, 4, 1, 2, 3, 4, 1, 2, 3, 4, 1, 1, 3, 2, 4, 1, 2, 3, 4, 1, 2, 3, 4, 3, 4, 1, 2, 1, 2, 3, 4, 1, 2, 3, 4, 1, 2, 3, 1, 2, 3, 4, 1, 2, 3, 4, 1, 2, 1, 2, 3, 4, 4, 2, 1, 2, 3, 4, 1, 2, 3, 4, 1, 2, 3, 4, 1, 1, 2, 3, 4, 1, 3, 4, 1, 2, 3, 4, 1, 1, 2, 3, 4, 4, 1, 2, 3, 3, 1, 2, 3, 4, 1, 2, 3, 4, 1, 2, 3, 4, 2, 3, 1, 3, 4, 1, 2, 3, 4, 1, 2, 3, 4, 1, 1, 2, 3, 1, 2, 3, 4, 1, 2, 3, 4, 1, 2, 3, 4, 3, 1, 2, 3, 4, 1, 2, 3, 4, 1, 3, 1, 2, 3, 4, 1, 2, 3, 4, 1, 2, 3, 4, 2, 4, 1, 2, 3, 4, 1, 2, 1, 2, 3, 4, 1, 2, 3, 4, 1, 2, 3, 4, 1, 2, 1, 2, 3, 4, 1, 2, 3, 4, 1, 2, 3, 4, 1, 2, 3, 4, 1, 2, 3, 4, 1, 2, 3, 4, 1, 2, 3, 4, 1, 4, 3, 4, 1, 2, 3, 4, 1, 2, 3, 4, 1, 3, 1, 2, 3, 4, 1, 2, 3, 4, 2, 3, 1, 2, 3, 4, 1, 2, 3, 4, 1, 2, 3, 4, 1, 2, 3, 4, 1, 1, 2, 3, 4, 1, 2, 3, 4, 1, 2, 3, 4, 1, 2, 3, 4, 1, 2, 3, 4, 1, 2, 3, 4, 1, 2, 3, 4, 1, 2, 4, 1, 2, 3, 4, 1, 2, 4, 1, 2, 3, 4, 1, 1, 2, 4, 3, 2, 3, 2, 4, 1, 2, 3, 4, 1, 1, 2, 3, 4, 1, 1, 4, 1, 2, 3, 4, 2, 4, 1, 2, 3, 4, 1, 2, 3, 4, 2, 4, 1, 1, 1, 2, 3, 4, 1, 2, 3, 4, 1, 2, 3, 4, 1, 2, 3, 4, 1, 2, 3, 4, 1, 2, 3, 4, 1, 2, 3, 4, 1, 2, 3, 4, 1, 2, 3, 4, 1, 2, 3, 4, 1, 2, 4, 1, 3, 4, 1, 2, 4, 1, 3, 1, 2, 3, 4, 1, 2, 3, 4, 1, 2, 3, 4, 1, 2, 3, 4, 1, 2, 3, 4, 1, 2, 3, 4, 1, 2, 3, 4, 1, 2, 3, 4, 4, 1, 2, 4, 1, 2, 4, 1, 1, 2, 3, 4, 1, 2, 1, 2, 3, 4, 1, 2, 3, 4, 2, 3, 2, 4, 1, 2, 3, 4, 1, 2, 3, 4, 1, 2, 3, 4, 1, 2, 3, 4, 2, 3, 4, 1, 2, 3, 4, 1, 2, 3, 4, 1, 1, 2, 1, 2, 4, 1, 2, 3, 4, 1, 2, 3, 4, 1, 2, 3, 4, 1, 2, 3, 4, 1, 2, 3, 4, 1, 2, 3, 4, 1, 2, 3, 4, 1, 2, 3, 4, 1, 2, 3, 4, 1, 2, 3, 1, 3, 4], \"Freq\": [0.18836338818073273, 0.5023024082183838, 0.12557560205459595, 0.18836338818073273, 0.7141798138618469, 0.3466947674751282, 0.6933895349502563, 0.712308406829834, 0.4550701081752777, 0.16074615716934204, 0.20149870216846466, 0.18338645994663239, 0.40178945660591125, 0.24318835139274597, 0.24318835139274597, 0.1110207736492157, 0.22528889775276184, 0.17701269686222076, 0.4344857335090637, 0.1609206348657608, 0.7660353183746338, 0.3469807207584381, 0.6939614415168762, 0.36210715770721436, 0.36210715770721436, 0.5737345218658447, 0.09562242031097412, 0.19124484062194824, 0.133871391415596, 0.2768487334251404, 0.35990336537361145, 0.11073949187994003, 0.2630062997341156, 0.5257256627082825, 0.26286283135414124, 0.35354316234588623, 0.7070863246917725, 0.2847185432910919, 0.3709969222545624, 0.1294175237417221, 0.21569587290287018, 0.1783369928598404, 0.5350109338760376, 0.0891684964299202, 0.1783369928598404, 0.2643228769302368, 0.6608071327209473, 0.1321614384651184, 0.6875643730163574, 0.20626932382583618, 0.06875643879175186, 0.06875643879175186, 0.2570152282714844, 0.21417935192584991, 0.1285076141357422, 0.38552284240722656, 0.35450196266174316, 0.7090039253234863, 0.11870519071817398, 0.5935259461402893, 0.11870519071817398, 0.11870519071817398, 0.7288540601730347, 0.7109992504119873, 0.691076934337616, 0.07220206409692764, 0.09283122420310974, 0.15471871197223663, 0.25151199102401733, 0.28744226694107056, 0.22456428408622742, 0.24252942204475403, 0.16716572642326355, 0.30647051334381104, 0.05572190880775452, 0.4736362397670746, 0.6851837038993835, 0.7332501411437988, 0.146650031208992, 0.146650031208992, 0.146650031208992, 0.3072320818901062, 0.1536160409450531, 0.4608481228351593, 0.34368786215782166, 0.3600539565086365, 0.18002697825431824, 0.09819653630256653, 0.6824115514755249, 0.10965990275144577, 0.16448985040187836, 0.5482994914054871, 0.10965990275144577, 0.7326667904853821, 0.17667515575885773, 0.5300254821777344, 0.17667515575885773, 0.6914022564888, 0.15933795273303986, 0.15933795273303986, 0.6373518109321594, 0.07966897636651993, 0.5242301821708679, 0.14079324901103973, 0.17374487221240997, 0.16176246106624603, 0.34339070320129395, 0.15608668327331543, 0.06243467330932617, 0.4370427131652832, 0.709703803062439, 0.3548519015312195, 0.2715054154396057, 0.2715054154396057, 0.5430108308792114, 0.22761137783527374, 0.20940247178077698, 0.400596022605896, 0.1547757387161255, 0.2529616951942444, 0.3003920018672943, 0.07114547491073608, 0.3794425129890442, 0.6823756694793701, 0.21227796375751495, 0.636833906173706, 0.21227796375751495, 0.6294047832489014, 0.12356413155794144, 0.1042572408914566, 0.14287103712558746, 0.6448239088058472, 0.07265621423721313, 0.027246080338954926, 0.263378769159317, 0.6720101237297058, 0.09431720525026321, 0.03536895290017128, 0.18863441050052643, 0.6902820467948914, 0.14281602203845978, 0.19042135775089264, 0.5236587524414062, 0.14281602203845978, 0.15953856706619263, 0.19942320883274078, 0.5982696413993835, 0.03988464176654816, 0.34529390931129456, 0.6905878186225891, 0.3967524766921997, 0.24415536224842072, 0.17930158972740173, 0.18311652541160583, 0.29545095562934875, 0.44317641854286194, 0.09848365187644958, 0.14772547781467438, 0.17276501655578613, 0.1343727856874466, 0.3359319865703583, 0.36472615599632263, 0.36774423718452454, 0.551616370677948, 0.24716629087924957, 0.14028356969356537, 0.2070852667093277, 0.400810182094574, 0.3531873822212219, 0.7063747644424438, 0.24205347895622253, 0.2349342554807663, 0.28120917081832886, 0.24205347895622253, 0.09388136863708496, 0.3911723792552948, 0.01564689539372921, 0.5007006525993347, 0.05306794121861458, 0.10613588243722916, 0.5306794047355652, 0.3184076249599457, 0.2646107077598572, 0.5292214155197144, 0.3930239677429199, 0.3056853115558624, 0.18616923689842224, 0.11721766740083694, 0.3329469859600067, 0.3218487799167633, 0.2663576006889343, 0.07768763601779938, 0.3130599558353424, 0.24500344693660736, 0.1565299779176712, 0.2858373522758484, 0.3451283574104309, 0.37964117527008057, 0.1380513459444046, 0.1380513459444046, 0.5182169675827026, 0.15059295296669006, 0.15945136547088623, 0.17273898422718048, 0.5637477040290833, 0.09624961018562317, 0.09624961018562317, 0.2474989891052246, 0.2334122210741043, 0.16338855028152466, 0.1867297738790512, 0.4434832036495209, 0.2693571150302887, 0.5387142300605774, 0.6999475359916687, 0.34997376799583435, 0.21638450026512146, 0.21638450026512146, 0.21638450026512146, 0.4327690005302429, 0.2354889214038849, 0.18839113414287567, 0.4709778428077698, 0.09419556707143784, 0.3455658257007599, 0.6911316514015198, 0.2017374187707901, 0.34207648038864136, 0.0789407268166542, 0.38593244552612305, 0.5167577266693115, 0.10856254398822784, 0.18889883160591125, 0.18455633521080017, 0.7101161479949951, 0.17752903699874878, 0.2669113874435425, 0.376816064119339, 0.23551003634929657, 0.12560535967350006, 0.14346760511398315, 0.09564507007598877, 0.5260478854179382, 0.23911267518997192, 0.2500866949558258, 0.28713658452033997, 0.2639804184436798, 0.2037743479013443, 0.2384246438741684, 0.39615169167518616, 0.2200842797756195, 0.14672285318374634, 0.7688488960266113, 0.33544331789016724, 0.3080601990222931, 0.16429877281188965, 0.18483611941337585, 0.17344824969768524, 0.17344824969768524, 0.5203447341918945, 0.17344824969768524, 0.15189100801944733, 0.6075640320777893, 0.15189100801944733, 0.15189100801944733, 0.4512190520763397, 0.1969607025384903, 0.2041229009628296, 0.14682523906230927, 0.4423924684524536, 0.05308709666132927, 0.42469677329063416, 0.07078279554843903, 0.2664615213871002, 0.22078241407871246, 0.31975382566452026, 0.1903296709060669, 0.11351022869348526, 0.17837321758270264, 0.6324141621589661, 0.08107873797416687, 0.6936941146850586, 0.08671176433563232, 0.260135293006897, 0.2987164556980133, 0.11330623924732208, 0.13905766606330872, 0.4429244101047516, 0.27251744270324707, 0.27251744270324707, 0.5450348854064941, 0.27748915553092957, 0.1469060182571411, 0.39174938201904297, 0.17955181002616882, 0.6827929615974426, 0.18092864751815796, 0.18092864751815796, 0.5427859425544739, 0.6910909414291382, 0.20879052579402924, 0.6263715624809265, 0.2742447555065155, 0.548489511013031, 0.5777860879898071, 0.27819332480430603, 0.06419845670461655, 0.0855979397892952, 0.6870884299278259, 0.276708722114563, 0.4611812233924866, 0.11529530584812164, 0.16141341626644135, 0.6822283267974854, 0.2705540955066681, 0.5411081910133362, 0.14887967705726624, 0.14887967705726624, 0.5955187082290649, 0.14887967705726624, 0.36461135745048523, 0.7292227149009705, 0.8292185068130493, 0.06378603726625443, 0.06378603726625443, 0.06378603726625443, 0.8305695056915283, 0.07119167596101761, 0.04746111482381821, 0.07119167596101761, 0.36361682415008545, 0.7272336483001709, 0.6832236647605896, 0.6840308904647827, 0.09958024322986603, 0.2987407445907593, 0.09958024322986603, 0.49790123105049133, 0.15459269285202026, 0.2364358901977539, 0.31827908754348755, 0.29099801182746887, 0.3266792297363281, 0.2976410686969757, 0.2686029374599457, 0.10889308154582977, 0.4737197160720825, 0.21532714366912842, 0.14534582197666168, 0.1614953577518463, 0.5411791205406189, 0.17287665605545044, 0.15032753348350525, 0.12777839601039886, 0.3859095275402069, 0.2523254454135895, 0.21521876752376556, 0.14842674136161804, 0.3032627999782562, 0.11866804957389832, 0.42193084955215454, 0.15822406113147736, 0.3979288339614868, 0.26356324553489685, 0.1653730273246765, 0.1705409288406372, 0.3238927125930786, 0.15756942331790924, 0.2888772785663605, 0.22760027647018433, 0.47457486391067505, 0.1868007332086563, 0.20194675028324127, 0.1363140493631363, 0.21671348810195923, 0.21671348810195923, 0.43342697620391846, 0.6171488165855408, 0.20571628212928772, 0.20571628212928772, 0.6179629564285278, 0.20598764717578888, 0.20598764717578888, 0.3455726206302643, 0.6911452412605286, 0.3571312725543976, 0.10853990167379379, 0.2100772261619568, 0.3256196975708008, 0.45248091220855713, 0.14158593118190765, 0.2148541659116745, 0.19208161532878876, 0.2667481005191803, 0.5334962010383606, 0.2667481005191803, 0.2667481005191803, 0.2593388259410858, 0.2593388259410858, 0.1037355363368988, 0.3630743622779846, 0.22080948948860168, 0.5219133496284485, 0.1003679484128952, 0.16058871150016785, 0.590937077999115, 0.21104896068572998, 0.12662938237190247, 0.08441958576440811, 0.6497427225112915, 0.10479721426963806, 0.14671610295772552, 0.08383776992559433, 0.4476473927497864, 0.09947719424962997, 0.12932035326957703, 0.31832703948020935, 0.7245984673500061, 0.26787689328193665, 0.5357537865638733, 0.26787689328193665, 0.7691134214401245, 0.7184106111526489, 0.35920530557632446, 0.682583212852478, 0.1789254993200302, 0.1968180537223816, 0.053677648305892944, 0.5725616216659546, 0.26360976696014404, 0.5272195339202881, 0.11315538734197617, 0.21216635406017303, 0.2687440514564514, 0.4101882874965668, 0.167392760515213, 0.2510891556739807, 0.4603300988674164, 0.12554457783699036, 0.34748002886772156, 0.6949600577354431, 0.3641291856765747, 0.7282583713531494, 0.3874889612197876, 0.34302300214767456, 0.18103991448879242, 0.08893188834190369, 0.336795449256897, 0.27822232246398926, 0.2489357590675354, 0.13911116123199463, 0.48571228981018066, 0.13459497690200806, 0.25163406133651733, 0.1287430226802826, 0.568792462348938, 0.16465045511722565, 0.10477755963802338, 0.16465045511722565, 0.1498143970966339, 0.5992575883865356, 0.1498143970966339, 0.608355700969696, 0.1448465883731842, 0.05793863534927368, 0.20278522372245789, 0.15326672792434692, 0.4023251533508301, 0.15326672792434692, 0.2873751223087311, 0.6824184060096741, 0.267033189535141, 0.8010995984077454, 0.18314240872859955, 0.18314240872859955, 0.7325696349143982, 0.21600481867790222, 0.13800308108329773, 0.4200093746185303, 0.2220049500465393, 0.14253737032413483, 0.09070559591054916, 0.5442336201667786, 0.2332429736852646, 0.2974521815776825, 0.13923293352127075, 0.2658083438873291, 0.2974521815776825, 0.11803838610649109, 0.28147614002227783, 0.5266327857971191, 0.08171888440847397, 0.5023506879806519, 0.15572871267795563, 0.18586976826190948, 0.15572871267795563, 0.10522863268852234, 0.21045726537704468, 0.4735288619995117, 0.1841501146554947, 0.27990007400512695, 0.13171768188476562, 0.16464710235595703, 0.4280824661254883, 0.2832328975200653, 0.19740475714206696, 0.35189542174339294, 0.1716563105583191, 0.18173648416996002, 0.19991011917591095, 0.21808376908302307, 0.3998202383518219, 0.3420862555503845, 0.11402875185012817, 0.5701437592506409, 0.1819583922624588, 0.1819583922624588, 0.5458751916885376], \"Term\": [\"activ\", \"activ\", \"activ\", \"activ\", \"alot\", \"amus\", \"amus\", \"ancesteri\", \"ancestri\", \"ancestri\", \"ancestri\", \"ancestri\", \"andm\", \"andm\", \"andm\", \"andm\", \"answer\", \"answer\", \"answer\", \"answer\", \"astound\", \"attract\", \"attract\", \"author\", \"author\", \"awesom\", \"awesom\", \"awesom\", \"awesom\", \"best\", \"best\", \"best\", \"best\", \"blue\", \"blue\", \"boom\", \"boom\", \"bought\", \"bought\", \"bought\", \"bought\", \"bought_gift\", \"bought_gift\", \"bought_gift\", \"bought_gift\", \"certainli\", \"certainli\", \"certainli\", \"choic\", \"choic\", \"choic\", \"choic\", \"christma\", \"christma\", \"christma\", \"christma\", \"coffe\", \"coffe\", \"comparison\", \"comparison\", \"comparison\", \"comparison\", \"consumpt\", \"convers\", \"custom_servic\", \"custom_servic\", \"custom_servic\", \"custom_servic\", \"data\", \"data\", \"data\", \"data\", \"daughter\", \"daughter\", \"daughter\", \"daughter\", \"dear\", \"deep\", \"deep\", \"deep\", \"deep\", \"deeper\", \"deeper\", \"deeper\", \"definit\", \"definit\", \"definit\", \"definit\", \"delux\", \"describ\", \"describ\", \"describ\", \"describ\", \"detox\", \"dollar\", \"dollar\", \"dollar\", \"eager\", \"earli\", \"earli\", \"earli\", \"earli\", \"easi\", \"easi\", \"easi\", \"easi\", \"easi_follow\", \"easi_follow\", \"easi_follow\", \"easi_follow\", \"elit\", \"elit\", \"exceed\", \"exceed\", \"exceed\", \"excit\", \"excit\", \"excit\", \"excit\", \"expect\", \"expect\", \"expect\", \"expect\", \"exposur\", \"express\", \"express\", \"express\", \"famili\", \"famili\", \"famili\", \"famili\", \"famili_histori\", \"famili_histori\", \"famili_histori\", \"famili_histori\", \"famili_tree\", \"famili_tree\", \"famili_tree\", \"famili_tree\", \"folk\", \"follow_instruct\", \"follow_instruct\", \"follow_instruct\", \"follow_instruct\", \"forward\", \"forward\", \"forward\", \"forward\", \"funni\", \"funni\", \"genet\", \"genet\", \"genet\", \"genet\", \"genet_marker\", \"genet_marker\", \"genet_marker\", \"genet_marker\", \"gift\", \"gift\", \"gift\", \"gift\", \"gift_daughter\", \"gift_daughter\", \"good\", \"good\", \"good\", \"good\", \"grandpa\", \"grandpa\", \"great\", \"great\", \"great\", \"great\", \"great_deal\", \"great_deal\", \"great_deal\", \"great_deal\", \"great_price\", \"great_price\", \"great_price\", \"great_price\", \"happili\", \"happili\", \"health\", \"health\", \"health\", \"health\", \"health_risk\", \"health_risk\", \"health_risk\", \"health_risk\", \"help\", \"help\", \"help\", \"help\", \"heritag\", \"heritag\", \"heritag\", \"heritag\", \"highli_recommend\", \"highli_recommend\", \"highli_recommend\", \"highli_recommend\", \"histori\", \"histori\", \"histori\", \"histori\", \"hope\", \"hope\", \"hope\", \"hope\", \"hubbi\", \"hubbi\", \"humor\", \"humor\", \"hypochondriac\", \"hypochondriac\", \"hypochondriac\", \"hypochondriac\", \"impress\", \"impress\", \"impress\", \"impress\", \"infant\", \"infant\", \"info\", \"info\", \"info\", \"info\", \"inform\", \"inform\", \"inform\", \"inform\", \"invest\", \"invest\", \"issu\", \"issu\", \"issu\", \"issu\", \"item\", \"item\", \"item\", \"item\", \"just\", \"just\", \"just\", \"just\", \"know\", \"know\", \"know\", \"know\", \"laid\", \"learn\", \"learn\", \"learn\", \"learn\", \"legit\", \"legit\", \"legit\", \"legit\", \"let_know\", \"let_know\", \"let_know\", \"let_know\", \"like\", \"like\", \"like\", \"like\", \"long_time\", \"long_time\", \"long_time\", \"long_time\", \"look\", \"look\", \"look\", \"look\", \"look_forward\", \"look_forward\", \"look_forward\", \"look_forward\", \"lot_inform\", \"lot_inform\", \"lot_inform\", \"love\", \"love\", \"love\", \"love\", \"luck\", \"luck\", \"luck\", \"mail\", \"mail\", \"mail\", \"mail\", \"manner\", \"marri\", \"marri\", \"marri\", \"mirror\", \"mistak\", \"mistak\", \"mom\", \"mom\", \"nativ_american\", \"nativ_american\", \"nativ_american\", \"nativ_american\", \"nerd\", \"nice\", \"nice\", \"nice\", \"nice\", \"nonetheless\", \"okay\", \"okay\", \"outcom\", \"outcom\", \"outcom\", \"outcom\", \"outlook\", \"outlook\", \"peac\", \"peac\", \"peac\", \"peac\", \"peac_mind\", \"peac_mind\", \"peac_mind\", \"peac_mind\", \"perfectli\", \"perfectli\", \"pleasant\", \"portal\", \"pretti_cool\", \"pretti_cool\", \"pretti_cool\", \"pretti_cool\", \"price\", \"price\", \"price\", \"price\", \"process\", \"process\", \"process\", \"process\", \"product\", \"product\", \"product\", \"product\", \"provid\", \"provid\", \"provid\", \"provid\", \"purchas\", \"purchas\", \"purchas\", \"purchas\", \"question\", \"question\", \"question\", \"question\", \"realli\", \"realli\", \"realli\", \"realli\", \"receiv\", \"receiv\", \"receiv\", \"receiv\", \"recommend\", \"recommend\", \"recommend\", \"recommend\", \"reconnect\", \"reconnect\", \"reconnect\", \"reliabl\", \"reliabl\", \"reliabl\", \"replac\", \"replac\", \"replac\", \"repli\", \"repli\", \"report\", \"report\", \"report\", \"report\", \"result\", \"result\", \"result\", \"result\", \"ring\", \"ring\", \"ring\", \"ring\", \"said\", \"said\", \"said\", \"said\", \"sale\", \"sale\", \"sale\", \"sale\", \"saliva_sampl\", \"saliva_sampl\", \"saliva_sampl\", \"saliva_sampl\", \"send_sampl\", \"send_sampl\", \"send_sampl\", \"send_sampl\", \"servic\", \"servic\", \"servic\", \"servic\", \"skimpi\", \"smaller\", \"smaller\", \"smaller\", \"softwar\", \"soooo\", \"soooo\", \"specialist\", \"spit_tube\", \"spit_tube\", \"spit_tube\", \"spit_tube\", \"stat\", \"stat\", \"super_easi\", \"super_easi\", \"super_easi\", \"super_easi\", \"swab\", \"swab\", \"swab\", \"swab\", \"tact\", \"tact\", \"tape\", \"tape\", \"test\", \"test\", \"test\", \"test\", \"thing\", \"thing\", \"thing\", \"thing\", \"time\", \"time\", \"time\", \"time\", \"took_week\", \"took_week\", \"took_week\", \"took_week\", \"total_worth\", \"total_worth\", \"total_worth\", \"tree\", \"tree\", \"tree\", \"tree\", \"tube\", \"tube\", \"tube\", \"tube\", \"unabl\", \"vision\", \"vision\", \"visual\", \"visual\", \"visual\", \"wait\", \"wait\", \"wait\", \"wait\", \"wait_result\", \"wait_result\", \"wait_result\", \"wait_result\", \"want\", \"want\", \"want\", \"want\", \"want_know\", \"want_know\", \"want_know\", \"want_know\", \"week\", \"week\", \"week\", \"week\", \"week_later\", \"week_later\", \"week_later\", \"week_later\", \"work\", \"work\", \"work\", \"work\", \"worth\", \"worth\", \"worth\", \"worth\", \"worth_money\", \"worth_money\", \"worth_money\", \"worth_money\", \"worth_price\", \"worth_price\", \"worth_price\", \"yesterday\", \"yesterday\", \"yesterday\"]}, \"R\": 20, \"lambda.step\": 0.01, \"plot.opts\": {\"xlab\": \"PC1\", \"ylab\": \"PC2\"}, \"topic.order\": [4, 1, 3, 2]};\n",
       "\n",
       "function LDAvis_load_lib(url, callback){\n",
       "  var s = document.createElement('script');\n",
       "  s.src = url;\n",
       "  s.async = true;\n",
       "  s.onreadystatechange = s.onload = callback;\n",
       "  s.onerror = function(){console.warn(\"failed to load library \" + url);};\n",
       "  document.getElementsByTagName(\"head\")[0].appendChild(s);\n",
       "}\n",
       "\n",
       "if(typeof(LDAvis) !== \"undefined\"){\n",
       "   // already loaded: just create the visualization\n",
       "   !function(LDAvis){\n",
       "       new LDAvis(\"#\" + \"ldavis_el202881122765630721318489984\", ldavis_el202881122765630721318489984_data);\n",
       "   }(LDAvis);\n",
       "}else if(typeof define === \"function\" && define.amd){\n",
       "   // require.js is available: use it to load d3/LDAvis\n",
       "   require.config({paths: {d3: \"https://cdnjs.cloudflare.com/ajax/libs/d3/3.5.5/d3.min\"}});\n",
       "   require([\"d3\"], function(d3){\n",
       "      window.d3 = d3;\n",
       "      LDAvis_load_lib(\"https://cdn.rawgit.com/bmabey/pyLDAvis/files/ldavis.v1.0.0.js\", function(){\n",
       "        new LDAvis(\"#\" + \"ldavis_el202881122765630721318489984\", ldavis_el202881122765630721318489984_data);\n",
       "      });\n",
       "    });\n",
       "}else{\n",
       "    // require.js not available: dynamically load d3 & LDAvis\n",
       "    LDAvis_load_lib(\"https://cdnjs.cloudflare.com/ajax/libs/d3/3.5.5/d3.min.js\", function(){\n",
       "         LDAvis_load_lib(\"https://cdn.rawgit.com/bmabey/pyLDAvis/files/ldavis.v1.0.0.js\", function(){\n",
       "                 new LDAvis(\"#\" + \"ldavis_el202881122765630721318489984\", ldavis_el202881122765630721318489984_data);\n",
       "            })\n",
       "         });\n",
       "}\n",
       "</script>"
      ],
      "text/plain": [
       "PreparedData(topic_coordinates=              x         y  topics  cluster       Freq\n",
       "topic                                                \n",
       "3     -0.019024 -0.022547       1        1  36.061848\n",
       "0      0.000295 -0.004228       2        1  22.850863\n",
       "2      0.033478 -0.000680       3        1  20.840254\n",
       "1     -0.014749  0.027455       4        1  20.247042, topic_info=     Category         Freq            Term        Total  loglift  logprob\n",
       "term                                                                     \n",
       "254   Default   629.000000            test   629.000000  20.0000  20.0000\n",
       "462   Default   194.000000            love   194.000000  19.0000  19.0000\n",
       "886   Default   110.000000       want_know   110.000000  18.0000  18.0000\n",
       "272   Default   166.000000            wait   166.000000  17.0000  17.0000\n",
       "133   Default   272.000000            know   272.000000  16.0000  16.0000\n",
       "205   Default   285.000000          report   285.000000  15.0000  15.0000\n",
       "656   Default    63.000000      great_deal    63.000000  14.0000  14.0000\n",
       "1417  Default    61.000000    look_forward    61.000000  13.0000  13.0000\n",
       "273   Default    77.000000     wait_result    77.000000  12.0000  12.0000\n",
       "125   Default   114.000000            info   114.000000  11.0000  11.0000\n",
       "104   Default   280.000000           great   280.000000  10.0000  10.0000\n",
       "103   Default   149.000000            good   149.000000   9.0000   9.0000\n",
       "533   Default   126.000000          expect   126.000000   8.0000   8.0000\n",
       "881   Default   110.000000  famili_histori   110.000000   7.0000   7.0000\n",
       "652   Default   104.000000            gift   104.000000   6.0000   6.0000\n",
       "698   Default    55.000000       spit_tube    55.000000   5.0000   5.0000\n",
       "640   Default    96.000000     easi_follow    96.000000   4.0000   4.0000\n",
       "208   Default  1009.000000          result  1009.000000   3.0000   3.0000\n",
       "686   Default   109.000000           price   109.000000   2.0000   2.0000\n",
       "132   Default   215.000000            just   215.000000   1.0000   1.0000\n",
       "1491   Topic1    34.848980       peac_mind    42.139759   0.8300  -5.8204\n",
       "1490   Topic1    12.832952            peac    15.677412   0.8197  -6.8194\n",
       "1568   Topic1     3.146202         astound     3.916269   0.8010  -8.2253\n",
       "1537   Topic1     2.230351     nonetheless     2.931570   0.7466  -8.5693\n",
       "1165   Topic1     2.221290         exposur     2.930937   0.7427  -8.5734\n",
       "1167   Topic1     2.220422           delux     2.930783   0.7424  -8.5738\n",
       "1123   Topic1     2.218054           unabl     2.930753   0.7413  -8.5748\n",
       "1587   Topic1     2.189831        pleasant     2.927299   0.7297  -8.5876\n",
       "1598   Topic1     2.180601      specialist     2.930046   0.7245  -8.5919\n",
       "1183   Topic1     2.902905            laid     3.901937   0.7242  -8.3057\n",
       "...       ...          ...             ...          ...      ...      ...\n",
       "462    Topic4    86.378357            love   194.164062   0.7872  -4.3355\n",
       "315    Topic4    16.947962        daughter    35.892525   0.8468  -5.9641\n",
       "640    Topic4    41.838024     easi_follow    96.100449   0.7656  -5.0604\n",
       "103    Topic4    59.937893            good   149.696793   0.6819  -4.7009\n",
       "278    Topic4    25.988199            work    60.735962   0.7483  -5.5366\n",
       "815    Topic4    18.706810            hope    42.842659   0.7685  -5.8653\n",
       "913    Topic4    28.785467      super_easi    70.699242   0.6986  -5.4344\n",
       "125    Topic4    43.554214            info   114.009590   0.6349  -5.0202\n",
       "533    Topic4    47.696793          expect   126.501373   0.6218  -4.9294\n",
       "205    Topic4    92.783997          report   285.609253   0.4728  -4.2640\n",
       "652    Topic4    37.716579            gift   104.187759   0.5811  -5.1641\n",
       "981    Topic4    21.510176     worth_money    55.024727   0.6579  -5.7257\n",
       "213    Topic4    21.475433            said    57.839390   0.6064  -5.7273\n",
       "519    Topic4    17.954691        christma    46.689842   0.6415  -5.9064\n",
       "274    Topic4    46.977180            want   158.008591   0.3842  -4.9446\n",
       "208    Topic4   193.516525          result  1009.987366  -0.0552  -3.5289\n",
       "110    Topic4    42.482338            help   146.936707   0.3562  -5.0451\n",
       "225    Topic4    31.714211          servic   100.525551   0.4435  -5.3375\n",
       "104    Topic4    67.762520           great   280.929657   0.1751  -4.5782\n",
       "126    Topic4    85.005981          inform   460.563995  -0.0926  -4.3515\n",
       "12     Topic4    80.993118        ancestri   441.690186  -0.0991  -4.3999\n",
       "403    Topic4    52.469410          receiv   228.470718   0.1260  -4.8340\n",
       "686    Topic4    32.391575           price   109.966385   0.3749  -5.3163\n",
       "71     Topic4    54.288708            easi   333.822815  -0.2191  -4.7999\n",
       "132    Topic4    43.811962            just   215.925110   0.0021  -5.0143\n",
       "101    Topic4    47.514252           genet   262.128174  -0.1106  -4.9332\n",
       "352    Topic4    50.734379          health   435.087982  -0.5518  -4.8676\n",
       "254    Topic4    55.882130            test   629.695374  -0.8248  -4.7710\n",
       "136    Topic4    41.148010            like   279.243530  -0.3177  -5.0771\n",
       "133    Topic4    40.267963            know   272.622833  -0.3154  -5.0987\n",
       "\n",
       "[228 rows x 6 columns], token_table=      Topic      Freq         Term\n",
       "term                              \n",
       "784       1  0.188363        activ\n",
       "784       2  0.502302        activ\n",
       "784       3  0.125576        activ\n",
       "784       4  0.188363        activ\n",
       "1311      2  0.714180         alot\n",
       "1510      2  0.346695         amus\n",
       "1510      3  0.693390         amus\n",
       "1067      2  0.712308    ancesteri\n",
       "12        1  0.455070     ancestri\n",
       "12        2  0.160746     ancestri\n",
       "12        3  0.201499     ancestri\n",
       "12        4  0.183386     ancestri\n",
       "13        1  0.401789         andm\n",
       "13        2  0.243188         andm\n",
       "13        3  0.243188         andm\n",
       "13        4  0.111021         andm\n",
       "14        1  0.225289       answer\n",
       "14        2  0.177013       answer\n",
       "14        3  0.434486       answer\n",
       "14        4  0.160921       answer\n",
       "1568      1  0.766035      astound\n",
       "1589      1  0.346981      attract\n",
       "1589      3  0.693961      attract\n",
       "1602      2  0.362107       author\n",
       "1602      4  0.362107       author\n",
       "468       1  0.573735       awesom\n",
       "468       2  0.095622       awesom\n",
       "468       3  0.191245       awesom\n",
       "468       4  0.133871       awesom\n",
       "293       1  0.276849         best\n",
       "...     ...       ...          ...\n",
       "886       1  0.118038    want_know\n",
       "886       2  0.281476    want_know\n",
       "886       3  0.526633    want_know\n",
       "886       4  0.081719    want_know\n",
       "275       1  0.502351         week\n",
       "275       2  0.155729         week\n",
       "275       3  0.185870         week\n",
       "275       4  0.155729         week\n",
       "820       1  0.105229   week_later\n",
       "820       2  0.210457   week_later\n",
       "820       3  0.473529   week_later\n",
       "820       4  0.184150   week_later\n",
       "278       1  0.279900         work\n",
       "278       2  0.131718         work\n",
       "278       3  0.164647         work\n",
       "278       4  0.428082         work\n",
       "279       1  0.283233        worth\n",
       "279       2  0.197405        worth\n",
       "279       3  0.351895        worth\n",
       "279       4  0.171656        worth\n",
       "981       1  0.181736  worth_money\n",
       "981       2  0.199910  worth_money\n",
       "981       3  0.218084  worth_money\n",
       "981       4  0.399820  worth_money\n",
       "969       1  0.342086  worth_price\n",
       "969       2  0.114029  worth_price\n",
       "969       3  0.570144  worth_price\n",
       "1112      1  0.181958    yesterday\n",
       "1112      3  0.181958    yesterday\n",
       "1112      4  0.545875    yesterday\n",
       "\n",
       "[518 rows x 3 columns], R=20, lambda_step=0.01, plot_opts={'xlab': 'PC1', 'ylab': 'PC2'}, topic_order=[4, 1, 3, 2])"
      ]
     },
     "execution_count": 67,
     "metadata": {},
     "output_type": "execute_result"
    }
   ],
   "source": [
    "#Visualize positive topics\n",
    "pyLDAvis.gensim.prepare(pos_lda, pos_doc_term_mx, pos_dictionary, R = 20)"
   ]
  },
  {
   "cell_type": "code",
   "execution_count": 68,
   "metadata": {},
   "outputs": [
    {
     "data": {
      "text/html": [
       "<div>\n",
       "<style scoped>\n",
       "    .dataframe tbody tr th:only-of-type {\n",
       "        vertical-align: middle;\n",
       "    }\n",
       "\n",
       "    .dataframe tbody tr th {\n",
       "        vertical-align: top;\n",
       "    }\n",
       "\n",
       "    .dataframe thead th {\n",
       "        text-align: right;\n",
       "    }\n",
       "</style>\n",
       "<table border=\"1\" class=\"dataframe\">\n",
       "  <thead>\n",
       "    <tr style=\"text-align: right;\">\n",
       "      <th></th>\n",
       "      <th>doc_no</th>\n",
       "      <th>dominant_topic</th>\n",
       "      <th>topic_perc_contrib</th>\n",
       "      <th>keywords</th>\n",
       "      <th>text</th>\n",
       "    </tr>\n",
       "  </thead>\n",
       "  <tbody>\n",
       "    <tr>\n",
       "      <th>0</th>\n",
       "      <td>0</td>\n",
       "      <td>1.0</td>\n",
       "      <td>0.654</td>\n",
       "      <td>result, report, love, inform, ancestri, great, good, test, easi, receiv</td>\n",
       "      <td>Oct 2018 Update adds Alzheimer's section at end.\\n\\nI had DNA analysis from 23andme. My wife had DNA analysis from both Ancestry(Anc) and 23andme. This review is my comparison of the two. I highly recommend secondary analysis of your results by Promethease, see further discussion at end of this review. Basically I like 23andme. If 23andme offers a lower cost ancestry only test, this is OK. For developing an ancestry tree, Ancestry.com is MUCH better IF you signup separately for Ancestry's subscription search service. Do not use Anc &amp; Promethease for Alzheimer's - see discussion at end of this review.\\n\\nTAKING TEST and SIGNUP – Very similar test taking. 23’s signup was more secure. Anc’s was easier, but they automatically put my wife’s test on my previously existing Ancestry account.\\n\\nWaiting on RESULTS – Both send emails confirming sample receipt and when results were available. After logon, 23 provided step by step progress reports on the analysis process. The analysis process ...</td>\n",
       "    </tr>\n",
       "    <tr>\n",
       "      <th>1</th>\n",
       "      <td>1</td>\n",
       "      <td>3.0</td>\n",
       "      <td>0.640</td>\n",
       "      <td>result, test, inform, ancestri, easi, health, famili, like, highli_recommend, genet</td>\n",
       "      <td>The testing is fairly simple: You receive a test vial (log in and register it on their website) and provide saliva up to the control line. Make sure you don't eat or drink for 30 to 45 minutes before providing your saliva sample. It is best not to brush teeth beforehand since it will only wash away valuable DNA and you want to ensure your sample has enough to process. Yes I had a few failed kits in my life and that set us back months of getting results on those kits. Anyway it’s fairly simple to provide saliva samples. Simple enough I had my 5 1/2 year old done and she was the easiest one to process. Then you place the kit back into included return envelope and wait for about 6 to 8 weeks for it to process. All while keeping tabs of the process online as each step finishes.\\n\\nI started using 23andme in 2012 before the FDA had gotten nasty and demanded they stop providing such detailed health analysis. Most of the kits I purchased (all but 2) included the ancestry with health but t...</td>\n",
       "    </tr>\n",
       "    <tr>\n",
       "      <th>2</th>\n",
       "      <td>2</td>\n",
       "      <td>2.0</td>\n",
       "      <td>0.920</td>\n",
       "      <td>result, test, ancestri, inform, health, great, wait, receiv, report, know</td>\n",
       "      <td>Excellent, but I would get the $99 kit over the $199 one. Then go to Promethease.com and dna.land.com and import your results (when their available from 23andMe), For $5.00 they give you loads of medical and other misc. insights from your genetic information. Importing is quick and easy, do it right from the Promethease website (links to 23andMe directly and grabs your data. dna.land requires you to upload data yourself). Just be sure to download a copy of the final results to your computer for future reference (as Promethease will automatically delete information from their servers after 4 months). DNA.LAND is free (it's a research project) well worth the extra effort and produces some more interesting results.</td>\n",
       "    </tr>\n",
       "    <tr>\n",
       "      <th>3</th>\n",
       "      <td>3</td>\n",
       "      <td>0.0</td>\n",
       "      <td>0.462</td>\n",
       "      <td>test, result, health, know, ancestri, great, genet, just, like, realli</td>\n",
       "      <td>Found out my husband of 35 years is my sixth cousin, eeew!!!!!! No lie! Now I spend my days trying to figure out the link. We bought two of these and he did it as well. He found out he is a descendant of Lewis, as in Lewis and Clark! He met a cool cousin he never knew he had (other than me, lol).\\n\\nThe traits were a bit off. I love cilantro for example and it suggested I wouldn't. Little things.\\n\\nIt asks you a bunch of questions before you get your report, like hair color, eye color, health history, weight, age, etc., then you get a report that says you likely have red hair,......no duh 🙄</td>\n",
       "    </tr>\n",
       "    <tr>\n",
       "      <th>4</th>\n",
       "      <td>4</td>\n",
       "      <td>1.0</td>\n",
       "      <td>0.912</td>\n",
       "      <td>result, report, love, inform, ancestri, great, good, test, easi, receiv</td>\n",
       "      <td>I bought this for my husband.. the results are AWESOME and he loves it. However, I am apparently married to a Neanderthal.</td>\n",
       "    </tr>\n",
       "  </tbody>\n",
       "</table>\n",
       "</div>"
      ],
      "text/plain": [
       "   doc_no  dominant_topic  topic_perc_contrib  \\\n",
       "0       0             1.0               0.654   \n",
       "1       1             3.0               0.640   \n",
       "2       2             2.0               0.920   \n",
       "3       3             0.0               0.462   \n",
       "4       4             1.0               0.912   \n",
       "\n",
       "                                                                              keywords  \\\n",
       "0              result, report, love, inform, ancestri, great, good, test, easi, receiv   \n",
       "1  result, test, inform, ancestri, easi, health, famili, like, highli_recommend, genet   \n",
       "2            result, test, ancestri, inform, health, great, wait, receiv, report, know   \n",
       "3               test, result, health, know, ancestri, great, genet, just, like, realli   \n",
       "4              result, report, love, inform, ancestri, great, good, test, easi, receiv   \n",
       "\n",
       "                                                                                                                                                                                                                                                                                                                                                                                                                                                                                                                                                                                                                                                                                                                                                                                                                                                                                                                                                                                                                                      text  \n",
       "0  Oct 2018 Update adds Alzheimer's section at end.\\n\\nI had DNA analysis from 23andme. My wife had DNA analysis from both Ancestry(Anc) and 23andme. This review is my comparison of the two. I highly recommend secondary analysis of your results by Promethease, see further discussion at end of this review. Basically I like 23andme. If 23andme offers a lower cost ancestry only test, this is OK. For developing an ancestry tree, Ancestry.com is MUCH better IF you signup separately for Ancestry's subscription search service. Do not use Anc & Promethease for Alzheimer's - see discussion at end of this review.\\n\\nTAKING TEST and SIGNUP – Very similar test taking. 23’s signup was more secure. Anc’s was easier, but they automatically put my wife’s test on my previously existing Ancestry account.\\n\\nWaiting on RESULTS – Both send emails confirming sample receipt and when results were available. After logon, 23 provided step by step progress reports on the analysis process. The analysis process ...  \n",
       "1  The testing is fairly simple: You receive a test vial (log in and register it on their website) and provide saliva up to the control line. Make sure you don't eat or drink for 30 to 45 minutes before providing your saliva sample. It is best not to brush teeth beforehand since it will only wash away valuable DNA and you want to ensure your sample has enough to process. Yes I had a few failed kits in my life and that set us back months of getting results on those kits. Anyway it’s fairly simple to provide saliva samples. Simple enough I had my 5 1/2 year old done and she was the easiest one to process. Then you place the kit back into included return envelope and wait for about 6 to 8 weeks for it to process. All while keeping tabs of the process online as each step finishes.\\n\\nI started using 23andme in 2012 before the FDA had gotten nasty and demanded they stop providing such detailed health analysis. Most of the kits I purchased (all but 2) included the ancestry with health but t...  \n",
       "2                                                                                                                                                                                                                                                                                        Excellent, but I would get the $99 kit over the $199 one. Then go to Promethease.com and dna.land.com and import your results (when their available from 23andMe), For $5.00 they give you loads of medical and other misc. insights from your genetic information. Importing is quick and easy, do it right from the Promethease website (links to 23andMe directly and grabs your data. dna.land requires you to upload data yourself). Just be sure to download a copy of the final results to your computer for future reference (as Promethease will automatically delete information from their servers after 4 months). DNA.LAND is free (it's a research project) well worth the extra effort and produces some more interesting results.  \n",
       "3                                                                                                                                                                                                                                                                                                                                                                                                                   Found out my husband of 35 years is my sixth cousin, eeew!!!!!! No lie! Now I spend my days trying to figure out the link. We bought two of these and he did it as well. He found out he is a descendant of Lewis, as in Lewis and Clark! He met a cool cousin he never knew he had (other than me, lol).\\n\\nThe traits were a bit off. I love cilantro for example and it suggested I wouldn't. Little things.\\n\\nIt asks you a bunch of questions before you get your report, like hair color, eye color, health history, weight, age, etc., then you get a report that says you likely have red hair,......no duh 🙄  \n",
       "4                                                                                                                                                                                                                                                                                                                                                                                                                                                                                                                                                                                                                                                                                                                                                                                                                                                                                                               I bought this for my husband.. the results are AWESOME and he loves it. However, I am apparently married to a Neanderthal.  "
      ]
     },
     "execution_count": 68,
     "metadata": {},
     "output_type": "execute_result"
    }
   ],
   "source": [
    "pos_df_topic_docs_keywords= format_topics_documents(ldamodel=pos_lda, corpus=pos_doc_term_mx, texts= pos_text )\n",
    "\n",
    "# Format\n",
    "pos_df_dominant_topic = pos_df_topic_docs_keywords.reset_index()\n",
    "pos_df_dominant_topic.columns = ['doc_no', 'dominant_topic', 'topic_perc_contrib', 'keywords', 'text']\n",
    "\n",
    "# Show\n",
    "pos_df_dominant_topic.head(5)"
   ]
  },
  {
   "cell_type": "code",
   "execution_count": 70,
   "metadata": {},
   "outputs": [
    {
     "data": {
      "text/html": [
       "<div>\n",
       "<style scoped>\n",
       "    .dataframe tbody tr th:only-of-type {\n",
       "        vertical-align: middle;\n",
       "    }\n",
       "\n",
       "    .dataframe tbody tr th {\n",
       "        vertical-align: top;\n",
       "    }\n",
       "\n",
       "    .dataframe thead th {\n",
       "        text-align: right;\n",
       "    }\n",
       "</style>\n",
       "<table border=\"1\" class=\"dataframe\">\n",
       "  <thead>\n",
       "    <tr style=\"text-align: right;\">\n",
       "      <th></th>\n",
       "      <th>topic_num</th>\n",
       "      <th>topic_perc_contrib</th>\n",
       "      <th>keywords</th>\n",
       "      <th>text</th>\n",
       "    </tr>\n",
       "  </thead>\n",
       "  <tbody>\n",
       "    <tr>\n",
       "      <th>0</th>\n",
       "      <td>0.0</td>\n",
       "      <td>0.994</td>\n",
       "      <td>test, result, health, know, ancestri, great, genet, just, like, realli</td>\n",
       "      <td>I did the Ancestry DNA test before this one and I wasn't happy with the results. I thought they were too vague and generalized. I know both my parents and I wanted to see how 23andme would come out.\\nThis kit took less than 3 weeks to get results and I was glad I took it. My mother is 100% Bosnian and I tested at 49.5% Southern European, which is true. The AncestryDNA test had me at 27% Eastern European (which is more Slovakia/Russia/Poland) and 17% Italy/Greece (maybe a better designation for this would be the Mediterranean). Anc does not have a designation for Southern European.\\nAncestryDNA found me at 42% West Asian and I have no Asian blood whatsoever. I am Egyptian on my father's side where 23andme found me to be more precise North Africa 36%/Middle East 5%. The rest was broadly Southern Europe. AncestryDNA has a designation for North Africa but it is more Northwest Africa (Tunisia, Algeria, Morocco) and did not include Egypt.\\nIn this aspect, I am glad that I took this test....</td>\n",
       "    </tr>\n",
       "    <tr>\n",
       "      <th>1</th>\n",
       "      <td>1.0</td>\n",
       "      <td>0.992</td>\n",
       "      <td>result, report, love, inform, ancestri, great, good, test, easi, receiv</td>\n",
       "      <td>Timelines are a little wonky. I sent mine in and it was received December 7th. My husbands was received December 8th. His results came in on around January 15th. I still not have received mine though it is, just barely, still within the timeline of 6-8 weeks.\\n\\nThat said, I've viewed the results for my husband and it's very interesting to look through. I think we knew what we were going to see and weren't surprised to get the results he did. The predisposition to diseases was at least an interesting read, though they stress that environment and other factors play a big role in your chances of actually acquiring any of the mentioned diseases/disorders.\\n\\nUPDATE: On the first day over 8 weeks, I sent an email to customer support saying that I hadn't seen any progress from essentially step 2 after they receive it and just wanted an update. I received a very courteous response saying that they were moving my sample to the front and that I would be receiving a free code for another ki...</td>\n",
       "    </tr>\n",
       "    <tr>\n",
       "      <th>2</th>\n",
       "      <td>2.0</td>\n",
       "      <td>0.991</td>\n",
       "      <td>result, test, ancestri, inform, health, great, wait, receiv, report, know</td>\n",
       "      <td>I have been wanting to look into my DNA for months now, ever since the fad has hit the market. I thought that I would just want to know my background, but this DNA kit is much more than just finding out your genetics. This DNA kit gave me an insight of everything that I needed to know regarding my genetics and health profiles.\\nI had my first baby over 6 months ago and have been having a hard time losing this baby weight. It has never been an issue for me to lose weight, in fact I have been thin most of my life, so this added weight put a damper on my mood, especially when dieting and exercising was not helping. After utilizing this DNA kit, and finding out more about my body, it has helped me find out what I need to do with my diet plans to help me lose this baby weight. Since changing my dieting rituals to coincide with my genetics, it has helped me lose weight and get back into my pre-baby weight and clothes!\\nThis kit was so easy to use. All you have to do is take the swaps, sw...</td>\n",
       "    </tr>\n",
       "    <tr>\n",
       "      <th>3</th>\n",
       "      <td>3.0</td>\n",
       "      <td>0.995</td>\n",
       "      <td>result, test, inform, ancestri, easi, health, famili, like, highli_recommend, genet</td>\n",
       "      <td>I ordered directly from the Vitagene website, but the review applies.\\nSpeed: They were very fast. Entire time, from ordering the kit to getting results took one month. That appears to be faster than any other company.\\n\\nWhat do you get? Well, you will no longer get a printed book. They stopped providing those for kits ordered after Aug 2017. So disregard earlier reviews touting that benefit. You do get your results online.\\n\\nThere is a health results section, which is based on a combination of your questionnaire answers (health goals and family history) and your DNA results. There are suggestions on what type of supplements to take, what type of exercises to focus on, etc. To me, that was the real benefit - and the reason why you'd choose Vitagene over another company. It's user friendly and easy to understand. You can order your customized supplements from Vitagene, or just order what you need from Amazon, etc.\\n\\nThere is also an ancestry report section, which I'd imagine most...</td>\n",
       "    </tr>\n",
       "  </tbody>\n",
       "</table>\n",
       "</div>"
      ],
      "text/plain": [
       "   topic_num  topic_perc_contrib  \\\n",
       "0        0.0               0.994   \n",
       "1        1.0               0.992   \n",
       "2        2.0               0.991   \n",
       "3        3.0               0.995   \n",
       "\n",
       "                                                                              keywords  \\\n",
       "0               test, result, health, know, ancestri, great, genet, just, like, realli   \n",
       "1              result, report, love, inform, ancestri, great, good, test, easi, receiv   \n",
       "2            result, test, ancestri, inform, health, great, wait, receiv, report, know   \n",
       "3  result, test, inform, ancestri, easi, health, famili, like, highli_recommend, genet   \n",
       "\n",
       "                                                                                                                                                                                                                                                                                                                                                                                                                                                                                                                                                                                                                                                                                                                                                                                                                                                                                                                                                                                                                                      text  \n",
       "0  I did the Ancestry DNA test before this one and I wasn't happy with the results. I thought they were too vague and generalized. I know both my parents and I wanted to see how 23andme would come out.\\nThis kit took less than 3 weeks to get results and I was glad I took it. My mother is 100% Bosnian and I tested at 49.5% Southern European, which is true. The AncestryDNA test had me at 27% Eastern European (which is more Slovakia/Russia/Poland) and 17% Italy/Greece (maybe a better designation for this would be the Mediterranean). Anc does not have a designation for Southern European.\\nAncestryDNA found me at 42% West Asian and I have no Asian blood whatsoever. I am Egyptian on my father's side where 23andme found me to be more precise North Africa 36%/Middle East 5%. The rest was broadly Southern Europe. AncestryDNA has a designation for North Africa but it is more Northwest Africa (Tunisia, Algeria, Morocco) and did not include Egypt.\\nIn this aspect, I am glad that I took this test....  \n",
       "1  Timelines are a little wonky. I sent mine in and it was received December 7th. My husbands was received December 8th. His results came in on around January 15th. I still not have received mine though it is, just barely, still within the timeline of 6-8 weeks.\\n\\nThat said, I've viewed the results for my husband and it's very interesting to look through. I think we knew what we were going to see and weren't surprised to get the results he did. The predisposition to diseases was at least an interesting read, though they stress that environment and other factors play a big role in your chances of actually acquiring any of the mentioned diseases/disorders.\\n\\nUPDATE: On the first day over 8 weeks, I sent an email to customer support saying that I hadn't seen any progress from essentially step 2 after they receive it and just wanted an update. I received a very courteous response saying that they were moving my sample to the front and that I would be receiving a free code for another ki...  \n",
       "2  I have been wanting to look into my DNA for months now, ever since the fad has hit the market. I thought that I would just want to know my background, but this DNA kit is much more than just finding out your genetics. This DNA kit gave me an insight of everything that I needed to know regarding my genetics and health profiles.\\nI had my first baby over 6 months ago and have been having a hard time losing this baby weight. It has never been an issue for me to lose weight, in fact I have been thin most of my life, so this added weight put a damper on my mood, especially when dieting and exercising was not helping. After utilizing this DNA kit, and finding out more about my body, it has helped me find out what I need to do with my diet plans to help me lose this baby weight. Since changing my dieting rituals to coincide with my genetics, it has helped me lose weight and get back into my pre-baby weight and clothes!\\nThis kit was so easy to use. All you have to do is take the swaps, sw...  \n",
       "3  I ordered directly from the Vitagene website, but the review applies.\\nSpeed: They were very fast. Entire time, from ordering the kit to getting results took one month. That appears to be faster than any other company.\\n\\nWhat do you get? Well, you will no longer get a printed book. They stopped providing those for kits ordered after Aug 2017. So disregard earlier reviews touting that benefit. You do get your results online.\\n\\nThere is a health results section, which is based on a combination of your questionnaire answers (health goals and family history) and your DNA results. There are suggestions on what type of supplements to take, what type of exercises to focus on, etc. To me, that was the real benefit - and the reason why you'd choose Vitagene over another company. It's user friendly and easy to understand. You can order your customized supplements from Vitagene, or just order what you need from Amazon, etc.\\n\\nThere is also an ancestry report section, which I'd imagine most...  "
      ]
     },
     "execution_count": 70,
     "metadata": {},
     "output_type": "execute_result"
    }
   ],
   "source": [
    "# Most representative reviews for each topics\n",
    "pos_doc_topics_sorted_df = pd.DataFrame()\n",
    "\n",
    "pos_doc_topics_df_grouped = pos_df_topic_docs_keywords.groupby('dominant_topic')\n",
    "\n",
    "for i, grp in pos_doc_topics_df_grouped:\n",
    "    pos_doc_topics_sorted_df = pd.concat([pos_doc_topics_sorted_df, \n",
    "                                             grp.sort_values(['perc_contribution'], ascending=[0]).head(1)], \n",
    "                                            axis=0)\n",
    "\n",
    "# Reset Index    \n",
    "pos_doc_topics_sorted_df.reset_index(drop=True, inplace=True)\n",
    "\n",
    "# Format\n",
    "pos_doc_topics_sorted_df.columns = ['topic_num', \"topic_perc_contrib\", \"keywords\", \"text\"]\n",
    "\n",
    "# Show\n",
    "pd.set_option('max_colwidth',1000)\n",
    "\n",
    "pos_doc_topics_sorted_df.head(10)"
   ]
  },
  {
   "cell_type": "code",
   "execution_count": null,
   "metadata": {},
   "outputs": [],
   "source": []
  },
  {
   "cell_type": "code",
   "execution_count": 3,
   "metadata": {},
   "outputs": [
    {
     "ename": "NameError",
     "evalue": "name 'log' is not defined",
     "output_type": "error",
     "traceback": [
      "\u001b[0;31m---------------------------------------------------------------------------\u001b[0m",
      "\u001b[0;31mNameError\u001b[0m                                 Traceback (most recent call last)",
      "\u001b[0;32m<ipython-input-3-571b420a1b8d>\u001b[0m in \u001b[0;36m<module>\u001b[0;34m\u001b[0m\n\u001b[0;32m----> 1\u001b[0;31m \u001b[0;34m-\u001b[0m\u001b[0mlog\u001b[0m\u001b[0;34m(\u001b[0m\u001b[0;36m0.9\u001b[0m\u001b[0;34m)\u001b[0m\u001b[0;34m\u001b[0m\u001b[0m\n\u001b[0m",
      "\u001b[0;31mNameError\u001b[0m: name 'log' is not defined"
     ]
    }
   ],
   "source": [
    "-log(0.9)"
   ]
  },
  {
   "cell_type": "code",
   "execution_count": null,
   "metadata": {},
   "outputs": [],
   "source": []
  }
 ],
 "metadata": {
  "kernelspec": {
   "display_name": "Python 3",
   "language": "python",
   "name": "python3"
  },
  "language_info": {
   "codemirror_mode": {
    "name": "ipython",
    "version": 3
   },
   "file_extension": ".py",
   "mimetype": "text/x-python",
   "name": "python",
   "nbconvert_exporter": "python",
   "pygments_lexer": "ipython3",
   "version": "3.7.0"
  }
 },
 "nbformat": 4,
 "nbformat_minor": 2
}
