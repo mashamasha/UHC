{
 "cells": [
  {
   "cell_type": "code",
   "execution_count": 1,
   "metadata": {},
   "outputs": [],
   "source": [
    "import os\n",
    "import json\n",
    "import requests\n",
    "import xmltodict\n",
    "import re\n",
    "\n",
    "from collections import Counter"
   ]
  },
  {
   "cell_type": "code",
   "execution_count": 2,
   "metadata": {},
   "outputs": [],
   "source": [
    "\n",
    "def fetch_reviews(app_id, country = 'us', sortBy = 'mostRecent', page =1):\n",
    "\n",
    "    URL = 'https://itunes.apple.com/%s/rss/customerreviews/id=%s/sortBy=%s/page=%s/xml' \n",
    "    args = (country,str(app_id),sortBy, page)\n",
    "\n",
    "    url = URL % args\n",
    "\n",
    "    r = requests.get(url)\n",
    "    xml_data = r.text\n",
    "\n",
    "    xml_dict = xmltodict.parse(xml_data)\n",
    "\n",
    "    try:\n",
    "        reviews_list = xml_dict['feed']['entry']\n",
    "    except:\n",
    "        return []\n",
    "    \n",
    "    reviews = []\n",
    "    for review in reviews_list:\n",
    "        try:\n",
    "            reviews.append(\n",
    "        {\n",
    "            'title': review['title'],\n",
    "            'author_name': review['author']['name'],\n",
    "            'author_uri': review['author']['uri'],\n",
    "            'voteSum': review['im:voteSum'],\n",
    "            'voteCount': review['im:voteCount'],\n",
    "            'rating': review['im:rating'],\n",
    "            'text': review['content'][0]['#text'],\n",
    "            'date': review['updated']    \n",
    "        }\n",
    "            )\n",
    "        except:\n",
    "            pass\n",
    "    return reviews"
   ]
  },
  {
   "cell_type": "code",
   "execution_count": 9,
   "metadata": {},
   "outputs": [],
   "source": [
    "# Open the .csv file with the list of PHR/EHR apps\n",
    "\n",
    "with open('data/data_appstore_dna.csv') as f:\n",
    "    data = f.readlines()\n",
    "    "
   ]
  },
  {
   "cell_type": "code",
   "execution_count": 11,
   "metadata": {},
   "outputs": [
    {
     "data": {
      "text/plain": [
       "',\\n'"
      ]
     },
     "execution_count": 11,
     "metadata": {},
     "output_type": "execute_result"
    }
   ],
   "source": [
    "data.pop(0)"
   ]
  },
  {
   "cell_type": "code",
   "execution_count": 18,
   "metadata": {},
   "outputs": [
    {
     "data": {
      "text/plain": [
       "[['23andMe Health',\n",
       "  'https://itunes.apple.com/us/app/23andme-dna-testing/id952516687\\n'],\n",
       " ['DNA Passport (Helix)',\n",
       "  'https://itunes.apple.com/us/app/dnapassport-explore-your-dna/id1306945262']]"
      ]
     },
     "execution_count": 18,
     "metadata": {},
     "output_type": "execute_result"
    }
   ],
   "source": [
    "data_clean"
   ]
  },
  {
   "cell_type": "code",
   "execution_count": 19,
   "metadata": {},
   "outputs": [
    {
     "name": "stdout",
     "output_type": "stream",
     "text": [
      "23andMe Health,https://itunes.apple.com/us/app/23andme-dna-testing/id952516687\n",
      "\n",
      "1\n",
      "DNA Passport (Helix),https://itunes.apple.com/us/app/dnapassport-explore-your-dna/id1306945262\n",
      "2\n"
     ]
    }
   ],
   "source": [
    "# Get an app name and its iTunes id\n",
    "import re\n",
    "data_clean = []\n",
    "j =0\n",
    "# Create a list of lists where each list is [App name, link]\n",
    "for s in data:\n",
    "    print(s)\n",
    "    j+=1\n",
    "    print(j)\n",
    "    data_clean.append([s.split(',')[0],s.split(',')[1]])\n",
    "# Filter rows with non-empty links\n",
    "data_clean = [(x[0],x[1].split('\\n')[0]) for x in data_clean if len(x[1])>1]\n",
    "app_ids =[]\n",
    "for line in data_clean:\n",
    "    data_dict = {'name':line[0],\n",
    "                 'id': ''.join(re.findall(r'\\d+', line[1].split('/')[-1].split('?')[0] ))}# extracting id number'\n",
    "    app_ids.append(data_dict)"
   ]
  },
  {
   "cell_type": "code",
   "execution_count": 20,
   "metadata": {},
   "outputs": [
    {
     "data": {
      "text/plain": [
       "2"
      ]
     },
     "execution_count": 20,
     "metadata": {},
     "output_type": "execute_result"
    }
   ],
   "source": [
    "len(app_ids)"
   ]
  },
  {
   "cell_type": "code",
   "execution_count": 21,
   "metadata": {},
   "outputs": [
    {
     "data": {
      "text/plain": [
       "[{'name': '23andMe Health', 'id': '952516687'},\n",
       " {'name': 'DNA Passport (Helix)', 'id': '1306945262'}]"
      ]
     },
     "execution_count": 21,
     "metadata": {},
     "output_type": "execute_result"
    }
   ],
   "source": [
    "app_ids"
   ]
  },
  {
   "cell_type": "code",
   "execution_count": 23,
   "metadata": {},
   "outputs": [
    {
     "name": "stdout",
     "output_type": "stream",
     "text": [
      "1\n",
      "23andMe - DNA Testing\n",
      "2\n",
      "DNAPassport - Explore Your DNA\n"
     ]
    }
   ],
   "source": [
    "# Lookup metadata (including reviews) for an app with the specific iTunes ID\n",
    "URL = 'https://itunes.apple.com/lookup?id=%s'\n",
    "\n",
    "app_metadata = []\n",
    "j = 0\n",
    "for line in app_ids: \n",
    "    # Get app metadata\n",
    "    j+=1\n",
    "    print(j)\n",
    "    app_id = line['id']\n",
    "\n",
    "    url = URL % app_id\n",
    "    r = requests.get(url)\n",
    "    app = json.loads(r.text)[\"results\"][0]\n",
    "    \n",
    "    app_data = {'name': app['trackName'],\n",
    "                'id': app['trackId'],\n",
    "                'url': app['trackViewUrl'],\n",
    "                'price': app['price'],\n",
    "                'avgUserRating': app.get('averageUserRating',''),\n",
    "                'userRatingCount': app.get('userRatingCount',''),\n",
    "                'currentVersionReleaseDate': app['currentVersionReleaseDate'],\n",
    "                'description': app['description'].replace('\\n', ' ')\n",
    "                }\n",
    "    print(app_data['name'])\n",
    "    \n",
    "    # Get most recent and most helpful reviews (separately) for app (up to 500)\n",
    "    recent_reviews = []\n",
    "    helpful_reviews = []\n",
    "    for i in range(1, 11): \n",
    "        recent_reviews += fetch_reviews(app_data['id'], page=i)\n",
    "        helpful_reviews += fetch_reviews(app_data['id'], sortBy='mostHelpful', page=i)\n",
    "\n",
    "    app_data['recent_reviews'] = recent_reviews\n",
    "    app_data['helpful_reviews'] = helpful_reviews\n",
    "    app_metadata.append(app_data)"
   ]
  },
  {
   "cell_type": "code",
   "execution_count": 24,
   "metadata": {},
   "outputs": [
    {
     "data": {
      "text/plain": [
       "2"
      ]
     },
     "execution_count": 24,
     "metadata": {},
     "output_type": "execute_result"
    }
   ],
   "source": [
    "len(app_metadata)"
   ]
  },
  {
   "cell_type": "code",
   "execution_count": 25,
   "metadata": {},
   "outputs": [],
   "source": [
    "with open('data/phr_apps_metadata_and_reviews_dna.json', 'w', encoding='utf-8') as f:\n",
    "    f.write(json.dumps(app_metadata, ensure_ascii=False))"
   ]
  },
  {
   "cell_type": "markdown",
   "metadata": {},
   "source": [
    "## Convert from json to csv and separate recent and helpful reviews and metadata"
   ]
  },
  {
   "cell_type": "code",
   "execution_count": 26,
   "metadata": {},
   "outputs": [],
   "source": [
    "# From json to csv\n",
    "import os, sys, string, json, csv\n",
    "import pandas as pd\n"
   ]
  },
  {
   "cell_type": "code",
   "execution_count": 27,
   "metadata": {},
   "outputs": [],
   "source": [
    "def app_metadata_csv(json_file_path, csv_output_path):\n",
    "    '''Write a csv file with app metadata without reviews'''\n",
    "    \n",
    "    # Load json data\n",
    "    json_data=open(json_file_path).read()\n",
    "    jsn = json.loads(json_data)  \n",
    "    # Open the output file\n",
    "    csv_data = open(csv_output_path, 'w')\n",
    "    # Create csv writer object\n",
    "    csvwriter = csv.writer(csv_data)\n",
    "    \n",
    "    #Write headers to the output csv file\n",
    "    headers = []\n",
    "    for head in jsn[0].keys():\n",
    "        if head not in ['recent_reviews', 'helpful_reviews']:\n",
    "            headers.append(head)\n",
    "    csvwriter.writerow(headers)\n",
    "    \n",
    "    for i in range(len(jsn)):\n",
    "        row = []\n",
    "        for head in headers:\n",
    "            value = str(jsn[i][head])\n",
    "            row.append(value)\n",
    "\n",
    "        '''print('-------' + str(i) + '------')\n",
    "        print(row)'''\n",
    "        csvwriter.writerow(row)\n",
    "    csv_data.close()"
   ]
  },
  {
   "cell_type": "code",
   "execution_count": 28,
   "metadata": {},
   "outputs": [],
   "source": [
    "def recent_reviews_csv(json_file_path, csv_output_path):\n",
    "    '''Write a csv file with app recent reviews where each row is one review'''\n",
    "    \n",
    "    # Load json data\n",
    "    json_data=open(json_file_path).read()\n",
    "    jsn = json.loads(json_data)  \n",
    "    # Open the output file\n",
    "    csv_data = open(csv_output_path, 'w')\n",
    "    # Create csv writer object\n",
    "    csvwriter = csv.writer(csv_data)\n",
    "    \n",
    "    #Write headers to the output csv file\n",
    "    headers = []\n",
    "    for head in jsn[0].keys():\n",
    "        if head in ['name','id']:\n",
    "            headers.append(head)\n",
    "\n",
    "    for head in jsn[0]['recent_reviews'][0].keys():\n",
    "        headers.append(head)\n",
    "    csvwriter.writerow(headers)\n",
    "    \n",
    "    #Write recent reviews with one review per row\n",
    "    for i in range(len(jsn)):\n",
    "        if len(jsn[i]['recent_reviews']) != 0:\n",
    "            for j in range(len(jsn[i]['recent_reviews'])):\n",
    "                row = []\n",
    "                for head in headers:\n",
    "                    if head in ['name','id']:\n",
    "                        value = str(jsn[i][head])\n",
    "                        row.append(value)\n",
    "                    else:\n",
    "                        value = str(jsn[i]['recent_reviews'][j][head])        \n",
    "                        row.append(value)\n",
    "                csvwriter.writerow(row) \n",
    "                '''print('-------' + str(j) + '------')\n",
    "                print(row)'''\n",
    "                \n",
    "        else:\n",
    "            row = []\n",
    "            for head in headers:\n",
    "                if head in ['name','id']:\n",
    "                    value = str(jsn[i][head])\n",
    "                    row.append(value)\n",
    "                else:\n",
    "                    value = ' '      \n",
    "                    row.append(value)\n",
    "            csvwriter.writerow(row)   \n",
    "    csv_data.close()"
   ]
  },
  {
   "cell_type": "code",
   "execution_count": 29,
   "metadata": {},
   "outputs": [],
   "source": [
    "def helpful_reviews_csv(json_file_path, csv_output_path):\n",
    "    '''Write a csv file with app helpful reviews where each row is one review'''\n",
    "    \n",
    "    # Load json data\n",
    "    json_data=open(json_file_path).read()\n",
    "    jsn = json.loads(json_data)  \n",
    "    # Open the output file\n",
    "    csv_data = open(csv_output_path, 'w')\n",
    "    # Create csv writer object\n",
    "    csvwriter = csv.writer(csv_data)\n",
    "    \n",
    "    #Write headers to the output csv file\n",
    "    headers = []\n",
    "    for head in jsn[0].keys():\n",
    "        if head in ['name','id']:\n",
    "            headers.append(head)\n",
    "\n",
    "    for head in jsn[0]['helpful_reviews'][0].keys():\n",
    "        headers.append(head)\n",
    "    csvwriter.writerow(headers)\n",
    "    \n",
    "    #Write helpful reviews with one review per row\n",
    "    for i in range(len(jsn)):\n",
    "            if len(jsn[i]['helpful_reviews']) != 0:\n",
    "                for j in range(len(jsn[i]['helpful_reviews'])):\n",
    "                    row = []\n",
    "                    for head in headers:\n",
    "                        if head in ['name','id']:\n",
    "                            value = str(jsn[i][head])\n",
    "                            row.append(value)\n",
    "                        else:\n",
    "                            value = str(jsn[i]['helpful_reviews'][j][head])        \n",
    "                            row.append(value)\n",
    "                    csvwriter.writerow(row) \n",
    "\n",
    "            else:\n",
    "                row = []\n",
    "                for head in headers:\n",
    "                    if head in ['name','id']:\n",
    "                        value = str(jsn[i][head])\n",
    "                        row.append(value)\n",
    "                    else:\n",
    "                        value = ' '      \n",
    "                        row.append(value)\n",
    "                csvwriter.writerow(row)   \n",
    "    csv_data.close()"
   ]
  },
  {
   "cell_type": "code",
   "execution_count": 30,
   "metadata": {},
   "outputs": [],
   "source": [
    "json_path = os.path.expanduser(\"~/USF/uhc/UHC/data/phr_apps_metadata_and_reviews_dna.json\")\n",
    "recent_csv_path = os.path.expanduser('~/USF/uhc/UHC/data/appstore_recent_reviews_dna.csv')\n",
    "helpful_csv_path = os.path.expanduser('~/USF/uhc/UHC/data/appstore_helpful_reviews_dna.csv')\n",
    "metadata_csv_path = os.path.expanduser('~/USF/uhc/UHC/data/appstore_metadata_dna.csv')"
   ]
  },
  {
   "cell_type": "code",
   "execution_count": 31,
   "metadata": {},
   "outputs": [],
   "source": [
    "app_metadata_csv(json_path, metadata_csv_path)"
   ]
  },
  {
   "cell_type": "code",
   "execution_count": 32,
   "metadata": {},
   "outputs": [],
   "source": [
    "recent_reviews_csv(json_path, recent_csv_path)"
   ]
  },
  {
   "cell_type": "code",
   "execution_count": 33,
   "metadata": {},
   "outputs": [],
   "source": [
    "helpful_reviews_csv(json_path, helpful_csv_path)"
   ]
  },
  {
   "cell_type": "code",
   "execution_count": 34,
   "metadata": {},
   "outputs": [
    {
     "name": "stdout",
     "output_type": "stream",
     "text": [
      "Total number of recent reviews is: 535\n",
      "Total number of helpful reviews is: 535\n",
      "Total number of apps is: 2\n"
     ]
    }
   ],
   "source": [
    "#OPTIONAL: check the number of rows in each file\n",
    "\n",
    "json_data=open(json_path).read()\n",
    "jsn = json.loads(json_data)  \n",
    "\n",
    "count = 0\n",
    "for i in range(len(jsn)):\n",
    "        count+=(len(jsn[i]['recent_reviews']))\n",
    "print(\"Total number of recent reviews is:\", count)          \n",
    "\n",
    "count = 0\n",
    "for i in range(len(jsn)):\n",
    "        count+=(len(jsn[i]['helpful_reviews']))\n",
    "print(\"Total number of helpful reviews is:\", count)     \n",
    "\n",
    "count = 0\n",
    "for i in range(len(jsn)):\n",
    "        count+=1\n",
    "print(\"Total number of apps is:\", count)          "
   ]
  },
  {
   "cell_type": "code",
   "execution_count": null,
   "metadata": {},
   "outputs": [],
   "source": []
  }
 ],
 "metadata": {
  "kernelspec": {
   "display_name": "Python 3",
   "language": "python",
   "name": "python3"
  },
  "language_info": {
   "codemirror_mode": {
    "name": "ipython",
    "version": 3
   },
   "file_extension": ".py",
   "mimetype": "text/x-python",
   "name": "python",
   "nbconvert_exporter": "python",
   "pygments_lexer": "ipython3",
   "version": "3.7.1"
  }
 },
 "nbformat": 4,
 "nbformat_minor": 2
}
