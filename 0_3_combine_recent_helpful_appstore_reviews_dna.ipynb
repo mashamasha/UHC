{
 "cells": [
  {
   "cell_type": "code",
   "execution_count": 1,
   "metadata": {},
   "outputs": [],
   "source": [
    "import json\n",
    "import requests\n",
    "from collections import OrderedDict\n",
    "from datetime import datetime\n",
    "\n",
    "import numpy as np\n",
    "import pandas as pd\n",
    "import xmltodict"
   ]
  },
  {
   "cell_type": "code",
   "execution_count": 2,
   "metadata": {},
   "outputs": [],
   "source": [
    "df_metadata = pd.read_csv(\"data/appstore_metadata_dna.csv\")\n",
    "df_recent= pd.read_csv(\"data/appstore_recent_reviews_dna.csv\")\n",
    "df_helpful = pd.read_csv(\"data/appstore_helpful_reviews_dna.csv\")"
   ]
  },
  {
   "cell_type": "code",
   "execution_count": 3,
   "metadata": {},
   "outputs": [
    {
     "data": {
      "text/plain": [
       "535"
      ]
     },
     "execution_count": 3,
     "metadata": {},
     "output_type": "execute_result"
    }
   ],
   "source": [
    "len(df_helpful[df_helpful['text']!=''])"
   ]
  },
  {
   "cell_type": "code",
   "execution_count": 4,
   "metadata": {},
   "outputs": [
    {
     "data": {
      "text/plain": [
       "array(['23andMe - DNA Testing', 'DNAPassport - Explore Your DNA'],\n",
       "      dtype=object)"
      ]
     },
     "execution_count": 4,
     "metadata": {},
     "output_type": "execute_result"
    }
   ],
   "source": [
    "df_helpful['name'].unique()"
   ]
  },
  {
   "cell_type": "code",
   "execution_count": 6,
   "metadata": {},
   "outputs": [],
   "source": [
    "df_helpful.replace(' ',np.nan, inplace= True)"
   ]
  },
  {
   "cell_type": "code",
   "execution_count": 7,
   "metadata": {},
   "outputs": [
    {
     "data": {
      "text/plain": [
       "535"
      ]
     },
     "execution_count": 7,
     "metadata": {},
     "output_type": "execute_result"
    }
   ],
   "source": [
    "len(df_helpful)"
   ]
  },
  {
   "cell_type": "code",
   "execution_count": 8,
   "metadata": {},
   "outputs": [],
   "source": [
    "df_recent.replace(' ',np.nan, inplace= True)"
   ]
  },
  {
   "cell_type": "code",
   "execution_count": 9,
   "metadata": {},
   "outputs": [],
   "source": [
    "df_recent.dropna(inplace=True)"
   ]
  },
  {
   "cell_type": "code",
   "execution_count": 10,
   "metadata": {},
   "outputs": [
    {
     "data": {
      "text/plain": [
       "535"
      ]
     },
     "execution_count": 10,
     "metadata": {},
     "output_type": "execute_result"
    }
   ],
   "source": [
    "len(df_recent)"
   ]
  },
  {
   "cell_type": "code",
   "execution_count": null,
   "metadata": {},
   "outputs": [],
   "source": []
  },
  {
   "cell_type": "code",
   "execution_count": 11,
   "metadata": {},
   "outputs": [],
   "source": [
    "df_out = 'appstore_all_reviews.csv'"
   ]
  },
  {
   "cell_type": "code",
   "execution_count": 12,
   "metadata": {},
   "outputs": [],
   "source": [
    "dict_helpful=df_helpful.to_dict(orient='record')\n",
    "dict_recent=df_recent.to_dict(orient='record')"
   ]
  },
  {
   "cell_type": "code",
   "execution_count": 15,
   "metadata": {},
   "outputs": [],
   "source": [
    "hashed_reviews={}\n",
    "unique_reviews=[]\n",
    "for review in dict_helpful:\n",
    "    key=str(review['id'])+'::'+review['author_uri']+'::'+review['date']\n",
    "    if key not in unique_reviews:\n",
    "        hashed_reviews[key]=review\n",
    "for review in dict_recent:\n",
    "    key=str(review['id'])+'::'+review['author_uri']+'::'+review['date']\n",
    "    if key not in unique_reviews:\n",
    "        hashed_reviews[key]=review\n",
    "for key in hashed_reviews:\n",
    "    unique_reviews.append(hashed_reviews[key])\n",
    "df_appstore_all_reviews=pd.DataFrame(unique_reviews)\n",
    "df_appstore_all_reviews.to_csv('data/appstore_all_reviews_dna.csv', index=False)"
   ]
  },
  {
   "cell_type": "code",
   "execution_count": 16,
   "metadata": {},
   "outputs": [
    {
     "data": {
      "text/html": [
       "<div>\n",
       "<style scoped>\n",
       "    .dataframe tbody tr th:only-of-type {\n",
       "        vertical-align: middle;\n",
       "    }\n",
       "\n",
       "    .dataframe tbody tr th {\n",
       "        vertical-align: top;\n",
       "    }\n",
       "\n",
       "    .dataframe thead th {\n",
       "        text-align: right;\n",
       "    }\n",
       "</style>\n",
       "<table border=\"1\" class=\"dataframe\">\n",
       "  <thead>\n",
       "    <tr style=\"text-align: right;\">\n",
       "      <th></th>\n",
       "      <th>author_name</th>\n",
       "      <th>author_uri</th>\n",
       "      <th>date</th>\n",
       "      <th>id</th>\n",
       "      <th>name</th>\n",
       "      <th>rating</th>\n",
       "      <th>text</th>\n",
       "      <th>title</th>\n",
       "      <th>voteCount</th>\n",
       "      <th>voteSum</th>\n",
       "    </tr>\n",
       "  </thead>\n",
       "  <tbody>\n",
       "    <tr>\n",
       "      <th>0</th>\n",
       "      <td>CptDanno</td>\n",
       "      <td>https://itunes.apple.com/us/reviews/id85013786</td>\n",
       "      <td>2018-05-22T12:07:01-07:00</td>\n",
       "      <td>952516687</td>\n",
       "      <td>23andMe - DNA Testing</td>\n",
       "      <td>4</td>\n",
       "      <td>The main service/product that 23andMe delivers...</td>\n",
       "      <td>Satisfying app but whereâ€™s the iPad vers/ &amp; ...</td>\n",
       "      <td>23</td>\n",
       "      <td>13</td>\n",
       "    </tr>\n",
       "    <tr>\n",
       "      <th>1</th>\n",
       "      <td>Creature shifter</td>\n",
       "      <td>https://itunes.apple.com/us/reviews/id184788716</td>\n",
       "      <td>2019-01-26T09:00:22-07:00</td>\n",
       "      <td>952516687</td>\n",
       "      <td>23andMe - DNA Testing</td>\n",
       "      <td>4</td>\n",
       "      <td>A family history story indicates that from 179...</td>\n",
       "      <td>American Indian Ancestry</td>\n",
       "      <td>0</td>\n",
       "      <td>0</td>\n",
       "    </tr>\n",
       "    <tr>\n",
       "      <th>2</th>\n",
       "      <td>Sbelmont73</td>\n",
       "      <td>https://itunes.apple.com/us/reviews/id433244148</td>\n",
       "      <td>2019-01-04T11:27:26-07:00</td>\n",
       "      <td>952516687</td>\n",
       "      <td>23andMe - DNA Testing</td>\n",
       "      <td>5</td>\n",
       "      <td>I never thought this site would actually help ...</td>\n",
       "      <td>It Happened to Me!</td>\n",
       "      <td>0</td>\n",
       "      <td>0</td>\n",
       "    </tr>\n",
       "    <tr>\n",
       "      <th>3</th>\n",
       "      <td>A Libby52</td>\n",
       "      <td>https://itunes.apple.com/us/reviews/id523987613</td>\n",
       "      <td>2018-10-23T08:30:37-07:00</td>\n",
       "      <td>952516687</td>\n",
       "      <td>23andMe - DNA Testing</td>\n",
       "      <td>5</td>\n",
       "      <td>I actually received my kit as a Christmas gift...</td>\n",
       "      <td>Very much worth the investment!</td>\n",
       "      <td>1</td>\n",
       "      <td>1</td>\n",
       "    </tr>\n",
       "    <tr>\n",
       "      <th>4</th>\n",
       "      <td>Cody.Ray</td>\n",
       "      <td>https://itunes.apple.com/us/reviews/id103780216</td>\n",
       "      <td>2018-12-28T20:47:00-07:00</td>\n",
       "      <td>952516687</td>\n",
       "      <td>23andMe - DNA Testing</td>\n",
       "      <td>3</td>\n",
       "      <td>It’s an attractive application, but its functi...</td>\n",
       "      <td>Low functionality, high style</td>\n",
       "      <td>0</td>\n",
       "      <td>0</td>\n",
       "    </tr>\n",
       "  </tbody>\n",
       "</table>\n",
       "</div>"
      ],
      "text/plain": [
       "        author_name                                       author_uri  \\\n",
       "0          CptDanno   https://itunes.apple.com/us/reviews/id85013786   \n",
       "1  Creature shifter  https://itunes.apple.com/us/reviews/id184788716   \n",
       "2        Sbelmont73  https://itunes.apple.com/us/reviews/id433244148   \n",
       "3         A Libby52  https://itunes.apple.com/us/reviews/id523987613   \n",
       "4          Cody.Ray  https://itunes.apple.com/us/reviews/id103780216   \n",
       "\n",
       "                        date         id                   name  rating  \\\n",
       "0  2018-05-22T12:07:01-07:00  952516687  23andMe - DNA Testing       4   \n",
       "1  2019-01-26T09:00:22-07:00  952516687  23andMe - DNA Testing       4   \n",
       "2  2019-01-04T11:27:26-07:00  952516687  23andMe - DNA Testing       5   \n",
       "3  2018-10-23T08:30:37-07:00  952516687  23andMe - DNA Testing       5   \n",
       "4  2018-12-28T20:47:00-07:00  952516687  23andMe - DNA Testing       3   \n",
       "\n",
       "                                                text  \\\n",
       "0  The main service/product that 23andMe delivers...   \n",
       "1  A family history story indicates that from 179...   \n",
       "2  I never thought this site would actually help ...   \n",
       "3  I actually received my kit as a Christmas gift...   \n",
       "4  It’s an attractive application, but its functi...   \n",
       "\n",
       "                                               title  voteCount  voteSum  \n",
       "0  Satisfying app but whereâ€™s the iPad vers/ & ...         23       13  \n",
       "1                           American Indian Ancestry          0        0  \n",
       "2                                 It Happened to Me!          0        0  \n",
       "3                    Very much worth the investment!          1        1  \n",
       "4                      Low functionality, high style          0        0  "
      ]
     },
     "execution_count": 16,
     "metadata": {},
     "output_type": "execute_result"
    }
   ],
   "source": [
    "df_appstore_all_reviews.head()"
   ]
  },
  {
   "cell_type": "code",
   "execution_count": null,
   "metadata": {},
   "outputs": [],
   "source": []
  }
 ],
 "metadata": {
  "kernelspec": {
   "display_name": "Python 3",
   "language": "python",
   "name": "python3"
  },
  "language_info": {
   "codemirror_mode": {
    "name": "ipython",
    "version": 3
   },
   "file_extension": ".py",
   "mimetype": "text/x-python",
   "name": "python",
   "nbconvert_exporter": "python",
   "pygments_lexer": "ipython3",
   "version": "3.7.1"
  }
 },
 "nbformat": 4,
 "nbformat_minor": 2
}
