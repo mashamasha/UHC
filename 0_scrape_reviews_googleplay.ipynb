{
 "cells": [
  {
   "cell_type": "code",
   "execution_count": null,
   "metadata": {},
   "outputs": [],
   "source": [
    "import json\n",
    "import pandas as pd\n",
    "import requests\n",
    "from collections import OrderedDict\n",
    "\n",
    "searchman_key = \"\""
   ]
  },
  {
   "cell_type": "markdown",
   "metadata": {},
   "source": [
    "#### Google play metadata\n"
   ]
  },
  {
   "cell_type": "code",
   "execution_count": null,
   "metadata": {},
   "outputs": [],
   "source": [
    "df_metadata = pd.read_csv(\"data/googleplay_metadata_phr.csv\"); df_metadata.shape"
   ]
  },
  {
   "cell_type": "code",
   "execution_count": null,
   "metadata": {},
   "outputs": [],
   "source": [
    "app_names = list(df_metadata['name'])\n",
    "app_ids = list(df_metadata['id'])"
   ]
  },
  {
   "cell_type": "code",
   "execution_count": null,
   "metadata": {},
   "outputs": [],
   "source": [
    "# Use Searchman API to get up to 100 reviews\n",
    "\n",
    "def get_reviews(names, ids, sortby):\n",
    "    sort = sortby\n",
    "    count = 100\n",
    "\n",
    "    app_reviews_all = {}\n",
    "    for app_name, app_id in list(zip(names, ids)):\n",
    "        print(app_id)\n",
    "        url = \"http://api.searchman.io/v1/android/us/app/reviews?\" \\\n",
    "            \"appId=%s&sort=%s&count=%s&apiKey=%s\" % (app_id, sort, str(count), searchman_key)\n",
    "        r = requests.get(url)\n",
    "        reviews = json.loads(r.text)\n",
    "        app_reviews_all[app_name] = reviews['data']"
   ]
  },
  {
   "cell_type": "code",
   "execution_count": null,
   "metadata": {},
   "outputs": [],
   "source": [
    "app_reviews_helpful = get_reviews(app_names, app_ids, \"mosthelpful\")\n",
    "app_reviews_recent = get_reviews(app_names, app_ids, \"mostrecent\")"
   ]
  },
  {
   "cell_type": "code",
   "execution_count": null,
   "metadata": {},
   "outputs": [],
   "source": [
    "with open(\"googleplay_reviews_recent_raw.json\", \"w\") as f:\n",
    "    f.write(json.dumps(app_reviews_recent))\n",
    "    \n",
    "with open(\"googleplay_reviews_helpful_raw.json\", \"w\") as f:\n",
    "    f.write(json.dumps(app_reviews_helpful))"
   ]
  },
  {
   "cell_type": "code",
   "execution_count": null,
   "metadata": {},
   "outputs": [],
   "source": [
    "# Aggregate helpful and recent reviews and \n",
    "# create a unique list of reviews for each app.\n",
    "\n",
    "app_reviews_together = {}\n",
    "for app in app_names:\n",
    "    helpful_review_ids = [review['id'] for review in app_reviews_helpful[app]]\n",
    "    recent_review_ids = [review['id'] for review in app_reviews_recent[app]]\n",
    "    all_reviews_ids = list(set(helpful_review_ids).union(set(recent_review_ids)))\n",
    "    app_reviews_all = app_reviews_helpful[app] + app_reviews_recent[app]\n",
    "    app_reviews_unique = list({review['id']:review for review in app_reviews_all}.values())\n",
    "    app_reviews_together[app] = app_reviews_unique"
   ]
  },
  {
   "cell_type": "code",
   "execution_count": null,
   "metadata": {},
   "outputs": [],
   "source": [
    "# json to tabular format.\n",
    "\n",
    "app_reviews_tabular = []\n",
    "for ix, metadata in df_metadata.iterrows():\n",
    "    reviews = app_reviews_together[metadata['name']]\n",
    "    for review in reviews:\n",
    "        row = OrderedDict()\n",
    "        row['name'] = metadata['name']\n",
    "        row['id'] = metadata['id']\n",
    "        row['userRatingCount'] = metadata['userRatingCount']\n",
    "        row['avgUserRating'] = metadata['avgUserRating']\n",
    "        row['title'] = review.get('title')\n",
    "        row['author'] = review.get('author')\n",
    "        row['authorId'] = review.get('authorId')\n",
    "        row['rating'] = review.get('rating')\n",
    "        row['date'] = review.get('timestamp')\n",
    "        row['voteSum'] = review.get('voteSum')\n",
    "        row['voteCount'] = review.get('voteCount')\n",
    "        row['content'] = review.get('body')\n",
    "        if row['content'] is not None:\n",
    "            row['content'] = row['content'].replace('\\n', '')\n",
    "        app_reviews_tabular.append(row)"
   ]
  },
  {
   "cell_type": "code",
   "execution_count": null,
   "metadata": {},
   "outputs": [],
   "source": [
    "df_out = pd.DataFrame(app_reviews_tabular); df_out.head(2)"
   ]
  },
  {
   "cell_type": "code",
   "execution_count": null,
   "metadata": {},
   "outputs": [],
   "source": [
    "df_out = df_out[df_out['content'].isna() == False]  # Remove reviews with no content"
   ]
  },
  {
   "cell_type": "code",
   "execution_count": null,
   "metadata": {},
   "outputs": [],
   "source": [
    "df_out.to_csv(\"data/googleplay_reviews_phr.csv\")"
   ]
  }
 ],
 "metadata": {
  "kernelspec": {
   "display_name": "Python 3",
   "language": "python",
   "name": "python3"
  },
  "language_info": {
   "codemirror_mode": {
    "name": "ipython",
    "version": 3
   },
   "file_extension": ".py",
   "mimetype": "text/x-python",
   "name": "python",
   "nbconvert_exporter": "python",
   "pygments_lexer": "ipython3",
   "version": "3.7.1"
  }
 },
 "nbformat": 4,
 "nbformat_minor": 2
}
