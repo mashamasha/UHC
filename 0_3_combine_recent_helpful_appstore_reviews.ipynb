{
 "cells": [
  {
   "cell_type": "code",
   "execution_count": 88,
   "metadata": {},
   "outputs": [],
   "source": [
    "import json\n",
    "import requests\n",
    "from collections import OrderedDict\n",
    "from datetime import datetime\n",
    "\n",
    "import numpy as np\n",
    "import pandas as pd\n",
    "import xmltodict"
   ]
  },
  {
   "cell_type": "code",
   "execution_count": 89,
   "metadata": {},
   "outputs": [],
   "source": [
    "df_metadata = pd.read_csv(\"data/appstore_metadata_phr.csv\")\n",
    "df_recent= pd.read_csv(\"data/appstore_recent_reviews_phr.csv\")\n",
    "df_helpful = pd.read_csv(\"data/appstore_helpful_reviews_phr.csv\")"
   ]
  },
  {
   "cell_type": "code",
   "execution_count": 90,
   "metadata": {},
   "outputs": [
    {
     "data": {
      "text/plain": [
       "3790"
      ]
     },
     "execution_count": 90,
     "metadata": {},
     "output_type": "execute_result"
    }
   ],
   "source": [
    "len(df_helpful[df_helpful['text']!=''])"
   ]
  },
  {
   "cell_type": "code",
   "execution_count": 91,
   "metadata": {},
   "outputs": [
    {
     "data": {
      "text/plain": [
       "array(['Microsoft HealthVault', 'FitnessSyncer', 'MTBC PHR',\n",
       "       'Accolade, Inc.', 'Capzule', 'My Medical',\n",
       "       'Health Records : GenexEHR',\n",
       "       'Healthspek - Personal Health Record & Family Health Record - Complete Medical Record',\n",
       "       'Medfusion Plus', 'higi', 'Sharecare', 'Aetna Mobile',\n",
       "       'Kaiser Permanente', 'myCigna', 'Blue Shield of California',\n",
       "       'MyHumana', 'Anthem Anywhere', 'Capital BlueCross Virtual Care'],\n",
       "      dtype=object)"
      ]
     },
     "execution_count": 91,
     "metadata": {},
     "output_type": "execute_result"
    }
   ],
   "source": [
    "df_helpful['name'].unique()"
   ]
  },
  {
   "cell_type": "code",
   "execution_count": 92,
   "metadata": {},
   "outputs": [
    {
     "data": {
      "text/html": [
       "<div>\n",
       "<style scoped>\n",
       "    .dataframe tbody tr th:only-of-type {\n",
       "        vertical-align: middle;\n",
       "    }\n",
       "\n",
       "    .dataframe tbody tr th {\n",
       "        vertical-align: top;\n",
       "    }\n",
       "\n",
       "    .dataframe thead th {\n",
       "        text-align: right;\n",
       "    }\n",
       "</style>\n",
       "<table border=\"1\" class=\"dataframe\">\n",
       "  <thead>\n",
       "    <tr style=\"text-align: right;\">\n",
       "      <th></th>\n",
       "      <th>name</th>\n",
       "      <th>id</th>\n",
       "      <th>title</th>\n",
       "      <th>author_name</th>\n",
       "      <th>author_uri</th>\n",
       "      <th>voteSum</th>\n",
       "      <th>voteCount</th>\n",
       "      <th>rating</th>\n",
       "      <th>text</th>\n",
       "      <th>date</th>\n",
       "    </tr>\n",
       "  </thead>\n",
       "  <tbody>\n",
       "    <tr>\n",
       "      <th>740</th>\n",
       "      <td>Health Records : GenexEHR</td>\n",
       "      <td>1089533617</td>\n",
       "      <td></td>\n",
       "      <td></td>\n",
       "      <td></td>\n",
       "      <td></td>\n",
       "      <td></td>\n",
       "      <td></td>\n",
       "      <td></td>\n",
       "      <td></td>\n",
       "    </tr>\n",
       "  </tbody>\n",
       "</table>\n",
       "</div>"
      ],
      "text/plain": [
       "                          name          id title author_name author_uri  \\\n",
       "740  Health Records : GenexEHR  1089533617                                \n",
       "\n",
       "    voteSum voteCount rating text date  \n",
       "740                                     "
      ]
     },
     "execution_count": 92,
     "metadata": {},
     "output_type": "execute_result"
    }
   ],
   "source": [
    "df_helpful[df_helpful['name']=='Health Records : GenexEHR']"
   ]
  },
  {
   "cell_type": "code",
   "execution_count": null,
   "metadata": {},
   "outputs": [],
   "source": []
  },
  {
   "cell_type": "code",
   "execution_count": 93,
   "metadata": {},
   "outputs": [
    {
     "data": {
      "text/plain": [
       "740    True\n",
       "Name: text, dtype: bool"
      ]
     },
     "execution_count": 93,
     "metadata": {},
     "output_type": "execute_result"
    }
   ],
   "source": [
    "df_helpful[df_helpful['name']=='Health Records : GenexEHR']['text'] ==' '"
   ]
  },
  {
   "cell_type": "code",
   "execution_count": 95,
   "metadata": {},
   "outputs": [],
   "source": [
    "df_helpful.replace(' ',np.nan, inplace= True)"
   ]
  },
  {
   "cell_type": "code",
   "execution_count": 96,
   "metadata": {},
   "outputs": [
    {
     "data": {
      "text/html": [
       "<div>\n",
       "<style scoped>\n",
       "    .dataframe tbody tr th:only-of-type {\n",
       "        vertical-align: middle;\n",
       "    }\n",
       "\n",
       "    .dataframe tbody tr th {\n",
       "        vertical-align: top;\n",
       "    }\n",
       "\n",
       "    .dataframe thead th {\n",
       "        text-align: right;\n",
       "    }\n",
       "</style>\n",
       "<table border=\"1\" class=\"dataframe\">\n",
       "  <thead>\n",
       "    <tr style=\"text-align: right;\">\n",
       "      <th></th>\n",
       "      <th>name</th>\n",
       "      <th>id</th>\n",
       "      <th>title</th>\n",
       "      <th>author_name</th>\n",
       "      <th>author_uri</th>\n",
       "      <th>voteSum</th>\n",
       "      <th>voteCount</th>\n",
       "      <th>rating</th>\n",
       "      <th>text</th>\n",
       "      <th>date</th>\n",
       "    </tr>\n",
       "  </thead>\n",
       "  <tbody>\n",
       "    <tr>\n",
       "      <th>740</th>\n",
       "      <td>Health Records : GenexEHR</td>\n",
       "      <td>1089533617</td>\n",
       "      <td>NaN</td>\n",
       "      <td>NaN</td>\n",
       "      <td>NaN</td>\n",
       "      <td>NaN</td>\n",
       "      <td>NaN</td>\n",
       "      <td>NaN</td>\n",
       "      <td>NaN</td>\n",
       "      <td>NaN</td>\n",
       "    </tr>\n",
       "  </tbody>\n",
       "</table>\n",
       "</div>"
      ],
      "text/plain": [
       "                          name          id title author_name author_uri  \\\n",
       "740  Health Records : GenexEHR  1089533617   NaN         NaN        NaN   \n",
       "\n",
       "    voteSum voteCount rating text date  \n",
       "740     NaN       NaN    NaN  NaN  NaN  "
      ]
     },
     "execution_count": 96,
     "metadata": {},
     "output_type": "execute_result"
    }
   ],
   "source": [
    "df_helpful[df_helpful['name']=='Health Records : GenexEHR']"
   ]
  },
  {
   "cell_type": "code",
   "execution_count": 97,
   "metadata": {},
   "outputs": [],
   "source": [
    "df_helpful.dropna(inplace=True)"
   ]
  },
  {
   "cell_type": "code",
   "execution_count": 98,
   "metadata": {},
   "outputs": [
    {
     "data": {
      "text/plain": [
       "3788"
      ]
     },
     "execution_count": 98,
     "metadata": {},
     "output_type": "execute_result"
    }
   ],
   "source": [
    "len(df_helpful)"
   ]
  },
  {
   "cell_type": "code",
   "execution_count": 99,
   "metadata": {},
   "outputs": [],
   "source": [
    "df_recent.replace(' ',np.nan, inplace= True)"
   ]
  },
  {
   "cell_type": "code",
   "execution_count": 100,
   "metadata": {},
   "outputs": [],
   "source": [
    "df_recent.dropna(inplace=True)"
   ]
  },
  {
   "cell_type": "code",
   "execution_count": 101,
   "metadata": {},
   "outputs": [
    {
     "data": {
      "text/plain": [
       "3788"
      ]
     },
     "execution_count": 101,
     "metadata": {},
     "output_type": "execute_result"
    }
   ],
   "source": [
    "len(df_recent)"
   ]
  },
  {
   "cell_type": "code",
   "execution_count": null,
   "metadata": {},
   "outputs": [],
   "source": []
  },
  {
   "cell_type": "code",
   "execution_count": null,
   "metadata": {},
   "outputs": [],
   "source": [
    "df_out = 'appstore_all_reviews.csv'"
   ]
  },
  {
   "cell_type": "code",
   "execution_count": 102,
   "metadata": {},
   "outputs": [],
   "source": [
    "dict_helpful=df_helpful.to_dict(orient='record')\n",
    "dict_recent=df_recent.to_dict(orient='record')"
   ]
  },
  {
   "cell_type": "code",
   "execution_count": 105,
   "metadata": {},
   "outputs": [],
   "source": [
    "hashed_reviews={}\n",
    "unique_reviews=[]\n",
    "for review in dict_helpful:\n",
    "    key=str(review['id'])+'::'+review['author_uri']+'::'+review['date']\n",
    "    if key not in unique_reviews:\n",
    "        hashed_reviews[key]=review\n",
    "for review in dict_recent:\n",
    "    key=str(review['id'])+'::'+review['author_uri']+'::'+review['date']\n",
    "    if key not in unique_reviews:\n",
    "        hashed_reviews[key]=review\n",
    "for key in hashed_reviews:\n",
    "    unique_reviews.append(hashed_reviews[key])\n",
    "df_appstore_all_reviews=pd.DataFrame(unique_reviews)\n",
    "df_appstore_all_reviews.to_csv('data/appstore_all_reviews.csv', index=False)"
   ]
  },
  {
   "cell_type": "code",
   "execution_count": 107,
   "metadata": {},
   "outputs": [
    {
     "data": {
      "text/html": [
       "<div>\n",
       "<style scoped>\n",
       "    .dataframe tbody tr th:only-of-type {\n",
       "        vertical-align: middle;\n",
       "    }\n",
       "\n",
       "    .dataframe tbody tr th {\n",
       "        vertical-align: top;\n",
       "    }\n",
       "\n",
       "    .dataframe thead th {\n",
       "        text-align: right;\n",
       "    }\n",
       "</style>\n",
       "<table border=\"1\" class=\"dataframe\">\n",
       "  <thead>\n",
       "    <tr style=\"text-align: right;\">\n",
       "      <th></th>\n",
       "      <th>author_name</th>\n",
       "      <th>author_uri</th>\n",
       "      <th>date</th>\n",
       "      <th>id</th>\n",
       "      <th>name</th>\n",
       "      <th>rating</th>\n",
       "      <th>text</th>\n",
       "      <th>title</th>\n",
       "      <th>voteCount</th>\n",
       "      <th>voteSum</th>\n",
       "    </tr>\n",
       "  </thead>\n",
       "  <tbody>\n",
       "    <tr>\n",
       "      <th>0</th>\n",
       "      <td>liver transplant patient</td>\n",
       "      <td>https://itunes.apple.com/us/reviews/id782157250</td>\n",
       "      <td>2018-08-08T05:03:25-07:00</td>\n",
       "      <td>546835834</td>\n",
       "      <td>Microsoft HealthVault</td>\n",
       "      <td>1</td>\n",
       "      <td>Lab Corp had my weekly blood work results on t...</td>\n",
       "      <td>Lab Corp blood results</td>\n",
       "      <td>1</td>\n",
       "      <td>1</td>\n",
       "    </tr>\n",
       "    <tr>\n",
       "      <th>1</th>\n",
       "      <td>nofeeagency</td>\n",
       "      <td>https://itunes.apple.com/us/reviews/id327374344</td>\n",
       "      <td>2018-10-30T21:11:53-07:00</td>\n",
       "      <td>546835834</td>\n",
       "      <td>Microsoft HealthVault</td>\n",
       "      <td>5</td>\n",
       "      <td>From a wonderful company like MS I always expe...</td>\n",
       "      <td>Perfect</td>\n",
       "      <td>0</td>\n",
       "      <td>0</td>\n",
       "    </tr>\n",
       "    <tr>\n",
       "      <th>2</th>\n",
       "      <td>MeistOfMes</td>\n",
       "      <td>https://itunes.apple.com/us/reviews/id130580876</td>\n",
       "      <td>2017-01-27T11:24:12-07:00</td>\n",
       "      <td>546835834</td>\n",
       "      <td>Microsoft HealthVault</td>\n",
       "      <td>1</td>\n",
       "      <td>I only downloaded this for lab results, since ...</td>\n",
       "      <td>Lab results from labcorp need serious revision</td>\n",
       "      <td>4</td>\n",
       "      <td>3</td>\n",
       "    </tr>\n",
       "    <tr>\n",
       "      <th>3</th>\n",
       "      <td>mjdindc</td>\n",
       "      <td>https://itunes.apple.com/us/reviews/id37433209</td>\n",
       "      <td>2018-01-16T21:08:55-07:00</td>\n",
       "      <td>546835834</td>\n",
       "      <td>Microsoft HealthVault</td>\n",
       "      <td>1</td>\n",
       "      <td>I started using almost 10 years ago. For the t...</td>\n",
       "      <td>Stuck in 2001 health reporting technology</td>\n",
       "      <td>2</td>\n",
       "      <td>2</td>\n",
       "    </tr>\n",
       "    <tr>\n",
       "      <th>4</th>\n",
       "      <td>cazzy_knickers</td>\n",
       "      <td>https://itunes.apple.com/us/reviews/id39998198</td>\n",
       "      <td>2017-10-22T22:19:27-07:00</td>\n",
       "      <td>546835834</td>\n",
       "      <td>Microsoft HealthVault</td>\n",
       "      <td>1</td>\n",
       "      <td>Literally NOTHING in this app works. Initially...</td>\n",
       "      <td>Straight up doesnâ€™t work</td>\n",
       "      <td>1</td>\n",
       "      <td>1</td>\n",
       "    </tr>\n",
       "  </tbody>\n",
       "</table>\n",
       "</div>"
      ],
      "text/plain": [
       "                author_name                                       author_uri  \\\n",
       "0  liver transplant patient  https://itunes.apple.com/us/reviews/id782157250   \n",
       "1               nofeeagency  https://itunes.apple.com/us/reviews/id327374344   \n",
       "2                MeistOfMes  https://itunes.apple.com/us/reviews/id130580876   \n",
       "3                   mjdindc   https://itunes.apple.com/us/reviews/id37433209   \n",
       "4            cazzy_knickers   https://itunes.apple.com/us/reviews/id39998198   \n",
       "\n",
       "                        date         id                   name rating  \\\n",
       "0  2018-08-08T05:03:25-07:00  546835834  Microsoft HealthVault      1   \n",
       "1  2018-10-30T21:11:53-07:00  546835834  Microsoft HealthVault      5   \n",
       "2  2017-01-27T11:24:12-07:00  546835834  Microsoft HealthVault      1   \n",
       "3  2018-01-16T21:08:55-07:00  546835834  Microsoft HealthVault      1   \n",
       "4  2017-10-22T22:19:27-07:00  546835834  Microsoft HealthVault      1   \n",
       "\n",
       "                                                text  \\\n",
       "0  Lab Corp had my weekly blood work results on t...   \n",
       "1  From a wonderful company like MS I always expe...   \n",
       "2  I only downloaded this for lab results, since ...   \n",
       "3  I started using almost 10 years ago. For the t...   \n",
       "4  Literally NOTHING in this app works. Initially...   \n",
       "\n",
       "                                            title voteCount voteSum  \n",
       "0                          Lab Corp blood results         1       1  \n",
       "1                                         Perfect         0       0  \n",
       "2  Lab results from labcorp need serious revision         4       3  \n",
       "3       Stuck in 2001 health reporting technology         2       2  \n",
       "4                      Straight up doesnâ€™t work         1       1  "
      ]
     },
     "execution_count": 107,
     "metadata": {},
     "output_type": "execute_result"
    }
   ],
   "source": [
    "df_appstore_all_reviews.head()"
   ]
  },
  {
   "cell_type": "code",
   "execution_count": null,
   "metadata": {},
   "outputs": [],
   "source": []
  }
 ],
 "metadata": {
  "kernelspec": {
   "display_name": "Python 3",
   "language": "python",
   "name": "python3"
  },
  "language_info": {
   "codemirror_mode": {
    "name": "ipython",
    "version": 3
   },
   "file_extension": ".py",
   "mimetype": "text/x-python",
   "name": "python",
   "nbconvert_exporter": "python",
   "pygments_lexer": "ipython3",
   "version": "3.7.1"
  }
 },
 "nbformat": 4,
 "nbformat_minor": 2
}
