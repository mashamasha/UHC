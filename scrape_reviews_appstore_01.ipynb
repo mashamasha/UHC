{
 "cells": [
  {
   "cell_type": "code",
   "execution_count": 4,
   "metadata": {},
   "outputs": [],
   "source": [
    "import os\n",
    "import json\n",
    "import requests\n",
    "import xmltodict\n",
    "\n",
    "from collections import Counter"
   ]
  },
  {
   "cell_type": "code",
   "execution_count": 5,
   "metadata": {},
   "outputs": [],
   "source": [
    "def fetch_reviews(app_id, country = 'us', sortBy = 'mostRecent', page = 1):\n",
    "    \"\"\" Get max 500 user reviews for a given app.\n",
    "    \n",
    "    country = default to United States (us).\n",
    "    sorty = 'mostRecent'(default) or 'mostHelpful'.\n",
    "    page = page number. default = 1, max = 10.\n",
    "    \"\"\"\n",
    "    \n",
    "    url = 'https://itunes.apple.com/%s/rss/customerreviews/id=%s/sortBy=%s/page=%s/xml' % (country, \n",
    "                                                                                           str(app_id), \n",
    "                                                                                           sortBy,\n",
    "                                                                                           str(page))\n",
    "    r = requests.get(url)\n",
    "    reviews_dict = xmltodict.parse(r.text)\n",
    "    \n",
    "    try:  # If there are no reviews on this page, break out of loop\n",
    "        reviews_list = reviews_dict['feed']['entry']\n",
    "    except:\n",
    "        return []\n",
    "    \n",
    "    reviews = []\n",
    "    for review in reviews_list:\n",
    "        reviews.append({'title': review['title'],\n",
    "                       'author': review['author']['name'],\n",
    "                       'authorUrl': review['author']['uri'],\n",
    "                       'rating': review['im:rating'],\n",
    "                       'date': review['updated'],\n",
    "                       'voteSum': review['im:voteSum'],\n",
    "                       'voteCount': review['im:voteCount'],\n",
    "                       'content': review['content'][0]['#text'].replace('\\n', ' ')\n",
    "                      })\n",
    "    return reviews"
   ]
  },
  {
   "cell_type": "code",
   "execution_count": 6,
   "metadata": {},
   "outputs": [],
   "source": [
    "with open(\"health_appstore.json\", 'r', encoding='utf-8') as f:\n",
    "    apps = json.load(f)\n",
    "    \n",
    "filtered_apps = [ app for app in apps['results'] \n",
    "                 if app['primaryGenreName'] == 'Health & Fitness' ] # Filter out all non-Health&Fitness apps.\n"
   ]
  },
  {
   "cell_type": "code",
   "execution_count": 7,
   "metadata": {},
   "outputs": [],
   "source": [
    "app_metadata = []\n",
    "\n",
    "for app in filtered_apps[40:42]:\n",
    "    # Get app metadata\n",
    "    app_data = {'name': app['trackName'],\n",
    "                'id': app['trackId'],\n",
    "                'url': app['trackViewUrl'],\n",
    "                'price': app['price'],\n",
    "                'avgUserRating': app['averageUserRating'],\n",
    "                'userRatingCount': app['userRatingCount'],\n",
    "                'currentVersionReleaseDate': app['currentVersionReleaseDate'],\n",
    "                'description': app['description'].replace('\\n', ' ')\n",
    "                }\n",
    "    \n",
    "    # Get most recent and most helpful reviews (separately) for app (up to 500)\n",
    "    recent_reviews = []\n",
    "    helpful_reviews = []\n",
    "    for i in range(1, 11): \n",
    "        recent_reviews += fetch_reviews(app_data['id'], page=i)\n",
    "        helpful_reviews += fetch_reviews(app_data['id'], sortBy='mostHelpful', page=i)\n",
    "\n",
    "    app_data['recent_reviews'] = recent_reviews\n",
    "    app_data['helpful_reviews'] = helpful_reviews\n",
    "    app_metadata.append(app_data)"
   ]
  },
  {
   "cell_type": "code",
   "execution_count": 9,
   "metadata": {},
   "outputs": [],
   "source": [
    "with open('appstore_metadata_and_reviews.json', 'w', encoding='utf-8') as f:\n",
    "    f.write(json.dumps(app_metadata, ensure_ascii=False))"
   ]
  }
 ],
 "metadata": {
  "kernelspec": {
   "display_name": "Python 3",
   "language": "python",
   "name": "python3"
  },
  "language_info": {
   "codemirror_mode": {
    "name": "ipython",
    "version": 3
   },
   "file_extension": ".py",
   "mimetype": "text/x-python",
   "name": "python",
   "nbconvert_exporter": "python",
   "pygments_lexer": "ipython3",
   "version": "3.6.6"
  }
 },
 "nbformat": 4,
 "nbformat_minor": 2
}
