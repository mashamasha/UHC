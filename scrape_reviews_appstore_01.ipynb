{
 "cells": [
  {
   "cell_type": "code",
   "execution_count": 12,
   "metadata": {},
   "outputs": [],
   "source": [
    "import os\n",
    "import json\n",
    "import requests\n",
    "import xmltodict\n",
    "\n",
    "from collections import Counter"
   ]
  },
  {
   "cell_type": "code",
   "execution_count": 2,
   "metadata": {},
   "outputs": [],
   "source": [
    "def fetch_reviews(app_id, country = 'us', sortBy = 'mostRecent', page = 1):\n",
    "    \"\"\" Get max 500 user reviews for a given app.\n",
    "    \n",
    "    country = default to United States (us).\n",
    "    sorty = 'mostRecent'(default) or 'mostHelpful'.\n",
    "    page = page number. default = 1, max = 10.\n",
    "    \"\"\"\n",
    "    \n",
    "    url = 'https://itunes.apple.com/%s/rss/customerreviews/id=%s/sortBy=%s/page=%s/xml' % (country, \n",
    "                                                                                           str(app_id), \n",
    "                                                                                           sortBy,\n",
    "                                                                                           str(page))\n",
    "    r = requests.get(url)\n",
    "    reviews_dict = xmltodict.parse(r.text)\n",
    "    \n",
    "    try:  # If there are no reviews on this page, break out of loop\n",
    "        reviews_list = reviews_dict['feed']['entry']\n",
    "    except:\n",
    "        return []\n",
    "    \n",
    "    reviews = []\n",
    "    for review in reviews_list:\n",
    "        reviews.append({'title': review['title'],\n",
    "                       'author': review['author']['name'],\n",
    "                       'authorUrl': review['author']['uri'],\n",
    "                       'rating': review['im:rating'],\n",
    "                       'date': review['updated'],\n",
    "                       'voteSum': review['im:voteSum'],\n",
    "                       'voteCount': review['im:voteCount'],\n",
    "                       'content': review['content'][0]['#text'].replace('\\n', ' ')\n",
    "                      \n",
    "    return reviews"
   ]
  },
  {
   "cell_type": "code",
   "execution_count": 13,
   "metadata": {},
   "outputs": [],
   "source": [
    "def fetch_apps(terms: list, limit: int):\n",
    "    \"\"\"Uses the iTunes store search API to get metadata for apps.\n",
    "    \n",
    "    terms: A list of terms to search (ie. [\"Medical\", \"Personal\", \"Health\"])\n",
    "    limit: Number of apps to return (max 200)\n",
    "    \"\"\"\n",
    "    \n",
    "    url = \"https://itunes.apple.com/search?media=software&entity=software&term=%s&limit=%s\" % (\"+\".join(terms),\n",
    "                                                                                              limit)\n",
    "            \n",
    "    r = requests.get(url)\n",
    "    print(r.text)\n",
    "    return r.text"
   ]
  },
  {
   "cell_type": "code",
   "execution_count": 14,
   "metadata": {},
   "outputs": [],
   "source": [
    "\n",
    "#filtered_apps = [ app for app in apps['results'] \n",
    "#                 if app['primaryGenreName'] == 'Health & Fitness' ] # Filter out all non-Health&Fitness apps.\n"
   ]
  },
  {
   "cell_type": "code",
   "execution_count": 15,
   "metadata": {},
   "outputs": [
    {
     "name": "stdout",
     "output_type": "stream",
     "text": [
      "\n",
      "\n",
      "\n",
      "{\n",
      " \"resultCount\":2,\n",
      " \"results\": [\n",
      "{\"isGameCenterEnabled\":false, \n",
      "\"screenshotUrls\":[\"https://is2-ssl.mzstatic.com/image/thumb/Purple128/v4/d3/a0/c1/d3a0c164-6f6e-95c2-a388-833c90bd2a54/source/392x696bb.jpg\", \"https://is1-ssl.mzstatic.com/image/thumb/Purple128/v4/1c/53/b4/1c53b4cb-67b0-62eb-864c-d1e841620ff7/source/392x696bb.jpg\", \"https://is2-ssl.mzstatic.com/image/thumb/Purple128/v4/e1/5b/01/e15b0157-8510-6b81-4c84-db0e82b3c25a/source/392x696bb.jpg\", \"https://is2-ssl.mzstatic.com/image/thumb/Purple118/v4/22/ae/76/22ae76da-4c49-da25-d1d3-53f5bba5c6a6/source/392x696bb.jpg\", \"https://is2-ssl.mzstatic.com/image/thumb/Purple118/v4/f5/b8/fa/f5b8fa07-a31c-77c9-172e-f1060b1f42c4/source/392x696bb.jpg\", \"https://is3-ssl.mzstatic.com/image/thumb/Purple118/v4/22/7a/af/227aaf21-d9e4-f16b-ebcb-06310dcc9c9b/source/392x696bb.jpg\"], \"ipadScreenshotUrls\":[], \"appletvScreenshotUrls\":[], \"artworkUrl60\":\"https://is1-ssl.mzstatic.com/image/thumb/Purple128/v4/6e/be/63/6ebe632c-bcc8-ccf5-8a77-f24aa0b02cf9/source/60x60bb.jpg\", \"artworkUrl512\":\"https://is1-ssl.mzstatic.com/image/thumb/Purple128/v4/6e/be/63/6ebe632c-bcc8-ccf5-8a77-f24aa0b02cf9/source/512x512bb.jpg\", \"artworkUrl100\":\"https://is1-ssl.mzstatic.com/image/thumb/Purple128/v4/6e/be/63/6ebe632c-bcc8-ccf5-8a77-f24aa0b02cf9/source/100x100bb.jpg\", \"artistViewUrl\":\"https://itunes.apple.com/us/developer/pacer-health-inc/id600446815?uo=4\", \"advisories\":[], \"kind\":\"software\", \"features\":[], \n",
      "\"supportedDevices\":[\"iPad2Wifi-iPad2Wifi\", \"iPad23G-iPad23G\", \"iPhone4S-iPhone4S\", \"iPadThirdGen-iPadThirdGen\", \"iPadThirdGen4G-iPadThirdGen4G\", \"iPhone5-iPhone5\", \"iPodTouchFifthGen-iPodTouchFifthGen\", \"iPadFourthGen-iPadFourthGen\", \"iPadFourthGen4G-iPadFourthGen4G\", \"iPadMini-iPadMini\", \"iPadMini4G-iPadMini4G\", \"iPhone5c-iPhone5c\", \"iPhone5s-iPhone5s\", \"iPadAir-iPadAir\", \"iPadAirCellular-iPadAirCellular\", \"iPadMiniRetina-iPadMiniRetina\", \"iPadMiniRetinaCellular-iPadMiniRetinaCellular\", \"iPhone6-iPhone6\", \"iPhone6Plus-iPhone6Plus\", \"iPadAir2-iPadAir2\", \"iPadAir2Cellular-iPadAir2Cellular\", \"iPadMini3-iPadMini3\", \"iPadMini3Cellular-iPadMini3Cellular\", \"iPodTouchSixthGen-iPodTouchSixthGen\", \"iPhone6s-iPhone6s\", \"iPhone6sPlus-iPhone6sPlus\", \"iPadMini4-iPadMini4\", \"iPadMini4Cellular-iPadMini4Cellular\", \"iPadPro-iPadPro\", \"iPadProCellular-iPadProCellular\", \"iPadPro97-iPadPro97\", \"iPadPro97Cellular-iPadPro97Cellular\", \"iPhoneSE-iPhoneSE\", \"iPhone7-iPhone7\", \"iPhone7Plus-iPhone7Plus\", \"iPad611-iPad611\", \"iPad612-iPad612\", \"iPad71-iPad71\", \"iPad72-iPad72\", \"iPad73-iPad73\", \"iPad74-iPad74\", \"iPhone8-iPhone8\", \"iPhone8Plus-iPhone8Plus\", \"iPhoneX-iPhoneX\", \"iPad75-iPad75\", \"iPad76-iPad76\", \"iPhoneXS-iPhoneXS\", \"iPhoneXSMax-iPhoneXSMax\", \"iPhoneXR-iPhoneXR\"], \"trackCensoredName\":\"Pacer Pedometer & Step Tracker\", \"averageUserRatingForCurrentVersion\":5.0, \"languageCodesISO2A\":[\"EN\", \"FR\", \"DE\", \"IT\", \"JA\", \"KO\", \"PT\", \"RU\", \"ZH\", \"ES\", \"ZH\"], \"fileSizeBytes\":\"167200768\", \"sellerUrl\":\"http://www.mypacer.com\", \"contentAdvisoryRating\":\"4+\", \"userRatingCountForCurrentVersion\":5809, \"trackViewUrl\":\"https://itunes.apple.com/us/app/pacer-pedometer-step-tracker/id600446812?mt=8&uo=4\", \"trackContentRating\":\"4+\", \n",
      "\"releaseNotes\":\"1. GPS Sharing Privacy Settings: It's now easier to choose to whether to share your GPS activities with followers, everyone, or not share them at all.\\n\\n2. New Pacer Routes: Introduce your favorite walking trail or local area to your friends! Routes turns your GPS activity's track into a Route that your friends can navigate. Don’t forget to take photos during your activity - they can be added to the Route so your friends can see all of the interesting sights along the way!\", \"currentVersionReleaseDate\":\"2018-09-26T03:12:00Z\", \"primaryGenreId\":6013, \"minimumOsVersion\":\"9.0\", \"trackId\":\"600446812\", \"trackName\":\"Pacer Pedometer & Step Tracker\", \"releaseDate\":\"2013-02-14T05:18:22Z\", \"primaryGenreName\":\"Health & Fitness\", \"sellerName\":\"Pacer Health, Inc\", \"formattedPrice\":\"Free\", \"genreIds\":[\"6013\", \"6020\"], \"currency\":\"USD\", \"wrapperType\":\"software\", \"version\":\"3.8.7\", \n",
      "\"description\":\"Pacer is like having a walking buddy and fitness coach in one app. Our personalized fitness plans and guided workouts help you achieve your unique fitness goals. You’ll get motivation and support to get more active by joining groups and becoming a part of our amazing Pacer community. Work out anywhere, any time with Pacer.\\n\\nHear what some of our users are saying:\\n\\n\\\"Really like this highly addictive app...\\\" ~Sparky731\\n\\n\\\"Best app I've ever used helping me lose a few pounds a week...\\\" ~Gerryofkellys\\n\\n\\\"...I’m just grateful to this app for being a major catalyst to my health and fitness transformation... ...my husband and I have lost well over 100lbs\\\" ~LaToya M\\n\\n\\\"...I've lost 20 lbs in the last 3 months by just trying to beat my walking distance daily at work. I love the daily goal. Cheaper and better than a gym membership and a 1000x's more effective!\\\" ~Covette92\\n\\nGET STARTED RIGHT AWAY FOR FREE\\n-No wristband or other hardware required.  Works entirely from your phone with no additional setup\\n-No login required, just download for free, pick an avatar and get going\\n\\nTRACK ALL YOUR ACTIVITY\\n-Tracks your steps all day long whether your phone is in your hand, in your pocket, in your jacket, on an armband or in your purse\\n-Records steps, calories, distance and active time\\n-Use GPS to track your outdoor running, walking and biking on a map\\n\\nLOSE WEIGHT & GET FIT\\n-Track your weight and BMI over time, and correlate changes with your activity and other vitals\\n\\nSTAY MOTIVATED WITH FAMILY & FRIENDS\\n-Create walking groups with your friends and family to compare daily steps in real-time\\n-Connect with friends using iPhone or other smartphones\\n\\nACHIEVE YOUR GOALS\\n-Stay motivated and on track with day-by-day Goals\\n-Support and motivate other users who share your goals\\n\\n****Other Great Features****\\n-Syncs steps and calories with MyFitnessPal\\n-Syncs your data to Apple Health App\\n-Link to Apple Health to sync data from your Apple Watch\\n-Track your blood pressure along with activity and weight\\n-Create plans and set daily goals for yourself\\n-Based on science: track your metrics against standards provided by the World Health Organization, American Heart Association and President’s Fitness Council.\\n\\nOther apps can track your walks, runs and workout sessions, but no other app can give you this level of comprehensive activity tracking and insight all on your iPhone and with such a simple interface.  Before you spend your money on an expensive wearable device, try Pacer first!\\n\\nAnd remember, stay active!\\n\\n****GET BETTER RESULTS WITH PACER PREMIUM****\\nUnlock powerful tools to help you reach your health goals.\\n-Advanced data reports and insights\\n-Scientifically designed guided workouts\\n-Weight loss coaching program\\n\\nSUBSCRIPTION FEES\\nSubscriptions to Pacer Premium are $4.99 per month or $29.99 for a full year. Pacer Premium subscriptions will be charged to your iTunes account after your confirmation of purchase. \\n\\nYou can use your iTunes account to subscribe and pay for Pacer Premium. Payment will be charged to your iTunes account at confirmation of purchase. Subscriptions will renew automatically unless cancelled at least 24 hours before the current period ends. Your account will be charged for renewal within 24 hours prior to the end of the current period, and will renew at the same cost. You can manage subscriptions and turn off auto-renewal by going to your iTunes Account Settings after purchase. Any unused portion of a free trial period, if offered, will be forfeited when the user purchases a subscription to that service, where applicable.\\n\\nTerms of Use: http://www.mypacer.com/termsofservice/\\nPrivacy Policy: http://www.mypacer.com/privacy\\n\\n****Location Based Services ****\\n\\nThis app has an optional feature for more accurate tracking that makes use of iOS's location based services.\\n\\nNote: Continued use of GPS running in the background may dramatically decrease battery life.\", \"artistId\":\"600446815\", \"artistName\":\"Pacer Health, Inc\", \"genres\":[\"Health & Fitness\", \"Medical\"], \"price\":0.00, \"bundleId\":\"com.pacer.pacerapp\", \"isVppDeviceBasedLicensingEnabled\":true, \"averageUserRating\":5.0, \"userRatingCount\":52456}, \n",
      "{\"isGameCenterEnabled\":false, \n",
      "\"screenshotUrls\":[\"https://is3-ssl.mzstatic.com/image/thumb/Purple128/v4/38/71/56/387156e7-233a-26ce-bb43-96fbf64f76b0/source/392x696bb.jpg\", \"https://is3-ssl.mzstatic.com/image/thumb/Purple118/v4/fd/0e/3b/fd0e3b84-f8fd-a242-a705-9929302aeb93/source/392x696bb.jpg\", \"https://is4-ssl.mzstatic.com/image/thumb/Purple128/v4/20/2e/11/202e11e1-4076-a96c-bce6-67dcf7cff0c3/source/392x696bb.jpg\", \"https://is2-ssl.mzstatic.com/image/thumb/Purple128/v4/de/54/ae/de54ae44-7a23-181e-92fd-da1f2b3cefd1/source/392x696bb.jpg\", \"https://is3-ssl.mzstatic.com/image/thumb/Purple118/v4/99/44/40/99444063-8cc1-da4d-36d0-1dd0d43db9eb/source/392x696bb.jpg\"], \n",
      "\"ipadScreenshotUrls\":[\"https://is3-ssl.mzstatic.com/image/thumb/Purple128/v4/a5/02/de/a502de4d-cc53-8edb-1749-21b1181e0146/source/576x768bb.jpg\", \"https://is5-ssl.mzstatic.com/image/thumb/Purple118/v4/7b/63/e1/7b63e17f-24dd-fc13-e8d4-1a91e28c0e00/source/576x768bb.jpg\", \"https://is4-ssl.mzstatic.com/image/thumb/Purple118/v4/8a/ce/59/8ace59a6-7255-3281-c49f-8ef0dff076c4/source/576x768bb.jpg\", \"https://is1-ssl.mzstatic.com/image/thumb/Purple118/v4/17/26/fd/1726fd58-290c-1ec7-a7d5-3b3057ea26f5/source/576x768bb.jpg\", \"https://is5-ssl.mzstatic.com/image/thumb/Purple118/v4/cc/b6/df/ccb6df2a-81f5-6f22-5239-ae83e826eff6/source/576x768bb.jpg\"], \"appletvScreenshotUrls\":[], \"artworkUrl60\":\"https://is5-ssl.mzstatic.com/image/thumb/Purple128/v4/fb/01/f6/fb01f60b-0fce-2ab9-4776-cedac78c9520/source/60x60bb.jpg\", \"artworkUrl512\":\"https://is5-ssl.mzstatic.com/image/thumb/Purple128/v4/fb/01/f6/fb01f60b-0fce-2ab9-4776-cedac78c9520/source/512x512bb.jpg\", \"artworkUrl100\":\"https://is5-ssl.mzstatic.com/image/thumb/Purple128/v4/fb/01/f6/fb01f60b-0fce-2ab9-4776-cedac78c9520/source/100x100bb.jpg\", \"artistViewUrl\":\"https://itunes.apple.com/us/developer/allscripts-healthcare-solutions-inc/id907523570?uo=4\", \"advisories\":[\"Infrequent/Mild Medical/Treatment Information\"], \"kind\":\"software\", \"features\":[\"iosUniversal\"], \n",
      "\"supportedDevices\":[\"iPhone5-iPhone5\", \"iPadFourthGen-iPadFourthGen\", \"iPadFourthGen4G-iPadFourthGen4G\", \"iPhone5c-iPhone5c\", \"iPhone5s-iPhone5s\", \"iPadAir-iPadAir\", \"iPadAirCellular-iPadAirCellular\", \"iPadMiniRetina-iPadMiniRetina\", \"iPadMiniRetinaCellular-iPadMiniRetinaCellular\", \"iPhone6-iPhone6\", \"iPhone6Plus-iPhone6Plus\", \"iPadAir2-iPadAir2\", \"iPadAir2Cellular-iPadAir2Cellular\", \"iPadMini3-iPadMini3\", \"iPadMini3Cellular-iPadMini3Cellular\", \"iPodTouchSixthGen-iPodTouchSixthGen\", \"iPhone6s-iPhone6s\", \"iPhone6sPlus-iPhone6sPlus\", \"iPadMini4-iPadMini4\", \"iPadMini4Cellular-iPadMini4Cellular\", \"iPadPro-iPadPro\", \"iPadProCellular-iPadProCellular\", \"iPadPro97-iPadPro97\", \"iPadPro97Cellular-iPadPro97Cellular\", \"iPhoneSE-iPhoneSE\", \"iPhone7-iPhone7\", \"iPhone7Plus-iPhone7Plus\", \"iPad611-iPad611\", \"iPad612-iPad612\", \"iPad71-iPad71\", \"iPad72-iPad72\", \"iPad73-iPad73\", \"iPad74-iPad74\", \"iPhone8-iPhone8\", \"iPhone8Plus-iPhone8Plus\", \"iPhoneX-iPhoneX\", \"iPad75-iPad75\", \"iPad76-iPad76\", \"iPhoneXS-iPhoneXS\", \"iPhoneXSMax-iPhoneXSMax\", \"iPhoneXR-iPhoneXR\"], \"trackCensoredName\":\"FollowMyHealth®\", \"averageUserRatingForCurrentVersion\":4.5, \"languageCodesISO2A\":[\"EN\", \"ES\"], \"fileSizeBytes\":\"79151104\", \"contentAdvisoryRating\":\"12+\", \"userRatingCountForCurrentVersion\":1667, \"trackViewUrl\":\"https://itunes.apple.com/us/app/followmyhealth/id502147249?mt=8&uo=4\", \"trackContentRating\":\"12+\", \n",
      "\"releaseNotes\":\"• Allows users needing assistance accessing their account to recover their username and password.\\n• Supports viewing and download PDFs attached to Health Records.\", \"currentVersionReleaseDate\":\"2018-09-19T20:25:05Z\", \"primaryGenreId\":6020, \"minimumOsVersion\":\"10.0\", \"trackId\":\"502147249\", \"trackName\":\"FollowMyHealth®\", \"releaseDate\":\"2012-03-07T16:00:01Z\", \"primaryGenreName\":\"Medical\", \"sellerName\":\"Allscripts Healthcare Solutions, Inc.\", \"formattedPrice\":\"Free\", \"genreIds\":[\"6020\", \"6013\"], \"currency\":\"USD\", \"wrapperType\":\"software\", \"version\":\"3.4.1\", \n",
      "\"description\":\"Take control of your health information. The new and improved mobile version of your personal health record, powered by FollowMyHealth®, is easy to use and easy to navigate.\\n \\nFrom the home screen, you can view your current health summary, reminders and recent account activity—and quickly click to your medical profile and profiles of family members you’re authorized to view. You also get 24/7 access for: \\n\\n• Communicating securely with your care team. \\n• Scheduling appointments.\\n• Viewing test and lab results. \\n• Requesting prescription refills.\\n• Managing your preferred pharmacy for prescription renewals.\\n• Managing connections with healthcare organization to access your health information and interact with providers.\\n• Paying outstanding bills and view your billing history.\\n• Viewing and manage your demographics, contact information, and insurance policies.\\n\\n(Please note: The availability of some features may be dependent on your connected organizations.)\\n\\nTake full advantage of the modern iOS features such as:\\n\\n• Passcodes and Touch ID: Create a Mobile Passcode or use Touch ID to quickly and easily sign in to FollowMyHealth® Mobile. Touch ID requires iOS 8 and up. Mobile Passcode will work on any iOS device.\\n\\n• Apple Health: Automatically import upload blood pressure, weight and glucose readings from Apple Health into your FollowMyHealth® account.\\n\\n• Push Notifications: In addition to receiving FollowMyHealth® notifications via text and/or email, notifications can now be pushed directly to your iOS device. App badges notify you at a glance of important new information within your FollowMyHealth® account. \\n\\n• Apple Watch: Convenient access to FollowMyHealth® push notifications and Action Center items directly from your Apple Watch.\\n\\n• Apple VoiceOver: Improves accessibility for visually impaired users.\", \"artistId\":\"907523570\", \"artistName\":\"Allscripts Healthcare Solutions Inc\", \"genres\":[\"Medical\", \"Health & Fitness\"], \"price\":0.00, \"bundleId\":\"com.jardogs.FMHmobile\", \"isVppDeviceBasedLicensingEnabled\":true, \"averageUserRating\":4.5, \"userRatingCount\":25545}]\n",
      "}\n",
      "\n",
      "\n",
      "\n"
     ]
    },
    {
     "data": {
      "text/plain": [
       "'\\n\\n\\n{\\n \"resultCount\":2,\\n \"results\": [\\n{\"isGameCenterEnabled\":false, \\n\"screenshotUrls\":[\"https://is2-ssl.mzstatic.com/image/thumb/Purple128/v4/d3/a0/c1/d3a0c164-6f6e-95c2-a388-833c90bd2a54/source/392x696bb.jpg\", \"https://is1-ssl.mzstatic.com/image/thumb/Purple128/v4/1c/53/b4/1c53b4cb-67b0-62eb-864c-d1e841620ff7/source/392x696bb.jpg\", \"https://is2-ssl.mzstatic.com/image/thumb/Purple128/v4/e1/5b/01/e15b0157-8510-6b81-4c84-db0e82b3c25a/source/392x696bb.jpg\", \"https://is2-ssl.mzstatic.com/image/thumb/Purple118/v4/22/ae/76/22ae76da-4c49-da25-d1d3-53f5bba5c6a6/source/392x696bb.jpg\", \"https://is2-ssl.mzstatic.com/image/thumb/Purple118/v4/f5/b8/fa/f5b8fa07-a31c-77c9-172e-f1060b1f42c4/source/392x696bb.jpg\", \"https://is3-ssl.mzstatic.com/image/thumb/Purple118/v4/22/7a/af/227aaf21-d9e4-f16b-ebcb-06310dcc9c9b/source/392x696bb.jpg\"], \"ipadScreenshotUrls\":[], \"appletvScreenshotUrls\":[], \"artworkUrl60\":\"https://is1-ssl.mzstatic.com/image/thumb/Purple128/v4/6e/be/63/6ebe632c-bcc8-ccf5-8a77-f24aa0b02cf9/source/60x60bb.jpg\", \"artworkUrl512\":\"https://is1-ssl.mzstatic.com/image/thumb/Purple128/v4/6e/be/63/6ebe632c-bcc8-ccf5-8a77-f24aa0b02cf9/source/512x512bb.jpg\", \"artworkUrl100\":\"https://is1-ssl.mzstatic.com/image/thumb/Purple128/v4/6e/be/63/6ebe632c-bcc8-ccf5-8a77-f24aa0b02cf9/source/100x100bb.jpg\", \"artistViewUrl\":\"https://itunes.apple.com/us/developer/pacer-health-inc/id600446815?uo=4\", \"advisories\":[], \"kind\":\"software\", \"features\":[], \\n\"supportedDevices\":[\"iPad2Wifi-iPad2Wifi\", \"iPad23G-iPad23G\", \"iPhone4S-iPhone4S\", \"iPadThirdGen-iPadThirdGen\", \"iPadThirdGen4G-iPadThirdGen4G\", \"iPhone5-iPhone5\", \"iPodTouchFifthGen-iPodTouchFifthGen\", \"iPadFourthGen-iPadFourthGen\", \"iPadFourthGen4G-iPadFourthGen4G\", \"iPadMini-iPadMini\", \"iPadMini4G-iPadMini4G\", \"iPhone5c-iPhone5c\", \"iPhone5s-iPhone5s\", \"iPadAir-iPadAir\", \"iPadAirCellular-iPadAirCellular\", \"iPadMiniRetina-iPadMiniRetina\", \"iPadMiniRetinaCellular-iPadMiniRetinaCellular\", \"iPhone6-iPhone6\", \"iPhone6Plus-iPhone6Plus\", \"iPadAir2-iPadAir2\", \"iPadAir2Cellular-iPadAir2Cellular\", \"iPadMini3-iPadMini3\", \"iPadMini3Cellular-iPadMini3Cellular\", \"iPodTouchSixthGen-iPodTouchSixthGen\", \"iPhone6s-iPhone6s\", \"iPhone6sPlus-iPhone6sPlus\", \"iPadMini4-iPadMini4\", \"iPadMini4Cellular-iPadMini4Cellular\", \"iPadPro-iPadPro\", \"iPadProCellular-iPadProCellular\", \"iPadPro97-iPadPro97\", \"iPadPro97Cellular-iPadPro97Cellular\", \"iPhoneSE-iPhoneSE\", \"iPhone7-iPhone7\", \"iPhone7Plus-iPhone7Plus\", \"iPad611-iPad611\", \"iPad612-iPad612\", \"iPad71-iPad71\", \"iPad72-iPad72\", \"iPad73-iPad73\", \"iPad74-iPad74\", \"iPhone8-iPhone8\", \"iPhone8Plus-iPhone8Plus\", \"iPhoneX-iPhoneX\", \"iPad75-iPad75\", \"iPad76-iPad76\", \"iPhoneXS-iPhoneXS\", \"iPhoneXSMax-iPhoneXSMax\", \"iPhoneXR-iPhoneXR\"], \"trackCensoredName\":\"Pacer Pedometer & Step Tracker\", \"averageUserRatingForCurrentVersion\":5.0, \"languageCodesISO2A\":[\"EN\", \"FR\", \"DE\", \"IT\", \"JA\", \"KO\", \"PT\", \"RU\", \"ZH\", \"ES\", \"ZH\"], \"fileSizeBytes\":\"167200768\", \"sellerUrl\":\"http://www.mypacer.com\", \"contentAdvisoryRating\":\"4+\", \"userRatingCountForCurrentVersion\":5809, \"trackViewUrl\":\"https://itunes.apple.com/us/app/pacer-pedometer-step-tracker/id600446812?mt=8&uo=4\", \"trackContentRating\":\"4+\", \\n\"releaseNotes\":\"1. GPS Sharing Privacy Settings: It\\'s now easier to choose to whether to share your GPS activities with followers, everyone, or not share them at all.\\\\n\\\\n2. New Pacer Routes: Introduce your favorite walking trail or local area to your friends! Routes turns your GPS activity\\'s track into a Route that your friends can navigate. Don’t forget to take photos during your activity - they can be added to the Route so your friends can see all of the interesting sights along the way!\", \"currentVersionReleaseDate\":\"2018-09-26T03:12:00Z\", \"primaryGenreId\":6013, \"minimumOsVersion\":\"9.0\", \"trackId\":\"600446812\", \"trackName\":\"Pacer Pedometer & Step Tracker\", \"releaseDate\":\"2013-02-14T05:18:22Z\", \"primaryGenreName\":\"Health & Fitness\", \"sellerName\":\"Pacer Health, Inc\", \"formattedPrice\":\"Free\", \"genreIds\":[\"6013\", \"6020\"], \"currency\":\"USD\", \"wrapperType\":\"software\", \"version\":\"3.8.7\", \\n\"description\":\"Pacer is like having a walking buddy and fitness coach in one app. Our personalized fitness plans and guided workouts help you achieve your unique fitness goals. You’ll get motivation and support to get more active by joining groups and becoming a part of our amazing Pacer community. Work out anywhere, any time with Pacer.\\\\n\\\\nHear what some of our users are saying:\\\\n\\\\n\\\\\"Really like this highly addictive app...\\\\\" ~Sparky731\\\\n\\\\n\\\\\"Best app I\\'ve ever used helping me lose a few pounds a week...\\\\\" ~Gerryofkellys\\\\n\\\\n\\\\\"...I’m just grateful to this app for being a major catalyst to my health and fitness transformation... ...my husband and I have lost well over 100lbs\\\\\" ~LaToya M\\\\n\\\\n\\\\\"...I\\'ve lost 20 lbs in the last 3 months by just trying to beat my walking distance daily at work. I love the daily goal. Cheaper and better than a gym membership and a 1000x\\'s more effective!\\\\\" ~Covette92\\\\n\\\\nGET STARTED RIGHT AWAY FOR FREE\\\\n-No wristband or other hardware required.  Works entirely from your phone with no additional setup\\\\n-No login required, just download for free, pick an avatar and get going\\\\n\\\\nTRACK ALL YOUR ACTIVITY\\\\n-Tracks your steps all day long whether your phone is in your hand, in your pocket, in your jacket, on an armband or in your purse\\\\n-Records steps, calories, distance and active time\\\\n-Use GPS to track your outdoor running, walking and biking on a map\\\\n\\\\nLOSE WEIGHT & GET FIT\\\\n-Track your weight and BMI over time, and correlate changes with your activity and other vitals\\\\n\\\\nSTAY MOTIVATED WITH FAMILY & FRIENDS\\\\n-Create walking groups with your friends and family to compare daily steps in real-time\\\\n-Connect with friends using iPhone or other smartphones\\\\n\\\\nACHIEVE YOUR GOALS\\\\n-Stay motivated and on track with day-by-day Goals\\\\n-Support and motivate other users who share your goals\\\\n\\\\n****Other Great Features****\\\\n-Syncs steps and calories with MyFitnessPal\\\\n-Syncs your data to Apple Health App\\\\n-Link to Apple Health to sync data from your Apple Watch\\\\n-Track your blood pressure along with activity and weight\\\\n-Create plans and set daily goals for yourself\\\\n-Based on science: track your metrics against standards provided by the World Health Organization, American Heart Association and President’s Fitness Council.\\\\n\\\\nOther apps can track your walks, runs and workout sessions, but no other app can give you this level of comprehensive activity tracking and insight all on your iPhone and with such a simple interface.  Before you spend your money on an expensive wearable device, try Pacer first!\\\\n\\\\nAnd remember, stay active!\\\\n\\\\n****GET BETTER RESULTS WITH PACER PREMIUM****\\\\nUnlock powerful tools to help you reach your health goals.\\\\n-Advanced data reports and insights\\\\n-Scientifically designed guided workouts\\\\n-Weight loss coaching program\\\\n\\\\nSUBSCRIPTION FEES\\\\nSubscriptions to Pacer Premium are $4.99 per month or $29.99 for a full year. Pacer Premium subscriptions will be charged to your iTunes account after your confirmation of purchase. \\\\n\\\\nYou can use your iTunes account to subscribe and pay for Pacer Premium. Payment will be charged to your iTunes account at confirmation of purchase. Subscriptions will renew automatically unless cancelled at least 24 hours before the current period ends. Your account will be charged for renewal within 24 hours prior to the end of the current period, and will renew at the same cost. You can manage subscriptions and turn off auto-renewal by going to your iTunes Account Settings after purchase. Any unused portion of a free trial period, if offered, will be forfeited when the user purchases a subscription to that service, where applicable.\\\\n\\\\nTerms of Use: http://www.mypacer.com/termsofservice/\\\\nPrivacy Policy: http://www.mypacer.com/privacy\\\\n\\\\n****Location Based Services ****\\\\n\\\\nThis app has an optional feature for more accurate tracking that makes use of iOS\\'s location based services.\\\\n\\\\nNote: Continued use of GPS running in the background may dramatically decrease battery life.\", \"artistId\":\"600446815\", \"artistName\":\"Pacer Health, Inc\", \"genres\":[\"Health & Fitness\", \"Medical\"], \"price\":0.00, \"bundleId\":\"com.pacer.pacerapp\", \"isVppDeviceBasedLicensingEnabled\":true, \"averageUserRating\":5.0, \"userRatingCount\":52456}, \\n{\"isGameCenterEnabled\":false, \\n\"screenshotUrls\":[\"https://is3-ssl.mzstatic.com/image/thumb/Purple128/v4/38/71/56/387156e7-233a-26ce-bb43-96fbf64f76b0/source/392x696bb.jpg\", \"https://is3-ssl.mzstatic.com/image/thumb/Purple118/v4/fd/0e/3b/fd0e3b84-f8fd-a242-a705-9929302aeb93/source/392x696bb.jpg\", \"https://is4-ssl.mzstatic.com/image/thumb/Purple128/v4/20/2e/11/202e11e1-4076-a96c-bce6-67dcf7cff0c3/source/392x696bb.jpg\", \"https://is2-ssl.mzstatic.com/image/thumb/Purple128/v4/de/54/ae/de54ae44-7a23-181e-92fd-da1f2b3cefd1/source/392x696bb.jpg\", \"https://is3-ssl.mzstatic.com/image/thumb/Purple118/v4/99/44/40/99444063-8cc1-da4d-36d0-1dd0d43db9eb/source/392x696bb.jpg\"], \\n\"ipadScreenshotUrls\":[\"https://is3-ssl.mzstatic.com/image/thumb/Purple128/v4/a5/02/de/a502de4d-cc53-8edb-1749-21b1181e0146/source/576x768bb.jpg\", \"https://is5-ssl.mzstatic.com/image/thumb/Purple118/v4/7b/63/e1/7b63e17f-24dd-fc13-e8d4-1a91e28c0e00/source/576x768bb.jpg\", \"https://is4-ssl.mzstatic.com/image/thumb/Purple118/v4/8a/ce/59/8ace59a6-7255-3281-c49f-8ef0dff076c4/source/576x768bb.jpg\", \"https://is1-ssl.mzstatic.com/image/thumb/Purple118/v4/17/26/fd/1726fd58-290c-1ec7-a7d5-3b3057ea26f5/source/576x768bb.jpg\", \"https://is5-ssl.mzstatic.com/image/thumb/Purple118/v4/cc/b6/df/ccb6df2a-81f5-6f22-5239-ae83e826eff6/source/576x768bb.jpg\"], \"appletvScreenshotUrls\":[], \"artworkUrl60\":\"https://is5-ssl.mzstatic.com/image/thumb/Purple128/v4/fb/01/f6/fb01f60b-0fce-2ab9-4776-cedac78c9520/source/60x60bb.jpg\", \"artworkUrl512\":\"https://is5-ssl.mzstatic.com/image/thumb/Purple128/v4/fb/01/f6/fb01f60b-0fce-2ab9-4776-cedac78c9520/source/512x512bb.jpg\", \"artworkUrl100\":\"https://is5-ssl.mzstatic.com/image/thumb/Purple128/v4/fb/01/f6/fb01f60b-0fce-2ab9-4776-cedac78c9520/source/100x100bb.jpg\", \"artistViewUrl\":\"https://itunes.apple.com/us/developer/allscripts-healthcare-solutions-inc/id907523570?uo=4\", \"advisories\":[\"Infrequent/Mild Medical/Treatment Information\"], \"kind\":\"software\", \"features\":[\"iosUniversal\"], \\n\"supportedDevices\":[\"iPhone5-iPhone5\", \"iPadFourthGen-iPadFourthGen\", \"iPadFourthGen4G-iPadFourthGen4G\", \"iPhone5c-iPhone5c\", \"iPhone5s-iPhone5s\", \"iPadAir-iPadAir\", \"iPadAirCellular-iPadAirCellular\", \"iPadMiniRetina-iPadMiniRetina\", \"iPadMiniRetinaCellular-iPadMiniRetinaCellular\", \"iPhone6-iPhone6\", \"iPhone6Plus-iPhone6Plus\", \"iPadAir2-iPadAir2\", \"iPadAir2Cellular-iPadAir2Cellular\", \"iPadMini3-iPadMini3\", \"iPadMini3Cellular-iPadMini3Cellular\", \"iPodTouchSixthGen-iPodTouchSixthGen\", \"iPhone6s-iPhone6s\", \"iPhone6sPlus-iPhone6sPlus\", \"iPadMini4-iPadMini4\", \"iPadMini4Cellular-iPadMini4Cellular\", \"iPadPro-iPadPro\", \"iPadProCellular-iPadProCellular\", \"iPadPro97-iPadPro97\", \"iPadPro97Cellular-iPadPro97Cellular\", \"iPhoneSE-iPhoneSE\", \"iPhone7-iPhone7\", \"iPhone7Plus-iPhone7Plus\", \"iPad611-iPad611\", \"iPad612-iPad612\", \"iPad71-iPad71\", \"iPad72-iPad72\", \"iPad73-iPad73\", \"iPad74-iPad74\", \"iPhone8-iPhone8\", \"iPhone8Plus-iPhone8Plus\", \"iPhoneX-iPhoneX\", \"iPad75-iPad75\", \"iPad76-iPad76\", \"iPhoneXS-iPhoneXS\", \"iPhoneXSMax-iPhoneXSMax\", \"iPhoneXR-iPhoneXR\"], \"trackCensoredName\":\"FollowMyHealth®\", \"averageUserRatingForCurrentVersion\":4.5, \"languageCodesISO2A\":[\"EN\", \"ES\"], \"fileSizeBytes\":\"79151104\", \"contentAdvisoryRating\":\"12+\", \"userRatingCountForCurrentVersion\":1667, \"trackViewUrl\":\"https://itunes.apple.com/us/app/followmyhealth/id502147249?mt=8&uo=4\", \"trackContentRating\":\"12+\", \\n\"releaseNotes\":\"• Allows users needing assistance accessing their account to recover their username and password.\\\\n• Supports viewing and download PDFs attached to Health Records.\", \"currentVersionReleaseDate\":\"2018-09-19T20:25:05Z\", \"primaryGenreId\":6020, \"minimumOsVersion\":\"10.0\", \"trackId\":\"502147249\", \"trackName\":\"FollowMyHealth®\", \"releaseDate\":\"2012-03-07T16:00:01Z\", \"primaryGenreName\":\"Medical\", \"sellerName\":\"Allscripts Healthcare Solutions, Inc.\", \"formattedPrice\":\"Free\", \"genreIds\":[\"6020\", \"6013\"], \"currency\":\"USD\", \"wrapperType\":\"software\", \"version\":\"3.4.1\", \\n\"description\":\"Take control of your health information. The new and improved mobile version of your personal health record, powered by FollowMyHealth®, is easy to use and easy to navigate.\\\\n \\\\nFrom the home screen, you can view your current health summary, reminders and recent account activity—and quickly click to your medical profile and profiles of family members you’re authorized to view. You also get 24/7 access for: \\\\n\\\\n• Communicating securely with your care team. \\\\n• Scheduling appointments.\\\\n• Viewing test and lab results. \\\\n• Requesting prescription refills.\\\\n• Managing your preferred pharmacy for prescription renewals.\\\\n• Managing connections with healthcare organization to access your health information and interact with providers.\\\\n• Paying outstanding bills and view your billing history.\\\\n• Viewing and manage your demographics, contact information, and insurance policies.\\\\n\\\\n(Please note: The availability of some features may be dependent on your connected organizations.)\\\\n\\\\nTake full advantage of the modern iOS features such as:\\\\n\\\\n• Passcodes and Touch ID: Create a Mobile Passcode or use Touch ID to quickly and easily sign in to FollowMyHealth® Mobile. Touch ID requires iOS 8 and up. Mobile Passcode will work on any iOS device.\\\\n\\\\n• Apple Health: Automatically import upload blood pressure, weight and glucose readings from Apple Health into your FollowMyHealth® account.\\\\n\\\\n• Push Notifications: In addition to receiving FollowMyHealth® notifications via text and/or email, notifications can now be pushed directly to your iOS device. App badges notify you at a glance of important new information within your FollowMyHealth® account. \\\\n\\\\n• Apple Watch: Convenient access to FollowMyHealth® push notifications and Action Center items directly from your Apple Watch.\\\\n\\\\n• Apple VoiceOver: Improves accessibility for visually impaired users.\", \"artistId\":\"907523570\", \"artistName\":\"Allscripts Healthcare Solutions Inc\", \"genres\":[\"Medical\", \"Health & Fitness\"], \"price\":0.00, \"bundleId\":\"com.jardogs.FMHmobile\", \"isVppDeviceBasedLicensingEnabled\":true, \"averageUserRating\":4.5, \"userRatingCount\":25545}]\\n}\\n\\n\\n'"
      ]
     },
     "execution_count": 15,
     "metadata": {},
     "output_type": "execute_result"
    }
   ],
   "source": [
    "fetch_apps([\"medical\", \"personal\"], 2)"
   ]
  },
  {
   "cell_type": "code",
   "execution_count": null,
   "metadata": {},
   "outputs": [],
   "source": []
  },
  {
   "cell_type": "code",
   "execution_count": 7,
   "metadata": {},
   "outputs": [],
   "source": [
    "app_metadata = []\n",
    "\n",
    "for app in filtered_apps[40:42]:\n",
    "    # Get app metadata\n",
    "    app_data = {'name': app['trackName'],\n",
    "                'id': app['trackId'],\n",
    "                'url': app['trackViewUrl'],\n",
    "                'price': app['price'],\n",
    "                'avgUserRating': app['averageUserRating'],\n",
    "                'userRatingCount': app['userRatingCount'],\n",
    "                'currentVersionReleaseDate': app['currentVersionReleaseDate'],\n",
    "                'description': app['description'].replace('\\n', ' ')\n",
    "                }\n",
    "    \n",
    "    # Get most recent and most helpful reviews (separately) for app (up to 500)\n",
    "    recent_reviews = []\n",
    "    helpful_reviews = []\n",
    "    for i in range(1, 11): \n",
    "        recent_reviews += fetch_reviews(app_data['id'], page=i)\n",
    "        helpful_reviews += fetch_reviews(app_data['id'], sortBy='mostHelpful', page=i)\n",
    "\n",
    "    app_data['recent_reviews'] = recent_reviews\n",
    "    app_data['helpful_reviews'] = helpful_reviews\n",
    "    app_metadata.append(app_data)"
   ]
  },
  {
   "cell_type": "code",
   "execution_count": 9,
   "metadata": {},
   "outputs": [],
   "source": [
    "with open('appstore_metadata_and_reviews.json', 'w', encoding='utf-8') as f:\n",
    "    f.write(json.dumps(app_metadata, ensure_ascii=False))"
   ]
  }
 ],
 "metadata": {
  "kernelspec": {
   "display_name": "Python 3",
   "language": "python",
   "name": "python3"
  },
  "language_info": {
   "codemirror_mode": {
    "name": "ipython",
    "version": 3
   },
   "file_extension": ".py",
   "mimetype": "text/x-python",
   "name": "python",
   "nbconvert_exporter": "python",
   "pygments_lexer": "ipython3",
   "version": "3.6.6"
  }
 },
 "nbformat": 4,
 "nbformat_minor": 2
}
