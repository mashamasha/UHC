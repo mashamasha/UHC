{
 "cells": [
  {
   "cell_type": "code",
   "execution_count": 43,
   "metadata": {},
   "outputs": [],
   "source": [
    "reset -fs"
   ]
  },
  {
   "cell_type": "code",
   "execution_count": 106,
   "metadata": {},
   "outputs": [],
   "source": [
    "import json\n",
    "import pandas as pd\n",
    "import requests\n",
    "from collections import defaultdict, OrderedDict\n",
    "\n",
    "searchman_key_tomo = \"\""
   ]
  },
  {
   "cell_type": "code",
   "execution_count": 45,
   "metadata": {},
   "outputs": [],
   "source": [
    "with open(\"data/googleplay_app_reviews_raw_60.json\", \"r\") as f:\n",
    "    data = json.loads(f.read())"
   ]
  },
  {
   "cell_type": "code",
   "execution_count": 46,
   "metadata": {},
   "outputs": [],
   "source": [
    "df_apps = pd.read_csv(\"data/googleplay_app_id.csv\")"
   ]
  },
  {
   "cell_type": "code",
   "execution_count": 50,
   "metadata": {},
   "outputs": [],
   "source": [
    "url = \"http://api.searchman.io/v1/android/us/apps?appIds=%s&apiKey=%s\"\n",
    "\n",
    "r = requests.get(url % (\",\".join(list(df_apps['id'])), searchman_key_tomo))\n",
    "metadata = json.loads(r.text)"
   ]
  },
  {
   "cell_type": "code",
   "execution_count": 53,
   "metadata": {},
   "outputs": [],
   "source": [
    "with open(\"data/googleplay_app_raw_metadata.json\", \"w\") as f:\n",
    "    f.write(json.dumps(metadata['data']))"
   ]
  },
  {
   "cell_type": "code",
   "execution_count": 116,
   "metadata": {},
   "outputs": [
    {
     "name": "stdout",
     "output_type": "stream",
     "text": [
      "com.upmc.healthplan\n",
      "com.humetrix.iBlueButton\n",
      "com.ecw.healow\n",
      "com.sharecare.realgreen\n",
      "com.blueshieldca.prod\n",
      "com.higi.main\n",
      "com.quadmedical.quadmedphh\n",
      "com.cigna.mobile.mycigna\n",
      "com.capbluecross.android.cabc.virtualcare\n",
      "com.medfusion.claire\n",
      "com.phr\n",
      "com.wellpoint.consumer.ABCBS\n",
      "com.fitnesssyncer.fitnesssyncer_for_samsung_health\n",
      "org.sanfordhealth.patient\n",
      "com.giffen.medxvault\n",
      "com.teladoc.members\n",
      "com.lifedash.caresync\n",
      "com.usablenet.android.aetna\n",
      "org.kp.m\n",
      "com.humana.myhumana\n",
      "com.practiceunite.patient.inspira\n",
      "com.backpackhealth.backpack\n",
      "com.accolade.mobile.prod\n",
      "com.jardogs.fmhmobile\n",
      "com.google.android.apps.fitness\n",
      "vladimir.yerokhin.medicalrecord\n",
      "com.hyrax.mymedical\n",
      "com.cliniconline\n"
     ]
    }
   ],
   "source": [
    "app_list = []\n",
    "\n",
    "for app, app_metadata in metadata['data'].items():\n",
    "    print(app_metadata['appId'])\n",
    "    app_data = OrderedDict()\n",
    "    \n",
    "    app_data['name'] = app_metadata['appName']\n",
    "    app_data['id'] = app_metadata['appId']\n",
    "    app_data['url'] = \"https://play.google.com/store/apps/details?id=%s\" % (app_metadata['appId'])\n",
    "    app_data['price'] = app_metadata['price']\n",
    "    app_data['userRatingCount'] = app_metadata['userRatingCount']\n",
    "    app_data['currentVersionReleaseDate'] = app_metadata.get('releaseDate')\n",
    "    app_data['avgUserRating'] = app_metadata['averageUserRating']\n",
    "    app_data['description'] = app_metadata['description']\n",
    "   \n",
    "\n",
    "    app_list.append(app_data)"
   ]
  },
  {
   "cell_type": "code",
   "execution_count": 117,
   "metadata": {},
   "outputs": [],
   "source": [
    "filtered_app_list = [app for app in app_list if app['userRatingCount'] > 100]"
   ]
  },
  {
   "cell_type": "code",
   "execution_count": 118,
   "metadata": {},
   "outputs": [],
   "source": [
    "df = pd.DataFrame(filtered_app_list)"
   ]
  },
  {
   "cell_type": "code",
   "execution_count": 121,
   "metadata": {},
   "outputs": [],
   "source": [
    "df.to_csv(\"data/googleplay_metadata_phr.csv\", index=False)"
   ]
  },
  {
   "cell_type": "code",
   "execution_count": null,
   "metadata": {},
   "outputs": [],
   "source": [
    "app_list"
   ]
  }
 ],
 "metadata": {
  "kernelspec": {
   "display_name": "Python 3",
   "language": "python",
   "name": "python3"
  },
  "language_info": {
   "codemirror_mode": {
    "name": "ipython",
    "version": 3
   },
   "file_extension": ".py",
   "mimetype": "text/x-python",
   "name": "python",
   "nbconvert_exporter": "python",
   "pygments_lexer": "ipython3",
   "version": "3.6.6"
  }
 },
 "nbformat": 4,
 "nbformat_minor": 2
}
