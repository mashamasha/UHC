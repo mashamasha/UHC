{
 "cells": [
  {
   "cell_type": "code",
   "execution_count": 131,
   "metadata": {},
   "outputs": [],
   "source": [
    "reset -fs"
   ]
  },
  {
   "cell_type": "code",
   "execution_count": 132,
   "metadata": {},
   "outputs": [
    {
     "name": "stdout",
     "output_type": "stream",
     "text": [
      "[nltk_data] Downloading package punkt to\n",
      "[nltk_data]     /Users/mariavasilenko/nltk_data...\n",
      "[nltk_data]   Package punkt is already up-to-date!\n",
      "[nltk_data] Downloading package wordnet to\n",
      "[nltk_data]     /Users/mariavasilenko/nltk_data...\n",
      "[nltk_data]   Package wordnet is already up-to-date!\n"
     ]
    }
   ],
   "source": [
    "import pandas as pd\n",
    "import numpy as np\n",
    "import re, string\n",
    "\n",
    "import nltk\n",
    "import nltk\n",
    "nltk.download('punkt')\n",
    "nltk.download('wordnet')\n",
    "  \n",
    "from nltk.stem.porter import *\n",
    "from nltk.corpus import stopwords\n",
    "from nltk.stem.wordnet import WordNetLemmatizer\n",
    "\n",
    "import gensim\n",
    "from gensim import corpora\n",
    "\n",
    "from collections import Counter\n",
    "import string\n",
    "\n",
    "from sklearn.feature_extraction import stop_words\n",
    "from sklearn.feature_extraction.text import ENGLISH_STOP_WORDS\n",
    "from sklearn.feature_extraction.text import TfidfVectorizer\n",
    "\n",
    "import zipfile\n",
    "import os\n",
    "\n",
    "import pyLDAvis.gensim\n",
    "pyLDAvis.enable_notebook()\n",
    "\n",
    "import warnings\n",
    "warnings.filterwarnings(\"ignore\", category=DeprecationWarning) "
   ]
  },
  {
   "cell_type": "markdown",
   "metadata": {},
   "source": [
    "### Data pre-processing\n",
    "\n",
    "- Tokenization: Split the text into sentences and the sentences into words. Lowercase the words and remove punctuation.\n",
    "- Words that have fewer than 3 characters are removed.\n",
    "- All stopwords are removed.\n",
    " - Words are __lemmatized__ — words in third person are changed to first person and verbs in past and future tenses are changed into present.\n",
    "- Words are __stemmed__ — words are reduced to their root form.\n"
   ]
  },
  {
   "cell_type": "code",
   "execution_count": 269,
   "metadata": {},
   "outputs": [],
   "source": [
    "# Create the list of stopwords and extend it \n",
    "\n",
    "stopwords = list(ENGLISH_STOP_WORDS)\n",
    "# Adding \"just\" after running basic LDA model\n",
    "newStopWords = ['just', \"\"]\n",
    "stopwords.extend(newStopWords)\n",
    "\n",
    "\n",
    "def tokenize(text):\n",
    "    \"\"\"\n",
    "    Tokenize text and return a non-unique list of tokenized words\n",
    "    found in the text.\n",
    "    Normalize to lowercase, strip punctuation,\n",
    "    remove stop words, drop words of length < 3.\n",
    "    \"\"\"\n",
    "    \n",
    "    text=text.lower() #Convert everything to lowercase\n",
    "    regex = re.compile('[' + re.escape(string.punctuation) + '0-9\\\\r\\\\t\\\\n]')\n",
    "    nopunct = regex.sub(\" \", text)  # delete stuff but leave at least a space to avoid clumping together\n",
    "    words =  nltk.word_tokenize(nopunct) # tokenizing words\n",
    "    words = [w for w in words if len(w) > 3]  # Drop words less than length 3\n",
    "    words[:] = [w for w in words if w != '']\n",
    "    words = [w for w in words if w not in stopwords] # Removes stop words using SciKit-Learn's ENGLISH_STOP_WORDS set.\n",
    "    words = [w.encode('ascii','ignore') for w in words]\n",
    "    return words\n",
    "\n",
    "def stemwords(words):\n",
    "    \"\"\"\n",
    "    Given a list of tokens/words, return a new list with each word\n",
    "    stemmed using a PorterStemmer.\n",
    "    \"\"\"\n",
    "    stemmer = PorterStemmer()\n",
    "    words = [w.decode('ascii','ignore') for w in words]\n",
    "    stemmed = [stemmer.stem(w) for w in words]\n",
    "    return stemmed\n",
    "\n",
    "def lemmatize_stemming(words):\n",
    "    words = [w.decode('ascii','ignore') for w in words]\n",
    "    text = \" \".join(words)\n",
    "    stemmer = PorterStemmer()\n",
    "    stemmed = stemmer.stem(WordNetLemmatizer().lemmatize(text))\n",
    "    return stemmed.split()\n",
    "\n",
    "def lemmatize (tokens):\n",
    "    '''\n",
    "    Given a list of tokens/words, return a list of lemmatized words \n",
    "    i.e. words in third person are changed to first person and verbs in past,\n",
    "    and future tenses are changed into present.\n",
    "    '''\n",
    "    text = \" \".join(tokens)\n",
    "    lemmatizer = WordNetLemmatizer()\n",
    "    \n",
    "    return lemmatizer.lemmatize(text).split()\n",
    "    \n",
    "    \n",
    "def tokenizer(text):\n",
    "    \n",
    "    return stemwords(tokenize(text))\n"
   ]
  },
  {
   "cell_type": "code",
   "execution_count": 273,
   "metadata": {},
   "outputs": [],
   "source": [
    "df_reviews = pd.read_csv('data/appstore_googleplay_all_reviews.csv')"
   ]
  },
  {
   "cell_type": "code",
   "execution_count": 274,
   "metadata": {},
   "outputs": [
    {
     "data": {
      "text/html": [
       "<div>\n",
       "<style scoped>\n",
       "    .dataframe tbody tr th:only-of-type {\n",
       "        vertical-align: middle;\n",
       "    }\n",
       "\n",
       "    .dataframe tbody tr th {\n",
       "        vertical-align: top;\n",
       "    }\n",
       "\n",
       "    .dataframe thead th {\n",
       "        text-align: right;\n",
       "    }\n",
       "</style>\n",
       "<table border=\"1\" class=\"dataframe\">\n",
       "  <thead>\n",
       "    <tr style=\"text-align: right;\">\n",
       "      <th></th>\n",
       "      <th>name</th>\n",
       "      <th>id</th>\n",
       "      <th>title</th>\n",
       "      <th>author_name</th>\n",
       "      <th>author_uri</th>\n",
       "      <th>voteSum</th>\n",
       "      <th>voteCount</th>\n",
       "      <th>rating</th>\n",
       "      <th>text</th>\n",
       "      <th>date</th>\n",
       "    </tr>\n",
       "  </thead>\n",
       "  <tbody>\n",
       "    <tr>\n",
       "      <th>6113</th>\n",
       "      <td>Google Fit: Health and Activity Tracking</td>\n",
       "      <td>com.google.android.apps.fitness</td>\n",
       "      <td>NaN</td>\n",
       "      <td>Mohit G</td>\n",
       "      <td>107526919134556209809</td>\n",
       "      <td>NaN</td>\n",
       "      <td>NaN</td>\n",
       "      <td>1</td>\n",
       "      <td>This app does not work property on my one plus...</td>\n",
       "      <td>2018-11-18 15:03:20</td>\n",
       "    </tr>\n",
       "    <tr>\n",
       "      <th>6114</th>\n",
       "      <td>Google Fit: Health and Activity Tracking</td>\n",
       "      <td>com.google.android.apps.fitness</td>\n",
       "      <td>NaN</td>\n",
       "      <td>sagar suryawanshi</td>\n",
       "      <td>101956979010176828886</td>\n",
       "      <td>NaN</td>\n",
       "      <td>NaN</td>\n",
       "      <td>1</td>\n",
       "      <td>I want to add leadboard How?</td>\n",
       "      <td>2018-11-18 14:54:32</td>\n",
       "    </tr>\n",
       "    <tr>\n",
       "      <th>6115</th>\n",
       "      <td>Medical Records App</td>\n",
       "      <td>com.cliniconline</td>\n",
       "      <td>NaN</td>\n",
       "      <td>Abod Osama</td>\n",
       "      <td>115080537418668508998</td>\n",
       "      <td>NaN</td>\n",
       "      <td>NaN</td>\n",
       "      <td>4</td>\n",
       "      <td>A great useful application but how can I trans...</td>\n",
       "      <td>2018-11-19 06:49:38</td>\n",
       "    </tr>\n",
       "    <tr>\n",
       "      <th>6116</th>\n",
       "      <td>Medical Records App</td>\n",
       "      <td>com.cliniconline</td>\n",
       "      <td>NaN</td>\n",
       "      <td>Agnes Novita</td>\n",
       "      <td>110614731832618616830</td>\n",
       "      <td>NaN</td>\n",
       "      <td>NaN</td>\n",
       "      <td>5</td>\n",
       "      <td>Simple, easy, and useful</td>\n",
       "      <td>2018-11-18 03:48:23</td>\n",
       "    </tr>\n",
       "    <tr>\n",
       "      <th>6117</th>\n",
       "      <td>Medical Records App</td>\n",
       "      <td>com.cliniconline</td>\n",
       "      <td>NaN</td>\n",
       "      <td>Alfredo Baruc</td>\n",
       "      <td>116943082422817884463</td>\n",
       "      <td>NaN</td>\n",
       "      <td>NaN</td>\n",
       "      <td>5</td>\n",
       "      <td>Very easy to use and is what I am looking for ...</td>\n",
       "      <td>2018-11-13 05:14:25</td>\n",
       "    </tr>\n",
       "  </tbody>\n",
       "</table>\n",
       "</div>"
      ],
      "text/plain": [
       "                                          name  \\\n",
       "6113  Google Fit: Health and Activity Tracking   \n",
       "6114  Google Fit: Health and Activity Tracking   \n",
       "6115                       Medical Records App   \n",
       "6116                       Medical Records App   \n",
       "6117                       Medical Records App   \n",
       "\n",
       "                                   id title        author_name  \\\n",
       "6113  com.google.android.apps.fitness   NaN            Mohit G   \n",
       "6114  com.google.android.apps.fitness   NaN  sagar suryawanshi   \n",
       "6115                 com.cliniconline   NaN         Abod Osama   \n",
       "6116                 com.cliniconline   NaN       Agnes Novita   \n",
       "6117                 com.cliniconline   NaN      Alfredo Baruc   \n",
       "\n",
       "                 author_uri  voteSum  voteCount  rating  \\\n",
       "6113  107526919134556209809      NaN        NaN       1   \n",
       "6114  101956979010176828886      NaN        NaN       1   \n",
       "6115  115080537418668508998      NaN        NaN       4   \n",
       "6116  110614731832618616830      NaN        NaN       5   \n",
       "6117  116943082422817884463      NaN        NaN       5   \n",
       "\n",
       "                                                   text                 date  \n",
       "6113  This app does not work property on my one plus...  2018-11-18 15:03:20  \n",
       "6114                       I want to add leadboard How?  2018-11-18 14:54:32  \n",
       "6115  A great useful application but how can I trans...  2018-11-19 06:49:38  \n",
       "6116                           Simple, easy, and useful  2018-11-18 03:48:23  \n",
       "6117  Very easy to use and is what I am looking for ...  2018-11-13 05:14:25  "
      ]
     },
     "execution_count": 274,
     "metadata": {},
     "output_type": "execute_result"
    }
   ],
   "source": [
    "df_reviews.tail()"
   ]
  },
  {
   "cell_type": "code",
   "execution_count": 275,
   "metadata": {},
   "outputs": [
    {
     "data": {
      "text/plain": [
       "6118"
      ]
     },
     "execution_count": 275,
     "metadata": {},
     "output_type": "execute_result"
    }
   ],
   "source": [
    "len(df_reviews)"
   ]
  },
  {
   "cell_type": "code",
   "execution_count": 276,
   "metadata": {},
   "outputs": [],
   "source": [
    "# Create a dataframe with negative reviews\n",
    "df_neg_reviews = df_reviews[df_reviews['rating']<=3]"
   ]
  },
  {
   "cell_type": "code",
   "execution_count": 277,
   "metadata": {},
   "outputs": [],
   "source": [
    "#Create dataframe with positive reviews\n",
    "df_pos_reviews = df_reviews[df_reviews['rating']>3]"
   ]
  },
  {
   "cell_type": "code",
   "execution_count": 278,
   "metadata": {},
   "outputs": [
    {
     "data": {
      "text/plain": [
       "3735"
      ]
     },
     "execution_count": 278,
     "metadata": {},
     "output_type": "execute_result"
    }
   ],
   "source": [
    "len(df_neg_reviews)"
   ]
  },
  {
   "cell_type": "code",
   "execution_count": 279,
   "metadata": {},
   "outputs": [
    {
     "data": {
      "text/plain": [
       "2383"
      ]
     },
     "execution_count": 279,
     "metadata": {},
     "output_type": "execute_result"
    }
   ],
   "source": [
    "len(df_pos_reviews)"
   ]
  },
  {
   "cell_type": "code",
   "execution_count": 280,
   "metadata": {},
   "outputs": [],
   "source": [
    "assert len(df_neg_reviews) + len(df_pos_reviews) == len(df_reviews)"
   ]
  },
  {
   "cell_type": "code",
   "execution_count": 281,
   "metadata": {},
   "outputs": [],
   "source": [
    "# Extract text of negative reviews\n",
    "neg_reviews_text = df_neg_reviews['text']\n",
    "neg_text = list(neg_reviews_text)"
   ]
  },
  {
   "cell_type": "code",
   "execution_count": null,
   "metadata": {},
   "outputs": [],
   "source": []
  },
  {
   "cell_type": "code",
   "execution_count": 282,
   "metadata": {},
   "outputs": [],
   "source": [
    "# Extract the text of positive reviews\n",
    "pos_reviews_text = df_pos_reviews['text']\n",
    "pos_text = list(pos_reviews_text)"
   ]
  },
  {
   "cell_type": "code",
   "execution_count": null,
   "metadata": {},
   "outputs": [],
   "source": []
  },
  {
   "cell_type": "code",
   "execution_count": 283,
   "metadata": {},
   "outputs": [],
   "source": [
    "neg_clean_text = [tokenizer(n_t) for n_t in neg_text]"
   ]
  },
  {
   "cell_type": "code",
   "execution_count": 284,
   "metadata": {},
   "outputs": [
    {
     "data": {
      "text/plain": [
       "3735"
      ]
     },
     "execution_count": 284,
     "metadata": {},
     "output_type": "execute_result"
    }
   ],
   "source": [
    "len(neg_clean_text)"
   ]
  },
  {
   "cell_type": "code",
   "execution_count": 285,
   "metadata": {},
   "outputs": [],
   "source": [
    "pos_clean_text = [tokenizer(p_t) for p_t in pos_text]"
   ]
  },
  {
   "cell_type": "code",
   "execution_count": 286,
   "metadata": {},
   "outputs": [
    {
     "data": {
      "text/plain": [
       "2383"
      ]
     },
     "execution_count": 286,
     "metadata": {},
     "output_type": "execute_result"
    }
   ],
   "source": [
    "len(pos_clean_text)"
   ]
  },
  {
   "cell_type": "code",
   "execution_count": 287,
   "metadata": {},
   "outputs": [
    {
     "name": "stderr",
     "output_type": "stream",
     "text": [
      "/anaconda3/envs/uhc_env/lib/python3.7/site-packages/gensim/models/phrases.py:494: UserWarning: For a faster implementation, use the gensim.models.phrases.Phraser class\n",
      "  warnings.warn(\"For a faster implementation, use the gensim.models.phrases.Phraser class\")\n"
     ]
    }
   ],
   "source": [
    "# Adding bigrams and trigrams to negative reviews\n",
    "\n",
    "from gensim.models.phrases import Phrases, Phraser\n",
    "# Add bigrams and trigrams to docs (only ones that appear 10 times or more).\n",
    "bigram = Phraser(Phrases(neg_clean_text, min_count=10))\n",
    "trigram = Phrases(bigram[neg_clean_text])\n",
    "\n",
    "for idx in range(len(neg_clean_text)):\n",
    "    for token in bigram[neg_clean_text[idx]]:\n",
    "        if '_' in token:\n",
    "            # Token is a bigram, add to document.\n",
    "            neg_clean_text[idx].append(token)\n",
    "    for token in trigram[neg_clean_text[idx]]:\n",
    "        if '_' in token:\n",
    "            # Token is a bigram, add to document.\n",
    "            neg_clean_text[idx].append(token)"
   ]
  },
  {
   "cell_type": "code",
   "execution_count": 288,
   "metadata": {},
   "outputs": [],
   "source": [
    "# Adding bigrams and trigrams to positive reviews\n",
    "\n",
    "from gensim.models.phrases import Phrases, Phraser\n",
    "# Add bigrams and trigrams to docs (only ones that appear 10 times or more).\n",
    "bigram = Phraser(Phrases(pos_clean_text, min_count=10))\n",
    "trigram = Phrases(bigram[pos_clean_text])\n",
    "\n",
    "for idx in range(len(pos_clean_text)):\n",
    "    for token in bigram[pos_clean_text[idx]]:\n",
    "        if '_' in token:\n",
    "            # Token is a bigram, add to document.\n",
    "            pos_clean_text[idx].append(token)\n",
    "    for token in trigram[pos_clean_text[idx]]:\n",
    "        if '_' in token:\n",
    "            # Token is a bigram, add to document.\n",
    "            pos_clean_text[idx].append(token)"
   ]
  },
  {
   "cell_type": "code",
   "execution_count": null,
   "metadata": {},
   "outputs": [],
   "source": [
    "# Remove empty tokens"
   ]
  },
  {
   "cell_type": "code",
   "execution_count": 302,
   "metadata": {},
   "outputs": [],
   "source": [
    "for item in neg_clean_text:\n",
    "    item[:] = [elem for elem in item if elem != \"\"]\n"
   ]
  },
  {
   "cell_type": "code",
   "execution_count": 305,
   "metadata": {},
   "outputs": [],
   "source": [
    "for item in pos_clean_text:\n",
    "    item[:] = [elem for elem in item if elem != \"\"]\n"
   ]
  },
  {
   "cell_type": "code",
   "execution_count": 308,
   "metadata": {},
   "outputs": [],
   "source": [
    "#Creating the dictionary out of corpus of negative reviews\n",
    "neg_dictionary = corpora.Dictionary(neg_clean_text)"
   ]
  },
  {
   "cell_type": "code",
   "execution_count": 309,
   "metadata": {},
   "outputs": [],
   "source": [
    "# Creating the dictionary out of corpus of positive reviews\n",
    "pos_dictionary = corpora.Dictionary(pos_clean_text)"
   ]
  },
  {
   "cell_type": "code",
   "execution_count": 306,
   "metadata": {},
   "outputs": [],
   "source": [
    "for idx, item in enumerate(pos_clean_text):\n",
    "        if '' in item:\n",
    "            print(idx, \"YES\")\n"
   ]
  },
  {
   "cell_type": "code",
   "execution_count": 310,
   "metadata": {},
   "outputs": [
    {
     "data": {
      "text/plain": [
       "3867"
      ]
     },
     "execution_count": 310,
     "metadata": {},
     "output_type": "execute_result"
    }
   ],
   "source": [
    "len(neg_dictionary)"
   ]
  },
  {
   "cell_type": "code",
   "execution_count": 311,
   "metadata": {},
   "outputs": [
    {
     "data": {
      "text/plain": [
       "2845"
      ]
     },
     "execution_count": 311,
     "metadata": {},
     "output_type": "execute_result"
    }
   ],
   "source": [
    "len(pos_dictionary)"
   ]
  },
  {
   "cell_type": "code",
   "execution_count": 312,
   "metadata": {},
   "outputs": [],
   "source": [
    "# Hyperparameters\n",
    "\n",
    "NUM_NEG_TOPICS =5 # Number of topics in negative reviews\n",
    "NUM_POS_TOPICS =5 # Number of topics in positive reviews\n",
    "# PArameters used in filtering the dictionaries\n",
    "MIN_DF= 2 # remove tokens that appear in less than MIN_DF docs\n",
    "MAX_DF = 0.5 # Remove tokens that appear in more than MAX_DF * 100% of docs "
   ]
  },
  {
   "cell_type": "code",
   "execution_count": 313,
   "metadata": {},
   "outputs": [],
   "source": [
    "# Filter extremes:\n",
    "# Filter tokens that appear in less than 2 doc-s\n",
    "# Filter out tokens that appear in more than 30% of docs\n",
    "\n",
    "neg_dictionary.filter_extremes(no_below=MIN_DF, no_above= MAX_DF)\n",
    "pos_dictionary.filter_extremes(no_below=MIN_DF, no_above= MAX_DF)\n"
   ]
  },
  {
   "cell_type": "code",
   "execution_count": 314,
   "metadata": {},
   "outputs": [
    {
     "data": {
      "text/plain": [
       "2298"
      ]
     },
     "execution_count": 314,
     "metadata": {},
     "output_type": "execute_result"
    }
   ],
   "source": [
    "len(neg_dictionary)"
   ]
  },
  {
   "cell_type": "code",
   "execution_count": 315,
   "metadata": {},
   "outputs": [
    {
     "data": {
      "text/plain": [
       "1633"
      ]
     },
     "execution_count": 315,
     "metadata": {},
     "output_type": "execute_result"
    }
   ],
   "source": [
    "len(pos_dictionary)"
   ]
  },
  {
   "cell_type": "code",
   "execution_count": 316,
   "metadata": {},
   "outputs": [],
   "source": [
    "neg_doc_term_mx = [neg_dictionary.doc2bow(doc) for doc in neg_clean_text]"
   ]
  },
  {
   "cell_type": "code",
   "execution_count": 317,
   "metadata": {},
   "outputs": [],
   "source": [
    "pos_doc_term_mx = [pos_dictionary.doc2bow(doc) for doc in pos_clean_text]"
   ]
  },
  {
   "cell_type": "code",
   "execution_count": 318,
   "metadata": {},
   "outputs": [],
   "source": [
    "# LDA for negative reviews\n",
    "\n",
    "neg_lda = gensim.models.ldamodel.LdaModel(corpus=neg_doc_term_mx, \\\n",
    "                                      id2word=neg_dictionary, num_topics=NUM_NEG_TOPICS, random_state = 17) \\\n",
    "                                      #, update_every=1, chunksize=100, passes=50)"
   ]
  },
  {
   "cell_type": "code",
   "execution_count": 319,
   "metadata": {},
   "outputs": [],
   "source": [
    "# LDA for positive reviews\n",
    "\n",
    "pos_lda = gensim.models.ldamodel.LdaModel(corpus=pos_doc_term_mx, \\\n",
    "                                      id2word=pos_dictionary, num_topics=NUM_POS_TOPICS, random_state = 17) \\\n",
    "                                      #, update_every=1, chunksize=100, passes=50)"
   ]
  },
  {
   "cell_type": "code",
   "execution_count": 320,
   "metadata": {},
   "outputs": [
    {
     "data": {
      "text/plain": [
       "[(0,\n",
       "  '0.017*\"card\" + 0.016*\"insur_card\" + 0.014*\"updat\" + 0.013*\"time\" + 0.012*\"work\" + 0.010*\"inform\" + 0.009*\"doe\" + 0.009*\"tri\" + 0.009*\"insur\" + 0.009*\"use\" + 0.008*\"crash\" + 0.008*\"version\" + 0.007*\"phone\" + 0.007*\"like\" + 0.006*\"custom_servic\" + 0.006*\"provid\" + 0.006*\"abl\" + 0.006*\"white_screen\" + 0.006*\"doctor\" + 0.006*\"iphon\"'),\n",
       " (1,\n",
       "  '0.022*\"doesn_work\" + 0.019*\"work\" + 0.014*\"doesn\" + 0.011*\"need\" + 0.010*\"time\" + 0.010*\"messag\" + 0.009*\"like\" + 0.009*\"updat\" + 0.008*\"email\" + 0.008*\"make\" + 0.007*\"use\" + 0.007*\"card\" + 0.007*\"doctor\" + 0.007*\"version\" + 0.007*\"custom_servic\" + 0.006*\"data\" + 0.006*\"test_result\" + 0.006*\"user\" + 0.006*\"login\" + 0.006*\"want\"'),\n",
       " (2,\n",
       "  '0.029*\"work\" + 0.012*\"urgent_care\" + 0.012*\"doctor\" + 0.011*\"doesn_work\" + 0.011*\"password\" + 0.009*\"doesn\" + 0.009*\"time\" + 0.009*\"search\" + 0.009*\"updat\" + 0.009*\"error_messag\" + 0.009*\"use\" + 0.009*\"doesnt_work\" + 0.009*\"health_insur\" + 0.008*\"login\" + 0.007*\"past_password\" + 0.007*\"useless\" + 0.007*\"wast_time\" + 0.007*\"support\" + 0.007*\"work_fine\" + 0.006*\"keep_crash\"'),\n",
       " (3,\n",
       "  '0.021*\"time\" + 0.019*\"work\" + 0.014*\"updat\" + 0.012*\"appoint\" + 0.011*\"error_messag\" + 0.011*\"tri\" + 0.010*\"make_appoint\" + 0.010*\"error\" + 0.010*\"need\" + 0.009*\"doctor\" + 0.009*\"open\" + 0.008*\"latest_updat\" + 0.008*\"screen\" + 0.008*\"inform\" + 0.007*\"make\" + 0.007*\"messag\" + 0.007*\"say\" + 0.006*\"use\" + 0.006*\"sign\" + 0.006*\"blank_screen\"'),\n",
       " (4,\n",
       "  '0.017*\"password\" + 0.016*\"work\" + 0.013*\"time\" + 0.012*\"wast_time\" + 0.010*\"tri\" + 0.008*\"login\" + 0.008*\"use\" + 0.007*\"medic\" + 0.007*\"like\" + 0.007*\"doesn\" + 0.007*\"screen\" + 0.007*\"doe\" + 0.006*\"download\" + 0.006*\"doesn_work\" + 0.006*\"access\" + 0.006*\"phone\" + 0.006*\"inform\" + 0.006*\"past\" + 0.006*\"websit\" + 0.006*\"card\"')]"
      ]
     },
     "execution_count": 320,
     "metadata": {},
     "output_type": "execute_result"
    }
   ],
   "source": [
    "# Topics based on negative reviews\n",
    "neg_lda.print_topics(num_words=20)"
   ]
  },
  {
   "cell_type": "markdown",
   "metadata": {},
   "source": [
    "Negative topics:\n",
    "\n",
    "- Topic 0: insurance card,  ==> TECHNICAL ISSUES: bad CUSTOMER SERVICE, ISSUES WITH PASSWORD\n",
    "- Topic 1: Issues with messages, e-mails to doctor ==> MESSAGING TO DOCTOR\n",
    "- Topic 2: URGENT CARE\n",
    "- Topic 3: APPOINTMENT SCHEDULING\n",
    "- Topic 4:  issues with LOGIN/PASSWORD"
   ]
  },
  {
   "cell_type": "code",
   "execution_count": 321,
   "metadata": {},
   "outputs": [
    {
     "data": {
      "text/html": [
       "\n",
       "<link rel=\"stylesheet\" type=\"text/css\" href=\"https://cdn.rawgit.com/bmabey/pyLDAvis/files/ldavis.v1.0.0.css\">\n",
       "\n",
       "\n",
       "<div id=\"ldavis_el115311121362366324928321592\"></div>\n",
       "<script type=\"text/javascript\">\n",
       "\n",
       "var ldavis_el115311121362366324928321592_data = {\"mdsDat\": {\"x\": [-0.0025518804728137416, 0.013449829051160574, -0.03170154539831114, 0.09586207353222129, -0.07505847671225689], \"y\": [0.021983318618302397, 0.0016161975236032358, -0.08687791910188294, 0.011875561227963068, 0.051402841732014246], \"topics\": [1, 2, 3, 4, 5], \"cluster\": [1, 1, 1, 1, 1], \"Freq\": [27.573856353759766, 23.328445434570312, 17.654155731201172, 16.55675506591797, 14.88679027557373]}, \"tinfo\": {\"Category\": [\"Default\", \"Default\", \"Default\", \"Default\", \"Default\", \"Default\", \"Default\", \"Default\", \"Default\", \"Default\", \"Default\", \"Default\", \"Default\", \"Default\", \"Default\", \"Default\", \"Default\", \"Default\", \"Default\", \"Default\", \"Topic1\", \"Topic1\", \"Topic1\", \"Topic1\", \"Topic1\", \"Topic1\", \"Topic1\", \"Topic1\", \"Topic1\", \"Topic1\", \"Topic1\", \"Topic1\", \"Topic1\", \"Topic1\", \"Topic1\", \"Topic1\", \"Topic1\", \"Topic1\", \"Topic1\", \"Topic1\", \"Topic1\", \"Topic1\", \"Topic1\", \"Topic1\", \"Topic1\", \"Topic1\", \"Topic1\", \"Topic1\", \"Topic1\", \"Topic1\", \"Topic1\", \"Topic1\", \"Topic1\", \"Topic1\", \"Topic1\", \"Topic1\", \"Topic1\", \"Topic1\", \"Topic1\", \"Topic1\", \"Topic1\", \"Topic1\", \"Topic1\", \"Topic1\", \"Topic1\", \"Topic1\", \"Topic1\", \"Topic1\", \"Topic1\", \"Topic1\", \"Topic1\", \"Topic1\", \"Topic1\", \"Topic1\", \"Topic1\", \"Topic2\", \"Topic2\", \"Topic2\", \"Topic2\", \"Topic2\", \"Topic2\", \"Topic2\", \"Topic2\", \"Topic2\", \"Topic2\", \"Topic2\", \"Topic2\", \"Topic2\", \"Topic2\", \"Topic2\", \"Topic2\", \"Topic2\", \"Topic2\", \"Topic2\", \"Topic2\", \"Topic2\", \"Topic2\", \"Topic2\", \"Topic2\", \"Topic2\", \"Topic2\", \"Topic2\", \"Topic2\", \"Topic2\", \"Topic2\", \"Topic2\", \"Topic2\", \"Topic2\", \"Topic2\", \"Topic2\", \"Topic2\", \"Topic2\", \"Topic2\", \"Topic2\", \"Topic2\", \"Topic2\", \"Topic2\", \"Topic2\", \"Topic2\", \"Topic2\", \"Topic2\", \"Topic2\", \"Topic2\", \"Topic2\", \"Topic2\", \"Topic2\", \"Topic2\", \"Topic2\", \"Topic3\", \"Topic3\", \"Topic3\", \"Topic3\", \"Topic3\", \"Topic3\", \"Topic3\", \"Topic3\", \"Topic3\", \"Topic3\", \"Topic3\", \"Topic3\", \"Topic3\", \"Topic3\", \"Topic3\", \"Topic3\", \"Topic3\", \"Topic3\", \"Topic3\", \"Topic3\", \"Topic3\", \"Topic3\", \"Topic3\", \"Topic3\", \"Topic3\", \"Topic3\", \"Topic3\", \"Topic3\", \"Topic3\", \"Topic3\", \"Topic3\", \"Topic3\", \"Topic3\", \"Topic3\", \"Topic3\", \"Topic3\", \"Topic3\", \"Topic3\", \"Topic3\", \"Topic3\", \"Topic3\", \"Topic3\", \"Topic3\", \"Topic3\", \"Topic3\", \"Topic3\", \"Topic3\", \"Topic3\", \"Topic3\", \"Topic4\", \"Topic4\", \"Topic4\", \"Topic4\", \"Topic4\", \"Topic4\", \"Topic4\", \"Topic4\", \"Topic4\", \"Topic4\", \"Topic4\", \"Topic4\", \"Topic4\", \"Topic4\", \"Topic4\", \"Topic4\", \"Topic4\", \"Topic4\", \"Topic4\", \"Topic4\", \"Topic4\", \"Topic4\", \"Topic4\", \"Topic4\", \"Topic4\", \"Topic4\", \"Topic4\", \"Topic4\", \"Topic4\", \"Topic4\", \"Topic4\", \"Topic4\", \"Topic4\", \"Topic4\", \"Topic4\", \"Topic4\", \"Topic4\", \"Topic4\", \"Topic4\", \"Topic4\", \"Topic4\", \"Topic4\", \"Topic4\", \"Topic4\", \"Topic4\", \"Topic4\", \"Topic4\", \"Topic4\", \"Topic4\", \"Topic4\", \"Topic4\", \"Topic4\", \"Topic4\", \"Topic4\", \"Topic5\", \"Topic5\", \"Topic5\", \"Topic5\", \"Topic5\", \"Topic5\", \"Topic5\", \"Topic5\", \"Topic5\", \"Topic5\", \"Topic5\", \"Topic5\", \"Topic5\", \"Topic5\", \"Topic5\", \"Topic5\", \"Topic5\", \"Topic5\", \"Topic5\", \"Topic5\", \"Topic5\", \"Topic5\", \"Topic5\", \"Topic5\", \"Topic5\", \"Topic5\", \"Topic5\", \"Topic5\", \"Topic5\", \"Topic5\", \"Topic5\", \"Topic5\", \"Topic5\", \"Topic5\", \"Topic5\", \"Topic5\", \"Topic5\", \"Topic5\", \"Topic5\", \"Topic5\", \"Topic5\", \"Topic5\", \"Topic5\", \"Topic5\", \"Topic5\", \"Topic5\", \"Topic5\", \"Topic5\"], \"Freq\": [221.0, 574.0, 129.0, 141.0, 266.0, 510.0, 125.0, 109.0, 267.0, 126.0, 148.0, 583.0, 352.0, 1196.0, 473.0, 206.0, 71.0, 225.0, 94.0, 125.0, 55.852752685546875, 16.200756072998047, 32.284027099609375, 16.016876220703125, 9.270458221435547, 9.120960235595703, 8.283413887023926, 7.717678546905518, 6.3480329513549805, 6.317826271057129, 6.742737770080566, 40.70199203491211, 5.526182174682617, 6.204529762268066, 6.134151935577393, 4.909704685211182, 4.909318923950195, 4.905712604522705, 4.544143199920654, 88.13510131835938, 79.78511047363281, 71.05103302001953, 46.7054328918457, 15.2727632522583, 37.933589935302734, 42.53139114379883, 66.33016967773438, 63.06425476074219, 22.867341995239258, 304.91290283203125, 217.93865966796875, 41.39258575439453, 44.51430130004883, 32.027400970458984, 124.39952087402344, 102.90247344970703, 70.75923919677734, 172.05491638183594, 115.20470428466797, 147.06204223632812, 236.05679321289062, 281.775146484375, 117.08609771728516, 108.08480072021484, 145.65806579589844, 97.15309143066406, 106.16629028320312, 116.87047576904297, 121.09001922607422, 96.8092041015625, 117.189208984375, 105.28679656982422, 112.42871856689453, 99.79505920410156, 98.2625732421875, 17.441513061523438, 11.003673553466797, 8.969486236572266, 8.961882591247559, 8.938342094421387, 6.727592945098877, 6.226861000061035, 6.203636646270752, 6.166293144226074, 6.595489501953125, 5.327919006347656, 4.850388526916504, 7.688577651977539, 45.953208923339844, 4.815513610839844, 4.79454231262207, 46.32232666015625, 7.04848575592041, 35.1226806640625, 3.9281654357910156, 6.2315168380737305, 12.610482215881348, 78.21490478515625, 38.16708755493164, 42.147972106933594, 90.148681640625, 42.20987319946289, 333.9947204589844, 40.05690002441406, 47.63296127319336, 31.86582374572754, 46.50986099243164, 26.550504684448242, 216.14895629882812, 61.57888412475586, 118.28510284423828, 104.40137481689453, 152.3971405029297, 100.63731384277344, 160.1802978515625, 292.4473571777344, 140.20541381835938, 94.2320785522461, 76.15899658203125, 88.02681732177734, 116.38455963134766, 86.65601348876953, 138.6907501220703, 153.93743896484375, 112.48168182373047, 106.39608001708984, 104.79505157470703, 87.94696807861328, 65.1252670288086, 8.300353050231934, 8.29143238067627, 8.281373023986816, 6.8070173263549805, 6.7499260902404785, 9.386926651000977, 5.2850117683410645, 94.11614990234375, 6.473134994506836, 4.296877384185791, 4.272658348083496, 8.557579040527344, 118.34539794921875, 3.78055477142334, 3.7705061435699463, 3.7644217014312744, 3.7586302757263184, 9.63158893585205, 3.745313882827759, 55.13334274291992, 8.229084968566895, 40.55813980102539, 47.127685546875, 8.66482925415039, 137.39462280273438, 22.492870330810547, 124.70528411865234, 27.156217575073242, 115.98333740234375, 58.231224060058594, 98.30775451660156, 45.12720489501953, 233.30059814453125, 71.9525146484375, 163.13499450683594, 24.940340042114258, 54.59711837768555, 33.099761962890625, 92.72401428222656, 119.99640655517578, 219.52792358398438, 110.81713104248047, 74.26435089111328, 102.72842407226562, 87.60380554199219, 81.00344848632812, 80.96830749511719, 72.1707992553711, 40.30365753173828, 10.451147079467773, 8.42258358001709, 8.417547225952148, 8.377300262451172, 8.260956764221191, 6.888780117034912, 6.847500801086426, 8.077183723449707, 5.364325046539307, 5.342650890350342, 5.330784797668457, 5.2877092361450195, 4.811458587646484, 8.307382583618164, 5.222907066345215, 4.386054039001465, 4.377751350402832, 5.204680919647217, 14.16555118560791, 172.6112060546875, 60.8922233581543, 46.494422912597656, 64.701904296875, 10.038527488708496, 30.294330596923828, 24.365236282348633, 16.768112182617188, 42.33955764770508, 182.43760681152344, 61.75956344604492, 55.03851318359375, 39.34320068359375, 94.91988372802734, 80.97947692871094, 31.863649368286133, 82.44194030761719, 38.80919647216797, 145.4462890625, 107.4822006225586, 57.34356689453125, 101.05374908447266, 50.84119415283203, 79.57201385498047, 62.684898376464844, 133.73641967773438, 98.82540893554688, 68.94707489013672, 92.93235778808594, 128.18963623046875, 75.82127380371094, 67.13505554199219, 65.09156799316406, 62.78474426269531, 17.953655242919922, 10.747038841247559, 7.914431571960449, 117.76496887207031, 9.181598663330078, 7.87312650680542, 7.872463703155518, 6.353270530700684, 5.023526191711426, 5.020402431488037, 5.010880947113037, 4.999703884124756, 4.990513324737549, 43.955787658691406, 4.903391361236572, 8.351255416870117, 4.07466459274292, 11.327360153198242, 7.186662197113037, 3.5877201557159424, 59.837852478027344, 46.50619888305664, 21.784849166870117, 32.34930419921875, 49.788753509521484, 83.85026550292969, 82.40604400634766, 50.77260971069336, 32.53608703613281, 45.41579055786133, 69.0626449584961, 88.03240203857422, 63.89479446411133, 46.745243072509766, 274.2635803222656, 86.71935272216797, 50.15734100341797, 115.62732696533203, 101.44161987304688, 102.75633239746094, 90.9284439086914, 80.62737274169922, 86.3519515991211, 87.65489959716797, 90.37987518310547, 67.05633544921875, 65.51549530029297, 65.66304779052734], \"Term\": [\"insur_card\", \"doesn_work\", \"urgent_care\", \"make_appoint\", \"error_messag\", \"password\", \"doesnt_work\", \"latest_updat\", \"appoint\", \"health_insur\", \"past_password\", \"updat\", \"wast_time\", \"work\", \"card\", \"search\", \"blank_screen\", \"version\", \"white_screen\", \"send_messag\", \"creat_account\", \"ticket\", \"answer_question\", \"couldnt\", \"protect\", \"desk\", \"keep_close\", \"softwar_develop\", \"wise\", \"obviou\", \"ask_question\", \"error_occur\", \"dropbox_sync\", \"mislead\", \"healthi\", \"behold\", \"ball\", \"proof\", \"unbeliev\", \"tech_support\", \"medic_record\", \"usernam_password\", \"higi_station\", \"secur_password\", \"usernam\", \"keep_say\", \"secur\", \"insur_compani\", \"automat\", \"password\", \"wast_time\", \"station\", \"went_wrong\", \"profil\", \"medic\", \"past\", \"compani\", \"tri\", \"download\", \"login\", \"time\", \"work\", \"screen\", \"access\", \"use\", \"help\", \"phone\", \"doe\", \"like\", \"say\", \"doesn\", \"inform\", \"doesn_work\", \"websit\", \"card\", \"valu\", \"delay\", \"faster\", \"height\", \"remain\", \"reorder\", \"jailbroken\", \"ideal\", \"captur\", \"compos_messag\", \"factor\", \"versu\", \"min\", \"doesn_recogn\", \"synch\", \"theyr\", \"previou_version\", \"spoke\", \"email_address\", \"enlarg\", \"inbox\", \"compos\", \"user_friendli\", \"repli\", \"appl_wallet\", \"test_result\", \"appl_health\", \"doesn_work\", \"enter_data\", \"appl\", \"previou\", \"take_forev\", \"recogn\", \"doesn\", \"test\", \"email\", \"version\", \"messag\", \"custom_servic\", \"need\", \"work\", \"like\", \"data\", \"tell\", \"user\", \"make\", \"want\", \"updat\", \"time\", \"use\", \"card\", \"doctor\", \"login\", \"blank_screen\", \"batteri\", \"unhelp\", \"kill\", \"stall\", \"giant\", \"corpor\", \"safe\", \"latest_updat\", \"weekend\", \"firm\", \"insan\", \"stress\", \"make_appoint\", \"rectifi\", \"cruel\", \"webpag\", \"shock\", \"disconnect\", \"darn\", \"half_time\", \"break\", \"iphon_plu\", \"give_error\", \"singl_time\", \"appoint\", \"stop_work\", \"error_messag\", \"stuck\", \"error\", \"schedul_appoint\", \"open\", \"stop\", \"time\", \"sign\", \"updat\", \"half\", \"list\", \"schedul\", \"screen\", \"tri\", \"work\", \"need\", \"say\", \"doctor\", \"inform\", \"make\", \"messag\", \"use\", \"android\", \"explain\", \"temp\", \"lousi\", \"extrem_frustrat\", \"book_appoint\", \"student\", \"energi\", \"valid\", \"execut\", \"focu\", \"obama\", \"backward\", \"smartwatch\", \"appeal\", \"apolog\", \"worthwhil\", \"brilliant\", \"session\", \"forc_close\", \"insur_card\", \"uninstal_reinstal\", \"latest_version\", \"white_screen\", \"nearbi\", \"iphon_ipad\", \"finger_print\", \"carri\", \"coverag\", \"card\", \"send_messag\", \"doctor_offic\", \"uninstal\", \"insur\", \"version\", \"mobil_site\", \"crash\", \"ipad\", \"updat\", \"inform\", \"mobil\", \"doe\", \"send\", \"phone\", \"iphon\", \"time\", \"tri\", \"custom_servic\", \"use\", \"work\", \"like\", \"provid\", \"abl\", \"doctor\", \"garmin\", \"map\", \"sync_garmin\", \"urgent_care\", \"particular\", \"roll\", \"programm\", \"consult\", \"woke\", \"exam\", \"engin\", \"natur\", \"nearest\", \"urgent\", \"medfus\", \"constantli_crash\", \"typo\", \"pull_card\", \"treat\", \"starter\", \"keep_crash\", \"work_properli\", \"search_doctor\", \"wast_space\", \"recent_updat\", \"doesnt_work\", \"health_insur\", \"complet_useless\", \"zero_star\", \"password_manag\", \"past_password\", \"search\", \"work_fine\", \"doesnt\", \"work\", \"error_messag\", \"anthem\", \"doctor\", \"password\", \"doesn_work\", \"doesn\", \"login\", \"use\", \"updat\", \"time\", \"useless\", \"support\", \"wast_time\"], \"Total\": [221.0, 574.0, 129.0, 141.0, 266.0, 510.0, 125.0, 109.0, 267.0, 126.0, 148.0, 583.0, 352.0, 1196.0, 473.0, 206.0, 71.0, 225.0, 94.0, 125.0, 57.21845245361328, 17.061786651611328, 34.17945861816406, 17.05852508544922, 10.083232879638672, 9.975293159484863, 9.064421653747559, 8.556878089904785, 7.1385393142700195, 7.1389851570129395, 7.646792411804199, 46.438350677490234, 6.340332984924316, 7.145020008087158, 7.142270088195801, 5.722376823425293, 5.722635269165039, 5.723247051239014, 5.322512149810791, 104.22769165039062, 94.85198211669922, 88.81021118164062, 58.09527587890625, 18.497236251831055, 49.20197677612305, 56.6873779296875, 92.73475646972656, 88.05455017089844, 29.21125602722168, 510.88885498046875, 352.958984375, 56.26216506958008, 63.63514709472656, 44.32307434082031, 236.8003387451172, 206.207763671875, 134.09542846679688, 470.7791442871094, 270.0832214355469, 407.4078674316406, 847.4111328125, 1196.2037353515625, 297.8833312988281, 274.5870056152344, 509.5948791503906, 242.032470703125, 292.7049560546875, 364.6799011230469, 411.0212097167969, 244.43881225585938, 490.0067138671875, 397.5029296875, 574.3330688476562, 340.9672546386719, 473.0160217285156, 18.707733154296875, 11.816704750061035, 9.818035125732422, 9.817118644714355, 9.817606925964355, 7.5312113761901855, 7.0302958488464355, 7.032743453979492, 7.034128189086914, 7.532558917999268, 6.139345169067383, 5.637356281280518, 8.962031364440918, 53.73062515258789, 5.6381964683532715, 5.639168739318848, 54.529563903808594, 8.444595336914062, 42.40704345703125, 4.747703552246094, 7.576770305633545, 15.639080047607422, 106.58065032958984, 50.51164627075195, 56.3143424987793, 128.11679077148438, 56.94330596923828, 574.3330688476562, 57.6367301940918, 71.70852661132812, 45.794071197509766, 74.95048522949219, 38.6114501953125, 490.0067138671875, 109.30432891845703, 264.1495361328125, 225.8073272705078, 390.9825439453125, 243.4419708251953, 473.9087829589844, 1196.2037353515625, 411.0212097167969, 234.28265380859375, 165.72874450683594, 225.37942504882812, 379.7943420410156, 229.68862915039062, 583.6163940429688, 847.4111328125, 509.5948791503906, 473.0160217285156, 465.7786865234375, 407.4078674316406, 71.36296844482422, 9.104599952697754, 9.102701187133789, 9.10368537902832, 7.585586071014404, 7.5838093757629395, 10.601683616638184, 6.065539836883545, 109.34275817871094, 7.570718765258789, 5.092591285705566, 5.088663101196289, 10.20880126953125, 141.416015625, 4.546529769897461, 4.545939922332764, 4.546685218811035, 4.546070098876953, 11.67644214630127, 4.545148849487305, 68.10829162597656, 10.123337745666504, 55.06340408325195, 71.26921844482422, 11.273988723754883, 267.4110412597656, 34.546504974365234, 266.45220947265625, 44.03358459472656, 269.64996337890625, 115.43927001953125, 243.79135131835938, 92.81611633300781, 847.4111328125, 177.65867614746094, 583.6163940429688, 42.662132263183594, 131.559326171875, 65.24078369140625, 297.8833312988281, 470.7791442871094, 1196.2037353515625, 473.9087829589844, 244.43881225585938, 465.7786865234375, 397.5029296875, 379.7943420410156, 390.9825439453125, 509.5948791503906, 41.497947692871094, 11.296690940856934, 9.208626747131348, 9.208392143249512, 9.20576000213623, 9.194969177246094, 7.669834136962891, 7.66575288772583, 9.178736686706543, 6.131307125091553, 6.130364894866943, 6.1289567947387695, 6.124096870422363, 5.578492641448975, 9.698416709899902, 6.126651287078857, 5.1458282470703125, 5.145282745361328, 6.1252851486206055, 16.784957885742188, 221.82537841796875, 76.94239807128906, 61.55682373046875, 94.3442153930664, 12.656220436096191, 47.40011978149414, 37.74705123901367, 24.506994247436523, 76.96438598632812, 473.0160217285156, 125.29735565185547, 116.82820129394531, 76.5749740600586, 253.88775634765625, 225.8073272705078, 61.62516784667969, 246.8507080078125, 83.52671813964844, 583.6163940429688, 397.5029296875, 152.08401489257812, 364.6799011230469, 133.88848876953125, 292.7049560546875, 194.20166015625, 847.4111328125, 470.7791442871094, 243.4419708251953, 509.5948791503906, 1196.2037353515625, 411.0212097167969, 273.504150390625, 283.4936828613281, 465.7786865234375, 18.818344116210938, 11.594324111938477, 8.703641891479492, 129.96392822265625, 10.148953437805176, 8.703505516052246, 8.704815864562988, 7.261651992797852, 5.813934326171875, 5.81428861618042, 5.814570426940918, 5.812610149383545, 5.815634727478027, 51.308143615722656, 5.821253776550293, 9.985426902770996, 4.888544082641602, 13.604080200195312, 8.677637100219727, 4.369410037994385, 73.42879486083984, 57.20521545410156, 27.669692993164062, 42.397666931152344, 68.34976959228516, 125.60031127929688, 126.23204040527344, 76.39158630371094, 47.763729095458984, 82.39730834960938, 148.65536499023438, 206.58187866210938, 148.39984130859375, 101.50438690185547, 1196.2037353515625, 266.45220947265625, 121.06385040283203, 465.7786865234375, 510.88885498046875, 574.3330688476562, 490.0067138671875, 407.4078674316406, 509.5948791503906, 583.6163940429688, 847.4111328125, 264.7701110839844, 244.94168090820312, 352.958984375], \"loglift\": [20.0, 19.0, 18.0, 17.0, 16.0, 15.0, 14.0, 13.0, 12.0, 11.0, 10.0, 9.0, 8.0, 7.0, 6.0, 5.0, 4.0, 3.0, 2.0, 1.0, 1.2640999555587769, 1.2365000247955322, 1.2311999797821045, 1.2252999544143677, 1.204300045967102, 1.198799967765808, 1.198199987411499, 1.1850999593734741, 1.1708999872207642, 1.166100025177002, 1.162500023841858, 1.156499981880188, 1.1509000062942505, 1.1471999883651733, 1.1361000537872314, 1.13510000705719, 1.1349999904632568, 1.1341999769210815, 1.1302000284194946, 1.1205999851226807, 1.1153000593185425, 1.0651999711990356, 1.070099949836731, 1.0967999696731567, 1.0282000303268433, 1.0010000467300415, 0.9531999826431274, 0.9545000195503235, 1.0434999465942383, 0.7721999883651733, 0.8062000274658203, 0.9814000129699707, 0.930899977684021, 0.9634000062942505, 0.644599974155426, 0.5932000279426575, 0.6489999890327454, 0.2816999852657318, 0.43630000948905945, 0.26930001378059387, 0.010200000368058681, -0.1574999988079071, 0.3544999957084656, 0.35600000619888306, 0.03590000048279762, 0.37549999356269836, 0.27410000562667847, 0.15029999613761902, 0.06620000302791595, 0.3621000051498413, -0.14229999482631683, -0.04019999876618385, -0.3425999879837036, 0.05959999933838844, -0.2831999957561493, 1.3854000568389893, 1.3841999769210815, 1.3651000261306763, 1.364300012588501, 1.3617000579833984, 1.3427000045776367, 1.3341000080108643, 1.3301000595092773, 1.323799967765808, 1.32260000705719, 1.3136999607086182, 1.3050999641418457, 1.3021999597549438, 1.2991000413894653, 1.2977999448776245, 1.2932000160217285, 1.2924000024795532, 1.2747999429702759, 1.2669999599456787, 1.2660000324249268, 1.2599999904632568, 1.2403000593185425, 1.1461000442504883, 1.1753000020980835, 1.1656999588012695, 1.1039999723434448, 1.1561000347137451, 0.9133999943733215, 1.091599941253662, 1.0463999509811401, 1.092900037765503, 0.9782999753952026, 1.0809999704360962, 0.6370000243186951, 0.8816999793052673, 0.6521000266075134, 0.6840999722480774, 0.5133000016212463, 0.5720999836921692, 0.3707999885082245, 0.04690000042319298, 0.3799999952316284, 0.544700026512146, 0.6779999732971191, 0.5153999924659729, 0.2727999985218048, 0.48069998621940613, 0.01850000023841858, -0.2500999867916107, -0.05530000105500221, -0.0364999994635582, -0.03620000183582306, -0.07760000228881836, 1.642699956893921, 1.641700029373169, 1.6409000158309937, 1.6395000219345093, 1.6259000301361084, 1.6176999807357788, 1.6124999523162842, 1.596500039100647, 1.5842000246047974, 1.5776000022888184, 1.5642999410629272, 1.559399962425232, 1.557800054550171, 1.5561000108718872, 1.5497000217437744, 1.5471999645233154, 1.5454000234603882, 1.5440000295639038, 1.541700005531311, 1.5405999422073364, 1.5228999853134155, 1.5269999504089355, 1.4285000562667847, 1.3206000328063965, 1.4709999561309814, 1.0683000087738037, 1.3050999641418457, 0.9750000238418579, 1.2509000301361084, 0.890500009059906, 1.0499000549316406, 0.8259999752044678, 1.013100028038025, 0.44429999589920044, 0.830299973487854, 0.4595000147819519, 1.1973999738693237, 0.8547000288963318, 1.0556000471115112, 0.5670999884605408, 0.36730000376701355, 0.03880000114440918, 0.28110000491142273, 0.542900025844574, 0.22259999811649323, 0.22179999947547913, 0.1890999972820282, 0.15960000455379486, -0.22040000557899475, 1.7691999673843384, 1.7206000089645386, 1.7092000246047974, 1.7086000442504883, 1.7041000127792358, 1.6913000345230103, 1.690999984741211, 1.6855000257492065, 1.6705000400543213, 1.6647000312805176, 1.6607999801635742, 1.6588000059127808, 1.6514999866485596, 1.6505000591278076, 1.6435999870300293, 1.638800024986267, 1.6385999917984009, 1.6368000507354736, 1.6354999542236328, 1.6287000179290771, 1.5475000143051147, 1.5643999576568604, 1.517699956893921, 1.4212000370025635, 1.5666999816894531, 1.3507000207901, 1.3605999946594238, 1.4189000129699707, 1.2007999420166016, 0.8457000255584717, 1.09089994430542, 1.045699954032898, 1.1324000358581543, 0.8144999742507935, 0.7728999853134155, 1.138800024986267, 0.70169997215271, 1.0319000482559204, 0.4088999927043915, 0.49050000309944153, 0.8230000138282776, 0.5149999856948853, 0.8300999999046326, 0.4959000051021576, 0.6675999760627747, -0.0478999987244606, 0.23729999363422394, 0.5368000268936157, 0.0966000035405159, -0.4350000023841858, 0.10809999704360962, 0.3937999904155731, 0.3269999921321869, -0.20559999346733093, 1.857699990272522, 1.8287999629974365, 1.8095999956130981, 1.8061000108718872, 1.8044999837875366, 1.8043999671936035, 1.8042000532150269, 1.7711000442504883, 1.7585999965667725, 1.7578999996185303, 1.7559000253677368, 1.753999948501587, 1.7517000436782837, 1.75, 1.7331000566482544, 1.7259999513626099, 1.722599983215332, 1.721500039100647, 1.7161999940872192, 1.7075999975204468, 1.7000000476837158, 1.69760000705719, 1.6655999422073364, 1.6341999769210815, 1.5878000259399414, 1.500599980354309, 1.4781999588012695, 1.4961999654769897, 1.520799994468689, 1.309000015258789, 1.138100028038025, 1.0516999959945679, 1.062000036239624, 1.1292999982833862, 0.4318999946117401, 0.7821999788284302, 1.0234999656677246, 0.5113999843597412, 0.2879999876022339, 0.18379999697208405, 0.22030000388622284, 0.2847000062465668, 0.12950000166893005, 0.008899999782443047, -0.3334999978542328, 0.5314000248908997, 0.5860000252723694, 0.22290000319480896], \"logprob\": [20.0, 19.0, 18.0, 17.0, 16.0, 15.0, 14.0, 13.0, 12.0, 11.0, 10.0, 9.0, 8.0, 7.0, 6.0, 5.0, 4.0, 3.0, 2.0, 1.0, -5.76140022277832, -6.999100208282471, -6.309599876403809, -7.010499954223633, -7.557300090789795, -7.573599815368652, -7.669899940490723, -7.740600109100342, -7.935999870300293, -7.940800189971924, -7.875699996948242, -6.077899932861328, -8.074700355529785, -7.958899974822998, -7.970300197601318, -8.192899703979492, -8.192999839782715, -8.193699836730957, -8.270299911499023, -5.305300235748291, -5.404799938201904, -5.520699977874756, -5.940299987792969, -7.05810022354126, -6.1483001708984375, -6.033899784088135, -5.5894999504089355, -5.639999866485596, -6.654399871826172, -4.0640997886657715, -4.399899959564209, -6.060999870300293, -5.98829984664917, -6.317599773406982, -4.960599899291992, -5.150400161743164, -5.524899959564209, -4.636300086975098, -5.037399768829346, -4.793300151824951, -4.320099830627441, -4.14300012588501, -5.021200180053711, -5.101200103759766, -4.8028998374938965, -5.207900047302246, -5.119100093841553, -5.023099899291992, -4.987599849700928, -5.211400032043457, -5.020400047302246, -5.127500057220459, -5.061800003051758, -5.181000232696533, -5.196499824523926, -6.7581000328063965, -7.218699932098389, -7.423099994659424, -7.423999786376953, -7.426599979400635, -7.710700035095215, -7.788099765777588, -7.791800022125244, -7.797900199890137, -7.730599880218506, -7.943999767303467, -8.0378999710083, -7.577199935913086, -5.789299964904785, -8.045100212097168, -8.049500465393066, -5.781300067901611, -7.664100170135498, -6.05810022354126, -8.248800277709961, -7.787300109863281, -7.082399845123291, -5.257500171661377, -5.974999904632568, -5.875800132751465, -5.115499973297119, -5.874300003051758, -3.805799961090088, -5.926700115203857, -5.753399848937988, -6.155399799346924, -5.777299880981445, -6.337900161743164, -4.241000175476074, -5.496600151062012, -4.843900203704834, -4.968699932098389, -4.5904998779296875, -5.00540018081665, -4.5406999588012695, -3.938699960708618, -4.673799991607666, -5.071199893951416, -5.28410005569458, -5.1392998695373535, -4.860099792480469, -5.15500020980835, -4.684700012207031, -4.580399990081787, -4.894199848175049, -4.94980001449585, -4.964900016784668, -5.140200138092041, -5.161900043487549, -7.2220001220703125, -7.2230000495910645, -7.2241997718811035, -7.420300006866455, -7.428699970245361, -7.098899841308594, -7.673399925231934, -4.793700218200684, -7.470600128173828, -7.88040018081665, -7.886000156402588, -7.191400051116943, -4.564599990844727, -8.008399963378906, -8.01099967956543, -8.012700080871582, -8.014200210571289, -7.073200225830078, -8.0177001953125, -5.328499794006348, -7.230599880218506, -5.635499954223633, -5.485400199890137, -7.178999900817871, -4.41540002822876, -6.225100040435791, -4.51230001449585, -6.036600112915039, -4.584799766540527, -5.273799896240234, -4.750100135803223, -5.528800010681152, -3.8859000205993652, -5.06220006942749, -4.24370002746582, -6.121799945831299, -5.3383002281188965, -5.838699817657471, -4.808599948883057, -4.55079984664917, -3.9467999935150146, -4.63040018081665, -5.030600070953369, -4.706200122833252, -4.8653998374938965, -4.94379997253418, -4.944200038909912, -5.059199810028076, -5.577600002288818, -6.9274001121521, -7.143199920654297, -7.143799781799316, -7.148499965667725, -7.162499904632568, -7.344200134277344, -7.350200176239014, -7.184999942779541, -7.594299793243408, -7.598400115966797, -7.600599765777588, -7.608699798583984, -7.703100204467773, -7.156899929046631, -7.620999813079834, -7.795599937438965, -7.797500133514404, -7.624499797821045, -6.623300075531006, -4.123000144958496, -5.164999961853027, -5.434700012207031, -5.104300022125244, -6.967599868774414, -5.863100051879883, -6.080900192260742, -6.454599857330322, -5.52839994430542, -4.067699909210205, -5.1508002281188965, -5.265999794006348, -5.601799964904785, -4.7210001945495605, -4.879899978637695, -5.812600135803223, -4.861999988555908, -5.6153998374938965, -4.294300079345703, -4.596700191497803, -5.224999904632568, -4.658400058746338, -5.345399856567383, -4.89739990234375, -5.136000156402588, -4.378200054168701, -4.680699825286865, -5.0406999588012695, -4.742199897766113, -4.420599937438965, -4.945700168609619, -5.067399978637695, -5.098299980163574, -5.134399890899658, -6.28000020980835, -6.793099880218506, -7.099100112915039, -4.399099826812744, -6.9506001472473145, -7.104300022125244, -7.104400157928467, -7.31879997253418, -7.553599834442139, -7.554200172424316, -7.556099891662598, -7.5584001541137695, -7.560200214385986, -5.3846001625061035, -7.5777997970581055, -7.045300006866455, -7.763000011444092, -6.740499973297119, -7.195499897003174, -7.890200138092041, -5.076099872589111, -5.328199863433838, -6.08650016784668, -5.691199779510498, -5.260000228881836, -4.738699913024902, -4.756100177764893, -5.2403998374938965, -5.685400009155273, -5.351900100708008, -4.932700157165527, -4.690000057220459, -5.010499954223633, -5.322999954223633, -3.5536999702453613, -4.705100059509277, -5.252600193023682, -4.417399883270264, -4.548299789428711, -4.535399913787842, -4.657700061798096, -4.777900218963623, -4.7093000411987305, -4.694300174713135, -4.663700103759766, -4.962200164794922, -4.985499858856201, -4.9832000732421875]}, \"token.table\": {\"Topic\": [1, 2, 3, 4, 5, 1, 2, 3, 4, 5, 4, 1, 3, 1, 2, 3, 4, 5, 4, 2, 4, 1, 2, 3, 4, 5, 1, 2, 4, 5, 1, 2, 3, 4, 5, 1, 2, 3, 4, 5, 1, 1, 2, 4, 4, 1, 3, 1, 1, 3, 4, 4, 2, 3, 5, 4, 2, 1, 2, 3, 4, 5, 1, 2, 3, 4, 1, 2, 3, 4, 5, 1, 2, 3, 4, 5, 1, 2, 2, 3, 5, 5, 3, 5, 1, 1, 2, 3, 4, 5, 1, 2, 3, 4, 5, 1, 2, 3, 1, 2, 3, 4, 5, 3, 1, 2, 3, 4, 5, 2, 1, 1, 3, 4, 1, 2, 3, 4, 5, 1, 2, 3, 4, 5, 1, 2, 3, 4, 5, 1, 2, 3, 4, 5, 1, 2, 5, 1, 2, 3, 4, 5, 1, 2, 3, 4, 5, 1, 2, 3, 4, 5, 1, 2, 3, 4, 5, 1, 1, 2, 3, 4, 5, 1, 2, 3, 4, 5, 4, 5, 2, 1, 2, 3, 4, 1, 2, 3, 4, 5, 1, 2, 3, 4, 5, 1, 2, 5, 4, 4, 4, 2, 2, 1, 2, 3, 4, 5, 3, 4, 4, 5, 5, 3, 1, 2, 3, 5, 1, 2, 3, 4, 5, 1, 3, 5, 1, 2, 3, 4, 5, 1, 2, 1, 2, 3, 4, 5, 1, 2, 3, 5, 2, 2, 3, 1, 2, 3, 4, 5, 3, 1, 2, 3, 4, 5, 1, 2, 3, 4, 5, 1, 2, 3, 4, 5, 1, 2, 3, 4, 5, 1, 2, 3, 4, 5, 1, 2, 3, 4, 5, 1, 2, 3, 4, 5, 2, 1, 1, 2, 3, 4, 5, 1, 2, 3, 3, 1, 2, 3, 5, 1, 2, 4, 5, 1, 2, 3, 4, 5, 1, 2, 3, 4, 5, 1, 2, 3, 4, 5, 4, 1, 2, 3, 4, 5, 1, 2, 3, 4, 5, 5, 5, 1, 2, 3, 4, 5, 1, 2, 3, 4, 5, 1, 2, 3, 4, 5, 2, 3, 1, 1, 2, 3, 4, 5, 1, 2, 4, 5, 5, 1, 2, 4, 5, 1, 2, 3, 4, 5, 4, 1, 1, 2, 3, 4, 5, 5, 1, 2, 3, 4, 5, 1, 2, 5, 1, 2, 3, 4, 5, 1, 2, 4, 5, 1, 2, 3, 4, 5, 1, 2, 3, 4, 5, 2, 3, 4, 5, 1, 2, 3, 4, 5, 5, 1, 1, 1, 2, 3, 4, 5, 3, 5, 1, 2, 3, 4, 5, 1, 2, 3, 4, 5, 3, 2, 2, 1, 2, 3, 4, 5, 3, 1, 2, 3, 4, 5, 1, 2, 3, 4, 5, 1, 2, 3, 4, 5, 1, 2, 3, 4, 5, 1, 2, 3, 4, 5, 1, 2, 3, 4, 5, 1, 2, 3, 4, 5, 1, 2, 5, 1, 2, 3, 4, 5, 1, 2, 4, 4, 3, 1, 2, 3, 4, 5, 1, 2, 3, 4, 1, 2, 5, 3, 5, 1, 2, 3, 4, 5, 1, 2, 3, 4, 5, 1, 2, 3, 5, 3, 4, 1, 2, 3, 4, 5, 4, 1, 2, 3, 4, 5, 5, 2, 2, 3, 5, 1, 2, 5, 1, 2, 3, 4, 5, 4, 1, 2, 3, 4, 5, 1, 2, 3, 4, 5, 2, 1, 1, 2, 3, 4, 5, 2, 5, 1, 2, 3, 4, 5, 5, 1, 3, 1, 2, 3, 4, 5, 1, 4, 5, 1, 2, 3, 4, 5, 1, 3, 5, 1, 3, 5, 1, 2, 3, 4, 5, 1, 2, 3, 4, 5, 1, 2, 3, 4, 5, 1, 2, 3, 4, 1, 2, 3, 4, 5, 1, 2, 3, 4, 5, 4, 2, 4, 1, 2, 3, 4, 5, 2, 1, 2, 3, 4, 5, 1, 2, 3, 5, 1, 2, 3, 4, 5, 3, 1, 2, 3, 4, 5, 3, 1, 2, 3, 4, 5, 1, 2, 3, 4, 1, 5, 1, 2, 3, 4, 5, 1, 2, 3, 4, 5, 1, 2, 3, 4, 5, 4, 2, 3, 5], \"Freq\": [0.22222717106342316, 0.2927754819393158, 0.1481514424085617, 0.22928200662136078, 0.10582246631383896, 0.39331796765327454, 0.14931514859199524, 0.12018048763275146, 0.21122631430625916, 0.1274641454219818, 0.9639030694961548, 0.9362348318099976, 0.029257338494062424, 0.11564145982265472, 0.1404217630624771, 0.1404217630624771, 0.18998239934444427, 0.41300520300865173, 0.8161064982414246, 0.10310961306095123, 0.8248769044876099, 0.06972671300172806, 0.6693764925003052, 0.027890685945749283, 0.08367206156253815, 0.1533987671136856, 0.08780663460493088, 0.7375757098197937, 0.05268397927284241, 0.10536795854568481, 0.053272396326065063, 0.7458135485649109, 0.053272396326065063, 0.07102986425161362, 0.08878732472658157, 0.10470771789550781, 0.3029044568538666, 0.5123199224472046, 0.033656053245067596, 0.04487473517656326, 0.9154164791107178, 0.7873677015304565, 0.03423338010907173, 0.13693352043628693, 0.8164469003677368, 0.8737233281135559, 0.87867671251297, 0.8737627863883972, 0.014012870378792286, 0.9108365774154663, 0.07006435096263885, 0.8700409531593323, 0.09878165274858475, 0.790253221988678, 0.09878165274858475, 0.7774111032485962, 0.8529841899871826, 0.2071811407804489, 0.22409388422966003, 0.11416103690862656, 0.38476496934890747, 0.06765098869800568, 0.040804676711559296, 0.12241403013467789, 0.12241403013467789, 0.6936795115470886, 0.5294736623764038, 0.10440325736999512, 0.11186064034700394, 0.11931801587343216, 0.134232759475708, 0.20944714546203613, 0.013090446591377258, 0.07854267954826355, 0.026180893182754517, 0.6676127910614014, 0.12788476049900055, 0.8312509655952454, 0.9292990565299988, 0.10014594346284866, 0.8011675477027893, 0.8262582421302795, 0.8489217758178711, 0.09432464092969894, 0.9379474520683289, 0.0779581367969513, 0.16890929639339447, 0.06496511399745941, 0.5457069277763367, 0.1429232507944107, 0.13368403911590576, 0.11747991293668747, 0.18634745478630066, 0.3321845829486847, 0.2268577665090561, 0.9787052273750305, 0.017476879060268402, 0.8799060583114624, 0.275219589471817, 0.41488325595855713, 0.004107755143195391, 0.2834351062774658, 0.020538775250315666, 0.8800591826438904, 0.32866284251213074, 0.4012247622013092, 0.03841513767838478, 0.2048807293176651, 0.02134174294769764, 0.9308855533599854, 0.9022291302680969, 0.08564252406358719, 0.8564252853393555, 0.08564252406358719, 0.17175538837909698, 0.22542895376682281, 0.22113506495952606, 0.13525736331939697, 0.24904531240463257, 0.19687026739120483, 0.09415534883737564, 0.09415534883737564, 0.4707767367362976, 0.14551280438899994, 0.320829302072525, 0.13984867930412292, 0.145332932472229, 0.2769552171230316, 0.11791162937879562, 0.23877224326133728, 0.44081029295921326, 0.09387626498937607, 0.04081576690077782, 0.18571174144744873, 0.074445441365242, 0.8561225533485413, 0.0558340810239315, 0.1950087994337082, 0.5815441012382507, 0.015670349821448326, 0.027858398854732513, 0.17933844029903412, 0.15762865543365479, 0.10836970061063766, 0.246294766664505, 0.019703581929206848, 0.46303418278694153, 0.03980881720781326, 0.023885291069746017, 0.2627381980419159, 0.007961764000356197, 0.6687881350517273, 0.42579469084739685, 0.10367175191640854, 0.20364093780517578, 0.13699480891227722, 0.12958969175815582, 0.9463225603103638, 0.2271440625190735, 0.44671666622161865, 0.20442965626716614, 0.08707189559936523, 0.03407160937786102, 0.047161977738142014, 0.8253346085548401, 0.09432395547628403, 0.023580988869071007, 0.023580988869071007, 0.9131523370742798, 0.8599087595939636, 0.8425126075744629, 0.08675023913383484, 0.6940019130706787, 0.1041002869606018, 0.1041002869606018, 0.16317451000213623, 0.15575748682022095, 0.4301873445510864, 0.05191916227340698, 0.20025962591171265, 0.09007243812084198, 0.08631941676139832, 0.46912726759910583, 0.02627112716436386, 0.32651257514953613, 0.8828909397125244, 0.10766962915658951, 0.8599504232406616, 0.8154867887496948, 0.8852149844169617, 0.8690211176872253, 0.8144190907478333, 0.9166803359985352, 0.2119370847940445, 0.026492135599255562, 0.07947640866041183, 0.6358112692832947, 0.026492135599255562, 0.7854547500610352, 0.8156121373176575, 0.834080159664154, 0.11915430426597595, 0.9565134644508362, 0.9230189919471741, 0.1824069321155548, 0.0841878205537796, 0.6594712138175964, 0.0701565146446228, 0.1640799343585968, 0.09375996142625809, 0.5859997868537903, 0.023439990356564522, 0.1640799343585968, 0.029364999383687973, 0.8075374960899353, 0.14682500064373016, 0.25350141525268555, 0.007921919226646423, 0.007921919226646423, 0.07921919226646423, 0.6495973467826843, 0.840069055557251, 0.9167659282684326, 0.40077266097068787, 0.326402485370636, 0.09916024655103683, 0.061975155025720596, 0.11155527830123901, 0.8090158700942993, 0.01721310429275036, 0.01721310429275036, 0.15491792559623718, 0.8531520962715149, 0.7918941378593445, 0.13198235630989075, 0.264149010181427, 0.1383637636899948, 0.2213820219039917, 0.26918041706085205, 0.1056595966219902, 0.7860610485076904, 0.2599574029445648, 0.09452996402978897, 0.047264982014894485, 0.3741810917854309, 0.22450865805149078, 0.022540252655744553, 0.07663685828447342, 0.040572453290224075, 0.7798927426338196, 0.08114490658044815, 0.7154656052589417, 0.034069791436195374, 0.056782983243465424, 0.06813958287239075, 0.12492255866527557, 0.10774995386600494, 0.20352768898010254, 0.0957777351140976, 0.4669164717197418, 0.11972217261791229, 0.1493293046951294, 0.18022502958774567, 0.23686718940734863, 0.3244050443172455, 0.10298573225736618, 0.06329097598791122, 0.23206692934036255, 0.02109699323773384, 0.6329097747802734, 0.04219398647546768, 0.07264352589845657, 0.03632176294922829, 0.7445961833000183, 0.03632176294922829, 0.10896529257297516, 0.8534491658210754, 0.8825714588165283, 0.054474543780088425, 0.040855906903743744, 0.08171181380748749, 0.013618635945022106, 0.8171181082725525, 0.7585462927818298, 0.0529218353331089, 0.1940467208623886, 0.8787649869918823, 0.05487331748008728, 0.02743665874004364, 0.8596819639205933, 0.05487331748008728, 0.08122576028108597, 0.08122576028108597, 0.747277021408081, 0.06498061120510101, 0.29438871145248413, 0.34061503410339355, 0.10948339849710464, 0.1849053055047989, 0.07055597007274628, 0.15962380170822144, 0.20523060858249664, 0.41806232929229736, 0.06841020286083221, 0.1444215327501297, 0.3608177602291107, 0.2159997522830963, 0.10799987614154816, 0.11536350846290588, 0.19881795346736908, 0.8687727451324463, 0.2527683675289154, 0.3054284453392029, 0.2132733166217804, 0.15008121728897095, 0.07899011671543121, 0.04949934408068657, 0.08485601842403412, 0.8344175219535828, 0.02828533947467804, 0.00707133486866951, 0.9487400650978088, 0.858921468257904, 0.5236479043960571, 0.1815875768661499, 0.12246604263782501, 0.13513493537902832, 0.038006700575351715, 0.8434193730354309, 0.06325644999742508, 0.021085483953356743, 0.05271371081471443, 0.010542741976678371, 0.17136314511299133, 0.3887641727924347, 0.20717036724090576, 0.10230635851621628, 0.1278829425573349, 0.8926547765731812, 0.11158184707164764, 0.8397457003593445, 0.28273844718933105, 0.1183556318283081, 0.08547906577587128, 0.37479284405708313, 0.13808158040046692, 0.4381326735019684, 0.016227135434746742, 0.5192683339118958, 0.032454270869493484, 0.8601987361907959, 0.07901252806186676, 0.15802505612373352, 0.79012531042099, 0.8597514033317566, 0.17724929749965668, 0.3376177251338959, 0.23422229290008545, 0.13082686066627502, 0.1202763095498085, 0.8157995343208313, 0.8404555916786194, 0.22150088846683502, 0.13946351408958435, 0.4019830822944641, 0.11895418167114258, 0.11895418167114258, 0.886790931224823, 0.5969987511634827, 0.13897347450256348, 0.043062202632427216, 0.021531101316213608, 0.19769465923309326, 0.3519532382488251, 0.08495423197746277, 0.546134352684021, 0.4994962215423584, 0.08729059994220734, 0.11638747155666351, 0.01454843394458294, 0.28126972913742065, 0.4977957010269165, 0.02018090710043907, 0.013453937135636806, 0.46416085958480835, 0.36213940382003784, 0.1947353482246399, 0.040996912866830826, 0.2733127474784851, 0.12640714645385742, 0.10918443650007248, 0.6987804174423218, 0.021836888045072556, 0.10918443650007248, 0.06551066040992737, 0.843579113483429, 0.03667735308408737, 0.11003205180168152, 0.018338676542043686, 0.7219715714454651, 0.04512322321534157, 0.0676848366856575, 0.11280805617570877, 0.04512322321534157, 0.9190315008163452, 0.8736299276351929, 0.8925708532333374, 0.1791563332080841, 0.18281258642673492, 0.20109383761882782, 0.24496886134147644, 0.19378133118152618, 0.07350736111402512, 0.8085809350013733, 0.029261253774166107, 0.17556752264499664, 0.014630626887083054, 0.058522507548332214, 0.7315313816070557, 0.23309147357940674, 0.6992744207382202, 0.025899052619934082, 0.025899052619934082, 0.051798105239868164, 0.8797919154167175, 0.9167203307151794, 0.9294653534889221, 0.13858190178871155, 0.7523017525672913, 0.05939224362373352, 0.039594829082489014, 0.9191698431968689, 0.8243289589881897, 0.3968273103237152, 0.14318512380123138, 0.30273425579071045, 0.061365049332380295, 0.09818407893180847, 0.045983508229255676, 0.3678680658340454, 0.5058185458183289, 0.015327835455536842, 0.06131134182214737, 0.025987690314650536, 0.4244655966758728, 0.5024286508560181, 0.008662563748657703, 0.04331281781196594, 0.3927712142467499, 0.09735354781150818, 0.3122027516365051, 0.1342807561159134, 0.060426343232393265, 0.05808834731578827, 0.1355394721031189, 0.29044175148010254, 0.091973215341568, 0.42598122358322144, 0.036140624433755875, 0.07228124886751175, 0.07228124886751175, 0.036140624433755875, 0.7950937747955322, 0.7117072939872742, 0.1294013261795044, 0.021566886454820633, 0.0647006630897522, 0.07548410445451736, 0.8109319806098938, 0.1081242635846138, 0.0540621317923069, 0.1867225468158722, 0.34356948733329773, 0.04481341317296028, 0.38091400265693665, 0.052282314747571945, 0.08779115974903107, 0.41501274704933167, 0.4948228895664215, 0.8162885308265686, 0.8798808455467224, 0.16323435306549072, 0.12383296340703964, 0.4052715003490448, 0.11820419132709503, 0.19137820601463318, 0.08869975060224533, 0.08869975060224533, 0.7982977628707886, 0.8962994813919067, 0.9349204301834106, 0.8289325833320618, 0.11841893941164017, 0.9228028059005737, 0.9154554009437561, 0.7287312746047974, 0.08886966854333878, 0.07109573483467102, 0.017773933708667755, 0.08886966854333878, 0.15083587169647217, 0.23702779412269592, 0.4848296046257019, 0.053869955241680145, 0.07541793584823608, 0.14473244547843933, 0.14473244547843933, 0.6368227601051331, 0.028946489095687866, 0.8815922141075134, 0.09795469045639038, 0.18167950212955475, 0.06812981516122818, 0.6131683588027954, 0.022709937766194344, 0.11354969441890717, 0.9126664400100708, 0.2939475178718567, 0.23679105937480927, 0.08981730043888092, 0.11023031920194626, 0.26945188641548157, 0.919155478477478, 0.8868083953857422, 0.6270806789398193, 0.013342142105102539, 0.36023783683776855, 0.8443053960800171, 0.009594378992915154, 0.13432130217552185, 0.17498473823070526, 0.4585806727409363, 0.22929033637046814, 0.10257725417613983, 0.036203738301992416, 0.8687505722045898, 0.1280827522277832, 0.5672236680984497, 0.08233891427516937, 0.036595072597265244, 0.18297536671161652, 0.08585915714502335, 0.7024840116500854, 0.07024840265512466, 0.0078053781762719154, 0.12488605082035065, 0.8866555094718933, 0.9377681612968445, 0.27849528193473816, 0.1817299723625183, 0.2749550938606262, 0.15812867879867554, 0.10620582848787308, 0.1152387410402298, 0.8066712021827698, 0.3653517961502075, 0.12107588350772858, 0.2548965811729431, 0.21028968691825867, 0.046731043606996536, 0.8182395100593567, 0.9394060373306274, 0.8788599967956543, 0.16976825892925262, 0.013059096410870552, 0.07835458219051361, 0.5093047618865967, 0.22200465202331543, 0.14296409487724304, 0.7928008437156677, 0.06498368084430695, 0.08395925909280777, 0.23817014694213867, 0.279293030500412, 0.2484508752822876, 0.150783970952034, 0.05847024917602539, 0.07796033471822739, 0.8575636744499207, 0.0538611002266407, 0.030777771025896072, 0.9079442620277405, 0.28650209307670593, 0.21978242695331573, 0.14128869771957397, 0.18249790370464325, 0.1687615066766739, 0.2115042358636856, 0.13596700131893158, 0.19639678299427032, 0.20395050942897797, 0.25304970145225525, 0.33720913529396057, 0.39045268297195435, 0.0931762084364891, 0.0931762084364891, 0.08873924612998962, 0.22518159449100494, 0.7318401336669922, 0.009382566437125206, 0.028147699311375618, 0.7723267078399658, 0.020324386656284332, 0.08129754662513733, 0.040648773312568665, 0.08129754662513733, 0.7994576096534729, 0.011259966529905796, 0.12385962903499603, 0.03377990052103996, 0.022519933059811592, 0.871579647064209, 0.9087151288986206, 0.053453829139471054, 0.06642831116914749, 0.4605696499347687, 0.026571325957775116, 0.3587128818035126, 0.08857108652591705, 0.886940598487854, 0.2263934463262558, 0.37877365946769714, 0.1567339301109314, 0.1654413640499115, 0.069659523665905, 0.07075861096382141, 0.023586204275488853, 0.14151722192764282, 0.7547585368156433, 0.6176354885101318, 0.09632847458124161, 0.09916166216135025, 0.0028331903740763664, 0.18699055910110474, 0.879761815071106, 0.29328328371047974, 0.24929079413414001, 0.16717147827148438, 0.11731331795454025, 0.17303714156150818, 0.7925271391868591, 0.7071563601493835, 0.1257166862487793, 0.015714585781097412, 0.1414312720298767, 0.031429171562194824, 0.26498711109161377, 0.010599483735859394, 0.03179845213890076, 0.6889664530754089, 0.8405081033706665, 0.8600028157234192, 0.23574578762054443, 0.24410557746887207, 0.1839151531457901, 0.10700518637895584, 0.22905796766281128, 0.12129393219947815, 0.2425878643989563, 0.20215654373168945, 0.006738551892340183, 0.43126732110977173, 0.0524427704513073, 0.034961845725774765, 0.034961845725774765, 0.0524427704513073, 0.8216034173965454, 0.7773287296295166, 0.2512366771697998, 0.06280916929244995, 0.6909008026123047], \"Term\": [\"abl\", \"abl\", \"abl\", \"abl\", \"abl\", \"access\", \"access\", \"access\", \"access\", \"access\", \"android\", \"answer_question\", \"answer_question\", \"anthem\", \"anthem\", \"anthem\", \"anthem\", \"anthem\", \"apolog\", \"appeal\", \"appeal\", \"appl\", \"appl\", \"appl\", \"appl\", \"appl\", \"appl_health\", \"appl_health\", \"appl_health\", \"appl_health\", \"appl_wallet\", \"appl_wallet\", \"appl_wallet\", \"appl_wallet\", \"appl_wallet\", \"appoint\", \"appoint\", \"appoint\", \"appoint\", \"appoint\", \"ask_question\", \"automat\", \"automat\", \"automat\", \"backward\", \"ball\", \"batteri\", \"behold\", \"blank_screen\", \"blank_screen\", \"blank_screen\", \"book_appoint\", \"break\", \"break\", \"break\", \"brilliant\", \"captur\", \"card\", \"card\", \"card\", \"card\", \"card\", \"carri\", \"carri\", \"carri\", \"carri\", \"compani\", \"compani\", \"compani\", \"compani\", \"compani\", \"complet_useless\", \"complet_useless\", \"complet_useless\", \"complet_useless\", \"complet_useless\", \"compos\", \"compos\", \"compos_messag\", \"constantli_crash\", \"constantli_crash\", \"consult\", \"corpor\", \"corpor\", \"couldnt\", \"coverag\", \"coverag\", \"coverag\", \"coverag\", \"coverag\", \"crash\", \"crash\", \"crash\", \"crash\", \"crash\", \"creat_account\", \"creat_account\", \"cruel\", \"custom_servic\", \"custom_servic\", \"custom_servic\", \"custom_servic\", \"custom_servic\", \"darn\", \"data\", \"data\", \"data\", \"data\", \"data\", \"delay\", \"desk\", \"disconnect\", \"disconnect\", \"disconnect\", \"doctor\", \"doctor\", \"doctor\", \"doctor\", \"doctor\", \"doctor_offic\", \"doctor_offic\", \"doctor_offic\", \"doctor_offic\", \"doctor_offic\", \"doe\", \"doe\", \"doe\", \"doe\", \"doe\", \"doesn\", \"doesn\", \"doesn\", \"doesn\", \"doesn\", \"doesn_recogn\", \"doesn_recogn\", \"doesn_recogn\", \"doesn_work\", \"doesn_work\", \"doesn_work\", \"doesn_work\", \"doesn_work\", \"doesnt\", \"doesnt\", \"doesnt\", \"doesnt\", \"doesnt\", \"doesnt_work\", \"doesnt_work\", \"doesnt_work\", \"doesnt_work\", \"doesnt_work\", \"download\", \"download\", \"download\", \"download\", \"download\", \"dropbox_sync\", \"email\", \"email\", \"email\", \"email\", \"email\", \"email_address\", \"email_address\", \"email_address\", \"email_address\", \"email_address\", \"energi\", \"engin\", \"enlarg\", \"enter_data\", \"enter_data\", \"enter_data\", \"enter_data\", \"error\", \"error\", \"error\", \"error\", \"error\", \"error_messag\", \"error_messag\", \"error_messag\", \"error_messag\", \"error_messag\", \"error_occur\", \"error_occur\", \"exam\", \"execut\", \"explain\", \"extrem_frustrat\", \"factor\", \"faster\", \"finger_print\", \"finger_print\", \"finger_print\", \"finger_print\", \"finger_print\", \"firm\", \"focu\", \"forc_close\", \"forc_close\", \"garmin\", \"giant\", \"give_error\", \"give_error\", \"give_error\", \"give_error\", \"half\", \"half\", \"half\", \"half\", \"half\", \"half_time\", \"half_time\", \"half_time\", \"health_insur\", \"health_insur\", \"health_insur\", \"health_insur\", \"health_insur\", \"healthi\", \"height\", \"help\", \"help\", \"help\", \"help\", \"help\", \"higi_station\", \"higi_station\", \"higi_station\", \"higi_station\", \"ideal\", \"inbox\", \"inbox\", \"inform\", \"inform\", \"inform\", \"inform\", \"inform\", \"insan\", \"insur\", \"insur\", \"insur\", \"insur\", \"insur\", \"insur_card\", \"insur_card\", \"insur_card\", \"insur_card\", \"insur_card\", \"insur_compani\", \"insur_compani\", \"insur_compani\", \"insur_compani\", \"insur_compani\", \"ipad\", \"ipad\", \"ipad\", \"ipad\", \"ipad\", \"iphon\", \"iphon\", \"iphon\", \"iphon\", \"iphon\", \"iphon_ipad\", \"iphon_ipad\", \"iphon_ipad\", \"iphon_ipad\", \"iphon_ipad\", \"iphon_plu\", \"iphon_plu\", \"iphon_plu\", \"iphon_plu\", \"iphon_plu\", \"jailbroken\", \"keep_close\", \"keep_crash\", \"keep_crash\", \"keep_crash\", \"keep_crash\", \"keep_crash\", \"keep_say\", \"keep_say\", \"keep_say\", \"kill\", \"latest_updat\", \"latest_updat\", \"latest_updat\", \"latest_updat\", \"latest_version\", \"latest_version\", \"latest_version\", \"latest_version\", \"like\", \"like\", \"like\", \"like\", \"like\", \"list\", \"list\", \"list\", \"list\", \"list\", \"login\", \"login\", \"login\", \"login\", \"login\", \"lousi\", \"make\", \"make\", \"make\", \"make\", \"make\", \"make_appoint\", \"make_appoint\", \"make_appoint\", \"make_appoint\", \"make_appoint\", \"map\", \"medfus\", \"medic\", \"medic\", \"medic\", \"medic\", \"medic\", \"medic_record\", \"medic_record\", \"medic_record\", \"medic_record\", \"medic_record\", \"messag\", \"messag\", \"messag\", \"messag\", \"messag\", \"min\", \"min\", \"mislead\", \"mobil\", \"mobil\", \"mobil\", \"mobil\", \"mobil\", \"mobil_site\", \"mobil_site\", \"mobil_site\", \"mobil_site\", \"natur\", \"nearbi\", \"nearbi\", \"nearbi\", \"nearest\", \"need\", \"need\", \"need\", \"need\", \"need\", \"obama\", \"obviou\", \"open\", \"open\", \"open\", \"open\", \"open\", \"particular\", \"password\", \"password\", \"password\", \"password\", \"password\", \"password_manag\", \"password_manag\", \"password_manag\", \"past\", \"past\", \"past\", \"past\", \"past\", \"past_password\", \"past_password\", \"past_password\", \"past_password\", \"phone\", \"phone\", \"phone\", \"phone\", \"phone\", \"previou\", \"previou\", \"previou\", \"previou\", \"previou\", \"previou_version\", \"previou_version\", \"previou_version\", \"previou_version\", \"profil\", \"profil\", \"profil\", \"profil\", \"profil\", \"programm\", \"proof\", \"protect\", \"provid\", \"provid\", \"provid\", \"provid\", \"provid\", \"pull_card\", \"pull_card\", \"recent_updat\", \"recent_updat\", \"recent_updat\", \"recent_updat\", \"recent_updat\", \"recogn\", \"recogn\", \"recogn\", \"recogn\", \"recogn\", \"rectifi\", \"remain\", \"reorder\", \"repli\", \"repli\", \"repli\", \"repli\", \"roll\", \"safe\", \"say\", \"say\", \"say\", \"say\", \"say\", \"schedul\", \"schedul\", \"schedul\", \"schedul\", \"schedul\", \"schedul_appoint\", \"schedul_appoint\", \"schedul_appoint\", \"schedul_appoint\", \"schedul_appoint\", \"screen\", \"screen\", \"screen\", \"screen\", \"screen\", \"search\", \"search\", \"search\", \"search\", \"search\", \"search_doctor\", \"search_doctor\", \"search_doctor\", \"search_doctor\", \"search_doctor\", \"secur\", \"secur\", \"secur\", \"secur\", \"secur\", \"secur_password\", \"secur_password\", \"secur_password\", \"send\", \"send\", \"send\", \"send\", \"send\", \"send_messag\", \"send_messag\", \"send_messag\", \"session\", \"shock\", \"sign\", \"sign\", \"sign\", \"sign\", \"sign\", \"singl_time\", \"singl_time\", \"singl_time\", \"smartwatch\", \"softwar_develop\", \"spoke\", \"spoke\", \"stall\", \"starter\", \"station\", \"station\", \"station\", \"station\", \"station\", \"stop\", \"stop\", \"stop\", \"stop\", \"stop\", \"stop_work\", \"stop_work\", \"stop_work\", \"stop_work\", \"stress\", \"stress\", \"stuck\", \"stuck\", \"stuck\", \"stuck\", \"stuck\", \"student\", \"support\", \"support\", \"support\", \"support\", \"support\", \"sync_garmin\", \"synch\", \"take_forev\", \"take_forev\", \"take_forev\", \"tech_support\", \"tech_support\", \"tech_support\", \"tell\", \"tell\", \"tell\", \"tell\", \"tell\", \"temp\", \"test\", \"test\", \"test\", \"test\", \"test\", \"test_result\", \"test_result\", \"test_result\", \"test_result\", \"test_result\", \"theyr\", \"ticket\", \"time\", \"time\", \"time\", \"time\", \"time\", \"treat\", \"treat\", \"tri\", \"tri\", \"tri\", \"tri\", \"tri\", \"typo\", \"unbeliev\", \"unhelp\", \"uninstal\", \"uninstal\", \"uninstal\", \"uninstal\", \"uninstal\", \"uninstal_reinstal\", \"uninstal_reinstal\", \"uninstal_reinstal\", \"updat\", \"updat\", \"updat\", \"updat\", \"updat\", \"urgent\", \"urgent\", \"urgent\", \"urgent_care\", \"urgent_care\", \"urgent_care\", \"use\", \"use\", \"use\", \"use\", \"use\", \"useless\", \"useless\", \"useless\", \"useless\", \"useless\", \"user\", \"user\", \"user\", \"user\", \"user\", \"user_friendli\", \"user_friendli\", \"user_friendli\", \"user_friendli\", \"usernam\", \"usernam\", \"usernam\", \"usernam\", \"usernam\", \"usernam_password\", \"usernam_password\", \"usernam_password\", \"usernam_password\", \"usernam_password\", \"valid\", \"valu\", \"valu\", \"version\", \"version\", \"version\", \"version\", \"version\", \"versu\", \"want\", \"want\", \"want\", \"want\", \"want\", \"wast_space\", \"wast_space\", \"wast_space\", \"wast_space\", \"wast_time\", \"wast_time\", \"wast_time\", \"wast_time\", \"wast_time\", \"webpag\", \"websit\", \"websit\", \"websit\", \"websit\", \"websit\", \"weekend\", \"went_wrong\", \"went_wrong\", \"went_wrong\", \"went_wrong\", \"went_wrong\", \"white_screen\", \"white_screen\", \"white_screen\", \"white_screen\", \"wise\", \"woke\", \"work\", \"work\", \"work\", \"work\", \"work\", \"work_fine\", \"work_fine\", \"work_fine\", \"work_fine\", \"work_fine\", \"work_properli\", \"work_properli\", \"work_properli\", \"work_properli\", \"work_properli\", \"worthwhil\", \"zero_star\", \"zero_star\", \"zero_star\"]}, \"R\": 20, \"lambda.step\": 0.01, \"plot.opts\": {\"xlab\": \"PC1\", \"ylab\": \"PC2\"}, \"topic.order\": [5, 2, 4, 1, 3]};\n",
       "\n",
       "function LDAvis_load_lib(url, callback){\n",
       "  var s = document.createElement('script');\n",
       "  s.src = url;\n",
       "  s.async = true;\n",
       "  s.onreadystatechange = s.onload = callback;\n",
       "  s.onerror = function(){console.warn(\"failed to load library \" + url);};\n",
       "  document.getElementsByTagName(\"head\")[0].appendChild(s);\n",
       "}\n",
       "\n",
       "if(typeof(LDAvis) !== \"undefined\"){\n",
       "   // already loaded: just create the visualization\n",
       "   !function(LDAvis){\n",
       "       new LDAvis(\"#\" + \"ldavis_el115311121362366324928321592\", ldavis_el115311121362366324928321592_data);\n",
       "   }(LDAvis);\n",
       "}else if(typeof define === \"function\" && define.amd){\n",
       "   // require.js is available: use it to load d3/LDAvis\n",
       "   require.config({paths: {d3: \"https://cdnjs.cloudflare.com/ajax/libs/d3/3.5.5/d3.min\"}});\n",
       "   require([\"d3\"], function(d3){\n",
       "      window.d3 = d3;\n",
       "      LDAvis_load_lib(\"https://cdn.rawgit.com/bmabey/pyLDAvis/files/ldavis.v1.0.0.js\", function(){\n",
       "        new LDAvis(\"#\" + \"ldavis_el115311121362366324928321592\", ldavis_el115311121362366324928321592_data);\n",
       "      });\n",
       "    });\n",
       "}else{\n",
       "    // require.js not available: dynamically load d3 & LDAvis\n",
       "    LDAvis_load_lib(\"https://cdnjs.cloudflare.com/ajax/libs/d3/3.5.5/d3.min.js\", function(){\n",
       "         LDAvis_load_lib(\"https://cdn.rawgit.com/bmabey/pyLDAvis/files/ldavis.v1.0.0.js\", function(){\n",
       "                 new LDAvis(\"#\" + \"ldavis_el115311121362366324928321592\", ldavis_el115311121362366324928321592_data);\n",
       "            })\n",
       "         });\n",
       "}\n",
       "</script>"
      ],
      "text/plain": [
       "PreparedData(topic_coordinates=              x         y  topics  cluster       Freq\n",
       "topic                                                \n",
       "4     -0.002552  0.021983       1        1  27.573856\n",
       "1      0.013450  0.001616       2        1  23.328445\n",
       "3     -0.031702 -0.086878       3        1  17.654156\n",
       "0      0.095862  0.011876       4        1  16.556755\n",
       "2     -0.075058  0.051403       5        1  14.886790, topic_info=     Category         Freq             Term        Total  loglift  logprob\n",
       "term                                                                      \n",
       "642   Default   221.000000       insur_card   221.000000  20.0000  20.0000\n",
       "289   Default   574.000000       doesn_work   574.000000  19.0000  19.0000\n",
       "1596  Default   129.000000      urgent_care   129.000000  18.0000  18.0000\n",
       "1088  Default   141.000000     make_appoint   141.000000  17.0000  17.0000\n",
       "1425  Default   266.000000     error_messag   266.000000  16.0000  16.0000\n",
       "275   Default   510.000000         password   510.000000  15.0000  15.0000\n",
       "1379  Default   125.000000      doesnt_work   125.000000  14.0000  14.0000\n",
       "448   Default   109.000000     latest_updat   109.000000  13.0000  13.0000\n",
       "69    Default   267.000000          appoint   267.000000  12.0000  12.0000\n",
       "1341  Default   126.000000     health_insur   126.000000  11.0000  11.0000\n",
       "1483  Default   148.000000    past_password   148.000000  10.0000  10.0000\n",
       "67    Default   583.000000            updat   583.000000   9.0000   9.0000\n",
       "461   Default   352.000000        wast_time   352.000000   8.0000   8.0000\n",
       "40    Default  1196.000000             work  1196.000000   7.0000   7.0000\n",
       "637   Default   473.000000             card   473.000000   6.0000   6.0000\n",
       "1140  Default   206.000000           search   206.000000   5.0000   5.0000\n",
       "1517  Default    71.000000     blank_screen    71.000000   4.0000   4.0000\n",
       "192   Default   225.000000          version   225.000000   3.0000   3.0000\n",
       "891   Default    94.000000     white_screen    94.000000   2.0000   2.0000\n",
       "1508  Default   125.000000      send_messag   125.000000   1.0000   1.0000\n",
       "137    Topic1    55.852753    creat_account    57.218452   1.2641  -5.7614\n",
       "1414   Topic1    16.200756           ticket    17.061787   1.2365  -6.9991\n",
       "869    Topic1    32.284027  answer_question    34.179459   1.2312  -6.3096\n",
       "1492   Topic1    16.016876          couldnt    17.058525   1.2253  -7.0105\n",
       "582    Topic1     9.270458          protect    10.083233   1.2043  -7.5573\n",
       "1827   Topic1     9.120960             desk     9.975293   1.1988  -7.5736\n",
       "1364   Topic1     8.283414       keep_close     9.064422   1.1982  -7.6699\n",
       "2029   Topic1     7.717679  softwar_develop     8.556878   1.1851  -7.7406\n",
       "467    Topic1     6.348033             wise     7.138539   1.1709  -7.9360\n",
       "1525   Topic1     6.317826           obviou     7.138985   1.1661  -7.9408\n",
       "...       ...          ...              ...          ...      ...      ...\n",
       "2077   Topic5     7.186662            treat     8.677637   1.7162  -7.1955\n",
       "1825   Topic5     3.587720          starter     4.369410   1.7076  -7.8902\n",
       "517    Topic5    59.837852       keep_crash    73.428795   1.7000  -5.0761\n",
       "125    Topic5    46.506199    work_properli    57.205215   1.6976  -5.3282\n",
       "1456   Topic5    21.784849    search_doctor    27.669693   1.6656  -6.0865\n",
       "209    Topic5    32.349304       wast_space    42.397667   1.6342  -5.6912\n",
       "819    Topic5    49.788754     recent_updat    68.349770   1.5878  -5.2600\n",
       "1379   Topic5    83.850266      doesnt_work   125.600311   1.5006  -4.7387\n",
       "1341   Topic5    82.406044     health_insur   126.232040   1.4782  -4.7561\n",
       "363    Topic5    50.772610  complet_useless    76.391586   1.4962  -5.2404\n",
       "1365   Topic5    32.536087        zero_star    47.763729   1.5208  -5.6854\n",
       "1482   Topic5    45.415791   password_manag    82.397308   1.3090  -5.3519\n",
       "1483   Topic5    69.062645    past_password   148.655365   1.1381  -4.9327\n",
       "1140   Topic5    88.032402           search   206.581879   1.0517  -4.6900\n",
       "508    Topic5    63.894794        work_fine   148.399841   1.0620  -5.0105\n",
       "1236   Topic5    46.745243           doesnt   101.504387   1.1293  -5.3230\n",
       "40     Topic5   274.263580             work  1196.203735   0.4319  -3.5537\n",
       "1425   Topic5    86.719353     error_messag   266.452209   0.7822  -4.7051\n",
       "1724   Topic5    50.157341           anthem   121.063850   1.0235  -5.2526\n",
       "43     Topic5   115.627327           doctor   465.778687   0.5114  -4.4174\n",
       "275    Topic5   101.441620         password   510.888855   0.2880  -4.5483\n",
       "289    Topic5   102.756332       doesn_work   574.333069   0.1838  -4.5354\n",
       "79     Topic5    90.928444            doesn   490.006714   0.2203  -4.6577\n",
       "449    Topic5    80.627373            login   407.407867   0.2847  -4.7779\n",
       "54     Topic5    86.351952              use   509.594879   0.1295  -4.7093\n",
       "67     Topic5    87.654900            updat   583.616394   0.0089  -4.6943\n",
       "257    Topic5    90.379875             time   847.411133  -0.3335  -4.6637\n",
       "96     Topic5    67.056335          useless   264.770111   0.5314  -4.9622\n",
       "189    Topic5    65.515495          support   244.941681   0.5860  -4.9855\n",
       "461    Topic5    65.663048        wast_time   352.958984   0.2229  -4.9832\n",
       "\n",
       "[279 rows x 6 columns], token_table=      Topic      Freq             Term\n",
       "term                                  \n",
       "0         1  0.222227              abl\n",
       "0         2  0.292775              abl\n",
       "0         3  0.148151              abl\n",
       "0         4  0.229282              abl\n",
       "0         5  0.105822              abl\n",
       "177       1  0.393318           access\n",
       "177       2  0.149315           access\n",
       "177       3  0.120180           access\n",
       "177       4  0.211226           access\n",
       "177       5  0.127464           access\n",
       "1972      4  0.963903          android\n",
       "869       1  0.936235  answer_question\n",
       "869       3  0.029257  answer_question\n",
       "1724      1  0.115641           anthem\n",
       "1724      2  0.140422           anthem\n",
       "1724      3  0.140422           anthem\n",
       "1724      4  0.189982           anthem\n",
       "1724      5  0.413005           anthem\n",
       "1837      4  0.816106           apolog\n",
       "1712      2  0.103110           appeal\n",
       "1712      4  0.824877           appeal\n",
       "77        1  0.069727             appl\n",
       "77        2  0.669376             appl\n",
       "77        3  0.027891             appl\n",
       "77        4  0.083672             appl\n",
       "77        5  0.153399             appl\n",
       "78        1  0.087807      appl_health\n",
       "78        2  0.737576      appl_health\n",
       "78        4  0.052684      appl_health\n",
       "78        5  0.105368      appl_health\n",
       "...     ...       ...              ...\n",
       "1676      1  0.707156       went_wrong\n",
       "1676      2  0.125717       went_wrong\n",
       "1676      3  0.015715       went_wrong\n",
       "1676      4  0.141431       went_wrong\n",
       "1676      5  0.031429       went_wrong\n",
       "891       1  0.264987     white_screen\n",
       "891       2  0.010599     white_screen\n",
       "891       3  0.031798     white_screen\n",
       "891       4  0.688966     white_screen\n",
       "467       1  0.840508             wise\n",
       "1132      5  0.860003             woke\n",
       "40        1  0.235746             work\n",
       "40        2  0.244106             work\n",
       "40        3  0.183915             work\n",
       "40        4  0.107005             work\n",
       "40        5  0.229058             work\n",
       "508       1  0.121294        work_fine\n",
       "508       2  0.242588        work_fine\n",
       "508       3  0.202157        work_fine\n",
       "508       4  0.006739        work_fine\n",
       "508       5  0.431267        work_fine\n",
       "125       1  0.052443    work_properli\n",
       "125       2  0.034962    work_properli\n",
       "125       3  0.034962    work_properli\n",
       "125       4  0.052443    work_properli\n",
       "125       5  0.821603    work_properli\n",
       "1704      4  0.777329        worthwhil\n",
       "1365      2  0.251237        zero_star\n",
       "1365      3  0.062809        zero_star\n",
       "1365      5  0.690901        zero_star\n",
       "\n",
       "[671 rows x 3 columns], R=20, lambda_step=0.01, plot_opts={'xlab': 'PC1', 'ylab': 'PC2'}, topic_order=[5, 2, 4, 1, 3])"
      ]
     },
     "execution_count": 321,
     "metadata": {},
     "output_type": "execute_result"
    }
   ],
   "source": [
    "#Visualize negative topics\n",
    "pyLDAvis.gensim.prepare(neg_lda, neg_doc_term_mx, neg_dictionary, R = 20)"
   ]
  },
  {
   "cell_type": "markdown",
   "metadata": {},
   "source": [
    "- Topic 1 in pyLDA vis corresponds to Topic 4 in lda print results \n",
    "- Topic 2 in pyLDA vis corresponds to Topic 1 in lda print results \n",
    "- Topic 3 in pyLDA vis corresponds to Topic 3 in lda print results \n",
    "- Topic 4 in pyLDA vis corresponds to Topic 0 in lda print results \n",
    "- Topic 5 in pyLDA vis corresponds to Topic 2 in lda print results \n",
    "\n",
    "The left panel of the chart presents a global view of topics: how they are related to each other (far apart or inmtersect) and how preevalent they are (the larger the circle the more prevalent is the topic). \n",
    "\n",
    "THe right panel shows  the individual terms that are the most useful for interpreting the currently selected topic on the left.  A pair of overlaid bars represent both the corpus-wide frequency ofa given term as well as the topic-specific frequency of the term.\n",
    "\n",
    "Parameter lambda regulates the _relevance_ of the term, which is used to rank terms within topics. It is regulated by parameter _lambda_.\n",
    "- If _lambda_ = 1, we'll see familiar ranking of terms in decreasing order of their topic-specific probability\n",
    "- If _lambda_ = 0, we'll rank words soleley by their _lift_, defined as the ratio of a term’s probability within a topic to its marginal probability across the corpus. In other words, it helps determine the words exclusivity to a particular topic. "
   ]
  },
  {
   "cell_type": "code",
   "execution_count": 324,
   "metadata": {},
   "outputs": [
    {
     "data": {
      "text/plain": [
       "[(0,\n",
       "  '0.030*\"great\" + 0.018*\"use\" + 0.018*\"doctor\" + 0.018*\"need\" + 0.017*\"test_result\" + 0.016*\"like\" + 0.014*\"love\" + 0.013*\"medic\" + 0.013*\"inform\" + 0.013*\"info\"'),\n",
       " (1,\n",
       "  '0.020*\"user_friendli\" + 0.014*\"doctor\" + 0.013*\"great\" + 0.011*\"like\" + 0.011*\"inform\" + 0.011*\"love\" + 0.011*\"track\" + 0.011*\"abl\" + 0.010*\"record\" + 0.010*\"use\"'),\n",
       " (2,\n",
       "  '0.034*\"love\" + 0.027*\"good\" + 0.017*\"work\" + 0.017*\"need\" + 0.015*\"nice\" + 0.013*\"inform\" + 0.013*\"like\" + 0.013*\"great\" + 0.013*\"easi\" + 0.012*\"conveni\"'),\n",
       " (3,\n",
       "  '0.030*\"test_result\" + 0.018*\"great\" + 0.018*\"appoint\" + 0.018*\"doctor\" + 0.016*\"use\" + 0.015*\"medic\" + 0.015*\"result\" + 0.014*\"make\" + 0.014*\"help\" + 0.013*\"time\"'),\n",
       " (4,\n",
       "  '0.051*\"easi\" + 0.027*\"medic\" + 0.022*\"medic_record\" + 0.019*\"easi_navig\" + 0.016*\"great\" + 0.014*\"doctor\" + 0.013*\"medic_histori\" + 0.013*\"love\" + 0.011*\"appoint\" + 0.011*\"time\"')]"
      ]
     },
     "execution_count": 324,
     "metadata": {},
     "output_type": "execute_result"
    }
   ],
   "source": [
    "# Topics based on positive reviews\n",
    "pos_lda.print_topics()"
   ]
  },
  {
   "cell_type": "markdown",
   "metadata": {},
   "source": [
    "__Suggested topics based on positive reviews__\n",
    "- Topic 0: great, test results ==> FEATURE: access to  TEST RESULTS\n",
    "- Topic 1: user friendly, great ==> good UX DESIGN\n",
    "FEATURE: access to MEDICAL RECORDS\n",
    "- Topic 2: Love, easy to use ==> \n",
    "- Topic 3: test results, doctor appointments ==> DOCTOR APPOINTMENTS \n",
    "- Topic 4: easy to navigate, medical records ==> access to MEDICAL RECORDS\n"
   ]
  },
  {
   "cell_type": "code",
   "execution_count": 323,
   "metadata": {},
   "outputs": [
    {
     "data": {
      "text/html": [
       "\n",
       "<link rel=\"stylesheet\" type=\"text/css\" href=\"https://cdn.rawgit.com/bmabey/pyLDAvis/files/ldavis.v1.0.0.css\">\n",
       "\n",
       "\n",
       "<div id=\"ldavis_el115311121362361525366328193\"></div>\n",
       "<script type=\"text/javascript\">\n",
       "\n",
       "var ldavis_el115311121362361525366328193_data = {\"mdsDat\": {\"x\": [-8.661302622534269e-05, -0.05998132798926098, -0.06145955276653508, 0.08397777100871133, 0.03754972277331006], \"y\": [-0.035587108368187174, 0.05077014469692857, -0.006336237751657085, 0.06429197442040768, -0.07313877299749202], \"topics\": [1, 2, 3, 4, 5], \"cluster\": [1, 1, 1, 1, 1], \"Freq\": [24.81477928161621, 22.068803787231445, 20.09755516052246, 16.769739151000977, 16.24913215637207]}, \"tinfo\": {\"Category\": [\"Default\", \"Default\", \"Default\", \"Default\", \"Default\", \"Default\", \"Default\", \"Default\", \"Default\", \"Default\", \"Default\", \"Default\", \"Default\", \"Default\", \"Default\", \"Default\", \"Default\", \"Default\", \"Default\", \"Default\", \"Topic1\", \"Topic1\", \"Topic1\", \"Topic1\", \"Topic1\", \"Topic1\", \"Topic1\", \"Topic1\", \"Topic1\", \"Topic1\", \"Topic1\", \"Topic1\", \"Topic1\", \"Topic1\", \"Topic1\", \"Topic1\", \"Topic1\", \"Topic1\", \"Topic1\", \"Topic1\", \"Topic1\", \"Topic1\", \"Topic1\", \"Topic1\", \"Topic1\", \"Topic1\", \"Topic1\", \"Topic1\", \"Topic1\", \"Topic1\", \"Topic1\", \"Topic1\", \"Topic1\", \"Topic1\", \"Topic1\", \"Topic1\", \"Topic1\", \"Topic1\", \"Topic1\", \"Topic1\", \"Topic1\", \"Topic1\", \"Topic1\", \"Topic1\", \"Topic1\", \"Topic1\", \"Topic1\", \"Topic1\", \"Topic1\", \"Topic1\", \"Topic1\", \"Topic1\", \"Topic1\", \"Topic1\", \"Topic1\", \"Topic1\", \"Topic2\", \"Topic2\", \"Topic2\", \"Topic2\", \"Topic2\", \"Topic2\", \"Topic2\", \"Topic2\", \"Topic2\", \"Topic2\", \"Topic2\", \"Topic2\", \"Topic2\", \"Topic2\", \"Topic2\", \"Topic2\", \"Topic2\", \"Topic2\", \"Topic2\", \"Topic2\", \"Topic2\", \"Topic2\", \"Topic2\", \"Topic2\", \"Topic2\", \"Topic2\", \"Topic2\", \"Topic2\", \"Topic2\", \"Topic2\", \"Topic2\", \"Topic2\", \"Topic2\", \"Topic2\", \"Topic2\", \"Topic2\", \"Topic2\", \"Topic2\", \"Topic2\", \"Topic2\", \"Topic2\", \"Topic2\", \"Topic2\", \"Topic2\", \"Topic2\", \"Topic2\", \"Topic2\", \"Topic2\", \"Topic3\", \"Topic3\", \"Topic3\", \"Topic3\", \"Topic3\", \"Topic3\", \"Topic3\", \"Topic3\", \"Topic3\", \"Topic3\", \"Topic3\", \"Topic3\", \"Topic3\", \"Topic3\", \"Topic3\", \"Topic3\", \"Topic3\", \"Topic3\", \"Topic3\", \"Topic3\", \"Topic3\", \"Topic3\", \"Topic3\", \"Topic3\", \"Topic3\", \"Topic3\", \"Topic3\", \"Topic3\", \"Topic3\", \"Topic3\", \"Topic3\", \"Topic3\", \"Topic3\", \"Topic3\", \"Topic3\", \"Topic3\", \"Topic3\", \"Topic3\", \"Topic3\", \"Topic3\", \"Topic3\", \"Topic3\", \"Topic3\", \"Topic3\", \"Topic3\", \"Topic3\", \"Topic3\", \"Topic3\", \"Topic3\", \"Topic3\", \"Topic3\", \"Topic3\", \"Topic3\", \"Topic4\", \"Topic4\", \"Topic4\", \"Topic4\", \"Topic4\", \"Topic4\", \"Topic4\", \"Topic4\", \"Topic4\", \"Topic4\", \"Topic4\", \"Topic4\", \"Topic4\", \"Topic4\", \"Topic4\", \"Topic4\", \"Topic4\", \"Topic4\", \"Topic4\", \"Topic4\", \"Topic4\", \"Topic4\", \"Topic4\", \"Topic4\", \"Topic4\", \"Topic4\", \"Topic4\", \"Topic4\", \"Topic4\", \"Topic4\", \"Topic4\", \"Topic4\", \"Topic4\", \"Topic4\", \"Topic4\", \"Topic4\", \"Topic4\", \"Topic4\", \"Topic4\", \"Topic4\", \"Topic4\", \"Topic4\", \"Topic4\", \"Topic4\", \"Topic4\", \"Topic4\", \"Topic4\", \"Topic4\", \"Topic4\", \"Topic4\", \"Topic4\", \"Topic5\", \"Topic5\", \"Topic5\", \"Topic5\", \"Topic5\", \"Topic5\", \"Topic5\", \"Topic5\", \"Topic5\", \"Topic5\", \"Topic5\", \"Topic5\", \"Topic5\", \"Topic5\", \"Topic5\", \"Topic5\", \"Topic5\", \"Topic5\", \"Topic5\", \"Topic5\", \"Topic5\", \"Topic5\", \"Topic5\", \"Topic5\", \"Topic5\", \"Topic5\", \"Topic5\", \"Topic5\", \"Topic5\", \"Topic5\", \"Topic5\", \"Topic5\", \"Topic5\", \"Topic5\", \"Topic5\", \"Topic5\", \"Topic5\", \"Topic5\", \"Topic5\", \"Topic5\", \"Topic5\", \"Topic5\", \"Topic5\", \"Topic5\", \"Topic5\", \"Topic5\", \"Topic5\", \"Topic5\", \"Topic5\"], \"Freq\": [503.0, 330.0, 135.0, 211.0, 249.0, 278.0, 108.0, 376.0, 88.0, 464.0, 67.0, 428.0, 150.0, 85.0, 74.0, 161.0, 237.0, 175.0, 562.0, 67.0, 27.11459732055664, 16.727005004882812, 17.757335662841797, 16.944311141967773, 6.313101291656494, 5.91218376159668, 5.911129951477051, 5.903205871582031, 5.877542495727539, 5.86851167678833, 5.830883026123047, 5.8375654220581055, 11.617166519165039, 12.020284652709961, 6.1494526863098145, 5.6455397605896, 5.947248935699463, 5.621624946594238, 5.582331657409668, 5.579977512359619, 60.78598403930664, 5.946120738983154, 18.155088424682617, 17.17038917541504, 17.48155403137207, 45.81217956542969, 60.22077560424805, 42.170135498046875, 16.314350128173828, 29.04180145263672, 40.41044998168945, 91.12141418457031, 27.527219772338867, 19.73089027404785, 28.690670013427734, 243.44247436523438, 141.29087829589844, 103.23675537109375, 49.88252639770508, 143.858642578125, 150.76522827148438, 98.70280456542969, 144.12045288085938, 70.58740997314453, 128.76365661621094, 91.2663345336914, 48.44724655151367, 93.33895874023438, 105.85853576660156, 106.83738708496094, 114.15328216552734, 78.59896850585938, 65.956787109375, 57.06608963012695, 62.8522834777832, 67.65548706054688, 21.30912208557129, 13.37130069732666, 15.167003631591797, 19.772613525390625, 13.107498168945312, 15.081701278686523, 14.10615348815918, 7.1819539070129395, 7.179345607757568, 7.1755595207214355, 7.171031951904297, 7.159375190734863, 7.09116268157959, 7.951718807220459, 7.03042459487915, 7.030379295349121, 7.021289348602295, 6.946667671203613, 6.942252159118652, 10.86778450012207, 14.699767112731934, 18.306615829467773, 106.8095932006836, 65.82650756835938, 199.71005249023438, 88.60309600830078, 246.81069946289062, 37.30119323730469, 44.45055389404297, 86.33951568603516, 13.006773948669434, 121.8930435180664, 40.87422561645508, 120.61669921875, 50.61570358276367, 98.45928192138672, 32.131717681884766, 45.59450149536133, 94.38009643554688, 49.89390182495117, 74.53559112548828, 91.33634948730469, 51.093292236328125, 92.31538391113281, 74.45064544677734, 53.64579391479492, 53.58832931518555, 54.14512634277344, 12.680808067321777, 17.63745880126953, 6.989834785461426, 6.980831146240234, 6.5489068031311035, 6.548778057098389, 6.548739433288574, 7.718073844909668, 6.527329921722412, 11.92333698272705, 12.14716625213623, 7.627884387969971, 13.639445304870605, 6.417637348175049, 6.745943546295166, 6.734909534454346, 6.315432071685791, 6.287655353546143, 6.594938278198242, 12.381629943847656, 42.579132080078125, 13.849020957946777, 22.421449661254883, 11.917954444885254, 132.43905639648438, 46.3782844543457, 13.025564193725586, 27.614225387573242, 36.767276763916016, 44.23823928833008, 52.772544860839844, 24.79242515563965, 20.781818389892578, 33.38773727416992, 55.351924896240234, 45.71017074584961, 27.913867950439453, 33.20431900024414, 31.43606948852539, 70.84603881835938, 69.98283386230469, 94.75617980957031, 45.77159881591797, 75.0723876953125, 72.33413696289062, 64.00643920898438, 86.480224609375, 59.734615325927734, 53.70405197143555, 71.91173553466797, 63.86074447631836, 56.69679260253906, 49.437007904052734, 10.250214576721191, 10.128059387207031, 10.215418815612793, 7.618192195892334, 6.24033260345459, 5.469752788543701, 5.464280128479004, 5.798908710479736, 5.46056604385376, 5.416107654571533, 5.414931774139404, 5.388345718383789, 5.370218276977539, 5.321300506591797, 5.628941059112549, 5.240221977233887, 6.459472179412842, 10.105401039123535, 5.516722679138184, 9.115754127502441, 104.14940643310547, 50.63875961303711, 74.7643814086914, 284.4820861816406, 47.28257751464844, 46.308353424072266, 37.184017181396484, 14.934536933898926, 122.25614166259766, 31.913618087768555, 151.02957153320312, 18.974641799926758, 34.157440185546875, 16.3652400970459, 27.542083740234375, 37.788673400878906, 29.264856338500977, 30.24203872680664, 63.5369987487793, 21.03289222717285, 77.35334777832031, 63.100494384765625, 90.00666046142578, 57.83720397949219, 59.23359680175781, 61.92355728149414, 72.15154266357422, 58.17314147949219, 45.76554870605469, 41.470909118652344, 40.27628707885742, 16.81914710998535, 5.716965198516846, 5.710025787353516, 5.702268123626709, 6.044724464416504, 5.661344528198242, 5.611308574676514, 5.609806060791016, 5.497671604156494, 5.467289447784424, 5.447240352630615, 9.88622760772705, 7.038496017456055, 5.298139572143555, 5.250251293182373, 5.792421340942383, 35.64952087402344, 6.476883411407471, 5.4289093017578125, 10.440621376037598, 35.91189956665039, 60.11874008178711, 13.324774742126465, 51.789405822753906, 158.84104919433594, 21.92935562133789, 13.070212364196777, 12.189661979675293, 42.58210372924805, 18.05144691467285, 64.58348846435547, 96.14024353027344, 35.840240478515625, 78.33639526367188, 30.97645378112793, 75.263916015625, 74.3280258178711, 95.45445251464844, 86.5942611694336, 32.098358154296875, 69.56246185302734, 60.53146743774414, 97.56089782714844, 82.38150787353516, 40.01424026489258, 58.3701171875, 44.39061737060547, 57.228885650634766, 49.77345657348633], \"Term\": [\"easi\", \"test_result\", \"easi_navig\", \"user_friendli\", \"medic_record\", \"appoint\", \"medic_histori\", \"good\", \"email_doctor\", \"medic\", \"save_time\", \"doctor\", \"conveni\", \"keep_track\", \"finger_tip\", \"test\", \"result\", \"nice\", \"love\", \"refil_prescript\", \"drill\", \"scroll\", \"alot\", \"sleep\", \"assess\", \"wear\", \"puls\", \"arrow\", \"discuss\", \"chanc\", \"maker\", \"unus\", \"radiolog\", \"worri\", \"laboratori\", \"nearli\", \"giver\", \"mainten\", \"town\", \"congratul\", \"realli_like\", \"migrat\", \"health_care\", \"concern\", \"doctor_visit\", \"note\", \"awesom\", \"includ\", \"treatment\", \"current\", \"list\", \"realli\", \"super_easi\", \"took\", \"ad\", \"great\", \"test_result\", \"info\", \"highli_recommend\", \"need\", \"use\", \"health\", \"doctor\", \"look\", \"like\", \"result\", \"visit\", \"appoint\", \"inform\", \"medic\", \"love\", \"good\", \"help\", \"thank\", \"abl\", \"easi\", \"trust\", \"sensit\", \"check_statu\", \"extra\", \"height\", \"stat\", \"heart_rate\", \"prove\", \"anim\", \"altogeth\", \"lucki\", \"germ\", \"tediou\", \"forth\", \"tonsil\", \"painless\", \"match\", \"knee\", \"comparison\", \"paper\", \"heart\", \"statu\", \"nice\", \"simpl\", \"good\", \"conveni\", \"love\", \"insur_card\", \"claim\", \"updat\", \"hassl\", \"work\", \"doe\", \"need\", \"have\", \"inform\", \"sure\", \"check\", \"like\", \"access\", \"time\", \"easi\", \"look\", \"great\", \"medic\", \"abl\", \"record\", \"use\", \"window\", \"play\", \"havent\", \"joke\", \"higher\", \"teach\", \"wise\", \"garmin\", \"picki\", \"incorpor\", \"count\", \"content\", \"valu\", \"closer\", \"goal\", \"white\", \"heard\", \"averag\", \"cross\", \"hate\", \"send_messag\", \"code\", \"repli\", \"purpos\", \"user_friendli\", \"doctor_offic\", \"confus\", \"wrong\", \"doesn\", \"friendli\", \"user\", \"program\", \"urgent_care\", \"blood_pressur\", \"messag\", \"chang\", \"devic\", \"send\", \"tri\", \"track\", \"abl\", \"doctor\", \"phone\", \"like\", \"inform\", \"record\", \"great\", \"work\", \"medic_record\", \"love\", \"use\", \"need\", \"medic\", \"dislik\", \"master\", \"alarm\", \"book_appoint\", \"advoc\", \"amazingli\", \"msg\", \"speed\", \"charact\", \"anybodi\", \"ashley\", \"behalf\", \"convert\", \"deeper\", \"what\", \"surgic\", \"beat\", \"method\", \"relationship\", \"stretch\", \"easi_navig\", \"save_time\", \"medic_histori\", \"easi\", \"finger_tip\", \"navig\", \"excel\", \"profession\", \"medic_record\", \"drug\", \"medic\", \"understand\", \"histori\", \"tip\", \"password\", \"offic\", \"refil_prescript\", \"avail\", \"appoint\", \"finger\", \"doctor\", \"time\", \"great\", \"help\", \"record\", \"inform\", \"love\", \"use\", \"like\", \"make\", \"need\", \"huawei\", \"binder\", \"fault\", \"forc\", \"auto\", \"melissa\", \"workout\", \"inaccur\", \"danc\", \"slowli\", \"sluggish\", \"diari\", \"market\", \"skin\", \"weren\", \"mistak\", \"upcom_appoint\", \"scale\", \"edg\", \"doc\", \"schedul_appoint\", \"email_doctor\", \"clinic\", \"commun\", \"test_result\", \"schedul\", \"bodi\", \"upcom\", \"keep_track\", \"diagnosi\", \"test\", \"appoint\", \"refil\", \"result\", \"refil_prescript\", \"make\", \"help\", \"doctor\", \"use\", \"app\", \"time\", \"abl\", \"great\", \"medic\", \"prescript\", \"record\", \"issu\", \"love\", \"like\"], \"Total\": [503.0, 330.0, 135.0, 211.0, 249.0, 278.0, 108.0, 376.0, 88.0, 464.0, 67.0, 428.0, 150.0, 85.0, 74.0, 161.0, 237.0, 175.0, 562.0, 67.0, 28.884370803833008, 18.280654907226562, 19.641395568847656, 19.650896072387695, 7.336458683013916, 6.920512676239014, 6.920562744140625, 6.919875144958496, 6.917937755584717, 6.918735980987549, 6.919471740722656, 6.927403926849365, 13.799519538879395, 14.315581321716309, 7.37645149230957, 6.963865280151367, 7.351670265197754, 6.958148956298828, 6.909688949584961, 6.918437957763672, 76.451171875, 7.374186038970947, 23.422794342041016, 22.40508460998535, 22.97213363647461, 65.42507934570312, 88.27696228027344, 60.4203987121582, 21.87921142578125, 43.10630416870117, 64.36067199707031, 167.62342834472656, 41.61819076538086, 28.22069549560547, 44.57334899902344, 609.8056640625, 330.9375915527344, 225.0332794189453, 90.71709442138672, 378.67724609375, 413.5384826660156, 244.1847381591797, 428.7537841796875, 157.69956970214844, 393.7551574707031, 237.7075958251953, 93.5221176147461, 278.35333251953125, 378.0043640136719, 464.1361083984375, 562.2561645507812, 376.391845703125, 279.881591796875, 159.46722412109375, 254.7254180908203, 503.20391845703125, 22.860763549804688, 14.512784004211426, 16.47281837463379, 21.698867797851562, 14.478691101074219, 16.893524169921875, 15.928513526916504, 8.149070739746094, 8.150117874145508, 8.148283004760742, 8.147470474243164, 8.147235870361328, 8.130471229553223, 9.123717308044434, 8.120798110961914, 8.13694953918457, 8.130550384521484, 8.102025985717773, 8.109867095947266, 12.970508575439453, 17.746315002441406, 23.958253860473633, 175.44586181640625, 104.9206771850586, 376.391845703125, 150.8436279296875, 562.2561645507812, 59.58720016479492, 76.07554626464844, 173.6450653076172, 16.919574737548828, 270.6168212890625, 78.20845031738281, 378.67724609375, 120.90724182128906, 378.0043640136719, 61.831634521484375, 111.27812957763672, 393.7551574707031, 142.06777954101562, 303.3555603027344, 503.20391845703125, 157.69956970214844, 609.8056640625, 464.1361083984375, 254.7254180908203, 295.6280822753906, 413.5384826660156, 14.210485458374023, 19.98957061767578, 7.99046516418457, 7.992151260375977, 7.531363487243652, 7.531352996826172, 7.5313496589660645, 8.899152755737305, 7.529300212860107, 13.78075122833252, 14.156830787658691, 8.916213035583496, 15.947495460510254, 7.509810924530029, 7.9711103439331055, 8.003996849060059, 7.508670806884766, 7.5083088874816895, 7.952341079711914, 15.01307487487793, 55.308589935302734, 17.314966201782227, 29.041767120361328, 14.814003944396973, 211.14068603515625, 68.73652648925781, 16.860931396484375, 41.56734848022461, 59.76123809814453, 75.76278686523438, 97.25833892822266, 39.19614791870117, 31.655420303344727, 57.84673309326172, 122.84735107421875, 94.32918548583984, 49.77873992919922, 65.68316650390625, 61.13792037963867, 237.350341796875, 254.7254180908203, 428.7537841796875, 137.55294799804688, 393.7551574707031, 378.0043640136719, 295.6280822753906, 609.8056640625, 270.6168212890625, 249.66835021972656, 562.2561645507812, 413.5384826660156, 378.67724609375, 464.1361083984375, 11.369976997375488, 11.3756685256958, 11.807964324951172, 8.83154296875, 7.269899845123291, 6.498085975646973, 6.498381614685059, 6.896556377410889, 6.4999775886535645, 6.500964164733887, 6.5027947425842285, 6.5058913230896, 6.511606693267822, 6.504576683044434, 6.934811592102051, 6.543295860290527, 8.099736213684082, 12.674665451049805, 6.928709030151367, 11.490943908691406, 135.78195190429688, 67.88143920898438, 108.86939239501953, 503.20391845703125, 74.83258819580078, 73.24840545654297, 58.71576690673828, 20.98467254638672, 249.66835021972656, 59.413021087646484, 464.1361083984375, 32.46637725830078, 70.7720718383789, 27.845436096191406, 58.52783966064453, 94.67005920410156, 67.86665344238281, 75.22084045410156, 278.35333251953125, 41.802345275878906, 428.7537841796875, 303.3555603027344, 609.8056640625, 279.881591796875, 295.6280822753906, 378.0043640136719, 562.2561645507812, 413.5384826660156, 393.7551574707031, 233.28607177734375, 378.67724609375, 18.128557205200195, 6.733325958251953, 6.733067512512207, 6.736250877380371, 7.1453704833984375, 6.734663486480713, 6.744071006774902, 6.754817962646484, 6.730551242828369, 6.769645690917969, 6.75620174407959, 12.368871688842773, 8.871294021606445, 6.740865707397461, 6.736545562744141, 7.592526912689209, 47.05115509033203, 8.559843063354492, 7.199698448181152, 14.293972969055176, 49.402313232421875, 88.65310668945312, 19.03955841064453, 90.99647521972656, 330.9375915527344, 34.75722885131836, 19.279010772705078, 17.85811424255371, 85.77586364746094, 29.812381744384766, 161.82330322265625, 278.35333251953125, 79.92092895507812, 237.7075958251953, 67.86665344238281, 233.28607177734375, 279.881591796875, 428.7537841796875, 413.5384826660156, 83.0962142944336, 303.3555603027344, 254.7254180908203, 609.8056640625, 464.1361083984375, 124.10002136230469, 295.6280822753906, 167.07769775390625, 562.2561645507812, 393.7551574707031], \"loglift\": [20.0, 19.0, 18.0, 17.0, 16.0, 15.0, 14.0, 13.0, 12.0, 11.0, 10.0, 9.0, 8.0, 7.0, 6.0, 5.0, 4.0, 3.0, 2.0, 1.0, 1.3305000066757202, 1.304900050163269, 1.2928999662399292, 1.2454999685287476, 1.243499994277954, 1.236299991607666, 1.2360999584197998, 1.2347999811172485, 1.2308000326156616, 1.229099988937378, 1.222599983215332, 1.222599983215332, 1.22160005569458, 1.218999981880188, 1.2117999792099, 1.183899998664856, 1.1816999912261963, 1.180400013923645, 1.180400013923645, 1.1786999702453613, 1.1643999814987183, 1.1785000562667847, 1.1390000581741333, 1.1275999546051025, 1.1205999851226807, 1.0374000072479248, 1.011299967765808, 1.03410005569458, 1.1002000570297241, 0.9987999796867371, 0.9283000230789185, 0.7842000126838684, 0.980400025844574, 1.0358999967575073, 0.9531999826431274, 0.4754999876022339, 0.5425999760627747, 0.6144999861717224, 0.7957000136375427, 0.42590001225471497, 0.3847000002861023, 0.4878999888896942, 0.3034999966621399, 0.589900016784668, 0.2759999930858612, 0.43650001287460327, 0.7360000014305115, 0.3010999858379364, 0.120899997651577, -0.07509999722242355, -0.20069999992847443, -0.17249999940395355, -0.051600001752376556, 0.366100013256073, -0.00570000009611249, -0.6128000020980835, 1.4407000541687012, 1.4291000366210938, 1.4284000396728516, 1.4179999828338623, 1.4114999771118164, 1.3976000547409058, 1.3895000219345093, 1.3846999406814575, 1.3841999769210815, 1.3839000463485718, 1.3832999467849731, 1.381700038909912, 1.3741999864578247, 1.3734999895095825, 1.3667999505996704, 1.364799976348877, 1.364300012588501, 1.357200026512146, 1.3555999994277954, 1.3341000080108643, 1.322700023651123, 1.2419999837875366, 1.0147000551223755, 1.044800043106079, 0.8772000074386597, 0.9789000153541565, 0.6876999735832214, 1.0426000356674194, 0.9736999869346619, 0.8123000264167786, 1.2480000257492065, 0.7134000062942505, 0.8621000051498413, 0.3668999969959259, 0.6402000188827515, 0.1657000035047531, 0.8564000129699707, 0.6187999844551086, 0.08259999752044678, 0.46459999680519104, 0.10740000009536743, -0.19539999961853027, 0.3840000033378601, -0.37689998745918274, -0.3190000057220459, -0.046799998730421066, -0.19679999351501465, -0.5220999717712402, 1.4907000064849854, 1.4794000387191772, 1.4708000421524048, 1.4693000316619873, 1.4648000001907349, 1.4648000001907349, 1.4648000001907349, 1.4622000455856323, 1.4617999792099, 1.4598000049591064, 1.4515000581741333, 1.4485000371932983, 1.448199987411499, 1.4473999738693237, 1.4377000331878662, 1.4319000244140625, 1.43149995803833, 1.4271999597549438, 1.4174000024795532, 1.4119000434875488, 1.343000054359436, 1.3811999559402466, 1.345900058746338, 1.3869999647140503, 1.138200044631958, 1.2110999822616577, 1.346500039100647, 1.1956000328063965, 1.1188000440597534, 1.06659996509552, 0.9932000041007996, 1.1464999914169312, 1.1836999654769897, 1.0549999475479126, 0.8072999715805054, 0.8801000118255615, 1.0261000394821167, 0.9223999977111816, 0.9394000172615051, 0.3955000042915344, 0.3125999867916107, 0.0949999988079071, 0.5041999816894531, -0.05270000174641609, -0.04899999871850014, 0.07450000196695328, -0.34869998693466187, 0.09380000084638596, 0.06790000200271606, -0.45190000534057617, -0.26350000500679016, -0.29440000653266907, -0.6348999738693237, 1.6819000244140625, 1.6693999767303467, 1.6406999826431274, 1.6377999782562256, 1.6328999996185303, 1.6132999658584595, 1.6123000383377075, 1.6122000217437744, 1.611299991607666, 1.6030000448226929, 1.6024999618530273, 1.597100019454956, 1.592900037765503, 1.5848000049591064, 1.5770000219345093, 1.5635000467300415, 1.5592999458312988, 1.5591000318527222, 1.5577000379562378, 1.5540000200271606, 1.520400047302246, 1.4924999475479126, 1.4098000526428223, 1.2152999639511108, 1.3265000581741333, 1.3271000385284424, 1.3287999629974365, 1.4455000162124634, 1.0715999603271484, 1.1641000509262085, 0.6628999710083008, 1.2484999895095825, 1.0571000576019287, 1.25409996509552, 1.0318000316619873, 0.8672000169754028, 0.9444000124931335, 0.8744000196456909, 0.3082999885082245, 1.0987000465393066, 0.0731000006198883, 0.21539999544620514, -0.12770000100135803, 0.20890000462532043, 0.17800000309944153, -0.023399999365210533, -0.26759999990463257, -0.17569999396800995, -0.36660000681877136, 0.05829999968409538, -0.4553000032901764, 1.7422000169754028, 1.653499960899353, 1.6523000001907349, 1.6505000591278076, 1.649899959564209, 1.6434999704360962, 1.6332999467849731, 1.6313999891281128, 1.614799976348877, 1.6035000085830688, 1.6017999649047852, 1.5930999517440796, 1.5857000350952148, 1.576300024986267, 1.5678999423980713, 1.5464999675750732, 1.5396000146865845, 1.5383000373840332, 1.5348000526428223, 1.503000020980835, 1.4982000589370728, 1.4286999702453613, 1.4601999521255493, 1.253499984741211, 1.0830999612808228, 1.356600046157837, 1.4284000396728516, 1.4352999925613403, 1.1167999505996704, 1.3154000043869019, 0.8985999822616577, 0.7540000081062317, 1.0152000188827515, 0.707099974155426, 1.0327999591827393, 0.6858999729156494, 0.49129998683929443, 0.3149000108242035, 0.25360000133514404, 0.8658999800682068, 0.34450000524520874, 0.3801000118255615, -0.01549999974668026, 0.08829999715089798, 0.6852999925613403, 0.19480000436306, 0.4916999936103821, -0.46779999136924744, -0.25110000371932983], \"logprob\": [20.0, 19.0, 18.0, 17.0, 16.0, 15.0, 14.0, 13.0, 12.0, 11.0, 10.0, 9.0, 8.0, 7.0, 6.0, 5.0, 4.0, 3.0, 2.0, 1.0, -5.712200164794922, -6.195300102233887, -6.135499954223633, -6.182400226593018, -7.1697001457214355, -7.235300064086914, -7.235499858856201, -7.236800193786621, -7.241099834442139, -7.242700099945068, -7.249100208282471, -7.248000144958496, -6.559800148010254, -6.525700092315674, -7.195899963378906, -7.281400203704834, -7.229400157928467, -7.285699844360352, -7.292699813842773, -7.293099880218506, -4.904900074005127, -7.229499816894531, -6.11329984664917, -6.169099807739258, -6.151100158691406, -5.187699794769287, -4.914299964904785, -5.270599842071533, -6.220200061798096, -5.643599987030029, -5.313199996948242, -4.500100135803223, -5.6971001625061035, -6.030099868774414, -5.655700206756592, -3.517400026321411, -4.061500072479248, -4.37529993057251, -5.10260009765625, -4.043499946594238, -3.9965999126434326, -4.420199871063232, -4.041600227355957, -4.75540018081665, -4.154300212860107, -4.498499870300293, -5.131800174713135, -4.476099967956543, -4.350200176239014, -4.341000080108643, -4.274700164794922, -4.647900104522705, -4.823299884796143, -4.968100070953369, -4.871500015258789, -4.797900199890137, -5.835899829864502, -6.3018999099731445, -6.175899982452393, -5.910699844360352, -6.321800231933594, -6.18149995803833, -6.2484002113342285, -6.923399925231934, -6.923799991607666, -6.924300193786621, -6.925000190734863, -6.926599979400635, -6.936200141906738, -6.821599960327148, -6.944799900054932, -6.944799900054932, -6.946100234985352, -6.9567999839782715, -6.957399845123291, -6.509200096130371, -6.207200050354004, -5.987800121307373, -4.223999977111816, -4.708000183105469, -3.598099946975708, -4.410799980163574, -3.386399984359741, -5.276000022888184, -5.100599765777588, -4.436699867248535, -6.329500198364258, -4.091899871826172, -5.184500217437744, -4.102399826049805, -4.970799922943115, -4.3053998947143555, -5.42519998550415, -5.075200080871582, -4.347700119018555, -4.985099792480469, -4.583700180053711, -4.380499839782715, -4.961400032043457, -4.369800090789795, -4.58489990234375, -4.912600040435791, -4.913700103759766, -4.903299808502197, -6.26140022277832, -5.931399822235107, -6.85699987411499, -6.85830020904541, -6.922100067138672, -6.9222002029418945, -6.9222002029418945, -6.757900238037109, -6.9253997802734375, -6.32289981842041, -6.3043999671936035, -6.769599914550781, -6.188499927520752, -6.942399978637695, -6.892499923706055, -6.894100189208984, -6.958499908447266, -6.962900161743164, -6.91510009765625, -6.285200119018555, -5.050099849700928, -6.1732001304626465, -5.691400051116943, -6.323400020599365, -3.915299892425537, -4.964600086212158, -6.234499931335449, -5.483099937438965, -5.196800231933594, -5.011899948120117, -4.8354997634887695, -5.59089994430542, -5.767399787902832, -5.293300151824951, -4.787700176239014, -4.979100227355957, -5.472300052642822, -5.298799991607666, -5.353499889373779, -4.540900230407715, -4.553199768066406, -4.250100135803223, -4.977799892425537, -4.482999801635742, -4.520199775695801, -4.642499923706055, -4.3414998054504395, -4.71150016784668, -4.817999839782715, -4.526000022888184, -4.644700050354004, -4.763700008392334, -4.900700092315674, -6.293099880218506, -6.305099964141846, -6.296500205993652, -6.589900016784668, -6.789400100708008, -6.921199798583984, -6.9222002029418945, -6.862800121307373, -6.922900199890137, -6.931000232696533, -6.931300163269043, -6.936200141906738, -6.939599990844727, -6.948699951171875, -6.892499923706055, -6.964099884033203, -6.754899978637695, -6.307400226593018, -6.912600040435791, -6.410399913787842, -3.974600076675415, -4.695700168609619, -4.306099891662598, -2.9697999954223633, -4.7642998695373535, -4.785099983215332, -5.004499912261963, -5.9166998863220215, -3.814300060272217, -5.157400131225586, -3.6029000282287598, -5.677299976348877, -5.089399814605713, -5.825300216674805, -5.304699897766113, -4.988399982452393, -5.24399995803833, -5.21120023727417, -4.468800067901611, -5.5742998123168945, -4.271999835968018, -4.4756999015808105, -4.120500087738037, -4.56279993057251, -4.538899898529053, -4.494500160217285, -4.341700077056885, -4.557000160217285, -4.796899795532227, -4.895400047302246, -4.924699783325195, -5.76639986038208, -6.845399856567383, -6.846700191497803, -6.8480000495910645, -6.789700031280518, -6.855199813842773, -6.864099979400635, -6.8643999099731445, -6.8846001625061035, -6.890100002288818, -6.893799781799316, -6.297699928283691, -6.637499809265137, -6.921500205993652, -6.930600166320801, -6.832300186157227, -5.015200138092041, -6.720600128173828, -6.897200107574463, -6.243199825286865, -5.007800102233887, -4.492599964141846, -5.999300003051758, -4.64169979095459, -3.5209999084472656, -5.501100063323975, -6.018599987030029, -6.0883002281188965, -4.837500095367432, -5.695700168609619, -4.420899868011475, -4.023099899291992, -5.009799957275391, -4.22790002822876, -5.155700206756592, -4.267899990081787, -4.280399799346924, -4.030200004577637, -4.127699851989746, -5.120100021362305, -4.346700191497803, -4.4857001304626465, -4.008399963378906, -4.177499771118164, -4.899700164794922, -4.52209997177124, -4.795899868011475, -4.541800022125244, -4.681399822235107]}, \"token.table\": {\"Topic\": [1, 2, 3, 4, 5, 1, 2, 3, 4, 5, 1, 2, 3, 4, 5, 4, 3, 4, 1, 2, 3, 2, 4, 2, 4, 1, 2, 3, 4, 5, 1, 2, 3, 4, 5, 1, 4, 1, 5, 1, 2, 3, 4, 5, 3, 1, 2, 3, 4, 5, 4, 4, 5, 1, 2, 3, 4, 5, 1, 2, 3, 5, 4, 1, 1, 2, 3, 4, 5, 4, 1, 2, 3, 4, 5, 2, 4, 1, 2, 3, 4, 5, 1, 2, 3, 5, 3, 1, 2, 3, 4, 5, 1, 2, 3, 4, 5, 2, 1, 2, 3, 4, 5, 1, 2, 3, 4, 1, 3, 1, 2, 3, 4, 5, 4, 1, 3, 5, 1, 3, 1, 2, 3, 4, 5, 5, 4, 1, 2, 3, 4, 5, 1, 2, 4, 5, 2, 3, 4, 5, 1, 4, 1, 3, 4, 5, 1, 2, 3, 4, 5, 1, 2, 3, 4, 5, 1, 2, 3, 4, 5, 1, 2, 3, 4, 5, 1, 2, 3, 4, 5, 1, 2, 1, 2, 3, 4, 5, 1, 2, 3, 4, 5, 2, 3, 4, 1, 3, 5, 1, 2, 3, 4, 5, 1, 2, 3, 4, 5, 1, 2, 4, 5, 1, 2, 3, 4, 5, 1, 2, 3, 4, 5, 5, 2, 1, 2, 3, 4, 5, 3, 2, 1, 3, 1, 2, 3, 4, 5, 1, 2, 3, 4, 5, 1, 2, 5, 1, 2, 3, 4, 5, 1, 2, 3, 4, 5, 3, 1, 2, 3, 4, 5, 1, 2, 3, 4, 5, 3, 1, 2, 3, 1, 2, 3, 2, 1, 2, 3, 4, 5, 3, 1, 2, 3, 4, 5, 1, 2, 3, 4, 5, 5, 5, 1, 2, 3, 4, 5, 2, 3, 1, 2, 3, 4, 5, 1, 2, 3, 4, 5, 1, 2, 3, 5, 1, 2, 3, 4, 5, 3, 1, 2, 3, 4, 5, 2, 1, 2, 1, 2, 3, 4, 5, 1, 2, 3, 4, 5, 1, 2, 3, 4, 5, 1, 2, 3, 4, 5, 2, 1, 1, 2, 3, 4, 5, 1, 2, 3, 5, 4, 2, 1, 2, 3, 4, 5, 1, 2, 3, 4, 5, 1, 2, 3, 4, 5, 5, 1, 2, 3, 4, 5, 1, 2, 4, 5, 1, 3, 1, 5, 4, 1, 2, 3, 4, 5, 1, 1, 2, 3, 4, 5, 1, 2, 3, 4, 5, 1, 2, 3, 4, 5, 1, 2, 3, 4, 5, 2, 1, 2, 5, 1, 2, 3, 4, 5, 1, 2, 3, 4, 5, 3, 1, 2, 3, 1, 2, 3, 4, 5, 1, 3, 4, 1, 2, 3, 4, 5, 2, 1, 1, 2, 3, 1, 4, 1, 2, 3, 4, 5, 1, 2, 3, 4, 5, 1, 2, 3, 4, 5, 1, 2, 3, 4, 5, 1, 2, 3, 4, 5, 4, 1, 2, 3, 5, 1, 2, 3, 4, 5, 2, 3, 4, 5, 2, 5, 1, 2, 3, 4, 5, 1, 2, 3, 4, 5, 1, 3, 1, 2, 3, 4, 5, 1, 2, 3, 4, 5, 2, 1, 2, 3, 4, 5, 5, 1, 2, 3, 5, 3, 5, 5, 4, 1, 2, 1, 2, 3, 4, 5, 1, 2, 4, 5, 1, 2, 3, 4, 5, 1, 2, 3, 4, 5, 4, 3, 2, 1, 2, 3, 4, 5, 1, 2, 3, 4, 5, 1, 2, 3, 4, 5, 1, 2, 3, 4, 5, 1, 2, 3, 4, 5, 2, 1, 2, 3, 4, 5, 1, 1, 2, 3, 4, 5, 1, 2, 3, 4, 5, 1, 2, 3, 4, 5, 1, 2, 1, 2, 3, 4, 5, 1, 1, 2, 3, 4, 5, 1, 2, 3, 4, 5, 1, 2, 3, 4, 5, 1, 2, 3, 4, 5, 1, 2, 3, 4, 5, 1, 2, 3, 4, 5, 1, 2, 3, 4, 1, 3, 4, 1, 2, 3, 4, 5, 1, 4, 5, 4, 2, 3, 3, 5, 3, 1, 2, 3, 4, 5, 5, 1, 3, 5, 1, 2, 3, 4, 5], \"Freq\": [0.247325137257576, 0.21199297904968262, 0.2748057246208191, 0.03140636533498764, 0.23947355151176453, 0.13373897969722748, 0.3519446849822998, 0.1970890313386917, 0.1689334511756897, 0.1548556685447693, 0.650613009929657, 0.15704451501369476, 0.15704451501369476, 0.022434931248426437, 0.022434931248426437, 0.825320839881897, 0.08468860387802124, 0.8468860387802124, 0.9164318442344666, 0.05091287940740585, 0.05091287940740585, 0.8590766787528992, 0.7694573402404785, 0.858883261680603, 0.7691166996955872, 0.2045821249485016, 0.13237667083740234, 0.22865061461925507, 0.04813697189092636, 0.3850957751274109, 0.33410772681236267, 0.05388834327459335, 0.039518117904663086, 0.22992360591888428, 0.3448854088783264, 0.8670676946640015, 0.7689001560211182, 0.8178332448005676, 0.8397045135498047, 0.2525895833969116, 0.039882563054561615, 0.22600120306015015, 0.39882564544677734, 0.07976512610912323, 0.7991147041320801, 0.6796790361404419, 0.12460782378911972, 0.12460782378911972, 0.011327983811497688, 0.05663992092013359, 0.740764856338501, 0.7685341835021973, 0.8910900950431824, 0.017287060618400574, 0.29388004541397095, 0.5704730153083801, 0.017287060618400574, 0.10372236371040344, 0.05186988040804863, 0.1556096374988556, 0.10373976081609726, 0.6743084788322449, 0.90584397315979, 0.8672104477882385, 0.22262462973594666, 0.12721407413482666, 0.4876539409160614, 0.10601172596216202, 0.06360703706741333, 0.7692334055900574, 0.20668931305408478, 0.41337862610816956, 0.16175685822963715, 0.0629054456949234, 0.15277035534381866, 0.9105910062789917, 0.06070606783032417, 0.15773794054985046, 0.5783724784851074, 0.06572414189577103, 0.11830345541238785, 0.07886897027492523, 0.05252222716808319, 0.05252222716808319, 0.15756668150424957, 0.6827889680862427, 0.7989548444747925, 0.05775350704789162, 0.05775350704789162, 0.8085491061210632, 0.05775350704789162, 0.05775350704789162, 0.08791549503803253, 0.07692606002092361, 0.1318732351064682, 0.1318732351064682, 0.5714507102966309, 0.8631460666656494, 0.7587563395500183, 0.08926545083522797, 0.04463272541761398, 0.04463272541761398, 0.04463272541761398, 0.05930870398879051, 0.05930870398879051, 0.7710131406784058, 0.05930870398879051, 0.8672477602958679, 0.8972418904304504, 0.09944072365760803, 0.5900149941444397, 0.03977629169821739, 0.23865774273872375, 0.03314691036939621, 0.7678596377372742, 0.0706372782588005, 0.8476473689079285, 0.0706372782588005, 0.1257491260766983, 0.8802439570426941, 0.6727554202079773, 0.09279385209083557, 0.046396926045417786, 0.06959538906812668, 0.11599231511354446, 0.742881178855896, 0.7686895132064819, 0.1004444882273674, 0.08035559207201004, 0.5624891519546509, 0.06026669219136238, 0.2008889764547348, 0.10062932968139648, 0.20125865936279297, 0.06708621978759766, 0.6037759780883789, 0.08084812015295029, 0.08084812015295029, 0.08084812015295029, 0.8084811568260193, 0.8673104643821716, 0.8795092701911926, 0.06995955854654312, 0.06995955854654312, 0.13991911709308624, 0.69959557056427, 0.335857093334198, 0.03964979574084282, 0.2215723842382431, 0.17959025502204895, 0.2215723842382431, 0.16003136336803436, 0.029096610844135284, 0.6692220568656921, 0.1018381416797638, 0.04364491626620293, 0.7400270104408264, 0.04353100061416626, 0.04353100061416626, 0.04353100061416626, 0.08706200122833252, 0.06393171101808548, 0.5242400169372559, 0.19179512560367584, 0.051145367324352264, 0.1662224531173706, 0.08366627246141434, 0.15059928596019745, 0.6191304326057434, 0.11713278293609619, 0.016733255237340927, 0.9347615838050842, 0.034620799124240875, 0.15148194134235382, 0.016831327229738235, 0.20197592675685883, 0.5386024713516235, 0.08415663987398148, 0.13513408601284027, 0.18084119260311127, 0.061605244874954224, 0.5643835067749023, 0.05763071030378342, 0.21357771754264832, 0.014729497954249382, 0.7659338712692261, 0.1388947069644928, 0.1388947069644928, 0.6944735050201416, 0.1353590488433838, 0.011279920116066933, 0.05639960244297981, 0.12407912313938141, 0.676795244216919, 0.1362496018409729, 0.05109360069036484, 0.17031200230121613, 0.6301544308662415, 0.017031200230121613, 0.04608535394072533, 0.9217070937156677, 0.04608535394072533, 0.8911243081092834, 0.09568841010332108, 0.07176630944013596, 0.07176630944013596, 0.5023641586303711, 0.2870652377605438, 0.0668158084154129, 0.08017896860837936, 0.01336316205561161, 0.6280686259269714, 0.21381059288978577, 0.8907031416893005, 0.8768355846405029, 0.21118547022342682, 0.1319909244775772, 0.5807600617408752, 0.052796367555856705, 0.013199091888964176, 0.8989619612693787, 0.859187126159668, 0.8161410689353943, 0.8781712651252747, 0.20988765358924866, 0.5313611626625061, 0.11424264311790466, 0.09033139050006866, 0.058449726551771164, 0.3984875977039337, 0.15086773037910461, 0.1410285383462906, 0.14758799970149994, 0.16070693731307983, 0.11820627748966217, 0.7683408260345459, 0.059103138744831085, 0.06660860776901245, 0.06660860776901245, 0.7993032932281494, 0.06660860776901245, 0.06660860776901245, 0.1075204387307167, 0.42181095480918884, 0.08270803093910217, 0.2646656930446625, 0.12406204640865326, 0.8760440945625305, 0.40543073415756226, 0.20066773891448975, 0.18019144237041473, 0.10647676140069962, 0.11057201772928238, 0.7684821486473083, 0.04269345477223396, 0.08538690954446793, 0.08538690954446793, 0.04269345477223396, 0.7990761995315552, 0.056349728256464005, 0.845245897769928, 0.056349728256464005, 0.06278049945831299, 0.8789269328117371, 0.06278049945831299, 0.897871196269989, 0.23581400513648987, 0.1572093367576599, 0.135771706700325, 0.20723049342632294, 0.264397531747818, 0.9294465780258179, 0.5511640310287476, 0.08818624913692474, 0.12125609070062637, 0.20944233238697052, 0.03306984156370163, 0.09890907257795334, 0.05651947110891342, 0.09890907257795334, 0.4804154932498932, 0.2684674859046936, 0.9377470016479492, 0.8882548809051514, 0.6951294541358948, 0.0496521070599556, 0.1324056088924408, 0.0827535092830658, 0.0496521070599556, 0.0725649818778038, 0.870779812335968, 0.4577100872993469, 0.1333136111497879, 0.1466449797153473, 0.1333136111497879, 0.12442603707313538, 0.2804200351238251, 0.2592562735080719, 0.1904739886522293, 0.16401927173137665, 0.10317341238260269, 0.25173190236091614, 0.6209387183189392, 0.05034638196229935, 0.0671285092830658, 0.31123244762420654, 0.2334243357181549, 0.1256900280714035, 0.06583762913942337, 0.2633505165576935, 0.8758593201637268, 0.023316582664847374, 0.011658291332423687, 0.3963819146156311, 0.06994974613189697, 0.5013065338134766, 0.8639814257621765, 0.8133992552757263, 0.13556653261184692, 0.32761475443840027, 0.23872703313827515, 0.19047369062900543, 0.11682386696338654, 0.12698246538639069, 0.6214975714683533, 0.07768719643354416, 0.07768719643354416, 0.17091183364391327, 0.04661231487989426, 0.4502231776714325, 0.32339975237846375, 0.07609405368566513, 0.0824352279305458, 0.06975288689136505, 0.20275455713272095, 0.4393015503883362, 0.12805551290512085, 0.12805551290512085, 0.10137727856636047, 0.8591623902320862, 0.862298309803009, 0.2100425511598587, 0.15860354900360107, 0.12859748303890228, 0.17574988305568695, 0.3214936852455139, 0.867118239402771, 0.11272312700748444, 0.11272312700748444, 0.7890619039535522, 0.8790692090988159, 0.8609503507614136, 0.2305358201265335, 0.15943598747253418, 0.10557247698307037, 0.3253355920314789, 0.1766723096370697, 0.05511190742254257, 0.07348254323005676, 0.08266786485910416, 0.6888988614082336, 0.11022381484508514, 0.028037194162607193, 0.11615408957004547, 0.21628692746162415, 0.4886482357978821, 0.15220190584659576, 0.8909131288528442, 0.10582238435745239, 0.05698128417134285, 0.4477100968360901, 0.07326165586709976, 0.3174671530723572, 0.07889754325151443, 0.07889754325151443, 0.7889754772186279, 0.07889754325151443, 0.8136491179466248, 0.13560818135738373, 0.13170845806598663, 0.7902507185935974, 0.7694223523139954, 0.054608698934316635, 0.19113044440746307, 0.0819130465388298, 0.628000020980835, 0.027304349467158318, 0.8615905046463013, 0.3802710771560669, 0.3195333182811737, 0.15052396059036255, 0.10563085228204727, 0.044893112033605576, 0.1082955151796341, 0.6098747253417969, 0.1424940973520279, 0.0626974031329155, 0.0797966942191124, 0.7030943036079407, 0.06113863363862038, 0.09170795232057571, 0.09170795232057571, 0.04585397616028786, 0.1690080314874649, 0.031689006835222244, 0.2746380567550659, 0.4013940691947937, 0.13731902837753296, 0.8602732419967651, 0.07709798216819763, 0.8480777740478516, 0.07709798216819763, 0.06834354251623154, 0.2050306349992752, 0.23920240998268127, 0.47840481996536255, 0.017085885629057884, 0.3344166874885559, 0.20355798304080963, 0.3344166874885559, 0.05088949576020241, 0.07996920496225357, 0.9297012686729431, 0.05002608522772789, 0.05002608522772789, 0.9004695415496826, 0.1772763580083847, 0.16116032004356384, 0.1289282590150833, 0.20950841903686523, 0.3223206400871277, 0.19061531126499176, 0.09530765563249588, 0.7148074507713318, 0.07653813064098358, 0.051025424152612686, 0.6378178000450134, 0.051025424152612686, 0.17858897149562836, 0.858993649482727, 0.8669815063476562, 0.06750369817018509, 0.13500739634037018, 0.8100443482398987, 0.869595468044281, 0.07246629148721695, 0.5428835153579712, 0.13721232116222382, 0.12528081238269806, 0.17897260189056396, 0.017897259443998337, 0.7978948950767517, 0.05232097581028938, 0.05232097581028938, 0.07848146557807922, 0.013080243952572346, 0.20295771956443787, 0.18266195058822632, 0.21648822724819183, 0.19957508146762848, 0.19619245827198029, 0.13763603568077087, 0.10009893774986267, 0.050049468874931335, 0.2627597153186798, 0.4504452049732208, 0.029469553381204605, 0.07367388159036636, 0.014734776690602303, 0.4273085296154022, 0.45677807927131653, 0.8659622073173523, 0.06886633485555649, 0.034433167427778244, 0.7575296759605408, 0.10329949855804443, 0.38282328844070435, 0.0799301341176033, 0.10096438229084015, 0.10517122596502304, 0.3281342387199402, 0.08838940411806107, 0.014731567353010178, 0.7513099312782288, 0.1325841099023819, 0.11682457476854324, 0.7009474039077759, 0.14385496079921722, 0.05754198506474495, 0.05754198506474495, 0.1150839701294899, 0.6329618692398071, 0.12145180255174637, 0.04048393294215202, 0.060725901275873184, 0.04048393294215202, 0.7287108302116394, 0.9299448132514954, 0.05470263585448265, 0.10657220333814621, 0.06089840456843376, 0.5024118423461914, 0.182695209980011, 0.15224601328372955, 0.09040187299251556, 0.018080374225974083, 0.7774561047554016, 0.07232149690389633, 0.0542411208152771, 0.8957619667053223, 0.047655049711465836, 0.629046618938446, 0.12390312552452087, 0.12390312552452087, 0.07624807953834534, 0.7417445182800293, 0.8651005029678345, 0.050888266414403915, 0.050888266414403915, 0.050888266414403915, 0.14771822094917297, 0.7385910749435425, 0.7400608062744141, 0.8699994087219238, 0.059194281697273254, 0.8879141807556152, 0.041739270091056824, 0.7513068318367004, 0.12521781027317047, 0.041739270091056824, 0.041739270091056824, 0.08702505379915237, 0.08702505379915237, 0.7832254767417908, 0.08702505379915237, 0.6727827191352844, 0.04805590957403183, 0.19222363829612732, 0.04805590957403183, 0.07208386063575745, 0.09703770279884338, 0.5175344347953796, 0.14555655419826508, 0.1293836086988449, 0.11321065574884415, 0.7641409039497375, 0.9294478893280029, 0.8609586954116821, 0.33369728922843933, 0.16066907346248627, 0.07415495812892914, 0.030897898599505424, 0.40167269110679626, 0.4260621964931488, 0.05439091846346855, 0.018130306154489517, 0.02115202508866787, 0.48045313358306885, 0.3574402332305908, 0.15050114691257477, 0.20693907141685486, 0.19439731538295746, 0.09406321495771408, 0.18789832293987274, 0.24723462760448456, 0.12856200337409973, 0.20767709612846375, 0.23075231909751892, 0.10773758590221405, 0.0718250572681427, 0.03591252863407135, 0.5746004581451416, 0.2154751718044281, 0.8619842529296875, 0.7086997628211975, 0.07086997479200363, 0.10630496591329575, 0.07086997479200363, 0.035434987396001816, 0.8683459162712097, 0.24857768416404724, 0.14324815571308136, 0.29913586378097534, 0.15588770806789398, 0.14746133983135223, 0.7312877774238586, 0.09141097217798233, 0.045705486088991165, 0.045705486088991165, 0.045705486088991165, 0.08178230375051498, 0.19627752900123596, 0.5070502758026123, 0.04906938225030899, 0.16356460750102997, 0.0437430702149868, 0.9186044931411743, 0.1540054827928543, 0.12320438027381897, 0.061602190136909485, 0.5852208137512207, 0.09240328520536423, 0.8661253452301025, 0.05599695444107056, 0.05599695444107056, 0.11199390888214111, 0.05599695444107056, 0.6719634532928467, 0.042506925761699677, 0.042506925761699677, 0.08501385152339935, 0.06376039236783981, 0.7651246786117554, 0.14973071217536926, 0.49526312947273254, 0.16700734198093414, 0.057588737457990646, 0.13245409727096558, 0.09477049857378006, 0.18954099714756012, 0.663393497467041, 0.03159016743302345, 0.03159016743302345, 0.365141361951828, 0.1305803507566452, 0.1547618955373764, 0.1402529627084732, 0.2103794515132904, 0.19535599648952484, 0.12338273972272873, 0.5449404120445251, 0.12338273972272873, 0.010281894356012344, 0.21312803030014038, 0.13261300325393677, 0.6251755952835083, 0.02368089370429516, 0.06270577013492584, 0.8778808116912842, 0.06270577013492584, 0.513247549533844, 0.128311887383461, 0.1496972143650055, 0.07484860718250275, 0.11761923879384995, 0.8669877648353577, 0.1484440416097641, 0.7422201633453369, 0.8652001619338989, 0.12493757903575897, 0.8745630383491516, 0.9148174524307251, 0.07037056982517242, 0.9294483065605164, 0.16259151697158813, 0.4508219361305237, 0.22171570360660553, 0.06651471555233002, 0.09607680886983871, 0.8896703720092773, 0.8382474780082703, 0.06985395401716232, 0.06985395401716232, 0.07217203080654144, 0.02405734360218048, 0.6736056208610535, 0.19245874881744385, 0.07217203080654144], \"Term\": [\"abl\", \"abl\", \"abl\", \"abl\", \"abl\", \"access\", \"access\", \"access\", \"access\", \"access\", \"ad\", \"ad\", \"ad\", \"ad\", \"ad\", \"advoc\", \"alarm\", \"alarm\", \"alot\", \"alot\", \"alot\", \"altogeth\", \"amazingli\", \"anim\", \"anybodi\", \"app\", \"app\", \"app\", \"app\", \"app\", \"appoint\", \"appoint\", \"appoint\", \"appoint\", \"appoint\", \"arrow\", \"ashley\", \"assess\", \"auto\", \"avail\", \"avail\", \"avail\", \"avail\", \"avail\", \"averag\", \"awesom\", \"awesom\", \"awesom\", \"awesom\", \"awesom\", \"beat\", \"behalf\", \"binder\", \"blood_pressur\", \"blood_pressur\", \"blood_pressur\", \"blood_pressur\", \"blood_pressur\", \"bodi\", \"bodi\", \"bodi\", \"bodi\", \"book_appoint\", \"chanc\", \"chang\", \"chang\", \"chang\", \"chang\", \"chang\", \"charact\", \"check\", \"check\", \"check\", \"check\", \"check\", \"check_statu\", \"check_statu\", \"claim\", \"claim\", \"claim\", \"claim\", \"claim\", \"clinic\", \"clinic\", \"clinic\", \"clinic\", \"closer\", \"code\", \"code\", \"code\", \"code\", \"code\", \"commun\", \"commun\", \"commun\", \"commun\", \"commun\", \"comparison\", \"concern\", \"concern\", \"concern\", \"concern\", \"concern\", \"confus\", \"confus\", \"confus\", \"confus\", \"congratul\", \"content\", \"conveni\", \"conveni\", \"conveni\", \"conveni\", \"conveni\", \"convert\", \"count\", \"count\", \"count\", \"cross\", \"cross\", \"current\", \"current\", \"current\", \"current\", \"current\", \"danc\", \"deeper\", \"devic\", \"devic\", \"devic\", \"devic\", \"devic\", \"diagnosi\", \"diagnosi\", \"diagnosi\", \"diagnosi\", \"diari\", \"diari\", \"diari\", \"diari\", \"discuss\", \"dislik\", \"doc\", \"doc\", \"doc\", \"doc\", \"doctor\", \"doctor\", \"doctor\", \"doctor\", \"doctor\", \"doctor_offic\", \"doctor_offic\", \"doctor_offic\", \"doctor_offic\", \"doctor_offic\", \"doctor_visit\", \"doctor_visit\", \"doctor_visit\", \"doctor_visit\", \"doctor_visit\", \"doe\", \"doe\", \"doe\", \"doe\", \"doe\", \"doesn\", \"doesn\", \"doesn\", \"doesn\", \"doesn\", \"drill\", \"drill\", \"drug\", \"drug\", \"drug\", \"drug\", \"drug\", \"easi\", \"easi\", \"easi\", \"easi\", \"easi\", \"easi_navig\", \"easi_navig\", \"easi_navig\", \"edg\", \"edg\", \"edg\", \"email_doctor\", \"email_doctor\", \"email_doctor\", \"email_doctor\", \"email_doctor\", \"excel\", \"excel\", \"excel\", \"excel\", \"excel\", \"extra\", \"extra\", \"extra\", \"fault\", \"finger\", \"finger\", \"finger\", \"finger\", \"finger\", \"finger_tip\", \"finger_tip\", \"finger_tip\", \"finger_tip\", \"finger_tip\", \"forc\", \"forth\", \"friendli\", \"friendli\", \"friendli\", \"friendli\", \"friendli\", \"garmin\", \"germ\", \"giver\", \"goal\", \"good\", \"good\", \"good\", \"good\", \"good\", \"great\", \"great\", \"great\", \"great\", \"great\", \"hassl\", \"hassl\", \"hassl\", \"hate\", \"hate\", \"hate\", \"hate\", \"hate\", \"have\", \"have\", \"have\", \"have\", \"have\", \"havent\", \"health\", \"health\", \"health\", \"health\", \"health\", \"health_care\", \"health_care\", \"health_care\", \"health_care\", \"health_care\", \"heard\", \"heart\", \"heart\", \"heart\", \"heart_rate\", \"heart_rate\", \"heart_rate\", \"height\", \"help\", \"help\", \"help\", \"help\", \"help\", \"higher\", \"highli_recommend\", \"highli_recommend\", \"highli_recommend\", \"highli_recommend\", \"highli_recommend\", \"histori\", \"histori\", \"histori\", \"histori\", \"histori\", \"huawei\", \"inaccur\", \"includ\", \"includ\", \"includ\", \"includ\", \"includ\", \"incorpor\", \"incorpor\", \"info\", \"info\", \"info\", \"info\", \"info\", \"inform\", \"inform\", \"inform\", \"inform\", \"inform\", \"insur_card\", \"insur_card\", \"insur_card\", \"insur_card\", \"issu\", \"issu\", \"issu\", \"issu\", \"issu\", \"joke\", \"keep_track\", \"keep_track\", \"keep_track\", \"keep_track\", \"keep_track\", \"knee\", \"laboratori\", \"laboratori\", \"like\", \"like\", \"like\", \"like\", \"like\", \"list\", \"list\", \"list\", \"list\", \"list\", \"look\", \"look\", \"look\", \"look\", \"look\", \"love\", \"love\", \"love\", \"love\", \"love\", \"lucki\", \"mainten\", \"make\", \"make\", \"make\", \"make\", \"make\", \"maker\", \"market\", \"market\", \"market\", \"master\", \"match\", \"medic\", \"medic\", \"medic\", \"medic\", \"medic\", \"medic_histori\", \"medic_histori\", \"medic_histori\", \"medic_histori\", \"medic_histori\", \"medic_record\", \"medic_record\", \"medic_record\", \"medic_record\", \"medic_record\", \"melissa\", \"messag\", \"messag\", \"messag\", \"messag\", \"messag\", \"method\", \"method\", \"method\", \"method\", \"migrat\", \"migrat\", \"mistak\", \"mistak\", \"msg\", \"navig\", \"navig\", \"navig\", \"navig\", \"navig\", \"nearli\", \"need\", \"need\", \"need\", \"need\", \"need\", \"nice\", \"nice\", \"nice\", \"nice\", \"nice\", \"note\", \"note\", \"note\", \"note\", \"note\", \"offic\", \"offic\", \"offic\", \"offic\", \"offic\", \"painless\", \"paper\", \"paper\", \"paper\", \"password\", \"password\", \"password\", \"password\", \"password\", \"phone\", \"phone\", \"phone\", \"phone\", \"phone\", \"picki\", \"play\", \"play\", \"play\", \"prescript\", \"prescript\", \"prescript\", \"prescript\", \"prescript\", \"profession\", \"profession\", \"profession\", \"program\", \"program\", \"program\", \"program\", \"program\", \"prove\", \"puls\", \"purpos\", \"purpos\", \"purpos\", \"radiolog\", \"radiolog\", \"realli\", \"realli\", \"realli\", \"realli\", \"realli\", \"realli_like\", \"realli_like\", \"realli_like\", \"realli_like\", \"realli_like\", \"record\", \"record\", \"record\", \"record\", \"record\", \"refil\", \"refil\", \"refil\", \"refil\", \"refil\", \"refil_prescript\", \"refil_prescript\", \"refil_prescript\", \"refil_prescript\", \"refil_prescript\", \"relationship\", \"repli\", \"repli\", \"repli\", \"repli\", \"result\", \"result\", \"result\", \"result\", \"result\", \"save_time\", \"save_time\", \"save_time\", \"save_time\", \"scale\", \"scale\", \"schedul\", \"schedul\", \"schedul\", \"schedul\", \"schedul\", \"schedul_appoint\", \"schedul_appoint\", \"schedul_appoint\", \"schedul_appoint\", \"schedul_appoint\", \"scroll\", \"scroll\", \"send\", \"send\", \"send\", \"send\", \"send\", \"send_messag\", \"send_messag\", \"send_messag\", \"send_messag\", \"send_messag\", \"sensit\", \"simpl\", \"simpl\", \"simpl\", \"simpl\", \"simpl\", \"skin\", \"sleep\", \"sleep\", \"sleep\", \"sleep\", \"slowli\", \"slowli\", \"sluggish\", \"speed\", \"stat\", \"stat\", \"statu\", \"statu\", \"statu\", \"statu\", \"statu\", \"stretch\", \"stretch\", \"stretch\", \"stretch\", \"super_easi\", \"super_easi\", \"super_easi\", \"super_easi\", \"super_easi\", \"sure\", \"sure\", \"sure\", \"sure\", \"sure\", \"surgic\", \"teach\", \"tediou\", \"test\", \"test\", \"test\", \"test\", \"test\", \"test_result\", \"test_result\", \"test_result\", \"test_result\", \"test_result\", \"thank\", \"thank\", \"thank\", \"thank\", \"thank\", \"time\", \"time\", \"time\", \"time\", \"time\", \"tip\", \"tip\", \"tip\", \"tip\", \"tip\", \"tonsil\", \"took\", \"took\", \"took\", \"took\", \"took\", \"town\", \"track\", \"track\", \"track\", \"track\", \"track\", \"treatment\", \"treatment\", \"treatment\", \"treatment\", \"treatment\", \"tri\", \"tri\", \"tri\", \"tri\", \"tri\", \"trust\", \"trust\", \"understand\", \"understand\", \"understand\", \"understand\", \"understand\", \"unus\", \"upcom\", \"upcom\", \"upcom\", \"upcom\", \"upcom\", \"upcom_appoint\", \"upcom_appoint\", \"upcom_appoint\", \"upcom_appoint\", \"upcom_appoint\", \"updat\", \"updat\", \"updat\", \"updat\", \"updat\", \"urgent_care\", \"urgent_care\", \"urgent_care\", \"urgent_care\", \"urgent_care\", \"use\", \"use\", \"use\", \"use\", \"use\", \"user\", \"user\", \"user\", \"user\", \"user\", \"user_friendli\", \"user_friendli\", \"user_friendli\", \"user_friendli\", \"valu\", \"valu\", \"valu\", \"visit\", \"visit\", \"visit\", \"visit\", \"visit\", \"wear\", \"weren\", \"weren\", \"what\", \"white\", \"white\", \"window\", \"window\", \"wise\", \"work\", \"work\", \"work\", \"work\", \"work\", \"workout\", \"worri\", \"worri\", \"worri\", \"wrong\", \"wrong\", \"wrong\", \"wrong\", \"wrong\"]}, \"R\": 20, \"lambda.step\": 0.01, \"plot.opts\": {\"xlab\": \"PC1\", \"ylab\": \"PC2\"}, \"topic.order\": [1, 3, 2, 5, 4]};\n",
       "\n",
       "function LDAvis_load_lib(url, callback){\n",
       "  var s = document.createElement('script');\n",
       "  s.src = url;\n",
       "  s.async = true;\n",
       "  s.onreadystatechange = s.onload = callback;\n",
       "  s.onerror = function(){console.warn(\"failed to load library \" + url);};\n",
       "  document.getElementsByTagName(\"head\")[0].appendChild(s);\n",
       "}\n",
       "\n",
       "if(typeof(LDAvis) !== \"undefined\"){\n",
       "   // already loaded: just create the visualization\n",
       "   !function(LDAvis){\n",
       "       new LDAvis(\"#\" + \"ldavis_el115311121362361525366328193\", ldavis_el115311121362361525366328193_data);\n",
       "   }(LDAvis);\n",
       "}else if(typeof define === \"function\" && define.amd){\n",
       "   // require.js is available: use it to load d3/LDAvis\n",
       "   require.config({paths: {d3: \"https://cdnjs.cloudflare.com/ajax/libs/d3/3.5.5/d3.min\"}});\n",
       "   require([\"d3\"], function(d3){\n",
       "      window.d3 = d3;\n",
       "      LDAvis_load_lib(\"https://cdn.rawgit.com/bmabey/pyLDAvis/files/ldavis.v1.0.0.js\", function(){\n",
       "        new LDAvis(\"#\" + \"ldavis_el115311121362361525366328193\", ldavis_el115311121362361525366328193_data);\n",
       "      });\n",
       "    });\n",
       "}else{\n",
       "    // require.js not available: dynamically load d3 & LDAvis\n",
       "    LDAvis_load_lib(\"https://cdnjs.cloudflare.com/ajax/libs/d3/3.5.5/d3.min.js\", function(){\n",
       "         LDAvis_load_lib(\"https://cdn.rawgit.com/bmabey/pyLDAvis/files/ldavis.v1.0.0.js\", function(){\n",
       "                 new LDAvis(\"#\" + \"ldavis_el115311121362361525366328193\", ldavis_el115311121362361525366328193_data);\n",
       "            })\n",
       "         });\n",
       "}\n",
       "</script>"
      ],
      "text/plain": [
       "PreparedData(topic_coordinates=              x         y  topics  cluster       Freq\n",
       "topic                                                \n",
       "0     -0.000087 -0.035587       1        1  24.814779\n",
       "2     -0.059981  0.050770       2        1  22.068804\n",
       "1     -0.061460 -0.006336       3        1  20.097555\n",
       "4      0.083978  0.064292       4        1  16.769739\n",
       "3      0.037550 -0.073139       5        1  16.249132, topic_info=     Category        Freq             Term       Total  loglift  logprob\n",
       "term                                                                    \n",
       "311   Default  503.000000             easi  503.000000  20.0000  20.0000\n",
       "623   Default  330.000000      test_result  330.000000  19.0000  19.0000\n",
       "1208  Default  135.000000       easi_navig  135.000000  18.0000  18.0000\n",
       "425   Default  211.000000    user_friendli  211.000000  17.0000  17.0000\n",
       "12    Default  249.000000     medic_record  249.000000  16.0000  16.0000\n",
       "419   Default  278.000000          appoint  278.000000  15.0000  15.0000\n",
       "438   Default  108.000000    medic_histori  108.000000  14.0000  14.0000\n",
       "168   Default  376.000000             good  376.000000  13.0000  13.0000\n",
       "954   Default   88.000000     email_doctor   88.000000  12.0000  12.0000\n",
       "11    Default  464.000000            medic  464.000000  11.0000  11.0000\n",
       "370   Default   67.000000        save_time   67.000000  10.0000  10.0000\n",
       "143   Default  428.000000           doctor  428.000000   9.0000   9.0000\n",
       "224   Default  150.000000          conveni  150.000000   8.0000   8.0000\n",
       "612   Default   85.000000       keep_track   85.000000   7.0000   7.0000\n",
       "686   Default   74.000000       finger_tip   74.000000   6.0000   6.0000\n",
       "352   Default  161.000000             test  161.000000   5.0000   5.0000\n",
       "128   Default  237.000000           result  237.000000   4.0000   4.0000\n",
       "335   Default  175.000000             nice  175.000000   3.0000   3.0000\n",
       "46    Default  562.000000             love  562.000000   2.0000   2.0000\n",
       "1362  Default   67.000000  refil_prescript   67.000000   1.0000   1.0000\n",
       "1335   Topic1   27.114597            drill   28.884371   1.3305  -5.7122\n",
       "1184   Topic1   16.727005           scroll   18.280655   1.3049  -6.1953\n",
       "1018   Topic1   17.757336             alot   19.641396   1.2929  -6.1355\n",
       "1295   Topic1   16.944311            sleep   19.650896   1.2455  -6.1824\n",
       "924    Topic1    6.313101           assess    7.336459   1.2435  -7.1697\n",
       "1154   Topic1    5.912184             wear    6.920513   1.2363  -7.2353\n",
       "1012   Topic1    5.911130             puls    6.920563   1.2361  -7.2355\n",
       "1567   Topic1    5.903206            arrow    6.919875   1.2348  -7.2368\n",
       "902    Topic1    5.877542          discuss    6.917938   1.2308  -7.2411\n",
       "1079   Topic1    5.868512            chanc    6.918736   1.2291  -7.2427\n",
       "...       ...         ...              ...         ...      ...      ...\n",
       "947    Topic5   10.440621              doc   14.293973   1.5030  -6.2432\n",
       "594    Topic5   35.911900  schedul_appoint   49.402313   1.4982  -5.0078\n",
       "954    Topic5   60.118740     email_doctor   88.653107   1.4287  -4.4926\n",
       "1583   Topic5   13.324775           clinic   19.039558   1.4602  -5.9993\n",
       "310    Topic5   51.789406           commun   90.996475   1.2535  -4.6417\n",
       "623    Topic5  158.841049      test_result  330.937592   1.0831  -3.5210\n",
       "367    Topic5   21.929356          schedul   34.757229   1.3566  -5.5011\n",
       "112    Topic5   13.070212             bodi   19.279011   1.4284  -6.0186\n",
       "1123   Topic5   12.189662            upcom   17.858114   1.4353  -6.0883\n",
       "612    Topic5   42.582104       keep_track   85.775864   1.1168  -4.8375\n",
       "277    Topic5   18.051447         diagnosi   29.812382   1.3154  -5.6957\n",
       "352    Topic5   64.583488             test  161.823303   0.8986  -4.4209\n",
       "419    Topic5   96.140244          appoint  278.353333   0.7540  -4.0231\n",
       "772    Topic5   35.840240            refil   79.920929   1.0152  -5.0098\n",
       "128    Topic5   78.336395           result  237.707596   0.7071  -4.2279\n",
       "1362   Topic5   30.976454  refil_prescript   67.866653   1.0328  -5.1557\n",
       "56     Topic5   75.263916             make  233.286072   0.6859  -4.2679\n",
       "45     Topic5   74.328026             help  279.881592   0.4913  -4.2804\n",
       "143    Topic5   95.454453           doctor  428.753784   0.3149  -4.0302\n",
       "66     Topic5   86.594261              use  413.538483   0.2536  -4.1277\n",
       "130    Topic5   32.098358              app   83.096214   0.8659  -5.1201\n",
       "179    Topic5   69.562462             time  303.355560   0.3445  -4.3467\n",
       "129    Topic5   60.531467              abl  254.725418   0.3801  -4.4857\n",
       "33     Topic5   97.560898            great  609.805664  -0.0155  -4.0084\n",
       "11     Topic5   82.381508            medic  464.136108   0.0883  -4.1775\n",
       "355    Topic5   40.014240        prescript  124.100021   0.6853  -4.8997\n",
       "16     Topic5   58.370117           record  295.628082   0.1948  -4.5221\n",
       "121    Topic5   44.390617             issu  167.077698   0.4917  -4.7959\n",
       "46     Topic5   57.228886             love  562.256165  -0.4678  -4.5418\n",
       "145    Topic5   49.773457             like  393.755157  -0.2511  -4.6814\n",
       "\n",
       "[277 rows x 6 columns], token_table=      Topic      Freq       Term\n",
       "term                            \n",
       "129       1  0.247325        abl\n",
       "129       2  0.211993        abl\n",
       "129       3  0.274806        abl\n",
       "129       4  0.031406        abl\n",
       "129       5  0.239474        abl\n",
       "110       1  0.133739     access\n",
       "110       2  0.351945     access\n",
       "110       3  0.197089     access\n",
       "110       4  0.168933     access\n",
       "110       5  0.154856     access\n",
       "734       1  0.650613         ad\n",
       "734       2  0.157045         ad\n",
       "734       3  0.157045         ad\n",
       "734       4  0.022435         ad\n",
       "734       5  0.022435         ad\n",
       "309       4  0.825321      advoc\n",
       "1097      3  0.084689      alarm\n",
       "1097      4  0.846886      alarm\n",
       "1018      1  0.916432       alot\n",
       "1018      2  0.050913       alot\n",
       "1018      3  0.050913       alot\n",
       "1477      2  0.859077   altogeth\n",
       "1430      4  0.769457  amazingli\n",
       "1520      2  0.858883       anim\n",
       "1412      4  0.769117    anybodi\n",
       "130       1  0.204582        app\n",
       "130       2  0.132377        app\n",
       "130       3  0.228651        app\n",
       "130       4  0.048137        app\n",
       "130       5  0.385096        app\n",
       "...     ...       ...        ...\n",
       "1045      3  0.877881       valu\n",
       "1045      4  0.062706       valu\n",
       "353       1  0.513248      visit\n",
       "353       2  0.128312      visit\n",
       "353       3  0.149697      visit\n",
       "353       4  0.074849      visit\n",
       "353       5  0.117619      visit\n",
       "1154      1  0.866988       wear\n",
       "1118      4  0.148444      weren\n",
       "1118      5  0.742220      weren\n",
       "1019      4  0.865200       what\n",
       "1193      2  0.124938      white\n",
       "1193      3  0.874563      white\n",
       "484       3  0.914817     window\n",
       "484       5  0.070371     window\n",
       "1302      3  0.929448       wise\n",
       "28        1  0.162592       work\n",
       "28        2  0.450822       work\n",
       "28        3  0.221716       work\n",
       "28        4  0.066515       work\n",
       "28        5  0.096077       work\n",
       "1287      5  0.889670    workout\n",
       "580       1  0.838247      worri\n",
       "580       3  0.069854      worri\n",
       "580       5  0.069854      worri\n",
       "698       1  0.072172      wrong\n",
       "698       2  0.024057      wrong\n",
       "698       3  0.673606      wrong\n",
       "698       4  0.192459      wrong\n",
       "698       5  0.072172      wrong\n",
       "\n",
       "[668 rows x 3 columns], R=20, lambda_step=0.01, plot_opts={'xlab': 'PC1', 'ylab': 'PC2'}, topic_order=[1, 3, 2, 5, 4])"
      ]
     },
     "execution_count": 323,
     "metadata": {},
     "output_type": "execute_result"
    }
   ],
   "source": [
    "#Visualize positive topics\n",
    "pyLDAvis.gensim.prepare(pos_lda, pos_doc_term_mx, pos_dictionary, R = 20)"
   ]
  },
  {
   "cell_type": "markdown",
   "metadata": {},
   "source": [
    "- Topic 1 in pyLDA vis corresponds to Topic 0 in lda print results \n",
    "- Topic 2 in pyLDA vis corresponds to Topic 2 in lda print results \n",
    "- Topic 3 in pyLDA vis corresponds to Topic 1 in lda print results \n",
    "- Topic 4 in pyLDA vis corresponds to Topic 4 in lda print results \n",
    "- Topic 5 in pyLDA vis corresponds to Topic 3 in lda print results \n"
   ]
  },
  {
   "cell_type": "code",
   "execution_count": null,
   "metadata": {},
   "outputs": [],
   "source": []
  }
 ],
 "metadata": {
  "kernelspec": {
   "display_name": "Python 3",
   "language": "python",
   "name": "python3"
  },
  "language_info": {
   "codemirror_mode": {
    "name": "ipython",
    "version": 3
   },
   "file_extension": ".py",
   "mimetype": "text/x-python",
   "name": "python",
   "nbconvert_exporter": "python",
   "pygments_lexer": "ipython3",
   "version": "3.7.0"
  }
 },
 "nbformat": 4,
 "nbformat_minor": 2
}
