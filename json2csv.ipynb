{
 "cells": [
  {
   "cell_type": "code",
   "execution_count": 1,
   "metadata": {},
   "outputs": [],
   "source": [
    "# From json to csv\n",
    "import os, sys, string, json, csv\n",
    "import pandas as pd\n"
   ]
  },
  {
   "cell_type": "code",
   "execution_count": 2,
   "metadata": {},
   "outputs": [],
   "source": [
    "def app_metadata_csv(json_file_path, csv_output_path):\n",
    "    '''Write a csv file with app metadata without reviews'''\n",
    "    \n",
    "    # Load json data\n",
    "    json_data=open(json_file_path).read()\n",
    "    jsn = json.loads(json_data)  \n",
    "    # Open the output file\n",
    "    csv_data = open(csv_output_path, 'w')\n",
    "    # Create csv writer object\n",
    "    csvwriter = csv.writer(csv_data)\n",
    "    \n",
    "    #Write headers to the output csv file\n",
    "    headers = []\n",
    "    for head in jsn[0].keys():\n",
    "        if head not in ['recent_reviews', 'helpful_reviews']:\n",
    "            headers.append(head)\n",
    "    csvwriter.writerow(headers)\n",
    "    \n",
    "    for i in range(len(jsn)):\n",
    "        row = []\n",
    "        for head in headers:\n",
    "            value = str(jsn[i][head])\n",
    "            row.append(value)\n",
    "\n",
    "        '''print('-------' + str(i) + '------')\n",
    "        print(row)'''\n",
    "        csvwriter.writerow(row)\n",
    "    csv_data.close()"
   ]
  },
  {
   "cell_type": "code",
   "execution_count": 39,
   "metadata": {},
   "outputs": [],
   "source": [
    "def recent_reviews_csv(json_file_path, csv_output_path):\n",
    "    '''Write a csv file with app recent reviews where each row is one review'''\n",
    "    \n",
    "    # Load json data\n",
    "    json_data=open(json_file_path).read()\n",
    "    jsn = json.loads(json_data)  \n",
    "    # Open the output file\n",
    "    csv_data = open(csv_output_path, 'w')\n",
    "    # Create csv writer object\n",
    "    csvwriter = csv.writer(csv_data)\n",
    "    \n",
    "    #Write headers to the output csv file\n",
    "    headers = []\n",
    "    for head in jsn[0].keys():\n",
    "        if head in ['name','id','avgUserRating', 'userRatingCount']:\n",
    "            headers.append(head)\n",
    "\n",
    "    for head in jsn[0]['recent_reviews'][0].keys():\n",
    "        headers.append(head)\n",
    "    csvwriter.writerow(headers)\n",
    "    \n",
    "    #Write recent reviews with one review per row\n",
    "    for i in range(len(jsn)):\n",
    "        if len(jsn[i]['recent_reviews']) != 0:\n",
    "            for j in range(len(jsn[i]['recent_reviews'])):\n",
    "                row = []\n",
    "                for head in headers:\n",
    "                    if head in ['name','id','avgUserRating', 'userRatingCount']:\n",
    "                        value = str(jsn[i][head])\n",
    "                        row.append(value)\n",
    "                    else:\n",
    "                        value = str(jsn[i]['recent_reviews'][j][head])        \n",
    "                        row.append(value)\n",
    "                csvwriter.writerow(row) \n",
    "                '''print('-------' + str(j) + '------')\n",
    "                print(row)'''\n",
    "                \n",
    "        else:\n",
    "            row = []\n",
    "            for head in headers:\n",
    "                if head in ['name','id','avgUserRating', 'userRatingCount']:\n",
    "                    value = str(jsn[i][head])\n",
    "                    row.append(value)\n",
    "                else:\n",
    "                    value = ' '      \n",
    "                    row.append(value)\n",
    "            csvwriter.writerow(row)   \n",
    "    csv_data.close()"
   ]
  },
  {
   "cell_type": "code",
   "execution_count": 38,
   "metadata": {},
   "outputs": [],
   "source": [
    "def helpful_reviews_csv(json_file_path, csv_output_path):\n",
    "    '''Write a csv file with app helpful reviews where each row is one review'''\n",
    "    \n",
    "    # Load json data\n",
    "    json_data=open(json_file_path).read()\n",
    "    jsn = json.loads(json_data)  \n",
    "    # Open the output file\n",
    "    csv_data = open(csv_output_path, 'w')\n",
    "    # Create csv writer object\n",
    "    csvwriter = csv.writer(csv_data)\n",
    "    \n",
    "    #Write headers to the output csv file\n",
    "    headers = []\n",
    "    for head in jsn[0].keys():\n",
    "        if head in ['name','id','avgUserRating', 'userRatingCount']:\n",
    "            headers.append(head)\n",
    "\n",
    "    for head in jsn[0]['helpful_reviews'][0].keys():\n",
    "        headers.append(head)\n",
    "    csvwriter.writerow(headers)\n",
    "    \n",
    "    #Write helpful reviews with one review per row\n",
    "    for i in range(len(jsn)):\n",
    "            if len(jsn[i]['helpful_reviews']) != 0:\n",
    "                for j in range(len(jsn[i]['helpful_reviews'])):\n",
    "                    row = []\n",
    "                    for head in headers:\n",
    "                        if head in ['name','id','avgUserRating', 'userRatingCount']:\n",
    "                            value = str(jsn[i][head])\n",
    "                            row.append(value)\n",
    "                        else:\n",
    "                            value = str(jsn[i]['helpful_reviews'][j][head])        \n",
    "                            row.append(value)\n",
    "                    csvwriter.writerow(row) \n",
    "\n",
    "            else:\n",
    "                row = []\n",
    "                for head in headers:\n",
    "                    if head in ['name','id','avgUserRating', 'userRatingCount']:\n",
    "                        value = str(jsn[i][head])\n",
    "                        row.append(value)\n",
    "                    else:\n",
    "                        value = ' '      \n",
    "                        row.append(value)\n",
    "                csvwriter.writerow(row)   \n",
    "    csv_data.close()"
   ]
  },
  {
   "cell_type": "code",
   "execution_count": 40,
   "metadata": {},
   "outputs": [],
   "source": [
    "json_path = os.path.expanduser(\"~/USF/uhc/UHC/data/phr_apps_metadata_and_reviews.json\")\n",
    "recent_csv_path = os.path.expanduser('~/USF/uhc/UHC/data/appstore_recent_reviews_phr.csv')\n",
    "helpful_csv_path = os.path.expanduser('~/USF/uhc/UHC/data/appstore_helpful_reviews_phr.csv')\n",
    "metadata_csv_path = os.path.expanduser('~/USF/uhc/UHC/data/appstore_metadata_phr.csv')"
   ]
  },
  {
   "cell_type": "code",
   "execution_count": 41,
   "metadata": {},
   "outputs": [],
   "source": [
    "app_metadata_csv(json_path, metadata_csv_path)"
   ]
  },
  {
   "cell_type": "code",
   "execution_count": 42,
   "metadata": {},
   "outputs": [],
   "source": [
    "recent_reviews_csv(json_path, recent_csv_path)"
   ]
  },
  {
   "cell_type": "code",
   "execution_count": 43,
   "metadata": {},
   "outputs": [],
   "source": [
    "helpful_reviews_csv(json_path, helpful_csv_path)"
   ]
  },
  {
   "cell_type": "code",
   "execution_count": 44,
   "metadata": {},
   "outputs": [
    {
     "name": "stdout",
     "output_type": "stream",
     "text": [
      "Total number of recent reviews is: 3778\n",
      "Total number of helpful reviews is: 3778\n",
      "Total number of apps is: 18\n"
     ]
    }
   ],
   "source": [
    "#OPTIONAL: check the number of rows in each file\n",
    "\n",
    "json_data=open(json_path).read()\n",
    "jsn = json.loads(json_data)  \n",
    "\n",
    "count = 0\n",
    "for i in range(len(jsn)):\n",
    "        count+=(len(jsn[i]['recent_reviews']))\n",
    "print(\"Total number of recent reviews is:\", count)          \n",
    "\n",
    "count = 0\n",
    "for i in range(len(jsn)):\n",
    "        count+=(len(jsn[i]['helpful_reviews']))\n",
    "print(\"Total number of helpful reviews is:\", count)     \n",
    "\n",
    "count = 0\n",
    "for i in range(len(jsn)):\n",
    "        count+=1\n",
    "print(\"Total number of apps is:\", count)          "
   ]
  },
  {
   "cell_type": "code",
   "execution_count": 46,
   "metadata": {},
   "outputs": [],
   "source": [
    "pd_recent_reviews = pd.read_csv(recent_csv_path)"
   ]
  },
  {
   "cell_type": "code",
   "execution_count": 47,
   "metadata": {},
   "outputs": [
    {
     "data": {
      "text/plain": [
       "18"
      ]
     },
     "execution_count": 47,
     "metadata": {},
     "output_type": "execute_result"
    }
   ],
   "source": [
    "len(pd_recent_reviews['name'].unique())"
   ]
  },
  {
   "cell_type": "code",
   "execution_count": 48,
   "metadata": {},
   "outputs": [
    {
     "data": {
      "text/plain": [
       "3779"
      ]
     },
     "execution_count": 48,
     "metadata": {},
     "output_type": "execute_result"
    }
   ],
   "source": [
    "len(pd_recent_reviews)"
   ]
  },
  {
   "cell_type": "code",
   "execution_count": 49,
   "metadata": {},
   "outputs": [],
   "source": [
    "pd_helpful_reviews = pd.read_csv(recent_csv_path)"
   ]
  },
  {
   "cell_type": "code",
   "execution_count": 50,
   "metadata": {},
   "outputs": [
    {
     "data": {
      "text/plain": [
       "18"
      ]
     },
     "execution_count": 50,
     "metadata": {},
     "output_type": "execute_result"
    }
   ],
   "source": [
    "len(pd_helpful_reviews['name'].unique())"
   ]
  },
  {
   "cell_type": "code",
   "execution_count": 53,
   "metadata": {},
   "outputs": [
    {
     "data": {
      "text/plain": [
       "3779"
      ]
     },
     "execution_count": 53,
     "metadata": {},
     "output_type": "execute_result"
    }
   ],
   "source": [
    "len(pd_helpful_reviews)"
   ]
  },
  {
   "cell_type": "code",
   "execution_count": 54,
   "metadata": {},
   "outputs": [],
   "source": [
    "pd_metadata = pd.read_csv(metadata_csv_path)"
   ]
  },
  {
   "cell_type": "code",
   "execution_count": 56,
   "metadata": {},
   "outputs": [
    {
     "data": {
      "text/plain": [
       "18"
      ]
     },
     "execution_count": 56,
     "metadata": {},
     "output_type": "execute_result"
    }
   ],
   "source": [
    "len(pd_metadata['name'].unique())"
   ]
  },
  {
   "cell_type": "code",
   "execution_count": 57,
   "metadata": {},
   "outputs": [
    {
     "data": {
      "text/plain": [
       "18"
      ]
     },
     "execution_count": 57,
     "metadata": {},
     "output_type": "execute_result"
    }
   ],
   "source": [
    "len(pd_metadata)"
   ]
  },
  {
   "cell_type": "code",
   "execution_count": null,
   "metadata": {},
   "outputs": [],
   "source": []
  }
 ],
 "metadata": {
  "kernelspec": {
   "display_name": "Python 3",
   "language": "python",
   "name": "python3"
  },
  "language_info": {
   "codemirror_mode": {
    "name": "ipython",
    "version": 3
   },
   "file_extension": ".py",
   "mimetype": "text/x-python",
   "name": "python",
   "nbconvert_exporter": "python",
   "pygments_lexer": "ipython3",
   "version": "3.6.6"
  }
 },
 "nbformat": 4,
 "nbformat_minor": 2
}
