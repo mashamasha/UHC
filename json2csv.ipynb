{
 "cells": [
  {
   "cell_type": "code",
   "execution_count": 1,
   "metadata": {},
   "outputs": [],
   "source": [
    "# From json to csv\n",
    "import os, sys, string, json, csv\n",
    "import pandas as pd\n"
   ]
  },
  {
   "cell_type": "code",
   "execution_count": 2,
   "metadata": {},
   "outputs": [],
   "source": [
    "def app_metadata_csv(json_file_path, csv_output_path):\n",
    "    '''Write a csv file with app metadata without reviews'''\n",
    "    \n",
    "    # Load json data\n",
    "    json_data=open(json_file_path).read()\n",
    "    jsn = json.loads(json_data)  \n",
    "    # Open the output file\n",
    "    csv_data = open(csv_output_path, 'w')\n",
    "    # Create csv writer object\n",
    "    csvwriter = csv.writer(csv_data)\n",
    "    \n",
    "    #Write headers to the output csv file\n",
    "    headers = []\n",
    "    for head in jsn[0].keys():\n",
    "        if head not in ['recent_reviews', 'helpful_reviews']:\n",
    "            headers.append(head)\n",
    "    csvwriter.writerow(headers)\n",
    "    \n",
    "    for i in range(len(jsn)):\n",
    "        row = []\n",
    "        for head in headers:\n",
    "            value = str(jsn[i][head])\n",
    "            row.append(value)\n",
    "\n",
    "        '''print('-------' + str(i) + '------')\n",
    "        print(row)'''\n",
    "        csvwriter.writerow(row)\n",
    "    csv_data.close()"
   ]
  },
  {
   "cell_type": "code",
   "execution_count": 3,
   "metadata": {},
   "outputs": [],
   "source": [
    "def recent_reviews_csv(json_file_path, csv_output_path):\n",
    "    '''Write a csv file with app recent reviews where each row is one review'''\n",
    "    \n",
    "    # Load json data\n",
    "    json_data=open(json_file_path).read()\n",
    "    jsn = json.loads(json_data)  \n",
    "    # Open the output file\n",
    "    csv_data = open(csv_output_path, 'w')\n",
    "    # Create csv writer object\n",
    "    csvwriter = csv.writer(csv_data)\n",
    "    \n",
    "    #Write headers to the output csv file\n",
    "    headers = []\n",
    "    for head in jsn[0].keys():\n",
    "        if head in ['name','id','avgUserRating', 'userRatingCount']:\n",
    "            headers.append(head)\n",
    "\n",
    "    for head in jsn[0]['recent_reviews'][0].keys():\n",
    "        headers.append(head)\n",
    "    csvwriter.writerow(headers)\n",
    "    \n",
    "    #Write recent reviews with one review per row\n",
    "    for i in range(len(jsn)):\n",
    "        if len(jsn[i]['recent_reviews']) != 0:\n",
    "            for j in range(len(jsn[i]['recent_reviews'])):\n",
    "                row = []\n",
    "                for head in headers:\n",
    "                    if head in ['name','id','avgUserRating', 'userRatingCount']:\n",
    "                        value = str(jsn[i][head])\n",
    "                        row.append(value)\n",
    "                    else:\n",
    "                        value = str(jsn[i]['recent_reviews'][j][head])        \n",
    "                        row.append(value)\n",
    "                '''print('-------' + str(j) + '------')\n",
    "                print(row)'''\n",
    "                \n",
    "        else:\n",
    "            row = []\n",
    "            for head in headers:\n",
    "                if head in ['name','id','avgUserRating', 'userRatingCount']:\n",
    "                    value = str(jsn[i][head])\n",
    "                    row.append(value)\n",
    "                else:\n",
    "                    value = ' '      \n",
    "                    row.append(value)\n",
    "        csvwriter.writerow(row)   \n",
    "    csv_data.close()"
   ]
  },
  {
   "cell_type": "code",
   "execution_count": 4,
   "metadata": {},
   "outputs": [],
   "source": [
    "def helpful_reviews_csv(json_file_path, csv_output_path):\n",
    "    '''Write a csv file with app helpful reviews where each row is one review'''\n",
    "    \n",
    "    # Load json data\n",
    "    json_data=open(json_file_path).read()\n",
    "    jsn = json.loads(json_data)  \n",
    "    # Open the output file\n",
    "    csv_data = open(csv_output_path, 'w')\n",
    "    # Create csv writer object\n",
    "    csvwriter = csv.writer(csv_data)\n",
    "    \n",
    "    #Write headers to the output csv file\n",
    "    headers = []\n",
    "    for head in jsn[0].keys():\n",
    "        if head in ['name','id','avgUserRating', 'userRatingCount']:\n",
    "            headers.append(head)\n",
    "\n",
    "    for head in jsn[0]['helpful_reviews'][0].keys():\n",
    "        headers.append(head)\n",
    "    csvwriter.writerow(headers)\n",
    "    \n",
    "    #Write helpful reviews with one review per row\n",
    "    for i in range(len(jsn)):\n",
    "            if len(jsn[i]['helpful_reviews']) != 0:\n",
    "                for j in range(len(jsn[i]['helpful_reviews'])):\n",
    "                    row = []\n",
    "                    for head in headers:\n",
    "                        if head in ['name','id','avgUserRating', 'userRatingCount']:\n",
    "                            value = str(jsn[i][head])\n",
    "                            row.append(value)\n",
    "                        else:\n",
    "                            value = str(jsn[i]['helpful_reviews'][j][head])        \n",
    "                            row.append(value)\n",
    "                    '''print('-------' + str(j) + '------')\n",
    "                    print(row)'''\n",
    "\n",
    "            else:\n",
    "                row = []\n",
    "                for head in headers:\n",
    "                    if head in ['name','id','avgUserRating', 'userRatingCount']:\n",
    "                        value = str(jsn[i][head])\n",
    "                        row.append(value)\n",
    "                    else:\n",
    "                        value = ' '      \n",
    "                        row.append(value)\n",
    "            csvwriter.writerow(row)   \n",
    "    csv_data.close()"
   ]
  },
  {
   "cell_type": "code",
   "execution_count": 5,
   "metadata": {},
   "outputs": [],
   "source": [
    "json_path = os.path.expanduser(\"~/USF/uhc/UHC/data/phr_apps_metadata_and_reviews.json\")\n",
    "recent_csv_path = os.path.expanduser('~/USF/uhc/UHC/data/appstore_recent_reviews_phr.csv')\n",
    "helpful_csv_path = os.path.expanduser('~/USF/uhc/UHC/data/appstore_helpful_reviews_phr.csv')\n",
    "metadata_csv_path = os.path.expanduser('~/USF/uhc/UHC/data/appstore_metadata_phr.csv')"
   ]
  },
  {
   "cell_type": "code",
   "execution_count": 6,
   "metadata": {},
   "outputs": [],
   "source": [
    "app_metadata_csv(json_path, metadata_csv_path)"
   ]
  },
  {
   "cell_type": "code",
   "execution_count": 7,
   "metadata": {},
   "outputs": [],
   "source": [
    "recent_reviews_csv(json_path, recent_csv_path)"
   ]
  },
  {
   "cell_type": "code",
   "execution_count": 8,
   "metadata": {},
   "outputs": [],
   "source": [
    "helpful_reviews_csv(json_path, helpful_csv_path)"
   ]
  },
  {
   "cell_type": "code",
   "execution_count": 9,
   "metadata": {},
   "outputs": [
    {
     "name": "stdout",
     "output_type": "stream",
     "text": [
      "Total number of recent reviews is: 3778\n",
      "Total number of helpful reviews is: 3778\n",
      "Total number of apps is: 18\n"
     ]
    }
   ],
   "source": [
    "#OPTIONAL: check the number of rows in each file\n",
    "\n",
    "json_data=open(json_path).read()\n",
    "jsn = json.loads(json_data)  \n",
    "\n",
    "count = 0\n",
    "for i in range(len(jsn)):\n",
    "        count+=(len(jsn[i]['recent_reviews']))\n",
    "print(\"Total number of recent reviews is:\", count)          \n",
    "\n",
    "count = 0\n",
    "for i in range(len(jsn)):\n",
    "        count+=(len(jsn[i]['helpful_reviews']))\n",
    "print(\"Total number of helpful reviews is:\", count)     \n",
    "\n",
    "count = 0\n",
    "for i in range(len(jsn)):\n",
    "        count+=1\n",
    "print(\"Total number of apps is:\", count)          "
   ]
  },
  {
   "cell_type": "code",
   "execution_count": 10,
   "metadata": {},
   "outputs": [],
   "source": [
    "pd_recent_reviews = pd.read_csv(recent_csv_path)"
   ]
  },
  {
   "cell_type": "code",
   "execution_count": 12,
   "metadata": {},
   "outputs": [
    {
     "data": {
      "text/plain": [
       "18"
      ]
     },
     "execution_count": 12,
     "metadata": {},
     "output_type": "execute_result"
    }
   ],
   "source": [
    "len(pd_recent_reviews['name'].unique())"
   ]
  },
  {
   "cell_type": "code",
   "execution_count": 13,
   "metadata": {},
   "outputs": [],
   "source": [
    "pd_helpful_reviews = pd.read_csv(recent_csv_path)"
   ]
  },
  {
   "cell_type": "code",
   "execution_count": 14,
   "metadata": {},
   "outputs": [
    {
     "data": {
      "text/plain": [
       "18"
      ]
     },
     "execution_count": 14,
     "metadata": {},
     "output_type": "execute_result"
    }
   ],
   "source": [
    "len(pd_helpful_reviews['name'].unique())"
   ]
  },
  {
   "cell_type": "code",
   "execution_count": 15,
   "metadata": {},
   "outputs": [],
   "source": [
    "pd_metadata = pd.read_csv(metadata_csv_path)"
   ]
  },
  {
   "cell_type": "code",
   "execution_count": 16,
   "metadata": {},
   "outputs": [
    {
     "data": {
      "text/html": [
       "<div>\n",
       "<style scoped>\n",
       "    .dataframe tbody tr th:only-of-type {\n",
       "        vertical-align: middle;\n",
       "    }\n",
       "\n",
       "    .dataframe tbody tr th {\n",
       "        vertical-align: top;\n",
       "    }\n",
       "\n",
       "    .dataframe thead th {\n",
       "        text-align: right;\n",
       "    }\n",
       "</style>\n",
       "<table border=\"1\" class=\"dataframe\">\n",
       "  <thead>\n",
       "    <tr style=\"text-align: right;\">\n",
       "      <th></th>\n",
       "      <th>name</th>\n",
       "      <th>id</th>\n",
       "      <th>url</th>\n",
       "      <th>price</th>\n",
       "      <th>avgUserRating</th>\n",
       "      <th>userRatingCount</th>\n",
       "      <th>currentVersionReleaseDate</th>\n",
       "      <th>description</th>\n",
       "    </tr>\n",
       "  </thead>\n",
       "  <tbody>\n",
       "    <tr>\n",
       "      <th>0</th>\n",
       "      <td>Microsoft HealthVault</td>\n",
       "      <td>546835834</td>\n",
       "      <td>https://itunes.apple.com/us/app/microsoft-heal...</td>\n",
       "      <td>0.00</td>\n",
       "      <td>2.5</td>\n",
       "      <td>176.0</td>\n",
       "      <td>2017-11-13T17:55:48Z</td>\n",
       "      <td>Ever wish you could access medical information...</td>\n",
       "    </tr>\n",
       "    <tr>\n",
       "      <th>1</th>\n",
       "      <td>FitnessSyncer</td>\n",
       "      <td>1159207899</td>\n",
       "      <td>https://itunes.apple.com/us/app/fitnesssyncer/...</td>\n",
       "      <td>0.00</td>\n",
       "      <td>2.5</td>\n",
       "      <td>5.0</td>\n",
       "      <td>2018-09-23T14:35:55Z</td>\n",
       "      <td>Unify your health and fitness clouds for a com...</td>\n",
       "    </tr>\n",
       "    <tr>\n",
       "      <th>2</th>\n",
       "      <td>MTBC PHR</td>\n",
       "      <td>499832131</td>\n",
       "      <td>https://itunes.apple.com/us/app/mtbc-phr/id499...</td>\n",
       "      <td>0.00</td>\n",
       "      <td>4.5</td>\n",
       "      <td>446.0</td>\n",
       "      <td>2018-07-17T02:21:39Z</td>\n",
       "      <td>MTBC Personal Health Record (PHR) has brought ...</td>\n",
       "    </tr>\n",
       "    <tr>\n",
       "      <th>3</th>\n",
       "      <td>Accolade, Inc.</td>\n",
       "      <td>1203452254</td>\n",
       "      <td>https://itunes.apple.com/us/app/accolade-inc/i...</td>\n",
       "      <td>0.00</td>\n",
       "      <td>5.0</td>\n",
       "      <td>2623.0</td>\n",
       "      <td>2018-09-27T17:05:37Z</td>\n",
       "      <td>All the benefits of your Accolade Health Assis...</td>\n",
       "    </tr>\n",
       "    <tr>\n",
       "      <th>4</th>\n",
       "      <td>Capzule</td>\n",
       "      <td>386321118</td>\n",
       "      <td>https://itunes.apple.com/us/app/capzule/id3863...</td>\n",
       "      <td>0.00</td>\n",
       "      <td>3.5</td>\n",
       "      <td>126.0</td>\n",
       "      <td>2018-09-14T00:59:33Z</td>\n",
       "      <td>Using too many Health Apps?  Consolidate with ...</td>\n",
       "    </tr>\n",
       "    <tr>\n",
       "      <th>5</th>\n",
       "      <td>My Medical</td>\n",
       "      <td>347860026</td>\n",
       "      <td>https://itunes.apple.com/us/app/my-medical/id3...</td>\n",
       "      <td>4.99</td>\n",
       "      <td>3.5</td>\n",
       "      <td>679.0</td>\n",
       "      <td>2015-10-09T15:54:32Z</td>\n",
       "      <td>My Medical is a comprehensive record-keeping a...</td>\n",
       "    </tr>\n",
       "    <tr>\n",
       "      <th>6</th>\n",
       "      <td>Health Records : GenexEHR</td>\n",
       "      <td>1089533617</td>\n",
       "      <td>https://itunes.apple.com/us/app/health-records...</td>\n",
       "      <td>0.00</td>\n",
       "      <td>NaN</td>\n",
       "      <td>NaN</td>\n",
       "      <td>2018-04-24T21:39:06Z</td>\n",
       "      <td>Your Health Records in your Pocket!  GenexEHR ...</td>\n",
       "    </tr>\n",
       "    <tr>\n",
       "      <th>7</th>\n",
       "      <td>Healthspek - Personal Health Record &amp; Family H...</td>\n",
       "      <td>576488481</td>\n",
       "      <td>https://itunes.apple.com/us/app/healthspek-per...</td>\n",
       "      <td>0.00</td>\n",
       "      <td>4.0</td>\n",
       "      <td>117.0</td>\n",
       "      <td>2016-03-19T16:52:58Z</td>\n",
       "      <td>* Apple's List: Best New Apps - Medical * 5 St...</td>\n",
       "    </tr>\n",
       "    <tr>\n",
       "      <th>8</th>\n",
       "      <td>Medfusion Plus</td>\n",
       "      <td>922524241</td>\n",
       "      <td>https://itunes.apple.com/us/app/medfusion-plus...</td>\n",
       "      <td>0.00</td>\n",
       "      <td>3.0</td>\n",
       "      <td>101.0</td>\n",
       "      <td>2018-02-16T21:00:26Z</td>\n",
       "      <td>All of your family’s health data in one place,...</td>\n",
       "    </tr>\n",
       "    <tr>\n",
       "      <th>9</th>\n",
       "      <td>higi</td>\n",
       "      <td>599485135</td>\n",
       "      <td>https://itunes.apple.com/us/app/higi/id5994851...</td>\n",
       "      <td>0.00</td>\n",
       "      <td>3.0</td>\n",
       "      <td>230.0</td>\n",
       "      <td>2018-10-25T15:26:12Z</td>\n",
       "      <td>Knowing your numbers is the first step to unde...</td>\n",
       "    </tr>\n",
       "    <tr>\n",
       "      <th>10</th>\n",
       "      <td>Sharecare</td>\n",
       "      <td>964313779</td>\n",
       "      <td>https://itunes.apple.com/us/app/sharecare/id96...</td>\n",
       "      <td>0.00</td>\n",
       "      <td>3.0</td>\n",
       "      <td>125.0</td>\n",
       "      <td>2018-11-05T15:29:02Z</td>\n",
       "      <td>Meet the healthier YOU. Sharecare gives you a ...</td>\n",
       "    </tr>\n",
       "    <tr>\n",
       "      <th>11</th>\n",
       "      <td>Aetna Mobile</td>\n",
       "      <td>380845816</td>\n",
       "      <td>https://itunes.apple.com/us/app/aetna-mobile/i...</td>\n",
       "      <td>0.00</td>\n",
       "      <td>2.0</td>\n",
       "      <td>1939.0</td>\n",
       "      <td>2018-10-31T16:13:00Z</td>\n",
       "      <td>With Aetna Mobile, your health care is always ...</td>\n",
       "    </tr>\n",
       "    <tr>\n",
       "      <th>12</th>\n",
       "      <td>Kaiser Permanente</td>\n",
       "      <td>493390354</td>\n",
       "      <td>https://itunes.apple.com/us/app/kaiser-permane...</td>\n",
       "      <td>0.00</td>\n",
       "      <td>3.0</td>\n",
       "      <td>1779.0</td>\n",
       "      <td>2018-09-28T14:06:03Z</td>\n",
       "      <td>Managing your health care just got easier with...</td>\n",
       "    </tr>\n",
       "    <tr>\n",
       "      <th>13</th>\n",
       "      <td>myCigna</td>\n",
       "      <td>569266174</td>\n",
       "      <td>https://itunes.apple.com/us/app/mycigna/id5692...</td>\n",
       "      <td>0.00</td>\n",
       "      <td>4.5</td>\n",
       "      <td>32819.0</td>\n",
       "      <td>2018-10-31T12:44:47Z</td>\n",
       "      <td>Your health has met its app℠. The myCigna app ...</td>\n",
       "    </tr>\n",
       "    <tr>\n",
       "      <th>14</th>\n",
       "      <td>Blue Shield of California</td>\n",
       "      <td>728293729</td>\n",
       "      <td>https://itunes.apple.com/us/app/blue-shield-of...</td>\n",
       "      <td>0.00</td>\n",
       "      <td>4.5</td>\n",
       "      <td>2344.0</td>\n",
       "      <td>2018-10-12T01:00:32Z</td>\n",
       "      <td>Manage your health care from anywhere with the...</td>\n",
       "    </tr>\n",
       "    <tr>\n",
       "      <th>15</th>\n",
       "      <td>MyHumana</td>\n",
       "      <td>779622024</td>\n",
       "      <td>https://itunes.apple.com/us/app/myhumana/id779...</td>\n",
       "      <td>0.00</td>\n",
       "      <td>3.0</td>\n",
       "      <td>660.0</td>\n",
       "      <td>2018-10-24T19:12:25Z</td>\n",
       "      <td>MyHumana provides quick and easy access to you...</td>\n",
       "    </tr>\n",
       "    <tr>\n",
       "      <th>16</th>\n",
       "      <td>Anthem Anywhere</td>\n",
       "      <td>589443627</td>\n",
       "      <td>https://itunes.apple.com/us/app/anthem-anywher...</td>\n",
       "      <td>0.00</td>\n",
       "      <td>2.0</td>\n",
       "      <td>1475.0</td>\n",
       "      <td>2018-11-02T02:00:08Z</td>\n",
       "      <td>Anthem Anywhere. We’re here to help you make h...</td>\n",
       "    </tr>\n",
       "    <tr>\n",
       "      <th>17</th>\n",
       "      <td>Capital BlueCross Virtual Care</td>\n",
       "      <td>1375554671</td>\n",
       "      <td>https://itunes.apple.com/us/app/capital-bluecr...</td>\n",
       "      <td>0.00</td>\n",
       "      <td>4.5</td>\n",
       "      <td>24.0</td>\n",
       "      <td>2018-09-14T17:00:42Z</td>\n",
       "      <td>The doctor will see you now (literally).  Meet...</td>\n",
       "    </tr>\n",
       "  </tbody>\n",
       "</table>\n",
       "</div>"
      ],
      "text/plain": [
       "                                                 name          id  \\\n",
       "0                               Microsoft HealthVault   546835834   \n",
       "1                                       FitnessSyncer  1159207899   \n",
       "2                                            MTBC PHR   499832131   \n",
       "3                                      Accolade, Inc.  1203452254   \n",
       "4                                             Capzule   386321118   \n",
       "5                                          My Medical   347860026   \n",
       "6                           Health Records : GenexEHR  1089533617   \n",
       "7   Healthspek - Personal Health Record & Family H...   576488481   \n",
       "8                                      Medfusion Plus   922524241   \n",
       "9                                                higi   599485135   \n",
       "10                                          Sharecare   964313779   \n",
       "11                                       Aetna Mobile   380845816   \n",
       "12                                  Kaiser Permanente   493390354   \n",
       "13                                            myCigna   569266174   \n",
       "14                          Blue Shield of California   728293729   \n",
       "15                                           MyHumana   779622024   \n",
       "16                                    Anthem Anywhere   589443627   \n",
       "17                     Capital BlueCross Virtual Care  1375554671   \n",
       "\n",
       "                                                  url  price  avgUserRating  \\\n",
       "0   https://itunes.apple.com/us/app/microsoft-heal...   0.00            2.5   \n",
       "1   https://itunes.apple.com/us/app/fitnesssyncer/...   0.00            2.5   \n",
       "2   https://itunes.apple.com/us/app/mtbc-phr/id499...   0.00            4.5   \n",
       "3   https://itunes.apple.com/us/app/accolade-inc/i...   0.00            5.0   \n",
       "4   https://itunes.apple.com/us/app/capzule/id3863...   0.00            3.5   \n",
       "5   https://itunes.apple.com/us/app/my-medical/id3...   4.99            3.5   \n",
       "6   https://itunes.apple.com/us/app/health-records...   0.00            NaN   \n",
       "7   https://itunes.apple.com/us/app/healthspek-per...   0.00            4.0   \n",
       "8   https://itunes.apple.com/us/app/medfusion-plus...   0.00            3.0   \n",
       "9   https://itunes.apple.com/us/app/higi/id5994851...   0.00            3.0   \n",
       "10  https://itunes.apple.com/us/app/sharecare/id96...   0.00            3.0   \n",
       "11  https://itunes.apple.com/us/app/aetna-mobile/i...   0.00            2.0   \n",
       "12  https://itunes.apple.com/us/app/kaiser-permane...   0.00            3.0   \n",
       "13  https://itunes.apple.com/us/app/mycigna/id5692...   0.00            4.5   \n",
       "14  https://itunes.apple.com/us/app/blue-shield-of...   0.00            4.5   \n",
       "15  https://itunes.apple.com/us/app/myhumana/id779...   0.00            3.0   \n",
       "16  https://itunes.apple.com/us/app/anthem-anywher...   0.00            2.0   \n",
       "17  https://itunes.apple.com/us/app/capital-bluecr...   0.00            4.5   \n",
       "\n",
       "    userRatingCount currentVersionReleaseDate  \\\n",
       "0             176.0      2017-11-13T17:55:48Z   \n",
       "1               5.0      2018-09-23T14:35:55Z   \n",
       "2             446.0      2018-07-17T02:21:39Z   \n",
       "3            2623.0      2018-09-27T17:05:37Z   \n",
       "4             126.0      2018-09-14T00:59:33Z   \n",
       "5             679.0      2015-10-09T15:54:32Z   \n",
       "6               NaN      2018-04-24T21:39:06Z   \n",
       "7             117.0      2016-03-19T16:52:58Z   \n",
       "8             101.0      2018-02-16T21:00:26Z   \n",
       "9             230.0      2018-10-25T15:26:12Z   \n",
       "10            125.0      2018-11-05T15:29:02Z   \n",
       "11           1939.0      2018-10-31T16:13:00Z   \n",
       "12           1779.0      2018-09-28T14:06:03Z   \n",
       "13          32819.0      2018-10-31T12:44:47Z   \n",
       "14           2344.0      2018-10-12T01:00:32Z   \n",
       "15            660.0      2018-10-24T19:12:25Z   \n",
       "16           1475.0      2018-11-02T02:00:08Z   \n",
       "17             24.0      2018-09-14T17:00:42Z   \n",
       "\n",
       "                                          description  \n",
       "0   Ever wish you could access medical information...  \n",
       "1   Unify your health and fitness clouds for a com...  \n",
       "2   MTBC Personal Health Record (PHR) has brought ...  \n",
       "3   All the benefits of your Accolade Health Assis...  \n",
       "4   Using too many Health Apps?  Consolidate with ...  \n",
       "5   My Medical is a comprehensive record-keeping a...  \n",
       "6   Your Health Records in your Pocket!  GenexEHR ...  \n",
       "7   * Apple's List: Best New Apps - Medical * 5 St...  \n",
       "8   All of your family’s health data in one place,...  \n",
       "9   Knowing your numbers is the first step to unde...  \n",
       "10  Meet the healthier YOU. Sharecare gives you a ...  \n",
       "11  With Aetna Mobile, your health care is always ...  \n",
       "12  Managing your health care just got easier with...  \n",
       "13  Your health has met its app℠. The myCigna app ...  \n",
       "14  Manage your health care from anywhere with the...  \n",
       "15  MyHumana provides quick and easy access to you...  \n",
       "16  Anthem Anywhere. We’re here to help you make h...  \n",
       "17  The doctor will see you now (literally).  Meet...  "
      ]
     },
     "execution_count": 16,
     "metadata": {},
     "output_type": "execute_result"
    }
   ],
   "source": [
    "pd_metadata"
   ]
  },
  {
   "cell_type": "code",
   "execution_count": 23,
   "metadata": {},
   "outputs": [],
   "source": [
    "metadata_names = pd_metadata['name'].unique()"
   ]
  },
  {
   "cell_type": "code",
   "execution_count": 24,
   "metadata": {},
   "outputs": [],
   "source": [
    "reviews_names = pd_reviews['name'].unique()"
   ]
  },
  {
   "cell_type": "code",
   "execution_count": 27,
   "metadata": {},
   "outputs": [
    {
     "name": "stdout",
     "output_type": "stream",
     "text": [
      "Health Records : GenexEHR\n"
     ]
    }
   ],
   "source": [
    "for name in metadata_names:\n",
    "    if name not in reviews_names:\n",
    "        print(name)"
   ]
  },
  {
   "cell_type": "code",
   "execution_count": 33,
   "metadata": {},
   "outputs": [
    {
     "data": {
      "text/plain": [
       "0"
      ]
     },
     "execution_count": 33,
     "metadata": {},
     "output_type": "execute_result"
    }
   ],
   "source": [
    "len(jsn[6]['recent_reviews'])"
   ]
  },
  {
   "cell_type": "code",
   "execution_count": 47,
   "metadata": {},
   "outputs": [
    {
     "name": "stdout",
     "output_type": "stream",
     "text": [
      "['Health Records : GenexEHR', '1089533617', '', '', ' ', ' ', ' ', ' ', ' ', ' ', ' ', ' ']\n"
     ]
    }
   ],
   "source": [
    "json_data=open(json_path).read()\n",
    "jsn = json.loads(json_data)  \n",
    "# Open the output file\n",
    "csv_data = open(recent_csv_path, 'w')\n",
    "# Create csv writer object\n",
    "csvwriter = csv.writer(csv_data)\n",
    "\n",
    "#Write headers to the output csv file\n",
    "headers = []\n",
    "for head in jsn[0].keys():\n",
    "    if head in ['name','id','avgUserRating', 'userRatingCount']:\n",
    "        headers.append(head)\n",
    "\n",
    "for head in jsn[0]['recent_reviews'][0].keys():\n",
    "    headers.append(head)\n",
    "csvwriter.writerow(headers)\n",
    "\n",
    "#Write recent reviews with one review per row\n",
    "for i in range(1):\n",
    "    if len(jsn[6]['recent_reviews']) != 0:\n",
    "        for j in range(len(jsn[i]['recent_reviews'])):\n",
    "            row = []\n",
    "            for head in headers:\n",
    "                if head in ['name','id','avgUserRating', 'userRatingCount']:\n",
    "                    value = str(jsn[i][head])\n",
    "                    row.append(value)\n",
    "                else:\n",
    "                    value = str(jsn[i]['recent_reviews'][j][head])        \n",
    "                    row.append(value)\n",
    "\n",
    "            csvwriter.writerow(row)\n",
    "    else:\n",
    "        row = []\n",
    "        for head in headers:\n",
    "            if head in ['name','id','avgUserRating', 'userRatingCount']:\n",
    "                value = str(jsn[6][head])\n",
    "                row.append(value)\n",
    "            else:\n",
    "                value = ' '      \n",
    "                row.append(value)\n",
    "    \n",
    "    print(row)\n"
   ]
  },
  {
   "cell_type": "code",
   "execution_count": 46,
   "metadata": {},
   "outputs": [
    {
     "data": {
      "text/plain": [
       "0"
      ]
     },
     "execution_count": 46,
     "metadata": {},
     "output_type": "execute_result"
    }
   ],
   "source": [
    "len(jsn[6]['recent_reviews'])"
   ]
  },
  {
   "cell_type": "code",
   "execution_count": 44,
   "metadata": {},
   "outputs": [
    {
     "data": {
      "text/plain": [
       "{'name': 'Health Records : GenexEHR',\n",
       " 'id': 1089533617,\n",
       " 'url': 'https://itunes.apple.com/us/app/health-records-genexehr/id1089533617?mt=8&uo=4',\n",
       " 'price': 0.0,\n",
       " 'avgUserRating': '',\n",
       " 'userRatingCount': '',\n",
       " 'currentVersionReleaseDate': '2018-04-24T21:39:06Z',\n",
       " 'description': \"Your Health Records in your Pocket!  GenexEHR is a simple App to take control of our health information, freeing us from the confines of a paper world. This gives our doctors, nurses and ourselves the flexibility to access and share our health information securely when and where it's needed.  Having your family's health records handy can help in many situations like: \\xa0 \\xa0A. You have a new doctor who needs the results of past checkup for your father\\xa0 \\xa0 \\xa0B. Your Mother forgets which medicine she's supposed to take \\xa0 \\xa0C. Your child has to go through a Medical Emergency \\xa0 \\xa0D. Your husband is diabetic and requires to record and share the BSL records \\xa0 \\xa0E. Storing Medical files/records like lab reports, Xrays, Allergies, discharge summary, immunization record, BP records etc.  ** Having access to Health records for you and your family's can save more than time, it can save lives. **  Key App Features:  • Capture and Maintain your paper investigations, prescription, Xrays etc in Medical Documents: \\tJust take pictures of your records, store and share via apps like email, whatsapp, google drive, dropbox etc. No need to carry medical files to each doctor. Just show records on your mobile or share records without any restrictions. genexEHR helps you reduce paperwork regarding medical information and gives both you and your doctor enriched information helping better decisions.\\xa0  • Maintain and Share your Glucometer, Blood Pressure and Weight reading: \\tAll of us have a busy life, thus we sometimes forget recording self observations. genexEHR provides automatic reminders as well as facility to share the records / graphs with your doctors in a breeze.\\xa0  • View Prescriptions and get Reminders for individual medicines: \\tGet e-prescriptions from doctors using genexEHR and set reminders. * You can also upload and store physical prescriptions.  • View Lab reports and share: \\tE-Lab reports available from Diagnostic centres and Path Labs using genexEHR. * You can also upload and store pdf reports and photos of physical reports.  • View Medical Exam Records at Institutes: \\tgenexEHR provides application to Institutes and Corporates for conducting health exams and storing medical records for students and employees. The organization gets an application along with a special dashboard to view the health statistics of students, staff and employees.  • Search Doctors and Book Appointments: \\tWe can easily search and book appointments of doctors across India. Reduce your long waiting time by easy queue management.  • Link Accounts of your family and share Medical Records: \\tgenexEHR is for all your family members. You can connect or create upto 6 profiles. Accounts are automatically synchronized. If one parent adds a record for their child, it is notified to the other and record is updated. This ensures that all parents have upto date health records.  genexEHR is not just an app, but a complete Health platform!  Maintaining health record is a team effort involving individuals and care providers like doctors, lab technicians, clinicians... to share information. genexEHR provides a platform to all of them which leads to effective and efficient communication resulting in better healthcare for all of us.  For further details visit www.genexehr.com\",\n",
       " 'recent_reviews': [],\n",
       " 'helpful_reviews': []}"
      ]
     },
     "execution_count": 44,
     "metadata": {},
     "output_type": "execute_result"
    }
   ],
   "source": [
    "jsn[6]"
   ]
  },
  {
   "cell_type": "code",
   "execution_count": null,
   "metadata": {},
   "outputs": [],
   "source": []
  }
 ],
 "metadata": {
  "kernelspec": {
   "display_name": "Python 3",
   "language": "python",
   "name": "python3"
  },
  "language_info": {
   "codemirror_mode": {
    "name": "ipython",
    "version": 3
   },
   "file_extension": ".py",
   "mimetype": "text/x-python",
   "name": "python",
   "nbconvert_exporter": "python",
   "pygments_lexer": "ipython3",
   "version": "3.7.1"
  }
 },
 "nbformat": 4,
 "nbformat_minor": 2
}
