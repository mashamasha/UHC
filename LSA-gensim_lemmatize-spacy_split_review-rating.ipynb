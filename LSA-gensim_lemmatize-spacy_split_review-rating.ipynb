{
 "cells": [
  {
   "cell_type": "code",
   "execution_count": 29,
   "metadata": {},
   "outputs": [],
   "source": [
    "reset -fs"
   ]
  },
  {
   "cell_type": "code",
   "execution_count": 76,
   "metadata": {},
   "outputs": [],
   "source": [
    "import re\n",
    "import string\n",
    "import numpy as np\n",
    "import pandas as pd\n",
    "\n",
    "# spacy for lemmatization\n",
    "import spacy\n",
    "\n",
    "# Gensim\n",
    "import gensim\n",
    "import gensim.corpora as corpora\n",
    "from gensim.utils import simple_preprocess\n",
    "from gensim.models import CoherenceModel\n",
    "\n",
    "# Ntlk for stopwords\n",
    "from nltk.corpus import stopwords\n",
    "\n",
    "# Plotting tools\n",
    "import pyLDAvis\n",
    "import pyLDAvis.gensim  # don't skip this\n",
    "import matplotlib.pyplot as plt\n",
    "%matplotlib inline\n",
    "\n",
    "import logging\n",
    "logging.basicConfig(format='%(asctime)s : %(levelname)s : %(message)s', level=logging.ERROR)\n",
    "\n",
    "import warnings\n",
    "warnings.filterwarnings(\"ignore\",category=DeprecationWarning)"
   ]
  },
  {
   "cell_type": "markdown",
   "metadata": {},
   "source": [
    "# Preprocessing\n",
    "\n",
    "1.  Non-ascii characters are removed\n",
    "2.  Use gensim's simple_preprocess to further remove special characters and punctuation, and tokenize.\n",
    "3.  Remove stop words using NLTK\n",
    "4.  Split data into positive, neutral, and negative reviews.\n",
    "5.  Bigrams and Trigrams using Gensim on each of the above.\n",
    "6.  Lemmatize using spaCy"
   ]
  },
  {
   "cell_type": "code",
   "execution_count": 31,
   "metadata": {},
   "outputs": [
    {
     "name": "stdout",
     "output_type": "stream",
     "text": [
      "(6118, 10)\n"
     ]
    },
    {
     "data": {
      "text/html": [
       "<div>\n",
       "<style scoped>\n",
       "    .dataframe tbody tr th:only-of-type {\n",
       "        vertical-align: middle;\n",
       "    }\n",
       "\n",
       "    .dataframe tbody tr th {\n",
       "        vertical-align: top;\n",
       "    }\n",
       "\n",
       "    .dataframe thead th {\n",
       "        text-align: right;\n",
       "    }\n",
       "</style>\n",
       "<table border=\"1\" class=\"dataframe\">\n",
       "  <thead>\n",
       "    <tr style=\"text-align: right;\">\n",
       "      <th></th>\n",
       "      <th>name</th>\n",
       "      <th>id</th>\n",
       "      <th>title</th>\n",
       "      <th>author_name</th>\n",
       "      <th>author_uri</th>\n",
       "      <th>voteSum</th>\n",
       "      <th>voteCount</th>\n",
       "      <th>rating</th>\n",
       "      <th>text</th>\n",
       "      <th>date</th>\n",
       "    </tr>\n",
       "  </thead>\n",
       "  <tbody>\n",
       "    <tr>\n",
       "      <th>0</th>\n",
       "      <td>Microsoft HealthVault</td>\n",
       "      <td>546835834</td>\n",
       "      <td>Lab Corp blood results</td>\n",
       "      <td>liver transplant patient</td>\n",
       "      <td>https://itunes.apple.com/us/reviews/id782157250</td>\n",
       "      <td>0.0</td>\n",
       "      <td>0.0</td>\n",
       "      <td>1</td>\n",
       "      <td>Lab Corp had my weekly blood work results on t...</td>\n",
       "      <td>2018-08-08 05:03:25</td>\n",
       "    </tr>\n",
       "    <tr>\n",
       "      <th>1</th>\n",
       "      <td>Microsoft HealthVault</td>\n",
       "      <td>546835834</td>\n",
       "      <td>What happened</td>\n",
       "      <td>Bistline</td>\n",
       "      <td>https://itunes.apple.com/us/reviews/id335994415</td>\n",
       "      <td>0.0</td>\n",
       "      <td>0.0</td>\n",
       "      <td>3</td>\n",
       "      <td>This app used to be my favorite. It would sync...</td>\n",
       "      <td>2018-06-27 14:07:45</td>\n",
       "    </tr>\n",
       "    <tr>\n",
       "      <th>2</th>\n",
       "      <td>Microsoft HealthVault</td>\n",
       "      <td>546835834</td>\n",
       "      <td>Great idea</td>\n",
       "      <td>Gdb&amp;&amp;@</td>\n",
       "      <td>https://itunes.apple.com/us/reviews/id216415940</td>\n",
       "      <td>0.0</td>\n",
       "      <td>0.0</td>\n",
       "      <td>5</td>\n",
       "      <td>I have many yrs worth of data now stored. It i...</td>\n",
       "      <td>2018-06-27 10:26:12</td>\n",
       "    </tr>\n",
       "    <tr>\n",
       "      <th>3</th>\n",
       "      <td>Microsoft HealthVault</td>\n",
       "      <td>546835834</td>\n",
       "      <td>Bugs after 11/14/17 update</td>\n",
       "      <td>Agw54</td>\n",
       "      <td>https://itunes.apple.com/us/reviews/id115506088</td>\n",
       "      <td>0.0</td>\n",
       "      <td>0.0</td>\n",
       "      <td>1</td>\n",
       "      <td>Worked ok until 11/14/17 update.  Now you can'...</td>\n",
       "      <td>2018-03-19 06:34:58</td>\n",
       "    </tr>\n",
       "    <tr>\n",
       "      <th>4</th>\n",
       "      <td>Microsoft HealthVault</td>\n",
       "      <td>546835834</td>\n",
       "      <td>HeathVault</td>\n",
       "      <td>rlbarkley</td>\n",
       "      <td>https://itunes.apple.com/us/reviews/id202749603</td>\n",
       "      <td>0.0</td>\n",
       "      <td>0.0</td>\n",
       "      <td>2</td>\n",
       "      <td>I am disappointed with App because MS started ...</td>\n",
       "      <td>2018-02-05 23:30:49</td>\n",
       "    </tr>\n",
       "  </tbody>\n",
       "</table>\n",
       "</div>"
      ],
      "text/plain": [
       "                    name         id                       title  \\\n",
       "0  Microsoft HealthVault  546835834      Lab Corp blood results   \n",
       "1  Microsoft HealthVault  546835834               What happened   \n",
       "2  Microsoft HealthVault  546835834                  Great idea   \n",
       "3  Microsoft HealthVault  546835834  Bugs after 11/14/17 update   \n",
       "4  Microsoft HealthVault  546835834                  HeathVault   \n",
       "\n",
       "                author_name                                       author_uri  \\\n",
       "0  liver transplant patient  https://itunes.apple.com/us/reviews/id782157250   \n",
       "1                  Bistline  https://itunes.apple.com/us/reviews/id335994415   \n",
       "2                    Gdb&&@  https://itunes.apple.com/us/reviews/id216415940   \n",
       "3                     Agw54  https://itunes.apple.com/us/reviews/id115506088   \n",
       "4                 rlbarkley  https://itunes.apple.com/us/reviews/id202749603   \n",
       "\n",
       "   voteSum  voteCount  rating  \\\n",
       "0      0.0        0.0       1   \n",
       "1      0.0        0.0       3   \n",
       "2      0.0        0.0       5   \n",
       "3      0.0        0.0       1   \n",
       "4      0.0        0.0       2   \n",
       "\n",
       "                                                text                 date  \n",
       "0  Lab Corp had my weekly blood work results on t...  2018-08-08 05:03:25  \n",
       "1  This app used to be my favorite. It would sync...  2018-06-27 14:07:45  \n",
       "2  I have many yrs worth of data now stored. It i...  2018-06-27 10:26:12  \n",
       "3  Worked ok until 11/14/17 update.  Now you can'...  2018-03-19 06:34:58  \n",
       "4  I am disappointed with App because MS started ...  2018-02-05 23:30:49  "
      ]
     },
     "execution_count": 31,
     "metadata": {},
     "output_type": "execute_result"
    }
   ],
   "source": [
    "# Load data\n",
    "df = pd.read_csv(\"data/appstore_googleplay_all_reviews.csv\")\n",
    "\n",
    "# Remove NaN rows\n",
    "df = df[df['text'].isna() == False]\n",
    "\n",
    "print(df.shape)\n",
    "df.head()"
   ]
  },
  {
   "cell_type": "code",
   "execution_count": 32,
   "metadata": {},
   "outputs": [
    {
     "data": {
      "text/plain": [
       "\"Worked ok until 11/14/17 update.  Now you can't put in notes-keyboard covers up note section. iPhone v10.3.3. ****** UPDATE:  After updating my iPhone 6S to the latest iOS 11.2.6, data canâ€™t be inputted.  ??? Come on guys, letâ€™s get this fixed please.\""
      ]
     },
     "execution_count": 32,
     "metadata": {},
     "output_type": "execute_result"
    }
   ],
   "source": [
    "df['text'][3]"
   ]
  },
  {
   "cell_type": "markdown",
   "metadata": {},
   "source": [
    "## Clean and tokenize text"
   ]
  },
  {
   "cell_type": "code",
   "execution_count": 33,
   "metadata": {},
   "outputs": [],
   "source": [
    "# Prepare stopwords\n",
    "\n",
    "stop_words = stopwords.words('english')\n",
    "stop_words.extend(['app', 'use', 'subject', 'would', 'get'])"
   ]
  },
  {
   "cell_type": "code",
   "execution_count": 34,
   "metadata": {},
   "outputs": [],
   "source": [
    "def clean_tokenize(text):\n",
    "    text = ''.join(list(filter(lambda x: x in set(string.printable), text)))  # remove all non-ascii characters\n",
    "    text = simple_preprocess(text, deacc=True) # remove all special characters, punctuation and tokenize\n",
    "    #text = [word for word in text if len(word) > 2]  # remove short words\n",
    "    text = [word for word in text if word not in stop_words]  # remove stopwords\n",
    "    return text"
   ]
  },
  {
   "cell_type": "code",
   "execution_count": 35,
   "metadata": {},
   "outputs": [
    {
     "name": "stdout",
     "output_type": "stream",
     "text": [
      "                    name         id                   title  \\\n",
      "0  Microsoft HealthVault  546835834  Lab Corp blood results   \n",
      "1  Microsoft HealthVault  546835834           What happened   \n",
      "\n",
      "                author_name                                       author_uri  \\\n",
      "0  liver transplant patient  https://itunes.apple.com/us/reviews/id782157250   \n",
      "1                  Bistline  https://itunes.apple.com/us/reviews/id335994415   \n",
      "\n",
      "   voteSum  voteCount  rating  \\\n",
      "0      0.0        0.0       1   \n",
      "1      0.0        0.0       3   \n",
      "\n",
      "                                                text                 date  \\\n",
      "0  Lab Corp had my weekly blood work results on t...  2018-08-08 05:03:25   \n",
      "1  This app used to be my favorite. It would sync...  2018-06-27 14:07:45   \n",
      "\n",
      "                                      text_tokenized  \n",
      "0  [lab, corp, weekly, blood, work, results, last...  \n",
      "1  [used, favorite, sync, apps, pull, medical, in...  \n"
     ]
    }
   ],
   "source": [
    "# Tokenize words and clean up text\n",
    "data_words = list(df['text'].map(clean_tokenize))\n",
    "df['text_tokenized'] = data_words\n",
    "\n",
    "print(df.head(2))"
   ]
  },
  {
   "cell_type": "markdown",
   "metadata": {},
   "source": [
    "## Split reviews based on rating (positive, neutral, negative)"
   ]
  },
  {
   "cell_type": "code",
   "execution_count": 36,
   "metadata": {},
   "outputs": [],
   "source": [
    "df_pos = df[df['rating'] > 3]\n",
    "df_neu = df[df['rating'] == 3]\n",
    "df_neg = df[df['rating'] < 3]\n",
    "\n",
    "data_words_pos = list(df_pos['text_tokenized'])\n",
    "data_words_neu = list(df_neu['text_tokenized'])\n",
    "data_words_neg = list(df_neg['text_tokenized'])"
   ]
  },
  {
   "cell_type": "markdown",
   "metadata": {},
   "source": [
    "## Create Bigram and Trigram models"
   ]
  },
  {
   "cell_type": "code",
   "execution_count": 37,
   "metadata": {},
   "outputs": [],
   "source": [
    "def create_bigram_trigram(data_words, min_count=5):\n",
    "    \"\"\"\n",
    "    Creates and returns bigram and trigram models from tokenized text.\n",
    "    \"\"\"\n",
    "    \n",
    "    bigram = gensim.models.Phrases(data_words, min_count=min_count) # higher threshold fewer phrases.\n",
    "    trigram = gensim.models.Phrases(bigram[data_words])  \n",
    "\n",
    "    # Faster way to get a sentence clubbed as a trigram/bigram\n",
    "    bigram_mod = gensim.models.phrases.Phraser(bigram)\n",
    "    trigram_mod = gensim.models.phrases.Phraser(trigram)\n",
    "    \n",
    "    return (bigram_mod, trigram_mod)"
   ]
  },
  {
   "cell_type": "code",
   "execution_count": 38,
   "metadata": {},
   "outputs": [
    {
     "name": "stderr",
     "output_type": "stream",
     "text": [
      "/home/tomo/anaconda3/envs/uhc/lib/python3.6/site-packages/gensim/models/phrases.py:494: UserWarning: For a faster implementation, use the gensim.models.phrases.Phraser class\n",
      "  warnings.warn(\"For a faster implementation, use the gensim.models.phrases.Phraser class\")\n"
     ]
    }
   ],
   "source": [
    "# Create bigram/trigram models\n",
    "bigram_mod_pos, trigram_mod_pos = create_bigram_trigram(data_words_pos)\n",
    "bigram_mod_neu, trigram_mod_neu = create_bigram_trigram(data_words_neu)\n",
    "bigram_mod_neg, trigram_mod_neg = create_bigram_trigram(data_words_neg)\n",
    "\n",
    "# Create bigrams\n",
    "data_words_bigrams_pos = [bigram_mod_pos[doc] for doc in data_words_pos]\n",
    "data_words_bigrams_neu = [bigram_mod_neu[doc] for doc in data_words_neu]\n",
    "data_words_bigrams_neg = [bigram_mod_neg[doc] for doc in data_words_neg]\n",
    "\n",
    "# Create trigrams\n",
    "data_words_trigrams_pos = [trigram_mod_pos[bigram_mod_pos[doc]] for doc in data_words_pos]\n",
    "data_words_trigrams_neu = [trigram_mod_neu[bigram_mod_neu[doc]] for doc in data_words_neu]\n",
    "data_words_trigrams_neg = [trigram_mod_neg[bigram_mod_neg[doc]] for doc in data_words_neg]"
   ]
  },
  {
   "cell_type": "code",
   "execution_count": 39,
   "metadata": {},
   "outputs": [
    {
     "name": "stdout",
     "output_type": "stream",
     "text": [
      "['many', 'yrs', 'worth', 'data', 'stored', 'primarily', 'data', 'place', 'runs', 'walks', 'blood_pressure', 'weight', 'seeing', 'slowly', 'increase', 'placed', 'scanned', 'old', 'medical_records', 'rx', 'ect', 'companies', 'cooperated', 'fitbit', 'work', 'understand', 'highly', 'regulated', 'field', 'government', 'place', 'hefty', 'fines', 'ms', 'tries', 'reduce', 'risk', 'fear', 'ms', 'close', 'venture', 'one', 'day']\n"
     ]
    }
   ],
   "source": [
    "print(data_words_bigrams_pos[0])"
   ]
  },
  {
   "cell_type": "markdown",
   "metadata": {},
   "source": [
    "## Lemmatization using spaCy"
   ]
  },
  {
   "cell_type": "code",
   "execution_count": 40,
   "metadata": {},
   "outputs": [],
   "source": [
    "def lemmatization(texts, allowed_postags=['NOUN', 'ADJ', 'VERB', 'ADV']):\n",
    "    \"\"\"https://spacy.io/api/annotation\"\"\"\n",
    "    texts_out = []\n",
    "    for sent in texts:\n",
    "        doc = nlp(\" \".join(sent)) \n",
    "        texts_out.append([token.lemma_ for token in doc if token.pos_ in allowed_postags])\n",
    "    return texts_out"
   ]
  },
  {
   "cell_type": "code",
   "execution_count": 41,
   "metadata": {},
   "outputs": [
    {
     "name": "stdout",
     "output_type": "stream",
     "text": [
      "['many', 'yrs', 'worth', 'datum', 'store', 'primarily', 'datum', 'place', 'run', 'walk', 'blood_pressure', 'weight', 'see', 'slowly', 'increase', 'place', 'scan', 'old', 'medical_record', 'ect', 'company', 'cooperate', 'fitbit', 'work', 'understand', 'highly', 'regulated', 'field', 'government', 'place', 'hefty', 'fine', 'ms', 'try', 'reduce', 'risk', 'fear', 'ms', 'close', 'venture', 'day']\n"
     ]
    }
   ],
   "source": [
    "# python3 -m spacy download en\n",
    "nlp = spacy.load('en', disable=['parser', 'ner'])\n",
    "\n",
    "# Do lemmatization keeping only noun, adj, vb, adv\n",
    "data_lemmatized_pos = lemmatization(data_words_bigrams_pos, allowed_postags=['NOUN', 'ADJ', 'VERB', 'ADV'])\n",
    "data_lemmatized_neu = lemmatization(data_words_bigrams_neu, allowed_postags=['NOUN', 'ADJ', 'VERB', 'ADV'])\n",
    "data_lemmatized_neg = lemmatization(data_words_bigrams_neg, allowed_postags=['NOUN', 'ADJ', 'VERB', 'ADV'])\n",
    "\n",
    "print(data_lemmatized_pos[0])"
   ]
  },
  {
   "cell_type": "markdown",
   "metadata": {},
   "source": [
    "## Save preprocessed text"
   ]
  },
  {
   "cell_type": "code",
   "execution_count": 42,
   "metadata": {},
   "outputs": [],
   "source": [
    "# Insert preprocessed data back into original dataframe\n",
    "df.insert(len(df.columns), 'text_preprocessed', '')\n",
    "df.iloc[df.index[df['rating']>3].tolist(), -1] = [' '.join(doc) for doc in data_lemmatized_pos]\n",
    "df.iloc[df.index[df['rating']==3].tolist(), -1] = [' '.join(doc) for doc in data_lemmatized_neu]\n",
    "df.iloc[df.index[df['rating']<3].tolist(), -1] = [' '.join(doc) for doc in data_lemmatized_neg]"
   ]
  },
  {
   "cell_type": "code",
   "execution_count": 43,
   "metadata": {},
   "outputs": [
    {
     "name": "stdout",
     "output_type": "stream",
     "text": [
      "(6118, 12)\n"
     ]
    },
    {
     "data": {
      "text/html": [
       "<div>\n",
       "<style scoped>\n",
       "    .dataframe tbody tr th:only-of-type {\n",
       "        vertical-align: middle;\n",
       "    }\n",
       "\n",
       "    .dataframe tbody tr th {\n",
       "        vertical-align: top;\n",
       "    }\n",
       "\n",
       "    .dataframe thead th {\n",
       "        text-align: right;\n",
       "    }\n",
       "</style>\n",
       "<table border=\"1\" class=\"dataframe\">\n",
       "  <thead>\n",
       "    <tr style=\"text-align: right;\">\n",
       "      <th></th>\n",
       "      <th>name</th>\n",
       "      <th>id</th>\n",
       "      <th>title</th>\n",
       "      <th>author_name</th>\n",
       "      <th>author_uri</th>\n",
       "      <th>voteSum</th>\n",
       "      <th>voteCount</th>\n",
       "      <th>rating</th>\n",
       "      <th>text</th>\n",
       "      <th>date</th>\n",
       "      <th>text_tokenized</th>\n",
       "      <th>text_preprocessed</th>\n",
       "    </tr>\n",
       "  </thead>\n",
       "  <tbody>\n",
       "    <tr>\n",
       "      <th>0</th>\n",
       "      <td>Microsoft HealthVault</td>\n",
       "      <td>546835834</td>\n",
       "      <td>Lab Corp blood results</td>\n",
       "      <td>liver transplant patient</td>\n",
       "      <td>https://itunes.apple.com/us/reviews/id782157250</td>\n",
       "      <td>0.0</td>\n",
       "      <td>0.0</td>\n",
       "      <td>1</td>\n",
       "      <td>Lab Corp had my weekly blood work results on t...</td>\n",
       "      <td>2018-08-08 05:03:25</td>\n",
       "      <td>[lab, corp, weekly, blood, work, results, last...</td>\n",
       "      <td>lab corp weekly blood work result last months_...</td>\n",
       "    </tr>\n",
       "    <tr>\n",
       "      <th>1</th>\n",
       "      <td>Microsoft HealthVault</td>\n",
       "      <td>546835834</td>\n",
       "      <td>What happened</td>\n",
       "      <td>Bistline</td>\n",
       "      <td>https://itunes.apple.com/us/reviews/id335994415</td>\n",
       "      <td>0.0</td>\n",
       "      <td>0.0</td>\n",
       "      <td>3</td>\n",
       "      <td>This app used to be my favorite. It would sync...</td>\n",
       "      <td>2018-06-27 14:07:45</td>\n",
       "      <td>[used, favorite, sync, apps, pull, medical, in...</td>\n",
       "      <td>use favorite sync app pull medical info labcor...</td>\n",
       "    </tr>\n",
       "  </tbody>\n",
       "</table>\n",
       "</div>"
      ],
      "text/plain": [
       "                    name         id                   title  \\\n",
       "0  Microsoft HealthVault  546835834  Lab Corp blood results   \n",
       "1  Microsoft HealthVault  546835834           What happened   \n",
       "\n",
       "                author_name                                       author_uri  \\\n",
       "0  liver transplant patient  https://itunes.apple.com/us/reviews/id782157250   \n",
       "1                  Bistline  https://itunes.apple.com/us/reviews/id335994415   \n",
       "\n",
       "   voteSum  voteCount  rating  \\\n",
       "0      0.0        0.0       1   \n",
       "1      0.0        0.0       3   \n",
       "\n",
       "                                                text                 date  \\\n",
       "0  Lab Corp had my weekly blood work results on t...  2018-08-08 05:03:25   \n",
       "1  This app used to be my favorite. It would sync...  2018-06-27 14:07:45   \n",
       "\n",
       "                                      text_tokenized  \\\n",
       "0  [lab, corp, weekly, blood, work, results, last...   \n",
       "1  [used, favorite, sync, apps, pull, medical, in...   \n",
       "\n",
       "                                   text_preprocessed  \n",
       "0  lab corp weekly blood work result last months_...  \n",
       "1  use favorite sync app pull medical info labcor...  "
      ]
     },
     "execution_count": 43,
     "metadata": {},
     "output_type": "execute_result"
    }
   ],
   "source": [
    "print(df.shape)\n",
    "df.head(2)"
   ]
  },
  {
   "cell_type": "code",
   "execution_count": 44,
   "metadata": {},
   "outputs": [
    {
     "name": "stdout",
     "output_type": "stream",
     "text": [
      "(6097, 12)\n"
     ]
    },
    {
     "data": {
      "text/html": [
       "<div>\n",
       "<style scoped>\n",
       "    .dataframe tbody tr th:only-of-type {\n",
       "        vertical-align: middle;\n",
       "    }\n",
       "\n",
       "    .dataframe tbody tr th {\n",
       "        vertical-align: top;\n",
       "    }\n",
       "\n",
       "    .dataframe thead th {\n",
       "        text-align: right;\n",
       "    }\n",
       "</style>\n",
       "<table border=\"1\" class=\"dataframe\">\n",
       "  <thead>\n",
       "    <tr style=\"text-align: right;\">\n",
       "      <th></th>\n",
       "      <th>name</th>\n",
       "      <th>id</th>\n",
       "      <th>title</th>\n",
       "      <th>author_name</th>\n",
       "      <th>author_uri</th>\n",
       "      <th>voteSum</th>\n",
       "      <th>voteCount</th>\n",
       "      <th>rating</th>\n",
       "      <th>text</th>\n",
       "      <th>date</th>\n",
       "      <th>text_tokenized</th>\n",
       "      <th>text_preprocessed</th>\n",
       "    </tr>\n",
       "  </thead>\n",
       "  <tbody>\n",
       "    <tr>\n",
       "      <th>0</th>\n",
       "      <td>Microsoft HealthVault</td>\n",
       "      <td>546835834</td>\n",
       "      <td>Lab Corp blood results</td>\n",
       "      <td>liver transplant patient</td>\n",
       "      <td>https://itunes.apple.com/us/reviews/id782157250</td>\n",
       "      <td>0.0</td>\n",
       "      <td>0.0</td>\n",
       "      <td>1</td>\n",
       "      <td>Lab Corp had my weekly blood work results on t...</td>\n",
       "      <td>2018-08-08 05:03:25</td>\n",
       "      <td>[lab, corp, weekly, blood, work, results, last...</td>\n",
       "      <td>lab corp weekly blood work result last months_...</td>\n",
       "    </tr>\n",
       "    <tr>\n",
       "      <th>1</th>\n",
       "      <td>Microsoft HealthVault</td>\n",
       "      <td>546835834</td>\n",
       "      <td>What happened</td>\n",
       "      <td>Bistline</td>\n",
       "      <td>https://itunes.apple.com/us/reviews/id335994415</td>\n",
       "      <td>0.0</td>\n",
       "      <td>0.0</td>\n",
       "      <td>3</td>\n",
       "      <td>This app used to be my favorite. It would sync...</td>\n",
       "      <td>2018-06-27 14:07:45</td>\n",
       "      <td>[used, favorite, sync, apps, pull, medical, in...</td>\n",
       "      <td>use favorite sync app pull medical info labcor...</td>\n",
       "    </tr>\n",
       "  </tbody>\n",
       "</table>\n",
       "</div>"
      ],
      "text/plain": [
       "                    name         id                   title  \\\n",
       "0  Microsoft HealthVault  546835834  Lab Corp blood results   \n",
       "1  Microsoft HealthVault  546835834           What happened   \n",
       "\n",
       "                author_name                                       author_uri  \\\n",
       "0  liver transplant patient  https://itunes.apple.com/us/reviews/id782157250   \n",
       "1                  Bistline  https://itunes.apple.com/us/reviews/id335994415   \n",
       "\n",
       "   voteSum  voteCount  rating  \\\n",
       "0      0.0        0.0       1   \n",
       "1      0.0        0.0       3   \n",
       "\n",
       "                                                text                 date  \\\n",
       "0  Lab Corp had my weekly blood work results on t...  2018-08-08 05:03:25   \n",
       "1  This app used to be my favorite. It would sync...  2018-06-27 14:07:45   \n",
       "\n",
       "                                      text_tokenized  \\\n",
       "0  [lab, corp, weekly, blood, work, results, last...   \n",
       "1  [used, favorite, sync, apps, pull, medical, in...   \n",
       "\n",
       "                                   text_preprocessed  \n",
       "0  lab corp weekly blood work result last months_...  \n",
       "1  use favorite sync app pull medical info labcor...  "
      ]
     },
     "execution_count": 44,
     "metadata": {},
     "output_type": "execute_result"
    }
   ],
   "source": [
    "df = df[df['text_preprocessed'] != '']  # remove rows with no text after cleaning\n",
    "print(df.shape)\n",
    "df.head(2)"
   ]
  },
  {
   "cell_type": "code",
   "execution_count": 45,
   "metadata": {},
   "outputs": [],
   "source": [
    "df.to_csv(\"data/all_reviews_preproc_sw-nltk_bi-trigram-gensim_lemmatize-spacy_tomo.csv\", index=False)"
   ]
  },
  {
   "cell_type": "markdown",
   "metadata": {},
   "source": [
    "# Topic Modeling\n",
    "An independent LSI model for positive, neutral, and negative reviews"
   ]
  },
  {
   "cell_type": "code",
   "execution_count": 46,
   "metadata": {},
   "outputs": [],
   "source": [
    "df = pd.read_csv(\"data/all_reviews_preproc_sw-nltk_bi-trigram-gensim_lemmatize-spacy_tomo.csv\")\n",
    "\n",
    "data_lemmatized_pos = list(df[df['rating']>3]['text_preprocessed'])\n",
    "data_lemmatized_neu = list(df[df['rating']==3]['text_preprocessed'])\n",
    "data_lemmatized_neg = list(df[df['rating']<3]['text_preprocessed'])\n",
    "\n",
    "data_lemmatized_pos = [words.split() for words in data_lemmatized_pos]\n",
    "data_lemmatized_neu = [words.split() for words in data_lemmatized_neu]\n",
    "data_lemmatized_neg = [words.split() for words in data_lemmatized_neg]"
   ]
  },
  {
   "cell_type": "code",
   "execution_count": 47,
   "metadata": {},
   "outputs": [
    {
     "name": "stdout",
     "output_type": "stream",
     "text": [
      "['many', 'yrs', 'worth', 'datum', 'store', 'primarily', 'datum', 'place', 'run', 'walk', 'blood_pressure', 'weight', 'see', 'slowly', 'increase', 'place', 'scan', 'old', 'medical_record', 'ect', 'company', 'cooperate', 'fitbit', 'work', 'understand', 'highly', 'regulated', 'field', 'government', 'place', 'hefty', 'fine', 'ms', 'try', 'reduce', 'risk', 'fear', 'ms', 'close', 'venture', 'day']\n"
     ]
    }
   ],
   "source": [
    "print(data_lemmatized_pos[0])"
   ]
  },
  {
   "cell_type": "markdown",
   "metadata": {},
   "source": [
    "## Create dictionary and corpus"
   ]
  },
  {
   "cell_type": "code",
   "execution_count": 48,
   "metadata": {},
   "outputs": [],
   "source": [
    "def create_id2word_corpus(docs):\n",
    "    id2word = corpora.Dictionary(docs)\n",
    "\n",
    "    # document to bag-of-words\n",
    "    corpus = [id2word.doc2bow(text) for text in docs]\n",
    "    \n",
    "    return(id2word, corpus)"
   ]
  },
  {
   "cell_type": "code",
   "execution_count": 49,
   "metadata": {},
   "outputs": [
    {
     "name": "stdout",
     "output_type": "stream",
     "text": [
      "[[(0, 1), (1, 1), (2, 1), (3, 1), (4, 2), (5, 1), (6, 1), (7, 1), (8, 1), (9, 1), (10, 1), (11, 1), (12, 1), (13, 1), (14, 1), (15, 1), (16, 1), (17, 2), (18, 1), (19, 3), (20, 1), (21, 1), (22, 1), (23, 1), (24, 1), (25, 1), (26, 1), (27, 1), (28, 1), (29, 1), (30, 1), (31, 1), (32, 1), (33, 1), (34, 1), (35, 1), (36, 1)]]\n"
     ]
    }
   ],
   "source": [
    "id2word_pos, corpus_pos = create_id2word_corpus(data_lemmatized_pos)\n",
    "id2word_neu, corpus_neu = create_id2word_corpus(data_lemmatized_neu)\n",
    "id2word_neg, corpus_neg = create_id2word_corpus(data_lemmatized_neg)\n",
    "print(corpus_pos[:1])"
   ]
  },
  {
   "cell_type": "code",
   "execution_count": 50,
   "metadata": {},
   "outputs": [
    {
     "name": "stdout",
     "output_type": "stream",
     "text": [
      "[[('blood_pressure', 1), ('close', 1), ('company', 1), ('cooperate', 1), ('datum', 2), ('day', 1), ('ect', 1), ('fear', 1), ('field', 1), ('fine', 1), ('fitbit', 1), ('government', 1), ('hefty', 1), ('highly', 1), ('increase', 1), ('many', 1), ('medical_record', 1), ('ms', 2), ('old', 1), ('place', 3), ('primarily', 1), ('reduce', 1), ('regulated', 1), ('risk', 1), ('run', 1), ('scan', 1), ('see', 1), ('slowly', 1), ('store', 1), ('try', 1), ('understand', 1), ('venture', 1), ('walk', 1), ('weight', 1), ('work', 1), ('worth', 1), ('yrs', 1)]]\n"
     ]
    }
   ],
   "source": [
    "print([[(id2word_pos[id], freq) for id, freq in cp] for cp in corpus_pos[:1]])"
   ]
  },
  {
   "cell_type": "markdown",
   "metadata": {},
   "source": [
    "## Build LSA/LSI model"
   ]
  },
  {
   "cell_type": "code",
   "execution_count": 51,
   "metadata": {},
   "outputs": [],
   "source": [
    "from gensim.models import LsiModel"
   ]
  },
  {
   "cell_type": "code",
   "execution_count": 52,
   "metadata": {},
   "outputs": [],
   "source": [
    "def create_lsi_model(corpus, id2word, num_topics=20,\n",
    "                     chunksize=100, onepass=False):\n",
    "    lsi_model = LsiModel(corpus=corpus,\n",
    "                         id2word=id2word,\n",
    "                         num_topics=num_topics,\n",
    "                         chunksize=chunksize,\n",
    "                         onepass=onepass\n",
    "                        )\n",
    "    return lsi_model"
   ]
  },
  {
   "cell_type": "code",
   "execution_count": 53,
   "metadata": {},
   "outputs": [],
   "source": [
    "lsi_model_pos = create_lsi_model(corpus_pos, id2word_pos)\n",
    "lsi_model_neu = create_lsi_model(corpus_neu, id2word_neu)\n",
    "lsi_model_neg = create_lsi_model(corpus_neg, id2word_neg)"
   ]
  },
  {
   "cell_type": "code",
   "execution_count": 66,
   "metadata": {},
   "outputs": [
    {
     "data": {
      "text/plain": [
       "[(0,\n",
       "  '0.271*\"doctor\" + 0.229*\"great\" + 0.216*\"love\" + 0.199*\"easy\" + 0.194*\"info\" + 0.179*\"need\" + 0.170*\"good\" + 0.166*\"information\" + 0.165*\"make\" + 0.157*\"medical\"'),\n",
       " (1,\n",
       "  '0.702*\"doctor\" + -0.306*\"great\" + 0.226*\"love\" + -0.154*\"work\" + -0.141*\"feature\" + -0.112*\"health\" + -0.104*\"update\" + 0.102*\"easy\" + -0.094*\"dropbox\" + -0.088*\"issue\"'),\n",
       " (2,\n",
       "  '-0.671*\"easy\" + 0.314*\"info\" + 0.259*\"doctor\" + -0.249*\"love\" + -0.218*\"make\" + 0.137*\"medical\" + -0.118*\"good\" + -0.116*\"information\" + -0.097*\"find\" + 0.092*\"iphone\"'),\n",
       " (3,\n",
       "  '0.795*\"love\" + -0.254*\"doctor\" + -0.230*\"great\" + -0.213*\"easy\" + -0.195*\"good\" + -0.149*\"information\" + 0.114*\"see\" + -0.107*\"make\" + 0.080*\"info\" + -0.074*\"need\"'),\n",
       " (4,\n",
       "  '-0.729*\"great\" + 0.285*\"good\" + -0.198*\"love\" + -0.191*\"info\" + 0.175*\"use\" + 0.145*\"need\" + 0.139*\"log\" + 0.139*\"find\" + 0.098*\"touch_id\" + 0.096*\"feature\"')]"
      ]
     },
     "execution_count": 66,
     "metadata": {},
     "output_type": "execute_result"
    }
   ],
   "source": [
    "lsi_model_pos.print_topics()[:5]"
   ]
  },
  {
   "cell_type": "code",
   "execution_count": 67,
   "metadata": {},
   "outputs": [
    {
     "data": {
      "text/plain": [
       "[(0,\n",
       "  '0.231*\"work\" + 0.226*\"see\" + 0.214*\"appointment\" + 0.208*\"make\" + 0.191*\"doctor\" + 0.179*\"need\" + 0.174*\"time\" + 0.142*\"not\" + 0.142*\"good\" + 0.133*\"datum\"'),\n",
       " (1,\n",
       "  '-0.405*\"datum\" + 0.282*\"appointment\" + -0.178*\"could\" + -0.171*\"not\" + 0.165*\"time\" + -0.158*\"health\" + 0.155*\"doctor\" + -0.144*\"report\" + 0.138*\"make\" + -0.137*\"level\"'),\n",
       " (2,\n",
       "  '0.445*\"appointment\" + -0.408*\"password\" + -0.281*\"claim\" + 0.175*\"make\" + -0.145*\"user\" + 0.129*\"provider\" + -0.123*\"time\" + -0.117*\"issue\" + 0.116*\"work\" + -0.113*\"log\"'),\n",
       " (3,\n",
       "  '-0.308*\"work\" + 0.209*\"see\" + 0.197*\"claim\" + -0.188*\"info\" + -0.174*\"bug\" + -0.167*\"program\" + -0.163*\"computer\" + -0.161*\"icloud\" + -0.158*\"mac\" + 0.152*\"not\"'),\n",
       " (4,\n",
       "  '0.376*\"password\" + 0.199*\"good\" + -0.188*\"need\" + -0.187*\"add\" + 0.164*\"provider\" + 0.157*\"take\" + 0.154*\"log\" + -0.141*\"want\" + 0.137*\"name\" + -0.130*\"contact\"')]"
      ]
     },
     "execution_count": 67,
     "metadata": {},
     "output_type": "execute_result"
    }
   ],
   "source": [
    "lsi_model_neu.print_topics()[:5]"
   ]
  },
  {
   "cell_type": "code",
   "execution_count": 68,
   "metadata": {},
   "outputs": [
    {
     "data": {
      "text/plain": [
       "[(0,\n",
       "  '0.315*\"work\" + 0.270*\"not\" + 0.265*\"try\" + 0.175*\"log\" + 0.174*\"update\" + 0.165*\"go\" + 0.156*\"time\" + 0.142*\"even\" + 0.138*\"can\" + 0.134*\"need\"'),\n",
       " (1,\n",
       "  '-0.755*\"not\" + -0.428*\"can\" + 0.228*\"work\" + -0.212*\"do\" + 0.087*\"try\" + 0.084*\"update\" + -0.079*\"be\" + 0.078*\"need\" + 0.075*\"take\" + 0.071*\"time\"'),\n",
       " (2,\n",
       "  '-0.755*\"work\" + 0.233*\"doctor\" + 0.165*\"go\" + -0.149*\"log\" + -0.148*\"try\" + -0.135*\"password\" + 0.131*\"find\" + 0.111*\"see\" + -0.102*\"login\" + 0.099*\"take\"'),\n",
       " (3,\n",
       "  '0.490*\"log\" + 0.463*\"password\" + -0.408*\"work\" + 0.325*\"try\" + 0.172*\"get\" + -0.155*\"not\" + 0.125*\"login\" + 0.112*\"account\" + -0.093*\"doctor\" + -0.089*\"update\"'),\n",
       " (4,\n",
       "  '-0.623*\"update\" + 0.487*\"try\" + -0.260*\"password\" + -0.146*\"log\" + 0.136*\"doctor\" + 0.130*\"even\" + 0.118*\"find\" + 0.114*\"call\" + -0.099*\"sync\" + -0.095*\"support\"')]"
      ]
     },
     "execution_count": 68,
     "metadata": {},
     "output_type": "execute_result"
    }
   ],
   "source": [
    "lsi_model_neg.print_topics()[:5]"
   ]
  },
  {
   "cell_type": "markdown",
   "metadata": {},
   "source": [
    "The word \"get\" is in nearly every topic so I will remove it."
   ]
  },
  {
   "cell_type": "code",
   "execution_count": 64,
   "metadata": {},
   "outputs": [
    {
     "name": "stdout",
     "output_type": "stream",
     "text": [
      "\n",
      "Coherence Score for Positive Reviews:  0.5204274910296149\n",
      "\n",
      "Coherence Score for Neutral Reviews:  0.3934726366639393\n",
      "\n",
      "Coherence Score for Negative Reviews:  0.4725735135637558\n"
     ]
    }
   ],
   "source": [
    "coherence_model_lsi_pos = CoherenceModel(model=lsi_model_pos, texts=data_lemmatized_pos, dictionary=id2word_pos, coherence='c_v')\n",
    "coherence_lsi_pos = coherence_model_lsi_pos.get_coherence()\n",
    "print('\\nCoherence Score for Positive Reviews: ', coherence_lsi_pos)\n",
    "coherence_model_lsi_neu = CoherenceModel(model=lsi_model_neu, texts=data_lemmatized_neu, dictionary=id2word_neu, coherence='c_v')\n",
    "coherence_lsi_neu = coherence_model_lsi_neu.get_coherence()\n",
    "print('\\nCoherence Score for Neutral Reviews: ', coherence_lsi_neu)\n",
    "coherence_model_lsi_neg = CoherenceModel(model=lsi_model_neg, texts=data_lemmatized_neg, dictionary=id2word_neg, coherence='c_v')\n",
    "coherence_lsi_neg = coherence_model_lsi_neg.get_coherence()\n",
    "print('\\nCoherence Score for Negative Reviews: ', coherence_lsi_neg)"
   ]
  },
  {
   "cell_type": "markdown",
   "metadata": {},
   "source": [
    "## Visualize the topics\n"
   ]
  },
  {
   "cell_type": "code",
   "execution_count": 65,
   "metadata": {},
   "outputs": [
    {
     "ename": "AttributeError",
     "evalue": "'LsiModel' object has no attribute 'inference'",
     "output_type": "error",
     "traceback": [
      "\u001b[0;31m---------------------------------------------------------------------------\u001b[0m",
      "\u001b[0;31mAttributeError\u001b[0m                            Traceback (most recent call last)",
      "\u001b[0;32m<ipython-input-65-be81dfca14d3>\u001b[0m in \u001b[0;36m<module>\u001b[0;34m\u001b[0m\n\u001b[1;32m      1\u001b[0m \u001b[0;31m# Visualize the topics\u001b[0m\u001b[0;34m\u001b[0m\u001b[0;34m\u001b[0m\u001b[0m\n\u001b[1;32m      2\u001b[0m \u001b[0mpyLDAvis\u001b[0m\u001b[0;34m.\u001b[0m\u001b[0menable_notebook\u001b[0m\u001b[0;34m(\u001b[0m\u001b[0;34m)\u001b[0m\u001b[0;34m\u001b[0m\u001b[0m\n\u001b[0;32m----> 3\u001b[0;31m \u001b[0mvis\u001b[0m \u001b[0;34m=\u001b[0m \u001b[0mpyLDAvis\u001b[0m\u001b[0;34m.\u001b[0m\u001b[0mgensim\u001b[0m\u001b[0;34m.\u001b[0m\u001b[0mprepare\u001b[0m\u001b[0;34m(\u001b[0m\u001b[0mlsi_model_pos\u001b[0m\u001b[0;34m,\u001b[0m \u001b[0mcorpus_pos\u001b[0m\u001b[0;34m,\u001b[0m \u001b[0mid2word_pos\u001b[0m\u001b[0;34m)\u001b[0m\u001b[0;34m\u001b[0m\u001b[0m\n\u001b[0m\u001b[1;32m      4\u001b[0m \u001b[0mvis\u001b[0m\u001b[0;34m\u001b[0m\u001b[0m\n",
      "\u001b[0;32m~/anaconda3/envs/uhc/lib/python3.6/site-packages/pyLDAvis/gensim.py\u001b[0m in \u001b[0;36mprepare\u001b[0;34m(topic_model, corpus, dictionary, doc_topic_dist, **kwargs)\u001b[0m\n\u001b[1;32m    116\u001b[0m     \u001b[0mSee\u001b[0m\u001b[0;31m \u001b[0m\u001b[0;31m`\u001b[0m\u001b[0mpyLDAvis\u001b[0m\u001b[0;34m.\u001b[0m\u001b[0mprepare\u001b[0m\u001b[0;31m`\u001b[0m \u001b[0;32mfor\u001b[0m \u001b[0;34m**\u001b[0m\u001b[0mkwargs\u001b[0m\u001b[0;34m.\u001b[0m\u001b[0;34m\u001b[0m\u001b[0m\n\u001b[1;32m    117\u001b[0m     \"\"\"\n\u001b[0;32m--> 118\u001b[0;31m     \u001b[0mopts\u001b[0m \u001b[0;34m=\u001b[0m \u001b[0mfp\u001b[0m\u001b[0;34m.\u001b[0m\u001b[0mmerge\u001b[0m\u001b[0;34m(\u001b[0m\u001b[0m_extract_data\u001b[0m\u001b[0;34m(\u001b[0m\u001b[0mtopic_model\u001b[0m\u001b[0;34m,\u001b[0m \u001b[0mcorpus\u001b[0m\u001b[0;34m,\u001b[0m \u001b[0mdictionary\u001b[0m\u001b[0;34m,\u001b[0m \u001b[0mdoc_topic_dist\u001b[0m\u001b[0;34m)\u001b[0m\u001b[0;34m,\u001b[0m \u001b[0mkwargs\u001b[0m\u001b[0;34m)\u001b[0m\u001b[0;34m\u001b[0m\u001b[0m\n\u001b[0m\u001b[1;32m    119\u001b[0m     \u001b[0;32mreturn\u001b[0m \u001b[0mvis_prepare\u001b[0m\u001b[0;34m(\u001b[0m\u001b[0;34m**\u001b[0m\u001b[0mopts\u001b[0m\u001b[0;34m)\u001b[0m\u001b[0;34m\u001b[0m\u001b[0m\n",
      "\u001b[0;32m~/anaconda3/envs/uhc/lib/python3.6/site-packages/pyLDAvis/gensim.py\u001b[0m in \u001b[0;36m_extract_data\u001b[0;34m(topic_model, corpus, dictionary, doc_topic_dists)\u001b[0m\n\u001b[1;32m     46\u001b[0m           \u001b[0mgamma\u001b[0m \u001b[0;34m=\u001b[0m \u001b[0mtopic_model\u001b[0m\u001b[0;34m.\u001b[0m\u001b[0minference\u001b[0m\u001b[0;34m(\u001b[0m\u001b[0mcorpus\u001b[0m\u001b[0;34m)\u001b[0m\u001b[0;34m\u001b[0m\u001b[0m\n\u001b[1;32m     47\u001b[0m       \u001b[0;32melse\u001b[0m\u001b[0;34m:\u001b[0m\u001b[0;34m\u001b[0m\u001b[0m\n\u001b[0;32m---> 48\u001b[0;31m           \u001b[0mgamma\u001b[0m\u001b[0;34m,\u001b[0m \u001b[0m_\u001b[0m \u001b[0;34m=\u001b[0m \u001b[0mtopic_model\u001b[0m\u001b[0;34m.\u001b[0m\u001b[0minference\u001b[0m\u001b[0;34m(\u001b[0m\u001b[0mcorpus\u001b[0m\u001b[0;34m)\u001b[0m\u001b[0;34m\u001b[0m\u001b[0m\n\u001b[0m\u001b[1;32m     49\u001b[0m       \u001b[0mdoc_topic_dists\u001b[0m \u001b[0;34m=\u001b[0m \u001b[0mgamma\u001b[0m \u001b[0;34m/\u001b[0m \u001b[0mgamma\u001b[0m\u001b[0;34m.\u001b[0m\u001b[0msum\u001b[0m\u001b[0;34m(\u001b[0m\u001b[0maxis\u001b[0m\u001b[0;34m=\u001b[0m\u001b[0;36m1\u001b[0m\u001b[0;34m)\u001b[0m\u001b[0;34m[\u001b[0m\u001b[0;34m:\u001b[0m\u001b[0;34m,\u001b[0m \u001b[0;32mNone\u001b[0m\u001b[0;34m]\u001b[0m\u001b[0;34m\u001b[0m\u001b[0m\n\u001b[1;32m     50\u001b[0m    \u001b[0;32melse\u001b[0m\u001b[0;34m:\u001b[0m\u001b[0;34m\u001b[0m\u001b[0m\n",
      "\u001b[0;31mAttributeError\u001b[0m: 'LsiModel' object has no attribute 'inference'"
     ]
    }
   ],
   "source": [
    "# Visualize the topics\n",
    "pyLDAvis.enable_notebook()\n",
    "vis = pyLDAvis.gensim.prepare(lsi_model_pos, corpus_pos, id2word_pos)\n",
    "vis"
   ]
  },
  {
   "cell_type": "markdown",
   "metadata": {},
   "source": [
    "## Optimize number of topics"
   ]
  },
  {
   "cell_type": "code",
   "execution_count": 90,
   "metadata": {},
   "outputs": [],
   "source": [
    "def compute_coherence_values(dictionary, corpus, texts, limit, start=2, step=3):\n",
    "    \"\"\"\n",
    "    Compute c_v coherence for various number of topics\n",
    "\n",
    "    Parameters:\n",
    "    ----------\n",
    "    dictionary : Gensim dictionary\n",
    "    corpus : Gensim corpus\n",
    "    texts : List of input texts\n",
    "    limit : Max num of topics\n",
    "\n",
    "    Returns:\n",
    "    -------\n",
    "    model_list : List of LDA topic models\n",
    "    coherence_values : Coherence values corresponding to the LDA model with respective number of topics\n",
    "    \"\"\"\n",
    "    coherence_values = []\n",
    "    model_list = []\n",
    "    for num_topics in range(start, limit, step):\n",
    "        model = create_lsi_model(corpus, dictionary, num_topics=num_topics)\n",
    "        model_list.append(model)\n",
    "        coherencemodel = CoherenceModel(model=model, texts=texts, dictionary=dictionary, coherence='c_v')\n",
    "        coherence_values.append(coherencemodel.get_coherence())\n",
    "\n",
    "    return model_list, coherence_values"
   ]
  },
  {
   "cell_type": "code",
   "execution_count": 91,
   "metadata": {},
   "outputs": [],
   "source": [
    "# Can take a long time to run.\n",
    "model_list_pos, coherence_values_pos = compute_coherence_values(dictionary=id2word_pos, corpus=corpus_pos, texts=data_lemmatized_pos, start=2, limit=40, step=3)\n",
    "model_list_neu, coherence_values_neu = compute_coherence_values(dictionary=id2word_neu, corpus=corpus_neu, texts=data_lemmatized_neu, start=2, limit=40, step=3)\n",
    "model_list_neg, coherence_values_neg = compute_coherence_values(dictionary=id2word_neg, corpus=corpus_neg, texts=data_lemmatized_neg, start=2, limit=40, step=3)\n"
   ]
  },
  {
   "cell_type": "code",
   "execution_count": 92,
   "metadata": {},
   "outputs": [
    {
     "data": {
      "text/plain": [
       "Text(0.5, 1.0, 'Negative Reviews')"
      ]
     },
     "execution_count": 92,
     "metadata": {},
     "output_type": "execute_result"
    },
    {
     "data": {
      "image/png": "[encoded data removed]",
      "text/plain": [
       "<Figure size 432x288 with 3 Axes>"
      ]
     },
     "metadata": {
      "needs_background": "light"
     },
     "output_type": "display_data"
    }
   ],
   "source": [
    "# Show graph\n",
    "\n",
    "fig, ax = plt.subplots(nrows=3, ncols=1, sharex=True)\n",
    "\n",
    "limit=40; start=2; step=3;\n",
    "x = range(start, limit, step)\n",
    "ax[0].plot(x, coherence_values_pos, label=\"wow\")\n",
    "ax[0].set_title(\"Positive Reviews\")\n",
    "ax[1].plot(x, coherence_values_neu)\n",
    "ax[1].set_title(\"Neutral Reviews\")\n",
    "ax[2].plot(x, coherence_values_neg)\n",
    "ax[2].set_title(\"Negative Reviews\")"
   ]
  },
  {
   "cell_type": "markdown",
   "metadata": {},
   "source": [
    "-  20 topics for positive reviews\n",
    "-  5 topics for neutral reviews\n",
    "-  11 topics for negative reviews"
   ]
  },
  {
   "cell_type": "code",
   "execution_count": 93,
   "metadata": {},
   "outputs": [
    {
     "name": "stdout",
     "output_type": "stream",
     "text": [
      "[(0, 2), (1, 5), (2, 8), (3, 11), (4, 14), (5, 17), (6, 20), (7, 23), (8, 26), (9, 29), (10, 32), (11, 35), (12, 38)]\n"
     ]
    }
   ],
   "source": [
    "print(list(zip(range(len(coherence_values_pos)), x)))"
   ]
  },
  {
   "cell_type": "code",
   "execution_count": 94,
   "metadata": {},
   "outputs": [],
   "source": [
    "lsi_model_pos_best = model_list_pos[6]\n",
    "lsi_model_neu_best = model_list_neu[1]\n",
    "lsi_model_neg_best = model_list_neg[11]"
   ]
  },
  {
   "cell_type": "code",
   "execution_count": 95,
   "metadata": {},
   "outputs": [
    {
     "data": {
      "text/plain": [
       "[(0,\n",
       "  '0.271*\"doctor\" + 0.229*\"great\" + 0.216*\"love\" + 0.199*\"easy\" + 0.194*\"info\" + 0.179*\"need\" + 0.170*\"good\" + 0.166*\"information\" + 0.165*\"make\" + 0.157*\"medical\"'),\n",
       " (1,\n",
       "  '-0.702*\"doctor\" + 0.306*\"great\" + -0.227*\"love\" + 0.155*\"work\" + 0.140*\"feature\" + 0.112*\"health\" + 0.104*\"update\" + -0.102*\"easy\" + 0.093*\"dropbox\" + 0.089*\"issue\"'),\n",
       " (2,\n",
       "  '0.671*\"easy\" + -0.314*\"info\" + -0.259*\"doctor\" + 0.249*\"love\" + 0.218*\"make\" + -0.137*\"medical\" + 0.118*\"good\" + 0.116*\"information\" + 0.097*\"find\" + -0.093*\"iphone\"'),\n",
       " (3,\n",
       "  '0.795*\"love\" + -0.254*\"doctor\" + -0.227*\"great\" + -0.213*\"easy\" + -0.197*\"good\" + -0.149*\"information\" + 0.113*\"see\" + -0.107*\"make\" + 0.081*\"info\" + -0.074*\"need\"'),\n",
       " (4,\n",
       "  '0.730*\"great\" + -0.284*\"good\" + 0.194*\"love\" + 0.190*\"info\" + -0.175*\"use\" + -0.144*\"need\" + -0.140*\"log\" + -0.138*\"find\" + -0.098*\"touch_id\" + -0.097*\"feature\"')]"
      ]
     },
     "execution_count": 95,
     "metadata": {},
     "output_type": "execute_result"
    }
   ],
   "source": [
    "lsi_model_pos_best.show_topics()[:5]"
   ]
  },
  {
   "cell_type": "code",
   "execution_count": 96,
   "metadata": {},
   "outputs": [
    {
     "data": {
      "text/plain": [
       "[(0,\n",
       "  '0.231*\"work\" + 0.226*\"see\" + 0.214*\"appointment\" + 0.208*\"make\" + 0.191*\"doctor\" + 0.179*\"need\" + 0.174*\"time\" + 0.142*\"not\" + 0.142*\"good\" + 0.133*\"datum\"'),\n",
       " (1,\n",
       "  '0.405*\"datum\" + -0.282*\"appointment\" + 0.178*\"could\" + 0.171*\"not\" + -0.165*\"time\" + 0.158*\"health\" + -0.155*\"doctor\" + 0.144*\"report\" + -0.138*\"make\" + 0.137*\"level\"'),\n",
       " (2,\n",
       "  '-0.445*\"appointment\" + 0.408*\"password\" + 0.281*\"claim\" + -0.175*\"make\" + 0.145*\"user\" + -0.129*\"provider\" + 0.123*\"time\" + 0.116*\"issue\" + -0.116*\"work\" + 0.113*\"log\"'),\n",
       " (3,\n",
       "  '0.309*\"work\" + -0.210*\"see\" + -0.197*\"claim\" + 0.187*\"info\" + 0.173*\"bug\" + 0.167*\"program\" + 0.163*\"computer\" + 0.161*\"icloud\" + 0.158*\"mac\" + -0.152*\"not\"'),\n",
       " (4,\n",
       "  '-0.376*\"password\" + -0.199*\"good\" + 0.188*\"need\" + 0.187*\"add\" + -0.164*\"provider\" + -0.157*\"take\" + -0.154*\"log\" + 0.141*\"want\" + -0.136*\"name\" + 0.130*\"contact\"')]"
      ]
     },
     "execution_count": 96,
     "metadata": {},
     "output_type": "execute_result"
    }
   ],
   "source": [
    "lsi_model_neu_best.show_topics()[:5]"
   ]
  },
  {
   "cell_type": "code",
   "execution_count": 97,
   "metadata": {},
   "outputs": [
    {
     "data": {
      "text/plain": [
       "[(0,\n",
       "  '0.315*\"work\" + 0.270*\"not\" + 0.265*\"try\" + 0.175*\"log\" + 0.174*\"update\" + 0.165*\"go\" + 0.156*\"time\" + 0.142*\"even\" + 0.138*\"can\" + 0.134*\"need\"'),\n",
       " (1,\n",
       "  '0.754*\"not\" + 0.428*\"can\" + -0.228*\"work\" + 0.212*\"do\" + -0.086*\"try\" + -0.084*\"update\" + 0.079*\"be\" + -0.078*\"need\" + -0.075*\"take\" + -0.071*\"time\"'),\n",
       " (2,\n",
       "  '-0.756*\"work\" + 0.233*\"doctor\" + 0.165*\"go\" + -0.149*\"log\" + -0.147*\"try\" + -0.135*\"password\" + 0.131*\"find\" + 0.110*\"see\" + -0.102*\"login\" + 0.100*\"take\"'),\n",
       " (3,\n",
       "  '-0.490*\"log\" + -0.463*\"password\" + 0.407*\"work\" + -0.325*\"try\" + -0.172*\"get\" + 0.155*\"not\" + -0.125*\"login\" + -0.113*\"account\" + 0.093*\"doctor\" + 0.089*\"update\"'),\n",
       " (4,\n",
       "  '0.623*\"update\" + -0.487*\"try\" + 0.260*\"password\" + 0.146*\"log\" + -0.137*\"doctor\" + -0.129*\"even\" + -0.119*\"find\" + -0.114*\"call\" + 0.098*\"sync\" + 0.094*\"support\"')]"
      ]
     },
     "execution_count": 97,
     "metadata": {},
     "output_type": "execute_result"
    }
   ],
   "source": [
    "lsi_model_neg_best.show_topics()[:5]"
   ]
  },
  {
   "cell_type": "code",
   "execution_count": null,
   "metadata": {},
   "outputs": [],
   "source": []
  }
 ],
 "metadata": {
  "kernelspec": {
   "display_name": "Python 3",
   "language": "python",
   "name": "python3"
  },
  "language_info": {
   "codemirror_mode": {
    "name": "ipython",
    "version": 3
   },
   "file_extension": ".py",
   "mimetype": "text/x-python",
   "name": "python",
   "nbconvert_exporter": "python",
   "pygments_lexer": "ipython3",
   "version": "3.6.6"
  }
 },
 "nbformat": 4,
 "nbformat_minor": 2
}
