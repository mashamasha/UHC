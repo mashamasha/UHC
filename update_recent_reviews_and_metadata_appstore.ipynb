{
 "cells": [
  {
   "cell_type": "raw",
   "metadata": {},
   "source": [
    "reset -fs"
   ]
  },
  {
   "cell_type": "code",
   "execution_count": 1,
   "metadata": {},
   "outputs": [],
   "source": [
    "import json\n",
    "import requests\n",
    "from collections import OrderedDict\n",
    "from datetime import datetime\n",
    "\n",
    "import numpy as np\n",
    "import pandas as pd\n",
    "import xmltodict"
   ]
  },
  {
   "cell_type": "code",
   "execution_count": 26,
   "metadata": {},
   "outputs": [],
   "source": [
    "df_metadata = pd.read_csv(\"data/appstore_metadata_phr.csv\")\n",
    "df_reviews = pd.read_csv(\"data/appstore_recent_reviews_phr.csv\")"
   ]
  },
  {
   "cell_type": "code",
   "execution_count": 3,
   "metadata": {},
   "outputs": [],
   "source": [
    "def fetch_metadata(app_id):\n",
    "    \"\"\"Fetch metadata given an app_id\n",
    "    \"\"\"\n",
    "    \n",
    "    url = \"https://itunes.apple.com/lookup?id=%s\" % (str(app_id))\n",
    "    r = requests.get(url)\n",
    "    return json.loads(r.text)['results']"
   ]
  },
  {
   "cell_type": "code",
   "execution_count": 4,
   "metadata": {},
   "outputs": [],
   "source": [
    "def fetch_reviews(app_id, country = 'us', sortBy = 'mostRecent', page = 1):\n",
    "    \"\"\" Get max 500 user reviews for a given app.\n",
    "    \n",
    "    country = default to United States (us).\n",
    "    sorty = 'mostRecent'(default) or 'mostHelpful'.\n",
    "    page = page number. default = 1, max = 10.\n",
    "    \"\"\"\n",
    "    \n",
    "    url = 'https://itunes.apple.com/%s/rss/customerreviews/id=%s/sortBy=%s/page=%s/xml' % (country, \n",
    "                                                                                           str(app_id), \n",
    "                                                                                           sortBy,\n",
    "                                                                                           str(page))\n",
    "    r = requests.get(url)\n",
    "    reviews_dict = xmltodict.parse(r.text)\n",
    "    \n",
    "    try:  # If there are no reviews on this page, break out of loop\n",
    "        reviews_list = reviews_dict['feed']['entry']\n",
    "    except:\n",
    "        return []\n",
    "    \n",
    "    reviews = []\n",
    "    for review in reviews_list:\n",
    "        try:\n",
    "            reviews.append({'title': review['title'],\n",
    "                           'author': review['author']['name'],\n",
    "                           'authorUrl': review['author']['uri'],\n",
    "                           'rating': review['im:rating'],\n",
    "                           'date': str(datetime.strptime(review['updated'][:-6], \"%Y-%m-%dT%H:%M:%S\")),\n",
    "                           'voteSum': review['im:voteSum'],\n",
    "                           'voteCount': review['im:voteCount'],\n",
    "                           'content': review['content'][0]['#text'].replace('\\n', ' ')\n",
    "                           })\n",
    "        except:\n",
    "            break\n",
    "    return reviews"
   ]
  },
  {
   "cell_type": "markdown",
   "metadata": {},
   "source": [
    "## Update metadata"
   ]
  },
  {
   "cell_type": "code",
   "execution_count": 20,
   "metadata": {},
   "outputs": [],
   "source": [
    "updated_metadata_list = []\n",
    "for ix, app in df_metadata.iterrows():\n",
    "    new_metadata = fetch_metadata(app['id'])[0]\n",
    "    metadata = OrderedDict()\n",
    "    metadata['name'] = new_metadata['trackName']\n",
    "    metadata['id'] = new_metadata['trackId']\n",
    "    metadata['url'] = new_metadata['trackViewUrl']\n",
    "    metadata['price'] = new_metadata['price']\n",
    "    metadata['userRatingCount'] = new_metadata.get('userRatingCount')\n",
    "    metadata['currentVersionReleaseDate'] = str(datetime.strptime(new_metadata['currentVersionReleaseDate'],\n",
    "                                                                  \"%Y-%m-%dT%H:%M:%SZ\"))\n",
    "    metadata['avgUserRating'] = new_metadata.get('averageUserRating')\n",
    "    metadata['description'] = new_metadata['description'].replace('\\n', ' ')\n",
    "    \n",
    "    updated_metadata_list.append(metadata)"
   ]
  },
  {
   "cell_type": "code",
   "execution_count": 22,
   "metadata": {},
   "outputs": [],
   "source": [
    "df_updated_metadata = pd.DataFrame(updated_metadata_list)\n",
    "assert df_updated_metadata.shape == df_metadata.shape"
   ]
  },
  {
   "cell_type": "code",
   "execution_count": 25,
   "metadata": {},
   "outputs": [],
   "source": [
    "df_updated_metadata.to_csv(\"data/appstore_metadata_phr.csv\", index=False)"
   ]
  },
  {
   "cell_type": "markdown",
   "metadata": {},
   "source": [
    "## Fetch new reviews"
   ]
  },
  {
   "cell_type": "code",
   "execution_count": 31,
   "metadata": {},
   "outputs": [
    {
     "name": "stdout",
     "output_type": "stream",
     "text": [
      "FollowMyHealth®\n",
      "healow\n",
      "Healthspek - Personal Health Record & Family Health Record - Complete Medical Record for iPhone\n",
      "DrChrono OnPatient Portal\n",
      "Teladoc\n",
      "The Diary Health App\n",
      "Emrify - Personal Health Record\n",
      "Personal Records\n",
      "UPMC Health Plan\n",
      "OpenTreatment Personal Health Record (PHR)\n",
      "Capzule\n",
      "Health Tracker & Manager for iPhone - Personal Healthbook App for Tracking Blood Pressure BP, Glucose & Weight BMI\n",
      "Sanford\n",
      "PortalConnect\n",
      "CareSync | Care Coordination\n",
      "MTBC PHR\n",
      "bant - Simplifying diabetes\n",
      "Medical Wiz - Family Health Information\n",
      "Healthjump\n",
      "YourHealthRecord Mobile\n",
      "MyQuadMed\n",
      "Get Your Health Record\n",
      "RaceAddict\n",
      "MedXCom for Patients\n",
      "WODTrackr\n",
      "Healee\n",
      "Medical Wiz Pro - Family Health Information\n",
      "iBlueButton®\n",
      "I'M HOME! ®\n",
      "Dyrii Journal\n",
      "BCM\n"
     ]
    }
   ],
   "source": [
    "app_new_reviews = {}\n",
    "\n",
    "# Get most recent and most helpful reviews (separately) for app (up to 500)\n",
    "# NOTE: If the app does not have many reviews, the same reviews may be included in both recent\n",
    "# and helpful reviews.\n",
    "for ix, app in df_metadata.iterrows():\n",
    "    print(app['name'])\n",
    "    reviews_for_app = df_reviews[df_reviews['name'] == app['name']]\n",
    "    try:\n",
    "        latest_review_date = max(reviews_for_app['date'])\n",
    "    except:\n",
    "        continue\n",
    "        \n",
    "    new_reviews = []\n",
    "\n",
    "    for i in range(1, 11): \n",
    "        fetched_reviews = fetch_reviews(app['id'], page=i)\n",
    "        \n",
    "        # Stop fetching once we have passed the newest review we have stored (by date)\n",
    "        last_review_in_new = False\n",
    "        for j, review in enumerate(fetched_reviews):\n",
    "            if  review['date'] <= latest_review_date:\n",
    "                last_review_in_new = True\n",
    "                break\n",
    "        \n",
    "        if last_review_in_new == False:\n",
    "            new_reviews += fetched_reviews\n",
    "        else:\n",
    "            new_reviews += fetched_reviews[:j]\n",
    "            break\n",
    "\n",
    "    app_new_reviews[app['name']] = new_reviews"
   ]
  },
  {
   "cell_type": "code",
   "execution_count": 32,
   "metadata": {},
   "outputs": [
    {
     "name": "stdout",
     "output_type": "stream",
     "text": [
      "Gathered 0 new reviews\n"
     ]
    }
   ],
   "source": [
    "new_reviews_list = []\n",
    "for ix, app in df_metadata.iterrows():\n",
    "    for new_review in app_new_reviews[app['name']]:\n",
    "        review = OrderedDict()\n",
    "        review['name'] = app['name']\n",
    "        review['id'] = app['id']\n",
    "        review['userRatingCount'] = app['userRatingCount']\n",
    "        review['avgUserRating'] = app['avgUserRating']\n",
    "        review['title'] = new_review.get('title')\n",
    "        review['author'] = new_review.get('author')\n",
    "        review['authorUrl'] = new_review.get('authorUrl')\n",
    "        review['rating'] = new_review.get('rating')\n",
    "        review['date'] = new_review.get('date')\n",
    "        review['voteSum'] = new_review.get('voteSum')\n",
    "        review['voteCount'] = new_review.get('voteCount')\n",
    "        review['content'] = new_review.get('content')\n",
    "        new_reviews_list.append(review)\n",
    "    \n",
    "print(\"Gathered %s new reviews\" % (str(len(new_reviews_list))))"
   ]
  },
  {
   "cell_type": "code",
   "execution_count": 24,
   "metadata": {},
   "outputs": [],
   "source": [
    "df_reviews = df_reviews.append(pd.DataFrame(new_reviews_list), ignore_index=True)\n",
    "df_reviews.to_csv(\"data/appstore_recent_reviews_phr.csv\", index=False)"
   ]
  }
 ],
 "metadata": {
  "kernelspec": {
   "display_name": "Python 3",
   "language": "python",
   "name": "python3"
  },
  "language_info": {
   "codemirror_mode": {
    "name": "ipython",
    "version": 3
   },
   "file_extension": ".py",
   "mimetype": "text/x-python",
   "name": "python",
   "nbconvert_exporter": "python",
   "pygments_lexer": "ipython3",
   "version": "3.6.6"
  }
 },
 "nbformat": 4,
 "nbformat_minor": 2
}
