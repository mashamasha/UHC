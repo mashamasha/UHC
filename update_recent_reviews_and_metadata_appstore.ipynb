{
 "cells": [
  {
   "cell_type": "raw",
   "metadata": {},
   "source": [
    "reset -fs"
   ]
  },
  {
   "cell_type": "code",
   "execution_count": 1,
   "metadata": {},
   "outputs": [],
   "source": [
    "import json\n",
    "import requests\n",
    "from collections import OrderedDict\n",
    "from datetime import datetime\n",
    "\n",
    "import numpy as np\n",
    "import pandas as pd\n",
    "import xmltodict"
   ]
  },
  {
   "cell_type": "code",
   "execution_count": 2,
   "metadata": {},
   "outputs": [],
   "source": [
    "df_metadata = pd.read_csv(\"data/appstore_metadata_phr.csv\")\n",
    "df_reviews = pd.read_csv(\"data/appstore_recent_reviews_phr.csv\")"
   ]
  },
  {
   "cell_type": "code",
   "execution_count": 3,
   "metadata": {},
   "outputs": [],
   "source": [
    "def fetch_metadata(app_id):\n",
    "    \"\"\"Fetch metadata given an app_id\n",
    "    \"\"\"\n",
    "    \n",
    "    url = \"https://itunes.apple.com/lookup?id=%s\" % (str(app_id))\n",
    "    r = requests.get(url)\n",
    "    return json.loads(r.text)['results']"
   ]
  },
  {
   "cell_type": "code",
   "execution_count": 4,
   "metadata": {},
   "outputs": [],
   "source": [
    "def fetch_reviews(app_id, country = 'us', sortBy = 'mostRecent', page = 1):\n",
    "    \"\"\" Get max 500 user reviews for a given app.\n",
    "    \n",
    "    country = default to United States (us).\n",
    "    sorty = 'mostRecent'(default) or 'mostHelpful'.\n",
    "    page = page number. default = 1, max = 10.\n",
    "    \"\"\"\n",
    "    \n",
    "    url = 'https://itunes.apple.com/%s/rss/customerreviews/id=%s/sortBy=%s/page=%s/xml' % (country, \n",
    "                                                                                           str(app_id), \n",
    "                                                                                           sortBy,\n",
    "                                                                                           str(page))\n",
    "    r = requests.get(url)\n",
    "    reviews_dict = xmltodict.parse(r.text)\n",
    "    \n",
    "    try:  # If there are no reviews on this page, break out of loop\n",
    "        reviews_list = reviews_dict['feed']['entry']\n",
    "    except:\n",
    "        return []\n",
    "    \n",
    "    reviews = []\n",
    "    for review in reviews_list:\n",
    "        try:\n",
    "            reviews.append({'title': review['title'],\n",
    "                           'author_name': review['author']['name'],\n",
    "                           'author_uri': review['author']['uri'],\n",
    "                           'rating': review['im:rating'],\n",
    "                           'date': str(datetime.strptime(review['updated'][:-6], \"%Y-%m-%dT%H:%M:%S\")),\n",
    "                           'voteSum': review['im:voteSum'],\n",
    "                           'voteCount': review['im:voteCount'],\n",
    "                           'text': review['content'][0]['#text'].replace('\\n', ' ')\n",
    "                           })\n",
    "        except:\n",
    "            break\n",
    "    return reviews"
   ]
  },
  {
   "cell_type": "markdown",
   "metadata": {},
   "source": [
    "## Update metadata"
   ]
  },
  {
   "cell_type": "code",
   "execution_count": 5,
   "metadata": {},
   "outputs": [],
   "source": [
    "updated_metadata_list = []\n",
    "for ix, app in df_metadata.iterrows():\n",
    "    new_metadata = fetch_metadata(app['id'])[0]\n",
    "    metadata = OrderedDict()\n",
    "    metadata['name'] = new_metadata['trackName']\n",
    "    metadata['id'] = new_metadata['trackId']\n",
    "    metadata['url'] = new_metadata['trackViewUrl']\n",
    "    metadata['price'] = new_metadata['price']\n",
    "    metadata['avgUserRating'] = new_metadata.get('averageUserRating')\n",
    "    metadata['userRatingCount'] = new_metadata.get('userRatingCount')\n",
    "    metadata['currentVersionReleaseDate'] = str(datetime.strptime(new_metadata['currentVersionReleaseDate'],\n",
    "                                                                  \"%Y-%m-%dT%H:%M:%SZ\"))\n",
    "    metadata['description'] = new_metadata['description'].replace('\\n', ' ')\n",
    "    \n",
    "    updated_metadata_list.append(metadata)"
   ]
  },
  {
   "cell_type": "code",
   "execution_count": 6,
   "metadata": {},
   "outputs": [],
   "source": [
    "df_updated_metadata = pd.DataFrame(updated_metadata_list)\n",
    "assert df_updated_metadata.shape == df_metadata.shape"
   ]
  },
  {
   "cell_type": "code",
   "execution_count": 7,
   "metadata": {},
   "outputs": [],
   "source": [
    "df_updated_metadata.to_csv(\"data/appstore_metadata_phr.csv\", index=False)"
   ]
  },
  {
   "cell_type": "markdown",
   "metadata": {},
   "source": [
    "## Fetch new reviews"
   ]
  },
  {
   "cell_type": "code",
   "execution_count": 15,
   "metadata": {},
   "outputs": [
    {
     "name": "stdout",
     "output_type": "stream",
     "text": [
      "Microsoft HealthVault\n",
      "FitnessSyncer\n",
      "MTBC PHR\n",
      "Accolade, Inc.\n",
      "Capzule\n",
      "My Medical\n",
      "Health Records : GenexEHR\n",
      "Healthspek - Personal Health Record & Family Health Record - Complete Medical Record\n",
      "Medfusion Plus\n",
      "higi\n",
      "Sharecare\n",
      "Aetna Mobile\n",
      "Kaiser Permanente\n",
      "myCigna\n",
      "Blue Shield of California\n",
      "MyHumana\n",
      "Anthem Anywhere\n",
      "Capital BlueCross Virtual Care\n"
     ]
    }
   ],
   "source": [
    "app_new_reviews = {}\n",
    "\n",
    "# Get most recent and most helpful reviews (separately) for app (up to 500)\n",
    "# NOTE: If the app does not have many reviews, the same reviews may be included in both recent\n",
    "# and helpful reviews.\n",
    "for ix, app in df_metadata.iterrows():\n",
    "    print(app['name'])\n",
    "    reviews_for_app = df_reviews[df_reviews['name'] == app['name']]\n",
    "    try:\n",
    "        latest_review_date = max(reviews_for_app['date'])\n",
    "    except:\n",
    "        app_new_reviews[app['name']] = []\n",
    "        continue\n",
    "        \n",
    "    new_reviews = []\n",
    "\n",
    "    for i in range(1, 11): \n",
    "        fetched_reviews = fetch_reviews(app['id'], page=i)\n",
    "        \n",
    "        # Stop fetching once we have passed the newest review we have stored (by date)\n",
    "        last_review_in_new = False\n",
    "        for j, review in enumerate(fetched_reviews):\n",
    "            if  review['date'] <= latest_review_date:\n",
    "                last_review_in_new = True\n",
    "                break\n",
    "        \n",
    "        if last_review_in_new == False:\n",
    "            new_reviews += fetched_reviews\n",
    "        else:\n",
    "            new_reviews += fetched_reviews[:j]\n",
    "            break\n",
    "    \n",
    "    app_new_reviews[app['name']] = new_reviews"
   ]
  },
  {
   "cell_type": "code",
   "execution_count": 17,
   "metadata": {},
   "outputs": [
    {
     "name": "stdout",
     "output_type": "stream",
     "text": [
      "Gathered 16 new reviews\n"
     ]
    }
   ],
   "source": [
    "new_reviews_list = []\n",
    "for ix, app in df_metadata.iterrows():\n",
    "    for new_review in app_new_reviews[app['name']]:\n",
    "        review = OrderedDict()\n",
    "        review['name'] = app['name']\n",
    "        review['id'] = app['id']\n",
    "        review['title'] = new_review.get('title')\n",
    "        review['author_name'] = new_review.get('author_name')\n",
    "        review['author_uri'] = new_review.get('author_uri')\n",
    "        review['voteSum'] = new_review.get('voteSum')\n",
    "        review['voteCount'] = new_review.get('voteCount')\n",
    "        review['rating'] = new_review.get('rating')\n",
    "        review['text'] = new_review.get('text')\n",
    "        review['date'] = new_review.get('date')\n",
    "        new_reviews_list.append(review)\n",
    "    \n",
    "print(\"Gathered %s new reviews\" % (str(len(new_reviews_list))))"
   ]
  },
  {
   "cell_type": "code",
   "execution_count": 19,
   "metadata": {},
   "outputs": [
    {
     "data": {
      "text/html": [
       "<div>\n",
       "<style scoped>\n",
       "    .dataframe tbody tr th:only-of-type {\n",
       "        vertical-align: middle;\n",
       "    }\n",
       "\n",
       "    .dataframe tbody tr th {\n",
       "        vertical-align: top;\n",
       "    }\n",
       "\n",
       "    .dataframe thead th {\n",
       "        text-align: right;\n",
       "    }\n",
       "</style>\n",
       "<table border=\"1\" class=\"dataframe\">\n",
       "  <thead>\n",
       "    <tr style=\"text-align: right;\">\n",
       "      <th></th>\n",
       "      <th>name</th>\n",
       "      <th>id</th>\n",
       "      <th>title</th>\n",
       "      <th>author_name</th>\n",
       "      <th>author_uri</th>\n",
       "      <th>voteSum</th>\n",
       "      <th>voteCount</th>\n",
       "      <th>rating</th>\n",
       "      <th>text</th>\n",
       "      <th>date</th>\n",
       "    </tr>\n",
       "  </thead>\n",
       "  <tbody>\n",
       "    <tr>\n",
       "      <th>0</th>\n",
       "      <td>Microsoft HealthVault</td>\n",
       "      <td>546835834</td>\n",
       "      <td>Itâ€™s a shame for Microsoft to publish such a...</td>\n",
       "      <td>omg.itsjj</td>\n",
       "      <td>https://itunes.apple.com/us/reviews/id100859113</td>\n",
       "      <td>0</td>\n",
       "      <td>0</td>\n",
       "      <td>2</td>\n",
       "      <td>The design is way too outdated and desktop-lik...</td>\n",
       "      <td>2018-10-29 22:44:26</td>\n",
       "    </tr>\n",
       "    <tr>\n",
       "      <th>1</th>\n",
       "      <td>Microsoft HealthVault</td>\n",
       "      <td>546835834</td>\n",
       "      <td>Lab Corp blood results</td>\n",
       "      <td>liver transplant patient</td>\n",
       "      <td>https://itunes.apple.com/us/reviews/id782157250</td>\n",
       "      <td>0</td>\n",
       "      <td>0</td>\n",
       "      <td>1</td>\n",
       "      <td>Lab Corp had my weekly blood work results on t...</td>\n",
       "      <td>2018-08-08 05:03:25</td>\n",
       "    </tr>\n",
       "    <tr>\n",
       "      <th>2</th>\n",
       "      <td>Microsoft HealthVault</td>\n",
       "      <td>546835834</td>\n",
       "      <td>What happened</td>\n",
       "      <td>Bistline</td>\n",
       "      <td>https://itunes.apple.com/us/reviews/id335994415</td>\n",
       "      <td>0</td>\n",
       "      <td>0</td>\n",
       "      <td>3</td>\n",
       "      <td>This app used to be my favorite. It would sync...</td>\n",
       "      <td>2018-06-27 14:07:45</td>\n",
       "    </tr>\n",
       "    <tr>\n",
       "      <th>3</th>\n",
       "      <td>Microsoft HealthVault</td>\n",
       "      <td>546835834</td>\n",
       "      <td>Great idea</td>\n",
       "      <td>Gdb&amp;&amp;@</td>\n",
       "      <td>https://itunes.apple.com/us/reviews/id216415940</td>\n",
       "      <td>0</td>\n",
       "      <td>0</td>\n",
       "      <td>5</td>\n",
       "      <td>I have many yrs worth of data now stored. It i...</td>\n",
       "      <td>2018-06-27 10:26:12</td>\n",
       "    </tr>\n",
       "    <tr>\n",
       "      <th>4</th>\n",
       "      <td>Microsoft HealthVault</td>\n",
       "      <td>546835834</td>\n",
       "      <td>Needs a ton of work!!!</td>\n",
       "      <td>ac26151</td>\n",
       "      <td>https://itunes.apple.com/us/reviews/id229180853</td>\n",
       "      <td>0</td>\n",
       "      <td>0</td>\n",
       "      <td>3</td>\n",
       "      <td>The idea of this app is great however, it need...</td>\n",
       "      <td>2018-04-03 18:12:15</td>\n",
       "    </tr>\n",
       "  </tbody>\n",
       "</table>\n",
       "</div>"
      ],
      "text/plain": [
       "                    name         id  \\\n",
       "0  Microsoft HealthVault  546835834   \n",
       "1  Microsoft HealthVault  546835834   \n",
       "2  Microsoft HealthVault  546835834   \n",
       "3  Microsoft HealthVault  546835834   \n",
       "4  Microsoft HealthVault  546835834   \n",
       "\n",
       "                                               title  \\\n",
       "0  Itâ€™s a shame for Microsoft to publish such a...   \n",
       "1                             Lab Corp blood results   \n",
       "2                                      What happened   \n",
       "3                                         Great idea   \n",
       "4                             Needs a ton of work!!!   \n",
       "\n",
       "                author_name                                       author_uri  \\\n",
       "0                 omg.itsjj  https://itunes.apple.com/us/reviews/id100859113   \n",
       "1  liver transplant patient  https://itunes.apple.com/us/reviews/id782157250   \n",
       "2                  Bistline  https://itunes.apple.com/us/reviews/id335994415   \n",
       "3                    Gdb&&@  https://itunes.apple.com/us/reviews/id216415940   \n",
       "4                   ac26151  https://itunes.apple.com/us/reviews/id229180853   \n",
       "\n",
       "  voteSum voteCount rating                                               text  \\\n",
       "0       0         0      2  The design is way too outdated and desktop-lik...   \n",
       "1       0         0      1  Lab Corp had my weekly blood work results on t...   \n",
       "2       0         0      3  This app used to be my favorite. It would sync...   \n",
       "3       0         0      5  I have many yrs worth of data now stored. It i...   \n",
       "4       0         0      3  The idea of this app is great however, it need...   \n",
       "\n",
       "                  date  \n",
       "0  2018-10-29 22:44:26  \n",
       "1  2018-08-08 05:03:25  \n",
       "2  2018-06-27 14:07:45  \n",
       "3  2018-06-27 10:26:12  \n",
       "4  2018-04-03 18:12:15  "
      ]
     },
     "execution_count": 19,
     "metadata": {},
     "output_type": "execute_result"
    }
   ],
   "source": [
    "df_reviews_updated = df_reviews.append(pd.DataFrame(new_reviews_list), ignore_index=True)\n",
    "df_reviews_updated.head()"
   ]
  },
  {
   "cell_type": "code",
   "execution_count": 22,
   "metadata": {},
   "outputs": [],
   "source": [
    "df_reviews_updated.to_csv(\"data/appstore_recent_reviews_phr.csv\", index=False)"
   ]
  }
 ],
 "metadata": {
  "kernelspec": {
   "display_name": "Python 3",
   "language": "python",
   "name": "python3"
  },
  "language_info": {
   "codemirror_mode": {
    "name": "ipython",
    "version": 3
   },
   "file_extension": ".py",
   "mimetype": "text/x-python",
   "name": "python",
   "nbconvert_exporter": "python",
   "pygments_lexer": "ipython3",
   "version": "3.6.6"
  }
 },
 "nbformat": 4,
 "nbformat_minor": 2
}
