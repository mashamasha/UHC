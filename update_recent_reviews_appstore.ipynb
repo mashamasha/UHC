{
 "cells": [
  {
   "cell_type": "code",
   "execution_count": 8,
   "metadata": {},
   "outputs": [],
   "source": [
    "from collections import OrderedDict\n",
    "from datetime import datetime\n",
    "import json\n",
    "import requests\n",
    "\n",
    "import pandas as pd\n",
    "import numpy as np\n",
    "import xmltodict"
   ]
  },
  {
   "cell_type": "code",
   "execution_count": 18,
   "metadata": {},
   "outputs": [],
   "source": [
    "df_metadata = pd.read_csv(\"data/appstore_metadata_phr.csv\")\n",
    "df_reviews = pd.read_csv(\"data/appstore_recent_reviews_phr.csv\")"
   ]
  },
  {
   "cell_type": "code",
   "execution_count": 10,
   "metadata": {},
   "outputs": [],
   "source": [
    "def fetch_reviews(app_id, country = 'us', sortBy = 'mostRecent', page = 1):\n",
    "    \"\"\" Get max 500 user reviews for a given app.\n",
    "    \n",
    "    country = default to United States (us).\n",
    "    sorty = 'mostRecent'(default) or 'mostHelpful'.\n",
    "    page = page number. default = 1, max = 10.\n",
    "    \"\"\"\n",
    "    \n",
    "    url = 'https://itunes.apple.com/%s/rss/customerreviews/id=%s/sortBy=%s/page=%s/xml' % (country, \n",
    "                                                                                           str(app_id), \n",
    "                                                                                           sortBy,\n",
    "                                                                                           str(page))\n",
    "    r = requests.get(url)\n",
    "    reviews_dict = xmltodict.parse(r.text)\n",
    "    \n",
    "    try:  # If there are no reviews on this page, break out of loop\n",
    "        reviews_list = reviews_dict['feed']['entry']\n",
    "    except:\n",
    "        return []\n",
    "    \n",
    "    reviews = []\n",
    "    for review in reviews_list:\n",
    "        try:\n",
    "            reviews.append({'title': review['title'],\n",
    "                           'author': review['author']['name'],\n",
    "                           'authorUrl': review['author']['uri'],\n",
    "                           'rating': review['im:rating'],\n",
    "                           'date': str(datetime.strptime(review['updated'][:-6], \"%Y-%m-%dT%H:%M:%S\")),\n",
    "                           'voteSum': review['im:voteSum'],\n",
    "                           'voteCount': review['im:voteCount'],\n",
    "                           'content': review['content'][0]['#text'].replace('\\n', ' ')\n",
    "                           })\n",
    "        except:\n",
    "            break\n",
    "    return reviews"
   ]
  },
  {
   "cell_type": "code",
   "execution_count": null,
   "metadata": {},
   "outputs": [],
   "source": [
    "app_new_reviews = {}\n",
    "\n",
    "# Get most recent and most helpful reviews (separately) for app (up to 500)\n",
    "# NOTE: If the app does not have many reviews, the same reviews may be included in both recent\n",
    "# and helpful reviews.\n",
    "for ix, app in df_metadata.iterrows():\n",
    "    print(app['name'])\n",
    "    reviews_for_app = df_reviews[df_reviews['name'] == app['name']]\n",
    "    try:\n",
    "        latest_review_date = max(reviews_for_app['date'])\n",
    "    except:\n",
    "        continue\n",
    "        \n",
    "    new_reviews = []\n",
    "\n",
    "    for i in range(1, 11): \n",
    "        print(i)\n",
    "        fetched_reviews = fetch_reviews(app['id'], page=i)\n",
    "        \n",
    "        # Stop fetching once we have passed the newest review we have stored (by date)\n",
    "        last_review_in_new = False\n",
    "        for j, review in enumerate(fetched_reviews):\n",
    "            if  review['date'] <= latest_review_date:\n",
    "                last_review_in_new = True\n",
    "                break\n",
    "        \n",
    "        if last_review_in_new == False:\n",
    "            new_reviews += fetched_reviews\n",
    "        else:\n",
    "            new_reviews += fetched_reviews[:j]\n",
    "            break\n",
    "\n",
    "    app_new_reviews[app['name']] = new_reviews"
   ]
  },
  {
   "cell_type": "code",
   "execution_count": 13,
   "metadata": {},
   "outputs": [],
   "source": [
    "new_reviews_list = []\n",
    "for ix, app in df_metadata.iterrows():\n",
    "    for new_review in app_new_reviews[app['name']]:\n",
    "        review = OrderedDict()\n",
    "        review['name'] = app['name']\n",
    "        review['id'] = app['id']\n",
    "        review['userRatingCount'] = app['userRatingCount']\n",
    "        review['avgUserRating'] = app['avgUserRating']\n",
    "        review['title'] = new_review.get('title')\n",
    "        review['author'] = new_review.get('author')\n",
    "        review['authorUrl'] = new_review.get('authorUrl')\n",
    "        review['rating'] = new_review.get('rating')\n",
    "        review['date'] = new_review.get('date')\n",
    "        review['voteSum'] = new_review.get('voteSum')\n",
    "        review['voteCount'] = new_review.get('voteCount')\n",
    "        review['content'] = new_review.get('content')\n",
    "        new_reviews_list.append(review)"
   ]
  },
  {
   "cell_type": "code",
   "execution_count": 24,
   "metadata": {},
   "outputs": [],
   "source": [
    "df_reviews = df_reviews.append(pd.DataFrame(new_reviews_list), ignore_index=True)\n",
    "df_reviews.to_csv(\"data/appstore_recent_reviews_phr.csv\", index=False)"
   ]
  }
 ],
 "metadata": {
  "kernelspec": {
   "display_name": "Python 3",
   "language": "python",
   "name": "python3"
  },
  "language_info": {
   "codemirror_mode": {
    "name": "ipython",
    "version": 3
   },
   "file_extension": ".py",
   "mimetype": "text/x-python",
   "name": "python",
   "nbconvert_exporter": "python",
   "pygments_lexer": "ipython3",
   "version": "3.6.6"
  }
 },
 "nbformat": 4,
 "nbformat_minor": 2
}
