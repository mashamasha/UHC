{
 "cells": [
  {
   "cell_type": "code",
   "execution_count": 1,
   "metadata": {
    "ExecuteTime": {
     "end_time": "2019-01-26T02:43:24.230058Z",
     "start_time": "2019-01-26T02:43:24.169498Z"
    }
   },
   "outputs": [],
   "source": [
    "from selenium import webdriver\n",
    "from datetime import datetime\n",
    "import time"
   ]
  },
  {
   "cell_type": "code",
   "execution_count": 10,
   "metadata": {
    "ExecuteTime": {
     "end_time": "2019-01-26T02:52:12.882827Z",
     "start_time": "2019-01-26T02:52:11.566014Z"
    }
   },
   "outputs": [],
   "source": [
    "# url variable must be url for \"customer reviews\" page of product.\n",
    "\n",
    "urls = [\"https://www.amazon.com/23andMe-DNA-Test-Ancestry-Personal/product-reviews/B01G7PYQTM/ref=cm_cr_dp_d_show_all_btm?ie=UTF8&reviewerType=all_reviews\",\n",
    "        \"https://www.amazon.com/HEALTH-ANCESTRY-TellmeGen-Online-Reports/product-reviews/B01A0W1D9E/ref=cm_cr_dp_d_show_all_btm?ie=UTF8&reviewerType=all_reviews\",\n",
    "        \"https://www.amazon.com/Color-Conditions-Medication-Including-Available/product-reviews/B07CH39WVS/ref=cm_cr_dp_d_show_all_btm?ie=UTF8&reviewerType=all_reviews\",\n",
    "        \"https://www.amazon.com/Color-Hereditary-Cancer-Test-Including/product-reviews/B01N9VH79S/ref=cm_cr_dp_d_show_all_btm?ie=UTF8&reviewerType=all_reviews\",\n",
    "        \"https://www.amazon.com/Vitagene-DNA-Test-Kit-Ancestry/product-reviews/B01NCISWQT/ref=cm_cr_dp_d_show_all_btm?ie=UTF8&reviewerType=all_reviews\",\n",
    "        \"https://www.amazon.com/CellMaxLife-DNA-Cancer-Risk-Test/product-reviews/B074XC1HDB/ref=cm_cr_dp_d_show_all_btm?ie=UTF8&reviewerType=all_reviews\"\n",
    "       ]\n",
    "names = [\"23andMe\", \"TellmeGen\", \"Color Genetic Risk Test\", \"Color Heriditary Cancer Test\", \"CellMaxLife\"]\n"
   ]
  },
  {
   "cell_type": "code",
   "execution_count": null,
   "metadata": {
    "ExecuteTime": {
     "start_time": "2019-01-26T03:10:51.153Z"
    }
   },
   "outputs": [],
   "source": [
    "def get_reviews(driver, name, url, reviews_data):\n",
    "    \"\"\"\n",
    "    Takes a list of review data and adds all reviews for a certain Amazon product to it.\n",
    "    \"\"\"\n",
    "    reviews = driver.find_elements_by_class_name(\"review\")\n",
    "    for i, review in enumerate(reviews):\n",
    "        rating = float(review.find_element_by_class_name(\"review-rating\") \\\n",
    "                             .find_element_by_tag_name(\"span\") \\\n",
    "                             .get_attribute(\"innerHTML\") \\\n",
    "                             .split(' ')[0])  # get rating out of 5 stars\n",
    "        date_str = review.find_element_by_class_name(\"review-date\").text\n",
    "        date = str(datetime.strptime(date_str, \"%B %d, %Y\"))\n",
    "        user_name = review.find_element_by_class_name(\"a-profile-name\").get_attribute(\"innerHTML\")\n",
    "        try:\n",
    "            votes = review.find_element_by_class_name(\"cr-vote-text\").get_attribute(\"innerHTML\").split(' ')[0].replace(',','')\n",
    "            if votes == 'One':\n",
    "                votes = 1\n",
    "            else:\n",
    "                votes = int(review.find_element_by_class_name(\"cr-vote-text\").get_attribute(\"innerHTML\").split(' ')[0].replace(',',''))\n",
    "        except:\n",
    "            votes = 0\n",
    "        review_text = review.find_element_by_class_name(\"review-text\").text\n",
    "        review_title = review.find_element_by_class_name(\"review-title\").text\n",
    "\n",
    "        reviews_data.append({'name': name,\n",
    "                             'id': '',\n",
    "                             'title': review_title,\n",
    "                             'author_name': user_name,\n",
    "                             'author_uri': '',\n",
    "                             'voteSum': '',\n",
    "                             'voteCount': votes,\n",
    "                             'rating': rating,\n",
    "                             'text': review_text,\n",
    "                             'date': date})\n",
    "    return reviews_data"
   ]
  },
  {
   "cell_type": "code",
   "execution_count": null,
   "metadata": {
    "ExecuteTime": {
     "start_time": "2019-01-26T03:10:06.766Z"
    }
   },
   "outputs": [
    {
     "name": "stdout",
     "output_type": "stream",
     "text": [
      "0\n",
      "100\n",
      "0\n",
      "0\n",
      "0\n"
     ]
    }
   ],
   "source": [
    "reviews_data = []\n",
    "\n",
    "for name, url in zip(names, urls):\n",
    "    driver = webdriver.Chrome('/usr/local/bin/chromedriver') \n",
    "    driver.get(url)\n",
    "    try:\n",
    "        next_page_btn = driver.find_element_by_class_name(\"a-pagination\") \\\n",
    "                              .find_element_by_class_name(\"a-last\")\n",
    "    except:\n",
    "        next_page_btn = None\n",
    "        \n",
    "    if next_page_btn is not None:\n",
    "        while('a-disabled' not in next_page_btn.get_attribute(\"class\")):\n",
    "            reviews_data = get_reviews(driver, name, url, reviews_data)\n",
    "            next_page_btn.click()\n",
    "            time.sleep(1.5)\n",
    "            next_page_btn = driver.find_element_by_class_name(\"a-pagination\") \\\n",
    "                                  .find_element_by_class_name(\"a-last\")\n",
    "    else:\n",
    "        reviews_data = get_reviews(driver, name, url, reviews_data)"
   ]
  },
  {
   "cell_type": "code",
   "execution_count": 99,
   "metadata": {
    "ExecuteTime": {
     "end_time": "2019-01-21T22:28:49.559210Z",
     "start_time": "2019-01-21T22:28:49.552333Z"
    }
   },
   "outputs": [],
   "source": [
    "import pandas as pd\n",
    "df = pd.DataFrame(reviews_data, \n",
    "                  columns=['name', 'id', 'title', 'author_name', 'author_uri', \n",
    "                           'voteSum', 'voteCount', 'rating', 'text', 'date']\n",
    "                 )\n",
    "df.head()"
   ]
  },
  {
   "cell_type": "code",
   "execution_count": 101,
   "metadata": {
    "ExecuteTime": {
     "end_time": "2019-01-21T22:29:31.378230Z",
     "start_time": "2019-01-21T22:29:31.348900Z"
    }
   },
   "outputs": [],
   "source": [
    "df.to_csv(\"data/amazon_all_reviews.csv\", index=False)"
   ]
  }
 ],
 "metadata": {
  "kernelspec": {
   "display_name": "Python 3",
   "language": "python",
   "name": "python3"
  },
  "language_info": {
   "codemirror_mode": {
    "name": "ipython",
    "version": 3
   },
   "file_extension": ".py",
   "mimetype": "text/x-python",
   "name": "python",
   "nbconvert_exporter": "python",
   "pygments_lexer": "ipython3",
   "version": "3.6.8"
  }
 },
 "nbformat": 4,
 "nbformat_minor": 2
}
