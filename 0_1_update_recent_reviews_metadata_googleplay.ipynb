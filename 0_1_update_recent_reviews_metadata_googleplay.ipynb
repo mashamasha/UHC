{
 "cells": [
  {
   "cell_type": "code",
   "execution_count": 1,
   "metadata": {},
   "outputs": [],
   "source": [
    "reset -fs"
   ]
  },
  {
   "cell_type": "code",
   "execution_count": 2,
   "metadata": {},
   "outputs": [],
   "source": [
    "import json\n",
    "import pandas as pd\n",
    "import requests\n",
    "from collections import OrderedDict\n",
    "\n",
    "searchman_key = \"\""
   ]
  },
  {
   "cell_type": "code",
   "execution_count": 3,
   "metadata": {},
   "outputs": [],
   "source": [
    "df_metadata = pd.read_csv(\"data/googleplay_metadata_phr.csv\")\n",
    "df_reviews = pd.read_csv(\"data/googleplay_reviews_phr.csv\")\n"
   ]
  },
  {
   "cell_type": "code",
   "execution_count": 6,
   "metadata": {},
   "outputs": [],
   "source": [
    "def fetch_reviews(app_id, api='searchman'):\n",
    "    \"\"\"Fetch metadata given an app_id\n",
    "    \"\"\"\n",
    "    \n",
    "    if api == 'searchman': \n",
    "        url = f\"http://api.searchman.io/v1/android/us/app/reviews?appId={app_id}&apiKey={searchman_key}&count=100\"\n",
    "    r = requests.get(url)\n",
    "    return json.loads(r.text)['data']"
   ]
  },
  {
   "cell_type": "code",
   "execution_count": 7,
   "metadata": {},
   "outputs": [
    {
     "name": "stdout",
     "output_type": "stream",
     "text": [
      "UPMC Health Plan\n",
      "iBlueButton®\n",
      "healow\n",
      "Sharecare\n",
      "Blue Shield of California\n",
      "higi\n",
      "myCigna\n",
      "Medfusion Plus\n",
      "Anthem Anywhere\n",
      "FitnessSyncer\n",
      "Teladoc\n",
      "Aetna Mobile\n",
      "Kaiser Permanente\n",
      "MyHumana\n",
      "Accolade, Inc.\n",
      "FollowMyHealth®\n",
      "Google Fit: Health and Activity Tracking\n",
      "Medical records\n",
      "My Medical\n",
      "Medical Records App\n"
     ]
    }
   ],
   "source": [
    "new_reviews_list = []\n",
    "for ix, app in df_metadata.iterrows():\n",
    "    print(app['name'])\n",
    "    last_review_date = max(df_reviews[df_reviews['name'] == app['name']]['date'])\n",
    "    new_reviews = fetch_reviews(app['id'])\n",
    "    for i, review in enumerate(new_reviews):\n",
    "        if review['timestamp'] > last_review_date:\n",
    "            new_reviews_list.append({'name': app['name'], 'id': app['id'], 'title':review.get('title'),\n",
    "                                     'author_name': review.get('author'),\n",
    "                                     'author_uri': review.get('authorId'), 'rating':review.get('rating'),\n",
    "                                     'date': review.get('timestamp'), 'voteSum': review.get('voteSum'),\n",
    "                                     'voteCount': review.get('voteCount'), 'text': review.get('body')\n",
    "                                    })\n",
    "        else:\n",
    "            break\n",
    "new_reviews_list = [review for review in new_reviews_list if review['text'] is not None]"
   ]
  },
  {
   "cell_type": "code",
   "execution_count": 9,
   "metadata": {},
   "outputs": [],
   "source": [
    "print(f\"{len(new_reviews_list)} new reviews.)\n",
    "df_reviews = df_reviews.append(new_reviews_list, ignore_index=True)"
   ]
  },
  {
   "cell_type": "code",
   "execution_count": 12,
   "metadata": {},
   "outputs": [
    {
     "data": {
      "text/html": [
       "<div>\n",
       "<style scoped>\n",
       "    .dataframe tbody tr th:only-of-type {\n",
       "        vertical-align: middle;\n",
       "    }\n",
       "\n",
       "    .dataframe tbody tr th {\n",
       "        vertical-align: top;\n",
       "    }\n",
       "\n",
       "    .dataframe thead th {\n",
       "        text-align: right;\n",
       "    }\n",
       "</style>\n",
       "<table border=\"1\" class=\"dataframe\">\n",
       "  <thead>\n",
       "    <tr style=\"text-align: right;\">\n",
       "      <th></th>\n",
       "      <th>name</th>\n",
       "      <th>id</th>\n",
       "      <th>title</th>\n",
       "      <th>author_name</th>\n",
       "      <th>author_uri</th>\n",
       "      <th>rating</th>\n",
       "      <th>date</th>\n",
       "      <th>voteSum</th>\n",
       "      <th>voteCount</th>\n",
       "      <th>text</th>\n",
       "    </tr>\n",
       "  </thead>\n",
       "  <tbody>\n",
       "    <tr>\n",
       "      <th>1747</th>\n",
       "      <td>Google Fit: Health and Activity Tracking</td>\n",
       "      <td>com.google.android.apps.fitness</td>\n",
       "      <td>None</td>\n",
       "      <td>Mohit G</td>\n",
       "      <td>107526919134556209809</td>\n",
       "      <td>1</td>\n",
       "      <td>2018-11-18 15:03:20</td>\n",
       "      <td>None</td>\n",
       "      <td>None</td>\n",
       "      <td>This app does not work property on my one plus...</td>\n",
       "    </tr>\n",
       "    <tr>\n",
       "      <th>1748</th>\n",
       "      <td>Google Fit: Health and Activity Tracking</td>\n",
       "      <td>com.google.android.apps.fitness</td>\n",
       "      <td>None</td>\n",
       "      <td>sagar suryawanshi</td>\n",
       "      <td>101956979010176828886</td>\n",
       "      <td>1</td>\n",
       "      <td>2018-11-18 14:54:32</td>\n",
       "      <td>None</td>\n",
       "      <td>None</td>\n",
       "      <td>I want to add leadboard How?</td>\n",
       "    </tr>\n",
       "    <tr>\n",
       "      <th>1749</th>\n",
       "      <td>Medical Records App</td>\n",
       "      <td>com.cliniconline</td>\n",
       "      <td>None</td>\n",
       "      <td>Abod Osama</td>\n",
       "      <td>115080537418668508998</td>\n",
       "      <td>4</td>\n",
       "      <td>2018-11-19 06:49:38</td>\n",
       "      <td>None</td>\n",
       "      <td>None</td>\n",
       "      <td>A great useful application but how can I trans...</td>\n",
       "    </tr>\n",
       "    <tr>\n",
       "      <th>1750</th>\n",
       "      <td>Medical Records App</td>\n",
       "      <td>com.cliniconline</td>\n",
       "      <td>None</td>\n",
       "      <td>Agnes Novita</td>\n",
       "      <td>110614731832618616830</td>\n",
       "      <td>5</td>\n",
       "      <td>2018-11-18 03:48:23</td>\n",
       "      <td>None</td>\n",
       "      <td>None</td>\n",
       "      <td>Simple, easy, and useful</td>\n",
       "    </tr>\n",
       "    <tr>\n",
       "      <th>1751</th>\n",
       "      <td>Medical Records App</td>\n",
       "      <td>com.cliniconline</td>\n",
       "      <td>None</td>\n",
       "      <td>Alfredo Baruc</td>\n",
       "      <td>116943082422817884463</td>\n",
       "      <td>5</td>\n",
       "      <td>2018-11-13 05:14:25</td>\n",
       "      <td>None</td>\n",
       "      <td>None</td>\n",
       "      <td>Very easy to use and is what I am looking for ...</td>\n",
       "    </tr>\n",
       "  </tbody>\n",
       "</table>\n",
       "</div>"
      ],
      "text/plain": [
       "                                          name  \\\n",
       "1747  Google Fit: Health and Activity Tracking   \n",
       "1748  Google Fit: Health and Activity Tracking   \n",
       "1749                       Medical Records App   \n",
       "1750                       Medical Records App   \n",
       "1751                       Medical Records App   \n",
       "\n",
       "                                   id title        author_name  \\\n",
       "1747  com.google.android.apps.fitness  None            Mohit G   \n",
       "1748  com.google.android.apps.fitness  None  sagar suryawanshi   \n",
       "1749                 com.cliniconline  None         Abod Osama   \n",
       "1750                 com.cliniconline  None       Agnes Novita   \n",
       "1751                 com.cliniconline  None      Alfredo Baruc   \n",
       "\n",
       "                 author_uri  rating                 date voteSum voteCount  \\\n",
       "1747  107526919134556209809       1  2018-11-18 15:03:20    None      None   \n",
       "1748  101956979010176828886       1  2018-11-18 14:54:32    None      None   \n",
       "1749  115080537418668508998       4  2018-11-19 06:49:38    None      None   \n",
       "1750  110614731832618616830       5  2018-11-18 03:48:23    None      None   \n",
       "1751  116943082422817884463       5  2018-11-13 05:14:25    None      None   \n",
       "\n",
       "                                                   text  \n",
       "1747  This app does not work property on my one plus...  \n",
       "1748                       I want to add leadboard How?  \n",
       "1749  A great useful application but how can I trans...  \n",
       "1750                           Simple, easy, and useful  \n",
       "1751  Very easy to use and is what I am looking for ...  "
      ]
     },
     "execution_count": 12,
     "metadata": {},
     "output_type": "execute_result"
    }
   ],
   "source": [
    "df_reviews.tail()"
   ]
  },
  {
   "cell_type": "code",
   "execution_count": 13,
   "metadata": {},
   "outputs": [],
   "source": [
    "df_reviews.to_csv(\"data/googleplay_reviews_phr.csv\", index=False)"
   ]
  }
 ],
 "metadata": {
  "kernelspec": {
   "display_name": "Python 3",
   "language": "python",
   "name": "python3"
  },
  "language_info": {
   "codemirror_mode": {
    "name": "ipython",
    "version": 3
   },
   "file_extension": ".py",
   "mimetype": "text/x-python",
   "name": "python",
   "nbconvert_exporter": "python",
   "pygments_lexer": "ipython3",
   "version": "3.6.5"
  }
 },
 "nbformat": 4,
 "nbformat_minor": 2
}
