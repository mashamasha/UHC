{
 "cells": [
  {
   "cell_type": "code",
   "execution_count": 1,
   "metadata": {},
   "outputs": [],
   "source": [
    "import os\n",
    "import json\n",
    "import requests\n",
    "import xmltodict\n",
    "import re\n",
    "\n",
    "from collections import Counter"
   ]
  },
  {
   "cell_type": "code",
   "execution_count": 2,
   "metadata": {},
   "outputs": [],
   "source": [
    "\n",
    "def fetch_reviews(app_id, country = 'us', sortBy = 'mostRecent', page =1):\n",
    "\n",
    "    URL = 'https://itunes.apple.com/%s/rss/customerreviews/id=%s/sortBy=%s/page=%s/xml' \n",
    "    args = (country,str(app_id),sortBy, page)\n",
    "\n",
    "    url = URL % args\n",
    "\n",
    "    r = requests.get(url)\n",
    "    xml_data = r.text\n",
    "\n",
    "    xml_dict = xmltodict.parse(xml_data)\n",
    "\n",
    "    try:\n",
    "        reviews_list = xml_dict['feed']['entry']\n",
    "    except:\n",
    "        return []\n",
    "    \n",
    "    reviews = []\n",
    "    for review in reviews_list:\n",
    "        try:\n",
    "            reviews.append(\n",
    "        {\n",
    "            'title': review['title'],\n",
    "            'author_name': review['author']['name'],\n",
    "            'author_uri': review['author']['uri'],\n",
    "            'voteSum': review['im:voteSum'],\n",
    "            'voteCount': review['im:voteCount'],\n",
    "            'rating': review['im:rating'],\n",
    "            'text': review['content'][0]['#text'],\n",
    "            'date': review['updated']    \n",
    "        }\n",
    "            )\n",
    "        except:\n",
    "            pass\n",
    "    return reviews"
   ]
  },
  {
   "cell_type": "code",
   "execution_count": 3,
   "metadata": {},
   "outputs": [],
   "source": [
    "# Open the .csv file with the list of PHR/EHR apps\n",
    "\n",
    "with open('data/appstore_app_id.csv') as f:\n",
    "    data = f.readlines()\n",
    "    "
   ]
  },
  {
   "cell_type": "code",
   "execution_count": 4,
   "metadata": {},
   "outputs": [],
   "source": [
    "# Get an app name and its iTunes id\n",
    "import re\n",
    "data_clean = []\n",
    "j =0\n",
    "# Create a list of lists where each list is [App name, link]\n",
    "for s in data:\n",
    "    j+=1\n",
    "    data_clean.append([s.split(',')[0],s.split(',')[1]])\n",
    "# Filter rows with non-empty links\n",
    "data_clean = [(x[0],x[1].split('\"\"')[1]) for x in data_clean if len(x[1])>1]\n",
    "app_ids =[]\n",
    "for line in data_clean:\n",
    "    data_dict = {'name':line[0],\n",
    "                 'id': ''.join(re.findall(r'\\d+', line[1].split('/')[-1].split('?')[0] ))}# extracting id number'\n",
    "    app_ids.append(data_dict)"
   ]
  },
  {
   "cell_type": "code",
   "execution_count": 5,
   "metadata": {},
   "outputs": [
    {
     "data": {
      "text/plain": [
       "[{'name': 'MS HealthVault', 'id': '546835834'},\n",
       " {'name': 'FitnessSyncer', 'id': '1159207899'},\n",
       " {'name': 'MTBC PHR', 'id': '499832131'},\n",
       " {'name': 'Accolade', 'id': '1203452254'},\n",
       " {'name': 'Capzule', 'id': '386321118'},\n",
       " {'name': 'MyMedical', 'id': '347860026'},\n",
       " {'name': 'GenexEHR', 'id': '1089533617'},\n",
       " {'name': 'HealthSpek', 'id': '576488481'},\n",
       " {'name': 'MedFusionPlus', 'id': '922524241'},\n",
       " {'name': 'higi', 'id': '599485135'},\n",
       " {'name': 'Sharecare', 'id': '964313779'},\n",
       " {'name': 'Aetna', 'id': '380845816'},\n",
       " {'name': 'Kaiser Permanente', 'id': '493390354'},\n",
       " {'name': 'Cigna', 'id': '569266174'},\n",
       " {'name': 'Blue Shield', 'id': '728293729'},\n",
       " {'name': 'Humana', 'id': '779622024'},\n",
       " {'name': 'Anthem', 'id': '589443627'},\n",
       " {'name': 'Capital Blue cross virtual care', 'id': '1375554671'}]"
      ]
     },
     "execution_count": 5,
     "metadata": {},
     "output_type": "execute_result"
    }
   ],
   "source": [
    "app_ids"
   ]
  },
  {
   "cell_type": "code",
   "execution_count": 6,
   "metadata": {},
   "outputs": [
    {
     "data": {
      "text/plain": [
       "18"
      ]
     },
     "execution_count": 6,
     "metadata": {},
     "output_type": "execute_result"
    }
   ],
   "source": [
    "len(app_ids)"
   ]
  },
  {
   "cell_type": "code",
   "execution_count": 7,
   "metadata": {},
   "outputs": [
    {
     "name": "stdout",
     "output_type": "stream",
     "text": [
      "1\n",
      "Microsoft HealthVault\n",
      "2\n",
      "FitnessSyncer\n",
      "3\n",
      "MTBC PHR\n",
      "4\n",
      "Accolade, Inc.\n",
      "5\n",
      "Capzule\n",
      "6\n",
      "My Medical\n",
      "7\n",
      "Health Records : GenexEHR\n",
      "8\n",
      "Healthspek - Personal Health Record & Family Health Record - Complete Medical Record\n",
      "9\n",
      "Medfusion Plus\n",
      "10\n",
      "higi\n",
      "11\n",
      "Sharecare\n",
      "12\n",
      "Aetna Mobile\n",
      "13\n",
      "Kaiser Permanente\n",
      "14\n",
      "myCigna\n",
      "15\n",
      "Blue Shield of California\n",
      "16\n",
      "MyHumana\n",
      "17\n",
      "Anthem Anywhere\n",
      "18\n",
      "Capital BlueCross Virtual Care\n"
     ]
    }
   ],
   "source": [
    "# Lookup metadata (including reviews) for an app with the specific iTunes ID\n",
    "URL = 'https://itunes.apple.com/lookup?id=%s'\n",
    "\n",
    "app_metadata = []\n",
    "j = 0\n",
    "for line in app_ids: \n",
    "    # Get app metadata\n",
    "    j+=1\n",
    "    print(j)\n",
    "    app_id = line['id']\n",
    "\n",
    "    url = URL % app_id\n",
    "    r = requests.get(url)\n",
    "    app = json.loads(r.text)[\"results\"][0]\n",
    "    \n",
    "    app_data = {'name': app['trackName'],\n",
    "                'id': app['trackId'],\n",
    "                'url': app['trackViewUrl'],\n",
    "                'price': app['price'],\n",
    "                'avgUserRating': app.get('averageUserRating',''),\n",
    "                'userRatingCount': app.get('userRatingCount',''),\n",
    "                'currentVersionReleaseDate': app['currentVersionReleaseDate'],\n",
    "                'description': app['description'].replace('\\n', ' ')\n",
    "                }\n",
    "    print(app_data['name'])\n",
    "    \n",
    "    # Get most recent and most helpful reviews (separately) for app (up to 500)\n",
    "    recent_reviews = []\n",
    "    helpful_reviews = []\n",
    "    for i in range(1, 11): \n",
    "        recent_reviews += fetch_reviews(app_data['id'], page=i)\n",
    "        helpful_reviews += fetch_reviews(app_data['id'], sortBy='mostHelpful', page=i)\n",
    "\n",
    "    app_data['recent_reviews'] = recent_reviews\n",
    "    app_data['helpful_reviews'] = helpful_reviews\n",
    "    app_metadata.append(app_data)"
   ]
  },
  {
   "cell_type": "code",
   "execution_count": 8,
   "metadata": {},
   "outputs": [
    {
     "data": {
      "text/plain": [
       "18"
      ]
     },
     "execution_count": 8,
     "metadata": {},
     "output_type": "execute_result"
    }
   ],
   "source": [
    "len(app_metadata)"
   ]
  },
  {
   "cell_type": "code",
   "execution_count": 9,
   "metadata": {},
   "outputs": [],
   "source": [
    "with open('data/phr_apps_metadata_and_reviews.json', 'w', encoding='utf-8') as f:\n",
    "    f.write(json.dumps(app_metadata, ensure_ascii=False))"
   ]
  },
  {
   "cell_type": "code",
   "execution_count": null,
   "metadata": {},
   "outputs": [],
   "source": []
  }
 ],
 "metadata": {
  "kernelspec": {
   "display_name": "Python 3",
   "language": "python",
   "name": "python3"
  },
  "language_info": {
   "codemirror_mode": {
    "name": "ipython",
    "version": 3
   },
   "file_extension": ".py",
   "mimetype": "text/x-python",
   "name": "python",
   "nbconvert_exporter": "python",
   "pygments_lexer": "ipython3",
   "version": "3.6.6"
  }
 },
 "nbformat": 4,
 "nbformat_minor": 2
}
